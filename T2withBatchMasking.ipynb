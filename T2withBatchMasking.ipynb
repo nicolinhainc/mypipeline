{
  "nbformat": 4,
  "nbformat_minor": 0,
  "metadata": {
    "colab": {
      "name": "Pipeline3.ipynb",
      "provenance": [],
      "authorship_tag": "ABX9TyOiy+KAHQQeN7HRmmaItymk",
      "include_colab_link": true
    },
    "kernelspec": {
      "name": "python3",
      "display_name": "Python 3"
    },
    "accelerator": "GPU"
  },
  "cells": [
    {
      "cell_type": "markdown",
      "metadata": {
        "id": "view-in-github",
        "colab_type": "text"
      },
      "source": [
        "<a href=\"https://colab.research.google.com/github/nicolinhainc/mypipeline/blob/master/T2withBatchMasking.ipynb\" target=\"_parent\"><img src=\"https://colab.research.google.com/assets/colab-badge.svg\" alt=\"Open In Colab\"/></a>"
      ]
    },
    {
      "cell_type": "code",
      "metadata": {
        "id": "OD3fnUQGiSaQ",
        "colab_type": "code",
        "outputId": "6c146c82-6e12-4ac2-e6a2-63cf14009f18",
        "colab": {
          "base_uri": "https://localhost:8080/",
          "height": 34
        }
      },
      "source": [
        "%pwd  "
      ],
      "execution_count": 0,
      "outputs": [
        {
          "output_type": "execute_result",
          "data": {
            "text/plain": [
              "'/content'"
            ]
          },
          "metadata": {
            "tags": []
          },
          "execution_count": 1
        }
      ]
    },
    {
      "cell_type": "code",
      "metadata": {
        "id": "NiBkzlnNifj7",
        "colab_type": "code",
        "colab": {}
      },
      "source": [
        "#%cd '/content/'"
      ],
      "execution_count": 0,
      "outputs": []
    },
    {
      "cell_type": "code",
      "metadata": {
        "id": "cWKczacPifgd",
        "colab_type": "code",
        "outputId": "f2a73dcd-90ce-4aa7-e246-4d5b7668e89c",
        "colab": {
          "base_uri": "https://localhost:8080/",
          "height": 355
        }
      },
      "source": [
        "!wget --no-check-certificate 'https://drive.google.com/uc?export=download&id=1XdwGEqKXeKH1NRhZXxCZo5T8mncwYHCC' -O ./Bet-n-dcm2nii.zip\n",
        "!unzip -q ./Bet-n-dcm2nii.zip\n",
        "!rm -rf images"
      ],
      "execution_count": 0,
      "outputs": [
        {
          "output_type": "stream",
          "text": [
            "--2020-06-09 18:18:22--  https://drive.google.com/uc?export=download&id=1XdwGEqKXeKH1NRhZXxCZo5T8mncwYHCC\n",
            "Resolving drive.google.com (drive.google.com)... 74.125.204.113, 74.125.204.102, 74.125.204.101, ...\n",
            "Connecting to drive.google.com (drive.google.com)|74.125.204.113|:443... connected.\n",
            "HTTP request sent, awaiting response... 302 Moved Temporarily\n",
            "Location: https://doc-0k-60-docs.googleusercontent.com/docs/securesc/ha0ro937gcuc7l7deffksulhg5h7mbp1/j8mjnms2frcijegnibmqh2d3pmniqga0/1591726650000/07380574639032097336/*/1XdwGEqKXeKH1NRhZXxCZo5T8mncwYHCC?e=download [following]\n",
            "Warning: wildcards not supported in HTTP.\n",
            "--2020-06-09 18:18:34--  https://doc-0k-60-docs.googleusercontent.com/docs/securesc/ha0ro937gcuc7l7deffksulhg5h7mbp1/j8mjnms2frcijegnibmqh2d3pmniqga0/1591726650000/07380574639032097336/*/1XdwGEqKXeKH1NRhZXxCZo5T8mncwYHCC?e=download\n",
            "Resolving doc-0k-60-docs.googleusercontent.com (doc-0k-60-docs.googleusercontent.com)... 74.125.204.132, 2404:6800:4008:c04::84\n",
            "Connecting to doc-0k-60-docs.googleusercontent.com (doc-0k-60-docs.googleusercontent.com)|74.125.204.132|:443... connected.\n",
            "HTTP request sent, awaiting response... 200 OK\n",
            "Length: unspecified [application/zip]\n",
            "Saving to: ‘./Bet-n-dcm2nii.zip’\n",
            "\n",
            "./Bet-n-dcm2nii.zip     [ <=>                ]  12.52M  --.-KB/s    in 0.08s   \n",
            "\n",
            "2020-06-09 18:18:34 (151 MB/s) - ‘./Bet-n-dcm2nii.zip’ saved [13126916]\n",
            "\n",
            "replace dcm2nii? [y]es, [n]o, [A]ll, [N]one, [r]ename: "
          ],
          "name": "stdout"
        }
      ]
    },
    {
      "cell_type": "code",
      "metadata": {
        "id": "jwGvEZAIifeR",
        "colab_type": "code",
        "colab": {}
      },
      "source": [
        "# upload the zip file yourself "
      ],
      "execution_count": 0,
      "outputs": []
    },
    {
      "cell_type": "code",
      "metadata": {
        "id": "y3a3PV9JifY8",
        "colab_type": "code",
        "outputId": "2bec22fa-0bba-4faa-a4c8-b02694f411cb",
        "colab": {
          "base_uri": "https://localhost:8080/",
          "height": 34
        }
      },
      "source": [
        "!unzip -q ./tester.zip\n"
      ],
      "execution_count": 0,
      "outputs": [
        {
          "output_type": "stream",
          "text": [
            "replace __MACOSX/testers/._.DS_Store? [y]es, [n]o, [A]ll, [N]one, [r]ename: A\n"
          ],
          "name": "stdout"
        }
      ]
    },
    {
      "cell_type": "code",
      "metadata": {
        "id": "M96A31sGT2jk",
        "colab_type": "code",
        "colab": {}
      },
      "source": [
        "!rm -rf './tester/codel/.DS_Store'\n",
        "!rm -rf './tester/no/.DS_Store'"
      ],
      "execution_count": 0,
      "outputs": []
    },
    {
      "cell_type": "code",
      "metadata": {
        "id": "fqv8_CSbifVx",
        "colab_type": "code",
        "colab": {}
      },
      "source": [
        "!wget --no-check-certificate 'https://www.dropbox.com/s/tz0g8bzfik570h7/icbm_avg_152_t2_tal_lin.nii.zip?dl=1' -O ./icbm152t2.zip\n",
        "!unzip -q ./icbm152t2.zip"
      ],
      "execution_count": 0,
      "outputs": []
    },
    {
      "cell_type": "code",
      "metadata": {
        "id": "20qqIk8difTI",
        "colab_type": "code",
        "colab": {}
      },
      "source": [
        "NIFTI_PATH = 'tester/codel/'"
      ],
      "execution_count": 0,
      "outputs": []
    },
    {
      "cell_type": "code",
      "metadata": {
        "id": "j38us7CGZJGr",
        "colab_type": "code",
        "colab": {}
      },
      "source": [
        "import gzip\n",
        "import shutil\n",
        "import os\n",
        "import fnmatch"
      ],
      "execution_count": 0,
      "outputs": []
    },
    {
      "cell_type": "code",
      "metadata": {
        "id": "zzmthqc5ifNW",
        "colab_type": "code",
        "colab": {}
      },
      "source": [
        "os.environ['FSLOUTPUTTYPE'] = 'NIFTI_GZ'"
      ],
      "execution_count": 0,
      "outputs": []
    },
    {
      "cell_type": "code",
      "metadata": {
        "id": "O2yiIYobTAby",
        "colab_type": "code",
        "outputId": "295724b1-1803-4bcd-a925-d66ea6c10647",
        "colab": {
          "base_uri": "https://localhost:8080/",
          "height": 51
        }
      },
      "source": [
        "for subj in os.listdir(NIFTI_PATH):\n",
        "    subj_path = os.path.join(NIFTI_PATH, subj)\n",
        "    print (\"Working on \" + subj_path)\n",
        "    series = fnmatch.filter(os.listdir(subj_path), '*.nii')\n",
        "    for ser in ['T2.nii']: \n",
        "      nativenii_file = os.path.join (subj_path, ser)\n",
        "      newniigz_file = os.path.join (subj_path, ser)\n",
        "      with open(nativenii_file, 'rb') as f_in:\n",
        "        with gzip.open(newniigz_file + '.gz', 'wb') as f_out:\n",
        "          shutil.copyfileobj(f_in, f_out)\n",
        "        \n"
      ],
      "execution_count": 0,
      "outputs": [
        {
          "output_type": "stream",
          "text": [
            "Working on tester/codel/Patient2\n",
            "Working on tester/codel/Patient1\n"
          ],
          "name": "stdout"
        }
      ]
    },
    {
      "cell_type": "code",
      "metadata": {
        "id": "M2yAtE3olH1y",
        "colab_type": "code",
        "outputId": "d1ae0f26-6900-44bd-f47b-0824e1834ea1",
        "colab": {
          "base_uri": "https://localhost:8080/",
          "height": 85
        }
      },
      "source": [
        "for subj in os.listdir(NIFTI_PATH):\n",
        "    subj_path = os.path.join(NIFTI_PATH, subj)\n",
        "    print (\"Working on \" + subj_path)\n",
        "    series = fnmatch.filter(os.listdir(subj_path), '*.nii')\n",
        "    for ser in ['T2.nii']: \n",
        "        niinative_file = os.path.join (subj_path, ser)\n",
        "# removes old files\n",
        "        \n",
        "        cmd = os.remove(niinative_file)\n",
        "        \n",
        "        print (cmd)"
      ],
      "execution_count": 0,
      "outputs": [
        {
          "output_type": "stream",
          "text": [
            "Working on tester/codel/Patient2\n",
            "None\n",
            "Working on tester/codel/Patient1\n",
            "None\n"
          ],
          "name": "stdout"
        }
      ]
    },
    {
      "cell_type": "code",
      "metadata": {
        "id": "6-nP6WQgqXXu",
        "colab_type": "code",
        "colab": {}
      },
      "source": [
        "NIFTI_PATH = 'tester/no'"
      ],
      "execution_count": 0,
      "outputs": []
    },
    {
      "cell_type": "code",
      "metadata": {
        "id": "ZqZnZDH5qYVb",
        "colab_type": "code",
        "outputId": "d258ab86-52e1-4875-fc09-4d3664449fce",
        "colab": {
          "base_uri": "https://localhost:8080/",
          "height": 51
        }
      },
      "source": [
        "for subj in os.listdir(NIFTI_PATH):\n",
        "    subj_path = os.path.join(NIFTI_PATH, subj)\n",
        "    print (\"Working on \" + subj_path)\n",
        "    series = fnmatch.filter(os.listdir(subj_path), '*.nii')\n",
        "    for ser in ['T2.nii']: \n",
        "      nativenii_file = os.path.join (subj_path, ser)\n",
        "      newniigz_file = os.path.join (subj_path, ser)\n",
        "      with open(nativenii_file, 'rb') as f_in:\n",
        "        with gzip.open(newniigz_file + '.gz', 'wb') as f_out:\n",
        "          shutil.copyfileobj(f_in, f_out)\n",
        "        "
      ],
      "execution_count": 0,
      "outputs": [
        {
          "output_type": "stream",
          "text": [
            "Working on tester/no/Patient2\n",
            "Working on tester/no/Patient1\n"
          ],
          "name": "stdout"
        }
      ]
    },
    {
      "cell_type": "code",
      "metadata": {
        "id": "aqsxAO0PqYH9",
        "colab_type": "code",
        "outputId": "b52c8e91-e1d1-40e7-ac62-8f1559d08532",
        "colab": {
          "base_uri": "https://localhost:8080/",
          "height": 85
        }
      },
      "source": [
        "for subj in os.listdir(NIFTI_PATH):\n",
        "    subj_path = os.path.join(NIFTI_PATH, subj)\n",
        "    print (\"Working on \" + subj_path)\n",
        "    series = fnmatch.filter(os.listdir(subj_path), '*.nii')\n",
        "    for ser in ['T2.nii']: \n",
        "        niinative_file = os.path.join (subj_path, ser)\n",
        "# removes old files\n",
        "        \n",
        "        cmd = os.remove(niinative_file)\n",
        "        \n",
        "        print (cmd)"
      ],
      "execution_count": 0,
      "outputs": [
        {
          "output_type": "stream",
          "text": [
            "Working on tester/no/Patient2\n",
            "None\n",
            "Working on tester/no/Patient1\n",
            "None\n"
          ],
          "name": "stdout"
        }
      ]
    },
    {
      "cell_type": "code",
      "metadata": {
        "id": "ZWsiOlB3qfvR",
        "colab_type": "code",
        "colab": {}
      },
      "source": [
        "NIFTI_PATH = 'tester/codel/'"
      ],
      "execution_count": 0,
      "outputs": []
    },
    {
      "cell_type": "code",
      "metadata": {
        "id": "mVXVKzU4ifK0",
        "colab_type": "code",
        "outputId": "ab374438-73e4-46d8-db13-84dd562cd6cb",
        "colab": {
          "base_uri": "https://localhost:8080/",
          "height": 85
        }
      },
      "source": [
        "for subj in os.listdir(NIFTI_PATH):\n",
        "    subj_path = os.path.join(NIFTI_PATH, subj)\n",
        "    print (\"Working on \" + subj_path)\n",
        "    series = fnmatch.filter(os.listdir(subj_path), '*.nii.gz')\n",
        "    for ser in ['T2']: #not sure why I had to add the star here but this was the only way it worked\n",
        "        nii_file = os.path.join (subj_path, ser)\n",
        "# First, perform N4 bias correction. Not required, but may improve results. Also must track new names\n",
        "        new_file = os.path.join (subj_path, 'N4-' + ser)\n",
        "        cmd = \"./N4BiasFieldCorrection -i %s.nii.gz -o %s.nii.gz\" % (nii_file, new_file)\n",
        "        os.system(cmd)\n",
        "        print (cmd)"
      ],
      "execution_count": 0,
      "outputs": [
        {
          "output_type": "stream",
          "text": [
            "Working on tester/codel/Patient2\n",
            "./N4BiasFieldCorrection -i tester/codel/Patient2/T2.nii.gz -o tester/codel/Patient2/N4-T2.nii.gz\n",
            "Working on tester/codel/Patient1\n",
            "./N4BiasFieldCorrection -i tester/codel/Patient1/T2.nii.gz -o tester/codel/Patient1/N4-T2.nii.gz\n"
          ],
          "name": "stdout"
        }
      ]
    },
    {
      "cell_type": "code",
      "metadata": {
        "id": "xMf-kqTEx5B_",
        "colab_type": "code",
        "outputId": "28f1ddfc-054a-4264-c614-f49e7e3a231e",
        "colab": {
          "base_uri": "https://localhost:8080/",
          "height": 85
        }
      },
      "source": [
        "for subj in os.listdir(NIFTI_PATH):\n",
        "    subj_path = os.path.join(NIFTI_PATH, subj)\n",
        "    print (\"Working on \" + subj_path)\n",
        "    series = fnmatch.filter(os.listdir(subj_path), '*.nii.gz')\n",
        "    for ser in ['T2.nii.gz']: #not sure why I had to add the star here but this was the only way it worked\n",
        "        nii_file = os.path.join (subj_path, ser)\n",
        "# removes old files\n",
        "        \n",
        "        cmd = os.remove(nii_file)\n",
        "        \n",
        "        print (cmd)"
      ],
      "execution_count": 0,
      "outputs": [
        {
          "output_type": "stream",
          "text": [
            "Working on tester/codel/Patient2\n",
            "None\n",
            "Working on tester/codel/Patient1\n",
            "None\n"
          ],
          "name": "stdout"
        }
      ]
    },
    {
      "cell_type": "code",
      "metadata": {
        "id": "fTvuq8eBqmvg",
        "colab_type": "code",
        "colab": {}
      },
      "source": [
        "NIFTI_PATH = 'tester/no/'"
      ],
      "execution_count": 0,
      "outputs": []
    },
    {
      "cell_type": "code",
      "metadata": {
        "id": "UdPHMOYqqmmt",
        "colab_type": "code",
        "outputId": "0244447e-817e-4616-85be-07da1c2854ea",
        "colab": {
          "base_uri": "https://localhost:8080/",
          "height": 85
        }
      },
      "source": [
        "for subj in os.listdir(NIFTI_PATH):\n",
        "    subj_path = os.path.join(NIFTI_PATH, subj)\n",
        "    print (\"Working on \" + subj_path)\n",
        "    series = fnmatch.filter(os.listdir(subj_path), '*.nii.gz')\n",
        "    for ser in ['T2']: #not sure why I had to add the star here but this was the only way it worked\n",
        "        nii_file = os.path.join (subj_path, ser)\n",
        "# First, perform N4 bias correction. Not required, but may improve results. Also must track new names\n",
        "        new_file = os.path.join (subj_path, 'N4-' + ser)\n",
        "        cmd = \"./N4BiasFieldCorrection -i %s.nii.gz -o %s.nii.gz\" % (nii_file, new_file)\n",
        "        os.system(cmd)\n",
        "        print (cmd)"
      ],
      "execution_count": 0,
      "outputs": [
        {
          "output_type": "stream",
          "text": [
            "Working on tester/no/Patient2\n",
            "./N4BiasFieldCorrection -i tester/no/Patient2/T2.nii.gz -o tester/no/Patient2/N4-T2.nii.gz\n",
            "Working on tester/no/Patient1\n",
            "./N4BiasFieldCorrection -i tester/no/Patient1/T2.nii.gz -o tester/no/Patient1/N4-T2.nii.gz\n"
          ],
          "name": "stdout"
        }
      ]
    },
    {
      "cell_type": "code",
      "metadata": {
        "id": "VtoBFYnwqmdk",
        "colab_type": "code",
        "outputId": "5e9b88b8-9394-4b36-e68c-ac8f6a92428a",
        "colab": {
          "base_uri": "https://localhost:8080/",
          "height": 85
        }
      },
      "source": [
        "for subj in os.listdir(NIFTI_PATH):\n",
        "    subj_path = os.path.join(NIFTI_PATH, subj)\n",
        "    print (\"Working on \" + subj_path)\n",
        "    series = fnmatch.filter(os.listdir(subj_path), '*.nii.gz')\n",
        "    for ser in ['T2.nii.gz']: #not sure why I had to add the star here but this was the only way it worked\n",
        "        nii_file = os.path.join (subj_path, ser)\n",
        "# removes old files\n",
        "        \n",
        "        cmd = os.remove(nii_file)\n",
        "        \n",
        "        print (cmd)"
      ],
      "execution_count": 0,
      "outputs": [
        {
          "output_type": "stream",
          "text": [
            "Working on tester/no/Patient2\n",
            "None\n",
            "Working on tester/no/Patient1\n",
            "None\n"
          ],
          "name": "stdout"
        }
      ]
    },
    {
      "cell_type": "code",
      "metadata": {
        "id": "sxlviDkNqukH",
        "colab_type": "code",
        "colab": {}
      },
      "source": [
        "NIFTI_PATH = 'tester/codel/'"
      ],
      "execution_count": 0,
      "outputs": []
    },
    {
      "cell_type": "code",
      "metadata": {
        "id": "ifEYCCSdifFL",
        "colab_type": "code",
        "outputId": "f5fc194c-6fe5-497d-cb9a-881a103bd1a4",
        "colab": {
          "base_uri": "https://localhost:8080/",
          "height": 105
        }
      },
      "source": [
        "# Next, Register the images to the avg 152 t1 image from MNI\n",
        "for subj in os.listdir(NIFTI_PATH):\n",
        "    subj_path = os.path.join(NIFTI_PATH, subj)\n",
        "    print (\"Working on \" + subj_path)\n",
        "    series = fnmatch.filter(os.listdir(subj_path), 'N4-*')\n",
        "    for ser in ['T2']:   \n",
        "        MNI_file = './icbm_avg_152_t2_tal_lin.nii'\n",
        "        T1_file =  os.path.join (subj_path, 'N4-T2*.nii.gz')\n",
        "        new_file = os.path.join (subj_path, 'Reg-N4-T2.nii.gz')\n",
        "        cmd = \"./flirt -in %s -ref %s  -out %s\" % (T1_file, MNI_file, new_file)\n",
        "        os.system(cmd)\n",
        "        print (cmd)\n",
        "\n"
      ],
      "execution_count": 0,
      "outputs": [
        {
          "output_type": "stream",
          "text": [
            "Working on tester/codel/Patient2\n",
            "./flirt -in tester/codel/Patient2/N4-T2*.nii.gz -ref ./icbm_avg_152_t2_tal_lin.nii  -out tester/codel/Patient2/Reg-N4-T2.nii.gz\n",
            "Working on tester/codel/Patient1\n",
            "./flirt -in tester/codel/Patient1/N4-T2*.nii.gz -ref ./icbm_avg_152_t2_tal_lin.nii  -out tester/codel/Patient1/Reg-N4-T2.nii.gz\n"
          ],
          "name": "stdout"
        }
      ]
    },
    {
      "cell_type": "code",
      "metadata": {
        "id": "J-YAFnk3qJEt",
        "colab_type": "code",
        "colab": {}
      },
      "source": [
        "NIFTI_PATH = 'tester/no/'"
      ],
      "execution_count": 0,
      "outputs": []
    },
    {
      "cell_type": "code",
      "metadata": {
        "id": "OM7Ao_rSqI_u",
        "colab_type": "code",
        "outputId": "82192cca-9d87-4c7f-9799-e94e2c7abb26",
        "colab": {
          "base_uri": "https://localhost:8080/",
          "height": 85
        }
      },
      "source": [
        "# Next, Register the images to the avg 152 t1 image from MNI\n",
        "for subj in os.listdir(NIFTI_PATH):\n",
        "    subj_path = os.path.join(NIFTI_PATH, subj)\n",
        "    print (\"Working on \" + subj_path)\n",
        "    series = fnmatch.filter(os.listdir(subj_path), 'N4-*')\n",
        "    for ser in ['T2']:   \n",
        "        MNI_file = './icbm_avg_152_t2_tal_lin.nii'\n",
        "        T1_file =  os.path.join (subj_path, 'N4-T2*.nii.gz')\n",
        "        new_file = os.path.join (subj_path, 'Reg-N4-T2.nii.gz')\n",
        "        cmd = \"./flirt -in %s -ref %s  -out %s\" % (T1_file, MNI_file, new_file)\n",
        "        os.system(cmd)\n",
        "        print (cmd)\n",
        "\n"
      ],
      "execution_count": 0,
      "outputs": [
        {
          "output_type": "stream",
          "text": [
            "Working on tester/no/Patient2\n",
            "./flirt -in tester/no/Patient2/N4-T2*.nii.gz -ref ./icbm_avg_152_t2_tal_lin.nii  -out tester/no/Patient2/Reg-N4-T2.nii.gz\n",
            "Working on tester/no/Patient1\n",
            "./flirt -in tester/no/Patient1/N4-T2*.nii.gz -ref ./icbm_avg_152_t2_tal_lin.nii  -out tester/no/Patient1/Reg-N4-T2.nii.gz\n"
          ],
          "name": "stdout"
        }
      ]
    },
    {
      "cell_type": "code",
      "metadata": {
        "id": "uvk_XIQLWaGn",
        "colab_type": "code",
        "outputId": "5cc52efa-33a2-4d5d-914a-2b6ceb649435",
        "colab": {
          "base_uri": "https://localhost:8080/",
          "height": 85
        }
      },
      "source": [
        "!git clone https://github.com/MIC-DKFZ/HD-BET\n",
        "\n",
        "\n"
      ],
      "execution_count": 0,
      "outputs": [
        {
          "output_type": "stream",
          "text": [
            "Working on tester/no/Patient2\n",
            "./fslmaths tester/no/Patient2/Reg-N4-T2.nii.gz -mas tester/no/Patient2/mask.nii.gz tester/no/Patient2/Reg-N4-T2.nii.gz\n",
            "Working on tester/no/Patient1\n",
            "./fslmaths tester/no/Patient1/Reg-N4-T2.nii.gz -mas tester/no/Patient1/mask.nii.gz tester/no/Patient1/Reg-N4-T2.nii.gz\n"
          ],
          "name": "stdout"
        }
      ]
    },
    {
      "cell_type": "code",
      "metadata": {
        "id": "4BfLHJf4L1cv",
        "colab_type": "code",
        "colab": {}
      },
      "source": [
        "%cd HD-BET\n",
        "! pip install -e ."
      ],
      "execution_count": 0,
      "outputs": []
    },
    {
      "cell_type": "code",
      "metadata": {
        "id": "iipf20PgL4bf",
        "colab_type": "code",
        "colab": {}
      },
      "source": [
        "#iterate through all patients in no (then add codels)\n",
        "\n",
        "for subj in os.listdir(NIFTI_PATH):\n",
        "    subj_path = os.path.join(NIFTI_PATH, subj)\n",
        "    #print (\"Working on \" + subj_path)\n",
        "    series = fnmatch.filter(os.listdir(subj_path), 'Reg-N4-*')\n",
        "    for ser in series:  \n",
        "      name = (os.path.join(\"!hd-bet -i \" + subj_path + \"/\" + ser))\n",
        "      print(name)\n",
        "      \n",
        "  "
      ],
      "execution_count": 0,
      "outputs": []
    },
    {
      "cell_type": "markdown",
      "metadata": {
        "id": "8OY7AohjMNtB",
        "colab_type": "text"
      },
      "source": [
        "COPY PASTE the output and run\n",
        "NOW delete all the mask files"
      ]
    },
    {
      "cell_type": "code",
      "metadata": {
        "id": "XwsehPxfuoT3",
        "colab_type": "code",
        "colab": {}
      },
      "source": [
        "   import os\n",
        "   import shutil\n",
        "   import numpy as np\n",
        "   base_dir = '/content/tester'\n",
        "\n",
        "   !mkdir /content/tester/codelval\n",
        "   !mkdir /content/tester/noval"
      ],
      "execution_count": 0,
      "outputs": []
    },
    {
      "cell_type": "code",
      "metadata": {
        "id": "WUk9fqHGORYS",
        "colab_type": "code",
        "outputId": "aac49362-6cba-44bb-dc2f-5be391c20d7a",
        "colab": {
          "base_uri": "https://localhost:8080/",
          "height": 85
        }
      },
      "source": [
        "sourceN = base_dir + \"/codel\"\n",
        "destN = base_dir + \"/codelval\"\n",
        "sourceP = base_dir + \"/no\"\n",
        "destP = base_dir + \"/noval\"\n",
        "\n",
        "filesN = os.listdir(sourceN)\n",
        "filesP = os.listdir(sourceP)       \n",
        "\n",
        "for f in filesN:\n",
        "  if np.random.rand(1) < 0.3: #is this a 70 30 split? what does it mean exactly?\n",
        "    shutil.move(sourceN + '/'+ f, destN + '/'+ f)\n",
        "\n",
        "for i in filesP:\n",
        "  if np.random.rand(1) < 0.3:\n",
        "    shutil.move(sourceP + '/'+ i, destP + '/'+ i)\n",
        "\n",
        "print(len(os.listdir(sourceN)))\n",
        "print(len(os.listdir(sourceP)))\n",
        "print(len(os.listdir(destN)))\n",
        "print(len(os.listdir(destP)))"
      ],
      "execution_count": 0,
      "outputs": [
        {
          "output_type": "stream",
          "text": [
            "2\n",
            "2\n",
            "0\n",
            "0\n"
          ],
          "name": "stdout"
        }
      ]
    },
    {
      "cell_type": "code",
      "metadata": {
        "id": "OTF40yU7rz-i",
        "colab_type": "code",
        "colab": {}
      },
      "source": [
        "!rm -rf ./LGG/valc2/.ipynb_checkpoints\n",
        "!rm -rf ./LGG/valc1/.ipynb_checkpoints\n",
        "\n",
        "!rm -rf './tester/codelval/.ipynb_checkpoints'\n",
        "!rm -rf './tesrter/noval/.ipynb_checkpoints'"
      ],
      "execution_count": 0,
      "outputs": []
    },
    {
      "cell_type": "code",
      "metadata": {
        "id": "GC1Uh6W9ie31",
        "colab_type": "code",
        "outputId": "5cc2e2c0-0081-4311-e254-7bbc60759bdd",
        "colab": {
          "base_uri": "https://localhost:8080/",
          "height": 564
        }
      },
      "source": [
        "#make a huge list of thousands of patients here\n",
        "import pandas as pd\n",
        "\n",
        "!wget --no-check-certificate 'https://drive.google.com/uc?export=download&id=1z2GmRDDVMbcb1x26jlA9X0M4WAv4-kvA' -O ./TumorSlices.csv\n",
        "df = pd.read_csv ('./TumorSlices.csv')\n",
        "print (df) "
      ],
      "execution_count": 0,
      "outputs": [
        {
          "output_type": "stream",
          "text": [
            "--2020-06-09 18:59:21--  https://drive.google.com/uc?export=download&id=1z2GmRDDVMbcb1x26jlA9X0M4WAv4-kvA\n",
            "Resolving drive.google.com (drive.google.com)... 74.125.23.139, 74.125.23.138, 74.125.23.100, ...\n",
            "Connecting to drive.google.com (drive.google.com)|74.125.23.139|:443... connected.\n",
            "HTTP request sent, awaiting response... 302 Moved Temporarily\n",
            "Location: https://doc-10-60-docs.googleusercontent.com/docs/securesc/ha0ro937gcuc7l7deffksulhg5h7mbp1/m6i80tb7b50j0t84jjptm3tfp5rippb5/1591729125000/07380574639032097336/*/1z2GmRDDVMbcb1x26jlA9X0M4WAv4-kvA?e=download [following]\n",
            "Warning: wildcards not supported in HTTP.\n",
            "--2020-06-09 18:59:22--  https://doc-10-60-docs.googleusercontent.com/docs/securesc/ha0ro937gcuc7l7deffksulhg5h7mbp1/m6i80tb7b50j0t84jjptm3tfp5rippb5/1591729125000/07380574639032097336/*/1z2GmRDDVMbcb1x26jlA9X0M4WAv4-kvA?e=download\n",
            "Resolving doc-10-60-docs.googleusercontent.com (doc-10-60-docs.googleusercontent.com)... 74.125.204.132, 2404:6800:4008:c04::84\n",
            "Connecting to doc-10-60-docs.googleusercontent.com (doc-10-60-docs.googleusercontent.com)|74.125.204.132|:443... connected.\n",
            "HTTP request sent, awaiting response... 200 OK\n",
            "Length: 25558 (25K) [text/csv]\n",
            "Saving to: ‘./TumorSlices.csv’\n",
            "\n",
            "./TumorSlices.csv   100%[===================>]  24.96K  --.-KB/s    in 0s      \n",
            "\n",
            "2020-06-09 18:59:22 (61.4 MB/s) - ‘./TumorSlices.csv’ saved [25558/25558]\n",
            "\n",
            "          Subject  StartSlice  EndSlice\n",
            "0        Patient1           0       300\n",
            "1        Patient2           0       300\n",
            "2        Patient3           0       300\n",
            "3        Patient4           0       300\n",
            "4        Patient5           0       300\n",
            "...           ...         ...       ...\n",
            "1397  Patient1398           0       300\n",
            "1398  Patient1399           0       300\n",
            "1399  Patient1400           0       300\n",
            "1400  Patient1401           0       300\n",
            "1401  Patient1402           0       300\n",
            "\n",
            "[1402 rows x 3 columns]\n"
          ],
          "name": "stdout"
        }
      ]
    },
    {
      "cell_type": "code",
      "metadata": {
        "id": "HCzjZCcnie07",
        "colab_type": "code",
        "colab": {}
      },
      "source": [
        "from __future__ import unicode_literals\n",
        "from __future__ import print_function\n",
        "from __future__ import division\n",
        "from __future__ import absolute_import\n",
        "# Cell #5\n",
        "# create new versions of the T1, GAD, and T2 images that range from 0 to 255, and where the 0 intensity value maps to the 5th percentile value \n",
        "# and 255 maps to the 95th percentile value.\n",
        "import imageio\n",
        "import nibabel as nib\n",
        "import numpy as np\n",
        "\n",
        "MIN_MR = 20\n",
        "\n",
        "def normalise_zero_one(image):\n",
        "    dims = np.shape(image)\n",
        "    image_1d = image.reshape(1, image.size)\n",
        "    above = np.where(image_1d>MIN_MR, image_1d, image_1d)\n",
        "    if above.size < image_1d.size/2:\n",
        "        above = image_1d # avoid bad MIN_MR thresholds\n",
        "    sorted_im = np.sort(above, axis = None)\n",
        "    \n",
        "    start = int(sorted_im.size / 20)  # 20 = 5%\n",
        "    end = int(sorted_im.size * 19 / 20) # 95%\n",
        "    start_val = sorted_im[start]\n",
        "    end_val = sorted_im[end]\n",
        "    \n",
        "    image = np.maximum(image, start_val) # map values below the start_val to start_val\n",
        "    image = np.minimum(image, end_val)   # map values above the end_val to end_val\n",
        "    image = image - start_val # subtract the starting intensity\n",
        "\n",
        " #   print (\"rescaling range \" + str(newmin) + \" to \" + str(histo[1][index]))\n",
        "#    minimum = np.min(image)\n",
        " #   maximum = np.max(image)\n",
        "\n",
        "  #  ret = ((image - minimum) / (maximum - minimum))    \n",
        "   # return ret    \n",
        "\n",
        "    \n",
        "    \n",
        "\n",
        "\n",
        "\n",
        "\n",
        "\n",
        "\n",
        "def nifti_to_img(red_file, green_file, blue_file, not_dir, yes_dir, startSlice, endSlice, subject):\n",
        "### red_ green_ and blue_files are the nifit files that will be combined to go into the PNG\n",
        "### not_dir is the direcotry where PNGs are stored if they are not in the (inclusive)\n",
        "### range set by startSlice/endSlice\n",
        "### yes_dir is where they are stored when they ARE in the range\n",
        "### subject is the ID so that we can track where images came from\n",
        "\n",
        "    try:\n",
        "        nifti = nib.load(red_file)\n",
        "        nif_header = nifti.header\n",
        "        red_image = nifti.get_fdata()\n",
        "    except:\n",
        "        return 0\n",
        "\n",
        "    try:\n",
        "        if os.path.isfile(green_file):\n",
        "            nifti = nib.load(green_file)\n",
        "            nif_header = nifti.header\n",
        "            green_image = nifti.get_fdata()\n",
        "        else:\n",
        "            pass\n",
        "    except:  # if can't load, then use red image\n",
        "        green_image = red_image\n",
        "    \n",
        "    try:\n",
        "        if os.path.isfile(blue_file):\n",
        "            nifti = nib.load(blue_file)\n",
        "\n",
        "            nif_header = nifti.header\n",
        "            blue_image = nifti.get_fdata()\n",
        "        else:\n",
        "            pass\n",
        "    except:  # if can't load, then use red image\n",
        "        blue_image = red_image\n",
        "        \n",
        "# now scale the intensity for each image        \n",
        "    red_image = normalise_zero_one(red_image)\n",
        "    green_image = normalise_zero_one(green_image)\n",
        "    blue_image = normalise_zero_one(blue_image)\n",
        "# then convert to 8 bits\n",
        "    red_image = red_image.astype(np.uint8)     \n",
        "    green_image = green_image.astype(np.uint8)     \n",
        "    blue_image = blue_image.astype(np.uint8)   \n",
        "    \n",
        "# get the number of slices\n",
        "    dims = np.shape(red_image)\n",
        "    zd = dims[2]\n",
        "\n",
        "    for z in range(0, zd):\n",
        "        outname = subject + \"-{0:04d}\".format(z) + '.png'\n",
        "        if z >= startSlice and z <= endSlice:  # this is enhancing\n",
        "            out_dir = yes_dir\n",
        "        else:\n",
        "            out_dir = not_dir\n",
        "        outname = os.path.join(out_dir, outname)\n",
        "        if not os.path.exists(out_dir):\n",
        "            os.makedirs(out_dir)\n",
        "        combined = np.dstack((red_image[:,:,z],green_image[:,:,z],\n",
        "                              blue_image[:,:,z]))\n",
        "## . images come in rotated\n",
        "        combined = np.rot90(combined, k=1)\n",
        "#        print ('Name: ' + outname)\n",
        "        imageio.imwrite(outname, combined)\n",
        "    return zd"
      ],
      "execution_count": 0,
      "outputs": []
    },
    {
      "cell_type": "code",
      "metadata": {
        "id": "ETZHZsRFqNlU",
        "colab_type": "code",
        "colab": {}
      },
      "source": [
        "NIFTI_PATH = 'tester/codel/'"
      ],
      "execution_count": 0,
      "outputs": []
    },
    {
      "cell_type": "code",
      "metadata": {
        "id": "5iQuQDuwieyE",
        "colab_type": "code",
        "outputId": "7937779b-0449-4561-f7b6-be7d38cb182c",
        "colab": {
          "base_uri": "https://localhost:8080/",
          "height": 354
        }
      },
      "source": [
        "# Cell #6\n",
        "# take the GAD nii, scale it to 0-255 and store that into the red channel\n",
        "# same for T1 (green) and T2 (blue)\n",
        "# PNG files are stored in enh / nonenh folders based on the csv file\n",
        "\n",
        "# store the png files into enhancing or nonenhancing folders after making sure they are cleared\n",
        "\n",
        "!rm -rf classified\n",
        "\n",
        "!mkdir classified\n",
        "\n",
        "for subj in os.listdir(NIFTI_PATH):\n",
        "    subj_path = os.path.join(NIFTI_PATH, subj)\n",
        "    red_f = os.path.join(subj_path, 'Reg-N4-T2.nii.gz')\n",
        "    startSlice = df.loc[df.Subject == subj, 'StartSlice'].values[0]\n",
        "    endSlice = df.loc[df.Subject == subj, 'EndSlice'].values[0]\n",
        "    print (\"Making PNG file for \" + subj + \" start: \" + str(startSlice) + \" end: \" + str(endSlice))\n",
        "    count = nifti_to_img(red_f, red_f, red_f, NIFTI_PATH, NIFTI_PATH, startSlice, endSlice, subj)"
      ],
      "execution_count": 0,
      "outputs": [
        {
          "output_type": "stream",
          "text": [
            "Making PNG file for Patient2 start: 0 end: 300\n"
          ],
          "name": "stdout"
        },
        {
          "output_type": "error",
          "ename": "AttributeError",
          "evalue": "ignored",
          "traceback": [
            "\u001b[0;31m---------------------------------------------------------------------------\u001b[0m",
            "\u001b[0;31mAttributeError\u001b[0m                            Traceback (most recent call last)",
            "\u001b[0;32m<ipython-input-35-63ffbac3d650>\u001b[0m in \u001b[0;36m<module>\u001b[0;34m()\u001b[0m\n\u001b[1;32m     16\u001b[0m     \u001b[0mendSlice\u001b[0m \u001b[0;34m=\u001b[0m \u001b[0mdf\u001b[0m\u001b[0;34m.\u001b[0m\u001b[0mloc\u001b[0m\u001b[0;34m[\u001b[0m\u001b[0mdf\u001b[0m\u001b[0;34m.\u001b[0m\u001b[0mSubject\u001b[0m \u001b[0;34m==\u001b[0m \u001b[0msubj\u001b[0m\u001b[0;34m,\u001b[0m \u001b[0;34m'EndSlice'\u001b[0m\u001b[0;34m]\u001b[0m\u001b[0;34m.\u001b[0m\u001b[0mvalues\u001b[0m\u001b[0;34m[\u001b[0m\u001b[0;36m0\u001b[0m\u001b[0;34m]\u001b[0m\u001b[0;34m\u001b[0m\u001b[0;34m\u001b[0m\u001b[0m\n\u001b[1;32m     17\u001b[0m     \u001b[0mprint\u001b[0m \u001b[0;34m(\u001b[0m\u001b[0;34m\"Making PNG file for \"\u001b[0m \u001b[0;34m+\u001b[0m \u001b[0msubj\u001b[0m \u001b[0;34m+\u001b[0m \u001b[0;34m\" start: \"\u001b[0m \u001b[0;34m+\u001b[0m \u001b[0mstr\u001b[0m\u001b[0;34m(\u001b[0m\u001b[0mstartSlice\u001b[0m\u001b[0;34m)\u001b[0m \u001b[0;34m+\u001b[0m \u001b[0;34m\" end: \"\u001b[0m \u001b[0;34m+\u001b[0m \u001b[0mstr\u001b[0m\u001b[0;34m(\u001b[0m\u001b[0mendSlice\u001b[0m\u001b[0;34m)\u001b[0m\u001b[0;34m)\u001b[0m\u001b[0;34m\u001b[0m\u001b[0;34m\u001b[0m\u001b[0m\n\u001b[0;32m---> 18\u001b[0;31m     \u001b[0mcount\u001b[0m \u001b[0;34m=\u001b[0m \u001b[0mnifti_to_img\u001b[0m\u001b[0;34m(\u001b[0m\u001b[0mred_f\u001b[0m\u001b[0;34m,\u001b[0m \u001b[0mred_f\u001b[0m\u001b[0;34m,\u001b[0m \u001b[0mred_f\u001b[0m\u001b[0;34m,\u001b[0m \u001b[0mNIFTI_PATH\u001b[0m\u001b[0;34m,\u001b[0m \u001b[0mNIFTI_PATH\u001b[0m\u001b[0;34m,\u001b[0m \u001b[0mstartSlice\u001b[0m\u001b[0;34m,\u001b[0m \u001b[0mendSlice\u001b[0m\u001b[0;34m,\u001b[0m \u001b[0msubj\u001b[0m\u001b[0;34m)\u001b[0m\u001b[0;34m\u001b[0m\u001b[0;34m\u001b[0m\u001b[0m\n\u001b[0m",
            "\u001b[0;32m<ipython-input-33-82f0fb2b1708>\u001b[0m in \u001b[0;36mnifti_to_img\u001b[0;34m(red_file, green_file, blue_file, not_dir, yes_dir, startSlice, endSlice, subject)\u001b[0m\n\u001b[1;32m     84\u001b[0m     \u001b[0mblue_image\u001b[0m \u001b[0;34m=\u001b[0m \u001b[0mnormalise_zero_one\u001b[0m\u001b[0;34m(\u001b[0m\u001b[0mblue_image\u001b[0m\u001b[0;34m)\u001b[0m\u001b[0;34m\u001b[0m\u001b[0;34m\u001b[0m\u001b[0m\n\u001b[1;32m     85\u001b[0m \u001b[0;31m# then convert to 8 bits\u001b[0m\u001b[0;34m\u001b[0m\u001b[0;34m\u001b[0m\u001b[0;34m\u001b[0m\u001b[0m\n\u001b[0;32m---> 86\u001b[0;31m     \u001b[0mred_image\u001b[0m \u001b[0;34m=\u001b[0m \u001b[0mred_image\u001b[0m\u001b[0;34m.\u001b[0m\u001b[0mastype\u001b[0m\u001b[0;34m(\u001b[0m\u001b[0mnp\u001b[0m\u001b[0;34m.\u001b[0m\u001b[0muint8\u001b[0m\u001b[0;34m)\u001b[0m\u001b[0;34m\u001b[0m\u001b[0;34m\u001b[0m\u001b[0m\n\u001b[0m\u001b[1;32m     87\u001b[0m     \u001b[0mgreen_image\u001b[0m \u001b[0;34m=\u001b[0m \u001b[0mgreen_image\u001b[0m\u001b[0;34m.\u001b[0m\u001b[0mastype\u001b[0m\u001b[0;34m(\u001b[0m\u001b[0mnp\u001b[0m\u001b[0;34m.\u001b[0m\u001b[0muint8\u001b[0m\u001b[0;34m)\u001b[0m\u001b[0;34m\u001b[0m\u001b[0;34m\u001b[0m\u001b[0m\n\u001b[1;32m     88\u001b[0m     \u001b[0mblue_image\u001b[0m \u001b[0;34m=\u001b[0m \u001b[0mblue_image\u001b[0m\u001b[0;34m.\u001b[0m\u001b[0mastype\u001b[0m\u001b[0;34m(\u001b[0m\u001b[0mnp\u001b[0m\u001b[0;34m.\u001b[0m\u001b[0muint8\u001b[0m\u001b[0;34m)\u001b[0m\u001b[0;34m\u001b[0m\u001b[0;34m\u001b[0m\u001b[0m\n",
            "\u001b[0;31mAttributeError\u001b[0m: 'NoneType' object has no attribute 'astype'"
          ]
        }
      ]
    },
    {
      "cell_type": "code",
      "metadata": {
        "id": "jiE_I9o-388G",
        "colab_type": "code",
        "colab": {}
      },
      "source": [
        "shutil.rmtree(subj_path)"
      ],
      "execution_count": 0,
      "outputs": []
    },
    {
      "cell_type": "code",
      "metadata": {
        "id": "Ac5yrvqjyTkW",
        "colab_type": "code",
        "colab": {}
      },
      "source": [
        "NIFTI_PATH = 'tester/no/'"
      ],
      "execution_count": 0,
      "outputs": []
    },
    {
      "cell_type": "code",
      "metadata": {
        "id": "zwAEMqYkyTfD",
        "colab_type": "code",
        "colab": {}
      },
      "source": [
        "# Cell #6\n",
        "# take the GAD nii, scale it to 0-255 and store that into the red channel\n",
        "# same for T1 (green) and T2 (blue)\n",
        "# PNG files are stored in enh / nonenh folders based on the csv file\n",
        "\n",
        "# store the png files into enhancing or nonenhancing folders after making sure they are cleared\n",
        "\n",
        "!rm -rf classified\n",
        "\n",
        "!mkdir classified\n",
        "\n",
        "for subj in os.listdir(NIFTI_PATH):\n",
        "    subj_path = os.path.join(NIFTI_PATH, subj)\n",
        "    red_f = os.path.join(subj_path, 'Reg-N4-T2.nii.gz')\n",
        "    startSlice = df.loc[df.Subject == subj, 'StartSlice'].values[0]\n",
        "    endSlice = df.loc[df.Subject == subj, 'EndSlice'].values[0]\n",
        "    print (\"Making PNG file for \" + subj + \" start: \" + str(startSlice) + \" end: \" + str(endSlice))\n",
        "    count = nifti_to_img(red_f, red_f, red_f, NIFTI_PATH, NIFTI_PATH, startSlice, endSlice, subj)"
      ],
      "execution_count": 0,
      "outputs": []
    },
    {
      "cell_type": "code",
      "metadata": {
        "id": "YFK8niq637qC",
        "colab_type": "code",
        "colab": {}
      },
      "source": [
        "shutil.rmtree(subj_path)"
      ],
      "execution_count": 0,
      "outputs": []
    },
    {
      "cell_type": "code",
      "metadata": {
        "id": "ndSUrz6iyTR3",
        "colab_type": "code",
        "colab": {}
      },
      "source": [
        "NIFTI_PATH = 'testesr/codelval/'"
      ],
      "execution_count": 0,
      "outputs": []
    },
    {
      "cell_type": "code",
      "metadata": {
        "id": "-1fqSp70yTNa",
        "colab_type": "code",
        "colab": {}
      },
      "source": [
        "# Cell #6\n",
        "# take the GAD nii, scale it to 0-255 and store that into the red channel\n",
        "# same for T1 (green) and T2 (blue)\n",
        "# PNG files are stored in enh / nonenh folders based on the csv file\n",
        "\n",
        "# store the png files into enhancing or nonenhancing folders after making sure they are cleared\n",
        "\n",
        "!rm -rf classified\n",
        "\n",
        "!mkdir classified\n",
        "\n",
        "for subj in os.listdir(NIFTI_PATH):\n",
        "    subj_path = os.path.join(NIFTI_PATH, subj)\n",
        "    red_f = os.path.join(subj_path, 'Reg-N4-T2.nii.gz')\n",
        "    startSlice = df.loc[df.Subject == subj, 'StartSlice'].values[0]\n",
        "    endSlice = df.loc[df.Subject == subj, 'EndSlice'].values[0]\n",
        "    print (\"Making PNG file for \" + subj + \" start: \" + str(startSlice) + \" end: \" + str(endSlice))\n",
        "    count = nifti_to_img(red_f, red_f, red_f, NIFTI_PATH, NIFTI_PATH, startSlice, endSlice, subj)"
      ],
      "execution_count": 0,
      "outputs": []
    },
    {
      "cell_type": "code",
      "metadata": {
        "id": "kmjXByUN4Axk",
        "colab_type": "code",
        "colab": {}
      },
      "source": [
        "shutil.rmtree(subj_path)"
      ],
      "execution_count": 0,
      "outputs": []
    },
    {
      "cell_type": "code",
      "metadata": {
        "id": "bOzD_LUDyTId",
        "colab_type": "code",
        "colab": {}
      },
      "source": [
        "NIFTI_PATH = 'tester/noval/'"
      ],
      "execution_count": 0,
      "outputs": []
    },
    {
      "cell_type": "code",
      "metadata": {
        "id": "4RcnCfNpyS9O",
        "colab_type": "code",
        "colab": {}
      },
      "source": [
        "# Cell #6\n",
        "# take the GAD nii, scale it to 0-255 and store that into the red channel\n",
        "# same for T1 (green) and T2 (blue)\n",
        "# PNG files are stored in enh / nonenh folders based on the csv file\n",
        "\n",
        "# store the png files into enhancing or nonenhancing folders after making sure they are cleared\n",
        "\n",
        "!rm -rf classified\n",
        "\n",
        "!mkdir classified\n",
        "\n",
        "for subj in os.listdir(NIFTI_PATH):\n",
        "    subj_path = os.path.join(NIFTI_PATH, subj)\n",
        "    red_f = os.path.join(subj_path, 'Reg-N4-T2.nii.gz')\n",
        "    startSlice = df.loc[df.Subject == subj, 'StartSlice'].values[0]\n",
        "    endSlice = df.loc[df.Subject == subj, 'EndSlice'].values[0]\n",
        "    print (\"Making PNG file for \" + subj + \" start: \" + str(startSlice) + \" end: \" + str(endSlice))\n",
        "    count = nifti_to_img(red_f, red_f, red_f, NIFTI_PATH, NIFTI_PATH, startSlice, endSlice, subj)\n"
      ],
      "execution_count": 0,
      "outputs": []
    },
    {
      "cell_type": "code",
      "metadata": {
        "id": "Du6VI9bi1nVS",
        "colab_type": "code",
        "colab": {}
      },
      "source": [
        "shutil.rmtree(subj_path)\n"
      ],
      "execution_count": 0,
      "outputs": []
    },
    {
      "cell_type": "code",
      "metadata": {
        "id": "xaUarkM-OfOY",
        "colab_type": "code",
        "colab": {}
      },
      "source": [
        "!zip -r ./adnitest10.zip ./adnitest10\n",
        "#then download it."
      ],
      "execution_count": 0,
      "outputs": []
    },
    {
      "cell_type": "code",
      "metadata": {
        "id": "sjxhxrhdqnRk",
        "colab_type": "code",
        "colab": {}
      },
      "source": [
        "#below code is from https://towardsdatascience.com/keras-transfer-learning-for-beginners-6c9b8b7143e\n",
        "#and https://towardsdatascience.com/a-comprehensive-hands-on-guide-to-transfer-learning-with-real-world-applications-in-deep-learning-212bf3b2f27a\n",
        "#get the githubs for the refs in the paper"
      ],
      "execution_count": 0,
      "outputs": []
    },
    {
      "cell_type": "code",
      "metadata": {
        "id": "OPuqXkncieuB",
        "colab_type": "code",
        "colab": {}
      },
      "source": [
        "# Cell #7\n",
        "# now we are ready to load data and train classifier\n",
        "# while we did this in separate cells before, we will do it all in one\n",
        "# this should look familiar.\n",
        "import numpy as np\n",
        "import tensorflow as tf\n",
        "!pip install tensornets\n",
        "import tensornets as nets\n",
        "import tensorflow_hub as hub\n",
        "import keras\n",
        "import tensorflow.keras \n",
        "import matplotlib.pyplot as plt\n",
        "from tensorflow.keras.layers import Dense,GlobalAveragePooling2D\n",
        "from tensorflow.keras.preprocessing import image\n",
        "from tensorflow.keras.preprocessing.image import ImageDataGenerator\n",
        "from tensorflow.keras.models import Model\n",
        "from tensorflow.keras.optimizers import Adam\n",
        "\n",
        "from tensorflow.keras.applications.imagenet_utils import decode_predictions\n",
        "from tensorflow.keras.applications.nasnet import NASNetLarge, NASNetMobile, preprocess_input\n",
        "directory = \"./content\"\n",
        "\n",
        "base_model=tensorflow.keras.applications.nasnet.NASNetLarge(input_shape=(331, 331, 3), include_top=False, weights='imagenet', input_tensor=None, pooling=None) #imports the nasnet large model and discards the last 1000 neuron layer.\n",
        "\n",
        "x=base_model.output\n",
        "x=GlobalAveragePooling2D()(x)\n",
        "x=Dense(1024,activation='relu')(x) #we add dense layers so that the model can learn more complex functions and classify for better results.\n",
        "x=Dense(1024,activation='relu')(x) #dense layer 2\n",
        "x=Dense(512,activation='relu')(x) #dense layer 3\n",
        "preds=Dense(2,activation='softmax')(x) #final layer with softmax activation, for 2 classes\n",
        "\n",
        "model=Model(inputs=base_model.input,outputs=preds) # to load saved model with weights use model= tensorflow.keras.models.load_model('myLGGtestmodel.h5')\n",
        "#specify the inputs\n",
        "#specify the outputs\n",
        "#now a model has been created based on our architecture\n",
        "\n",
        "for i,layer in enumerate(model.layers):\n",
        "  print(i,layer.name)\n",
        "\n",
        "for layer in model.layers:\n",
        "    layer.trainable=False\n",
        "# or if we want to set the first 20 layers of the network to be non-trainable\n",
        "for layer in model.layers[:1039]:\n",
        "    layer.trainable=False\n",
        "for layer in model.layers[1039:]:\n",
        "    layer.trainable=True\n",
        "\n",
        "train_datagen=ImageDataGenerator(rotation_range=20, zoom_range=0.15, width_shift_range=0.2, height_shift_range=0.2, shear_range=0, fill_mode='nearest', horizontal_flip=False, data_format='channels_last', validation_split=0.0, dtype='float32') #included in our dependencies\n",
        "# add the directory below very important ##########################\n",
        "\n",
        "train=train_datagen.flow_from_directory('./train',\n",
        "                                                 target_size=(331,331),\n",
        "                                                 color_mode='rgb',\n",
        "                                                 batch_size=32,\n",
        "                                                 class_mode='categorical',\n",
        "                                                 shuffle=True)\n",
        "\n",
        "val_datagen=ImageDataGenerator()\n",
        "\n",
        "val=val_datagen.flow_from_directory('./validate',\n",
        "                                                 target_size=(331,331),\n",
        "                                                 color_mode='rgb',\n",
        "                                                 batch_size=32,\n",
        "                                                 class_mode='categorical',\n",
        "                                                 shuffle=False)\n",
        "\n",
        "model.compile(optimizer='Adam',loss='categorical_crossentropy',metrics=['accuracy'])\n",
        "# Adam optimizer\n",
        "# loss function will be categorical cross entropy\n",
        "# evaluation metric will be accuracy\n",
        "\n",
        "step_size_train=train.n//train.batch_size\n",
        "step_size_val=val.n//val.batch_size\n",
        "#model.fit_generator(generator=train_generator,\n",
        "#                   steps_per_epoch=step_size_train,\n",
        "#                   epochs=3)\n",
        "\n",
        "history = model.fit(train, steps_per_epoch=step_size_train, epochs=3,\n",
        "                              validation_data=val, validation_steps=step_size_val, \n",
        "                              verbose=1)       \n",
        "\n",
        "\n",
        "    \n",
        "# next cell to save model including newly trained weights\n",
        "# model.save('myLGGtestmodel.h5') # rename it how you like, it will show up in your directory. I have explained above using a hastag how and where to load the model."
      ],
      "execution_count": 0,
      "outputs": []
    },
    {
      "cell_type": "code",
      "metadata": {
        "id": "_FAaux6jEYzb",
        "colab_type": "code",
        "colab": {}
      },
      "source": [
        "#above tips for the graph function: list range has to be 1 to #epochs+1\n",
        "#np.arrange has to be 0, #epochs +1 and no clue what the last number is."
      ],
      "execution_count": 0,
      "outputs": []
    },
    {
      "cell_type": "code",
      "metadata": {
        "id": "oegemgM0cquI",
        "colab_type": "code",
        "colab": {}
      },
      "source": [
        "f, (ax1, ax2) = plt.subplots(1, 2, figsize=(12, 4))\n",
        "t = f.suptitle('Basic CNN Performance', fontsize=12)\n",
        "f.subplots_adjust(top=0.85, wspace=0.3)\n",
        "\n",
        "epoch_list = list(range(1,4))\n",
        "ax1.plot(epoch_list, history.history['accuracy'], label='Train Accuracy')\n",
        "ax1.plot(epoch_list, history.history['val_accuracy'], label='Validation Accuracy')\n",
        "ax1.set_xticks(np.arange(0, 4, 5))\n",
        "ax1.set_ylabel('Accuracy Value')\n",
        "ax1.set_xlabel('Epoch')\n",
        "ax1.set_title('Accuracy')\n",
        "l1 = ax1.legend(loc=\"best\")\n",
        "\n",
        "ax2.plot(epoch_list, history.history['loss'], label='Train Loss')\n",
        "ax2.plot(epoch_list, history.history['val_loss'], label='Validation Loss')\n",
        "ax2.set_xticks(np.arange(0, 4, 5))\n",
        "ax2.set_ylabel('Loss Value')\n",
        "ax2.set_xlabel('Epoch')\n",
        "ax2.set_title('Loss')\n",
        "l2 = ax2.legend(loc=\"best\")"
      ],
      "execution_count": 0,
      "outputs": []
    },
    {
      "cell_type": "code",
      "metadata": {
        "id": "7o-zvwsrJPgw",
        "colab_type": "code",
        "colab": {}
      },
      "source": [
        "# this cell is to evaluate loss and accuracy on an external test set\n",
        "\n",
        "model.evaluate(val, verbose=1, sample_weight=None, steps=step_size_val, callbacks=None, max_queue_size=10, workers=1, use_multiprocessing=False)\n"
      ],
      "execution_count": 0,
      "outputs": []
    },
    {
      "cell_type": "code",
      "metadata": {
        "id": "WZFRaCuYkTfF",
        "colab_type": "code",
        "colab": {}
      },
      "source": [
        "# this cell is to predict smaller numbers of images and so... it returns an array which I havent figured out yet...\n",
        "\n",
        "yhat = model.predict(val, verbose=1, steps=step_size_val, callbacks=None, max_queue_size=10, workers=1, use_multiprocessing=False)\n",
        "\n",
        " "
      ],
      "execution_count": 0,
      "outputs": []
    },
    {
      "cell_type": "code",
      "metadata": {
        "id": "vmEgUsRlGnD7",
        "colab_type": "code",
        "colab": {}
      },
      "source": [
        "# make predictions on your choice of numbers in dataset, just change the range https://machinelearningmastery.com/how-to-make-classification-and-regression-predictions-for-deep-learning-models-in-keras/\n",
        "\n",
        "\t\n",
        "from sklearn.linear_model import LogisticRegression\n",
        "from sklearn.datasets import make_blobs\n",
        "# create the inputs and outputs\n",
        "X, y = make_blobs(n_samples=5000, centers=2, n_features=2, random_state=2)\n",
        "# define model\n",
        "model = LogisticRegression(solver='lbfgs')\n",
        "# fit model\n",
        "model.fit(X, y)\n",
        "# make predictions on the entire training dataset\n",
        "yhat = model.predict(X)\n",
        "# connect predictions with outputs\n",
        "for i in range(5000):\n",
        "  print (X[i], yhat[i])\n",
        "  "
      ],
      "execution_count": 0,
      "outputs": []
    },
    {
      "cell_type": "code",
      "metadata": {
        "id": "ubpYDLuJXQhL",
        "colab_type": "code",
        "colab": {}
      },
      "source": [
        "# load_model_sample.py TRY THIS FOR A SINGLE IMAGE https://stackoverflow.com/questions/43469281/how-to-predict-input-image-using-trained-model-in-keras\n",
        "from keras.models import load_model\n",
        "from keras.preprocessing import image\n",
        "import matplotlib.pyplot as plt\n",
        "import numpy as np\n",
        "import os\n",
        "\n",
        "\n",
        "def load_image(img_path, show=False):\n",
        "\n",
        "    img = image.load_img(img_path, target_size=(150, 150))\n",
        "    img_tensor = image.img_to_array(img)                    # (height, width, channels)\n",
        "    img_tensor = np.expand_dims(img_tensor, axis=0)         # (1, height, width, channels), add a dimension because the model expects this shape: (batch_size, height, width, channels)\n",
        "    img_tensor /= 255.                                      # imshow expects values in the range [0, 1]\n",
        "\n",
        "    if show:\n",
        "        plt.imshow(img_tensor[0])                           \n",
        "        plt.axis('off')\n",
        "        plt.show()\n",
        "\n",
        "    return img_tensor\n",
        "\n",
        "\n",
        "if __name__ == \"__main__\":\n",
        "\n",
        "    # load model\n",
        "    model = load_model(\"model_aug.h5\")\n",
        "\n",
        "    # image path\n",
        "    img_path = '/media/data/dogscats/test1/3867.jpg'    # dog\n",
        "    #img_path = '/media/data/dogscats/test1/19.jpg'      # cat\n",
        "\n",
        "    # load a single image\n",
        "    new_image = load_image(img_path)\n",
        "\n",
        "    # check prediction\n",
        "    pred = model.predict(new_image)"
      ],
      "execution_count": 0,
      "outputs": []
    },
    {
      "cell_type": "code",
      "metadata": {
        "id": "NqHTq1g_n64x",
        "colab_type": "code",
        "colab": {}
      },
      "source": [
        "\n",
        "# TRY this also for a single image https://stackoverflow.com/questions/43469281/how-to-predict-input-image-using-trained-model-in-keras\n",
        "# load_model_sample.py\n",
        "from keras.models import load_model\n",
        "from keras.preprocessing import image\n",
        "import matplotlib.pyplot as plt\n",
        "import numpy as np\n",
        "import os\n",
        "\n",
        "\n",
        "def load_image(img_path, show=False):\n",
        "\n",
        "    img = image.load_img(img_path, target_size=(150, 150))\n",
        "    img_tensor = image.img_to_array(img)                    # (height, width, channels)\n",
        "    img_tensor = np.expand_dims(img_tensor, axis=0)         # (1, height, width, channels), add a dimension because the model expects this shape: (batch_size, height, width, channels)\n",
        "    img_tensor /= 255.                                      # imshow expects values in the range [0, 1]\n",
        "\n",
        "    if show:\n",
        "        plt.imshow(img_tensor[0])                           \n",
        "        plt.axis('off')\n",
        "        plt.show()\n",
        "\n",
        "    return img_tensor\n",
        "\n",
        "\n",
        "if __name__ == \"__main__\":\n",
        "\n",
        "    # load model\n",
        "    model = load_model(\"model_aug.h5\")\n",
        "\n",
        "    # image path\n",
        "    img_path = '/media/data/dogscats/test1/3867.jpg'    # dog\n",
        "    #img_path = '/media/data/dogscats/test1/19.jpg'      # cat\n",
        "\n",
        "    # load a single image\n",
        "    new_image = load_image(img_path)\n",
        "\n",
        "    # check prediction\n",
        "    pred = model.predict(new_image)"
      ],
      "execution_count": 0,
      "outputs": []
    }
  ]
}