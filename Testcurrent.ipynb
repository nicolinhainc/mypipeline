{
  "nbformat": 4,
  "nbformat_minor": 0,
  "metadata": {
    "colab": {
      "name": "Pipeline3.ipynb",
      "provenance": [],
      "authorship_tag": "ABX9TyMl8ey2X6G/j7hjtM57kOuu",
      "include_colab_link": true
    },
    "kernelspec": {
      "name": "python3",
      "display_name": "Python 3"
    }
  },
  "cells": [
    {
      "cell_type": "markdown",
      "metadata": {
        "id": "view-in-github",
        "colab_type": "text"
      },
      "source": [
        "<a href=\"https://colab.research.google.com/github/nicolinhainc/mypipeline/blob/master/Testcurrent.ipynb\" target=\"_parent\"><img src=\"https://colab.research.google.com/assets/colab-badge.svg\" alt=\"Open In Colab\"/></a>"
      ]
    },
    {
      "cell_type": "code",
      "metadata": {
        "id": "OD3fnUQGiSaQ",
        "colab_type": "code",
        "outputId": "73513afc-f921-4696-982d-185792bb1730",
        "colab": {
          "base_uri": "https://localhost:8080/",
          "height": 34
        }
      },
      "source": [
        "%pwd  "
      ],
      "execution_count": 42,
      "outputs": [
        {
          "output_type": "execute_result",
          "data": {
            "text/plain": [
              "'/content'"
            ]
          },
          "metadata": {
            "tags": []
          },
          "execution_count": 42
        }
      ]
    },
    {
      "cell_type": "code",
      "metadata": {
        "id": "NiBkzlnNifj7",
        "colab_type": "code",
        "outputId": "47cda2a8-4d64-42b0-ceaa-2c2a87ea2955",
        "colab": {
          "base_uri": "https://localhost:8080/",
          "height": 34
        }
      },
      "source": [
        "%cd '/content'"
      ],
      "execution_count": 43,
      "outputs": [
        {
          "output_type": "stream",
          "text": [
            "/content\n"
          ],
          "name": "stdout"
        }
      ]
    },
    {
      "cell_type": "code",
      "metadata": {
        "id": "cWKczacPifgd",
        "colab_type": "code",
        "outputId": "778859bf-a9b3-44dc-dadc-f55d13f2cf32",
        "colab": {
          "base_uri": "https://localhost:8080/",
          "height": 350
        }
      },
      "source": [
        "!wget --no-check-certificate 'https://drive.google.com/uc?export=download&id=1XdwGEqKXeKH1NRhZXxCZo5T8mncwYHCC' -O ./Bet-n-dcm2nii.zip\n",
        "!unzip -q ./Bet-n-dcm2nii.zip\n",
        "!rm -rf images"
      ],
      "execution_count": 3,
      "outputs": [
        {
          "output_type": "stream",
          "text": [
            "--2020-04-05 14:45:25--  https://drive.google.com/uc?export=download&id=1XdwGEqKXeKH1NRhZXxCZo5T8mncwYHCC\n",
            "Resolving drive.google.com (drive.google.com)... 172.217.193.102, 172.217.193.113, 172.217.193.139, ...\n",
            "Connecting to drive.google.com (drive.google.com)|172.217.193.102|:443... connected.\n",
            "HTTP request sent, awaiting response... 302 Moved Temporarily\n",
            "Location: https://doc-0k-60-docs.googleusercontent.com/docs/securesc/ha0ro937gcuc7l7deffksulhg5h7mbp1/9cqknq4rpccgoq2f91omluc47oop8uj0/1586097900000/07380574639032097336/*/1XdwGEqKXeKH1NRhZXxCZo5T8mncwYHCC?e=download [following]\n",
            "Warning: wildcards not supported in HTTP.\n",
            "--2020-04-05 14:45:35--  https://doc-0k-60-docs.googleusercontent.com/docs/securesc/ha0ro937gcuc7l7deffksulhg5h7mbp1/9cqknq4rpccgoq2f91omluc47oop8uj0/1586097900000/07380574639032097336/*/1XdwGEqKXeKH1NRhZXxCZo5T8mncwYHCC?e=download\n",
            "Resolving doc-0k-60-docs.googleusercontent.com (doc-0k-60-docs.googleusercontent.com)... 173.194.213.132, 2607:f8b0:400c:c0a::84\n",
            "Connecting to doc-0k-60-docs.googleusercontent.com (doc-0k-60-docs.googleusercontent.com)|173.194.213.132|:443... connected.\n",
            "HTTP request sent, awaiting response... 200 OK\n",
            "Length: unspecified [application/zip]\n",
            "Saving to: ‘./Bet-n-dcm2nii.zip’\n",
            "\n",
            "./Bet-n-dcm2nii.zip     [ <=>                ]  12.52M  --.-KB/s    in 0.1s    \n",
            "\n",
            "2020-04-05 14:45:36 (96.3 MB/s) - ‘./Bet-n-dcm2nii.zip’ saved [13126916]\n",
            "\n",
            "replace dcm2nii? [y]es, [n]o, [A]ll, [N]one, [r]ename: A\n"
          ],
          "name": "stdout"
        }
      ]
    },
    {
      "cell_type": "code",
      "metadata": {
        "id": "jwGvEZAIifeR",
        "colab_type": "code",
        "colab": {}
      },
      "source": [
        "# upload the LGG zip file yourself as the link to google drive wasnt working"
      ],
      "execution_count": 0,
      "outputs": []
    },
    {
      "cell_type": "code",
      "metadata": {
        "id": "y3a3PV9JifY8",
        "colab_type": "code",
        "outputId": "c1053d72-8009-4294-d79c-6efabb8228b1",
        "colab": {
          "base_uri": "https://localhost:8080/",
          "height": 34
        }
      },
      "source": [
        "!unzip -q ./LGGperclass.zip\n",
        "!rm -rf ./_MACOSX\n",
        "!rm -rf *.DS_Store\n",
        "!rm -rf ./LGG/.DS_Store\n",
        "!rm -rf ./LGG/class1/.DS_Store\n",
        "!rm -rf ./LGG/class2/.DS_Store"
      ],
      "execution_count": 44,
      "outputs": [
        {
          "output_type": "stream",
          "text": [
            "replace __MACOSX/LGGperclass/._.DS_Store? [y]es, [n]o, [A]ll, [N]one, [r]ename: A\n"
          ],
          "name": "stdout"
        }
      ]
    },
    {
      "cell_type": "code",
      "metadata": {
        "id": "fqv8_CSbifVx",
        "colab_type": "code",
        "outputId": "6bb0cd44-85ae-4366-90fa-1c0aa9efb5ce",
        "colab": {
          "base_uri": "https://localhost:8080/",
          "height": 350
        }
      },
      "source": [
        "!wget --no-check-certificate 'https://drive.google.com/uc?export=download&id=1uBQdQIYcA_ACqycw8ofDzD-1G9YwZaRw' -O ./icbm152t2.zip\n",
        "!unzip -q ./icbm152t2.zip"
      ],
      "execution_count": 6,
      "outputs": [
        {
          "output_type": "stream",
          "text": [
            "--2020-04-05 15:11:07--  https://drive.google.com/uc?export=download&id=1uBQdQIYcA_ACqycw8ofDzD-1G9YwZaRw\n",
            "Resolving drive.google.com (drive.google.com)... 172.217.193.100, 172.217.193.113, 172.217.193.102, ...\n",
            "Connecting to drive.google.com (drive.google.com)|172.217.193.100|:443... connected.\n",
            "HTTP request sent, awaiting response... 302 Moved Temporarily\n",
            "Location: https://doc-0k-60-docs.googleusercontent.com/docs/securesc/ha0ro937gcuc7l7deffksulhg5h7mbp1/om5gd6puts9a6pc3lpamflqijsb39v61/1586099400000/07380574639032097336/*/1uBQdQIYcA_ACqycw8ofDzD-1G9YwZaRw?e=download [following]\n",
            "Warning: wildcards not supported in HTTP.\n",
            "--2020-04-05 15:11:08--  https://doc-0k-60-docs.googleusercontent.com/docs/securesc/ha0ro937gcuc7l7deffksulhg5h7mbp1/om5gd6puts9a6pc3lpamflqijsb39v61/1586099400000/07380574639032097336/*/1uBQdQIYcA_ACqycw8ofDzD-1G9YwZaRw?e=download\n",
            "Resolving doc-0k-60-docs.googleusercontent.com (doc-0k-60-docs.googleusercontent.com)... 173.194.213.132, 2607:f8b0:400c:c0a::84\n",
            "Connecting to doc-0k-60-docs.googleusercontent.com (doc-0k-60-docs.googleusercontent.com)|173.194.213.132|:443... connected.\n",
            "HTTP request sent, awaiting response... 200 OK\n",
            "Length: unspecified [application/zip]\n",
            "Saving to: ‘./icbm152t2.zip’\n",
            "\n",
            "./icbm152t2.zip         [ <=>                ]  12.92M  --.-KB/s    in 0.1s    \n",
            "\n",
            "2020-04-05 15:11:09 (121 MB/s) - ‘./icbm152t2.zip’ saved [13550902]\n",
            "\n",
            "replace icbm_avg_152_t2_tal_lin.nii? [y]es, [n]o, [A]ll, [N]one, [r]ename: A\n"
          ],
          "name": "stdout"
        }
      ]
    },
    {
      "cell_type": "code",
      "metadata": {
        "id": "20qqIk8difTI",
        "colab_type": "code",
        "colab": {}
      },
      "source": [
        "NIFTI_PATH = './LGG/class1'"
      ],
      "execution_count": 0,
      "outputs": []
    },
    {
      "cell_type": "code",
      "metadata": {
        "id": "h3BewtvrifQS",
        "colab_type": "code",
        "colab": {}
      },
      "source": [
        "import os, fnmatch"
      ],
      "execution_count": 0,
      "outputs": []
    },
    {
      "cell_type": "code",
      "metadata": {
        "id": "zzmthqc5ifNW",
        "colab_type": "code",
        "colab": {}
      },
      "source": [
        "os.environ['FSLOUTPUTTYPE'] = 'NIFTI_GZ'"
      ],
      "execution_count": 0,
      "outputs": []
    },
    {
      "cell_type": "code",
      "metadata": {
        "id": "mVXVKzU4ifK0",
        "colab_type": "code",
        "outputId": "ed10a624-1778-49b1-9e2d-bc1f8ccbdd73",
        "colab": {
          "base_uri": "https://localhost:8080/",
          "height": 191
        }
      },
      "source": [
        "for subj in os.listdir(NIFTI_PATH):\n",
        "    subj_path = os.path.join(NIFTI_PATH, subj)\n",
        "    print (\"Working on \" + subj_path)\n",
        "    series = fnmatch.filter(os.listdir(subj_path), '*.nii.gz')\n",
        "    for ser in ['T2*']: #not sure why I had to add the star here but this was the only way it worked\n",
        "        nii_file = os.path.join (subj_path, ser)\n",
        "# First, perform N4 bias correction. Not required, but may improve results. Also must track new names\n",
        "        new_file = os.path.join (subj_path, 'N4-' + ser)\n",
        "        cmd = \"./N4BiasFieldCorrection -i %s.nii.gz -o %s.nii.gz\" % (nii_file, new_file)\n",
        "        os.system(cmd)\n",
        "        print (cmd)"
      ],
      "execution_count": 10,
      "outputs": [
        {
          "output_type": "stream",
          "text": [
            "Working on ./LGG/class1/Patient4\n",
            "./N4BiasFieldCorrection -i ./LGG/class1/Patient4/T2*.nii.gz -o ./LGG/class1/Patient4/N4-T2*.nii.gz\n",
            "Working on ./LGG/class1/Patient3\n",
            "./N4BiasFieldCorrection -i ./LGG/class1/Patient3/T2*.nii.gz -o ./LGG/class1/Patient3/N4-T2*.nii.gz\n",
            "Working on ./LGG/class1/Patient5\n",
            "./N4BiasFieldCorrection -i ./LGG/class1/Patient5/T2*.nii.gz -o ./LGG/class1/Patient5/N4-T2*.nii.gz\n",
            "Working on ./LGG/class1/Patient2\n",
            "./N4BiasFieldCorrection -i ./LGG/class1/Patient2/T2*.nii.gz -o ./LGG/class1/Patient2/N4-T2*.nii.gz\n",
            "Working on ./LGG/class1/Patient1\n",
            "./N4BiasFieldCorrection -i ./LGG/class1/Patient1/T2*.nii.gz -o ./LGG/class1/Patient1/N4-T2*.nii.gz\n"
          ],
          "name": "stdout"
        }
      ]
    },
    {
      "cell_type": "code",
      "metadata": {
        "id": "xMf-kqTEx5B_",
        "colab_type": "code",
        "colab": {
          "base_uri": "https://localhost:8080/",
          "height": 191
        },
        "outputId": "32cfe055-1f7a-493b-a61b-1aa35e58b9be"
      },
      "source": [
        "for subj in os.listdir(NIFTI_PATH):\n",
        "    subj_path = os.path.join(NIFTI_PATH, subj)\n",
        "    print (\"Working on \" + subj_path)\n",
        "    series = fnmatch.filter(os.listdir(subj_path), '*.nii.gz')\n",
        "    for ser in ['T2.nii.gz']: #not sure why I had to add the star here but this was the only way it worked\n",
        "        nii_file = os.path.join (subj_path, ser)\n",
        "# removes old files\n",
        "        \n",
        "        cmd = os.remove(nii_file)\n",
        "        \n",
        "        print (cmd)"
      ],
      "execution_count": 11,
      "outputs": [
        {
          "output_type": "stream",
          "text": [
            "Working on ./LGG/class1/Patient4\n",
            "None\n",
            "Working on ./LGG/class1/Patient3\n",
            "None\n",
            "Working on ./LGG/class1/Patient5\n",
            "None\n",
            "Working on ./LGG/class1/Patient2\n",
            "None\n",
            "Working on ./LGG/class1/Patient1\n",
            "None\n"
          ],
          "name": "stdout"
        }
      ]
    },
    {
      "cell_type": "markdown",
      "metadata": {
        "id": "aLmqNkVvkMjH",
        "colab_type": "text"
      },
      "source": [
        ""
      ]
    },
    {
      "cell_type": "code",
      "metadata": {
        "id": "ifEYCCSdifFL",
        "colab_type": "code",
        "colab": {
          "base_uri": "https://localhost:8080/",
          "height": 211
        },
        "outputId": "968d2d54-ddd6-4a78-ec87-20f89630e71d"
      },
      "source": [
        "# Next, Register the images to the avg 152 t2 image from MNI\n",
        "for subj in os.listdir(NIFTI_PATH):\n",
        "    subj_path = os.path.join(NIFTI_PATH, subj)\n",
        "    print (\"Working on \" + subj_path)\n",
        "    series = fnmatch.filter(os.listdir(subj_path), 'N4-*')\n",
        "    for ser in ['T2']:   \n",
        "        MNI_file = './icbm_avg_152_t2_tal_lin.nii'\n",
        "        T2_file =  os.path.join (subj_path, 'N4-T2*.nii.gz')\n",
        "        new_file = os.path.join (subj_path, 'Reg-N4-T2.nii.gz')\n",
        "        cmd = \"./flirt -in %s -ref %s  -out %s\" % (T2_file, MNI_file, new_file)\n",
        "        os.system(cmd)\n",
        "        print (cmd)\n",
        "\n"
      ],
      "execution_count": 12,
      "outputs": [
        {
          "output_type": "stream",
          "text": [
            "Working on ./LGG/class1/Patient4\n",
            "./flirt -in ./LGG/class1/Patient4/N4-T2*.nii.gz -ref ./icbm_avg_152_t2_tal_lin.nii  -out ./LGG/class1/Patient4/Reg-N4-T2.nii.gz\n",
            "Working on ./LGG/class1/Patient3\n",
            "./flirt -in ./LGG/class1/Patient3/N4-T2*.nii.gz -ref ./icbm_avg_152_t2_tal_lin.nii  -out ./LGG/class1/Patient3/Reg-N4-T2.nii.gz\n",
            "Working on ./LGG/class1/Patient5\n",
            "./flirt -in ./LGG/class1/Patient5/N4-T2*.nii.gz -ref ./icbm_avg_152_t2_tal_lin.nii  -out ./LGG/class1/Patient5/Reg-N4-T2.nii.gz\n",
            "Working on ./LGG/class1/Patient2\n",
            "./flirt -in ./LGG/class1/Patient2/N4-T2*.nii.gz -ref ./icbm_avg_152_t2_tal_lin.nii  -out ./LGG/class1/Patient2/Reg-N4-T2.nii.gz\n",
            "Working on ./LGG/class1/Patient1\n",
            "./flirt -in ./LGG/class1/Patient1/N4-T2*.nii.gz -ref ./icbm_avg_152_t2_tal_lin.nii  -out ./LGG/class1/Patient1/Reg-N4-T2.nii.gz\n"
          ],
          "name": "stdout"
        }
      ]
    },
    {
      "cell_type": "code",
      "metadata": {
        "id": "6auR69KF6Z2D",
        "colab_type": "code",
        "colab": {
          "base_uri": "https://localhost:8080/",
          "height": 191
        },
        "outputId": "cd338f53-0808-4a39-db15-3391891e59e4"
      },
      "source": [
        "# Next, remove the unnecessary N4-T2 files\n",
        "for subj in os.listdir(NIFTI_PATH):\n",
        "    subj_path = os.path.join(NIFTI_PATH, subj)\n",
        "    print (\"Working on \" + subj_path)\n",
        "    series = fnmatch.filter(os.listdir(subj_path), 'N4-*')\n",
        "    for ser in ['T2']:   \n",
        "        MNI_file = './icbm_avg_152_t2_tal_lin.nii'\n",
        "        T2_file =  os.path.join (subj_path, 'N4-T2*.nii.gz')\n",
        "        new_file = os.path.join (subj_path, 'Reg-N4-T2.nii.gz')\n",
        "        cmd = os.remove(T2_file)\n",
        "        \n",
        "        print (cmd)"
      ],
      "execution_count": 13,
      "outputs": [
        {
          "output_type": "stream",
          "text": [
            "Working on ./LGG/class1/Patient4\n",
            "None\n",
            "Working on ./LGG/class1/Patient3\n",
            "None\n",
            "Working on ./LGG/class1/Patient5\n",
            "None\n",
            "Working on ./LGG/class1/Patient2\n",
            "None\n",
            "Working on ./LGG/class1/Patient1\n",
            "None\n"
          ],
          "name": "stdout"
        }
      ]
    },
    {
      "cell_type": "code",
      "metadata": {
        "id": "Wicvx5aCAwmy",
        "colab_type": "code",
        "colab": {}
      },
      "source": [
        "!unzip -q ./LGGperclass.zip\n",
        "!rm -rf ./_MACOSX\n",
        "!rm -rf *.DS_Store\n",
        "!rm -rf ./LGGperclass/.DS_Store\n",
        "!rm -rf ./LGGperclass/class1/.DS_Store\n",
        "!rm -rf ./LGGperclass/class2/.DS_Store"
      ],
      "execution_count": 0,
      "outputs": []
    },
    {
      "cell_type": "code",
      "metadata": {
        "id": "EeHtpkFWifAF",
        "colab_type": "code",
        "colab": {}
      },
      "source": [
        "#then test the split directory function below. It didnt separate randomly last time so lets see what it does now"
      ],
      "execution_count": 0,
      "outputs": []
    },
    {
      "cell_type": "code",
      "metadata": {
        "id": "aLrgC_NEie9F",
        "colab_type": "code",
        "colab": {
          "base_uri": "https://localhost:8080/",
          "height": 69
        },
        "outputId": "f15ccac0-8b1c-467c-c105-a493fd6f2109"
      },
      "source": [
        ""
      ],
      "execution_count": 34,
      "outputs": [
        {
          "output_type": "stream",
          "text": [
            "Requirement already satisfied: split-folders in /usr/local/lib/python3.6/dist-packages (0.3.1)\n",
            "Requirement already satisfied: split-folders in /usr/local/lib/python3.6/dist-packages (0.3.1)\n",
            "Requirement already satisfied: tqdm in /usr/local/lib/python3.6/dist-packages (4.38.0)\n"
          ],
          "name": "stdout"
        }
      ]
    },
    {
      "cell_type": "code",
      "metadata": {
        "id": "WUk9fqHGORYS",
        "colab_type": "code",
        "colab": {}
      },
      "source": [
        "import os\n",
        "import random\n",
        "from shutil import copyfile"
      ],
      "execution_count": 0,
      "outputs": []
    },
    {
      "cell_type": "code",
      "metadata": {
        "id": "MFlpcv2OTqSV",
        "colab_type": "code",
        "colab": {}
      },
      "source": [
        "\n",
        "\n",
        "def img_train_test_split(img_source_dir, train_size):\n",
        "   # \"\"\"\n",
        "    #Randomly splits images over a train and validation folder, while preserving the folder structure\n",
        "    \n",
        "    #Parameters\n",
        "    #----------\n",
        "    img_source_dir : './.LGGperclass'\n",
        "    #    Path to the folder with the images to be split. Can be absolute or relative path   \n",
        "        \n",
        "    train_size : 0.8\n",
        "    #    Proportion of the original images that need to be copied in the subdirectory in the train folder\n",
        "    #\"\"\"    \n",
        "    if not (isinstance(img_source_dir, str)):\n",
        "        raise AttributeError('img_source_dir must be a string')\n",
        "        \n",
        "    if not os.path.exists(img_source_dir):\n",
        "        raise OSError('img_source_dir does not exist')\n",
        "        \n",
        "    if not (isinstance(train_size, float)):\n",
        "        raise AttributeError('train_size must be a float')\n",
        "        \n",
        "    # Set up empty folder structure if not exists\n",
        "    if not os.path.exists('data'):\n",
        "        os.makedirs('data')\n",
        "    else:\n",
        "        if not os.path.exists('data/train'):\n",
        "            os.makedirs('data/train')\n",
        "        if not os.path.exists('data/validation'):\n",
        "            os.makedirs('data/validation')\n",
        "            \n",
        "    # Get the subdirectories in the main image folder\n",
        "    subdirs = [subdir for subdir in os.listdir(img_source_dir) if os.path.isdir(os.path.join(img_source_dir, subdir))]\n",
        "\n",
        "    for subdir in subdirs:\n",
        "        subdir_fullpath = os.path.join(img_source_dir, subdir)\n",
        "        if len(os.listdir(subdir_fullpath)) == 0:\n",
        "            print(subdir_fullpath + ' is empty')\n",
        "            break\n",
        "\n",
        "        train_subdir = os.path.join('data/train', subdir)\n",
        "        validation_subdir = os.path.join('data/validation', subdir)\n",
        "\n",
        "        # Create subdirectories in train and validation folders\n",
        "        if not os.path.exists(train_subdir):\n",
        "            os.makedirs(train_subdir)\n",
        "\n",
        "        if not os.path.exists(validation_subdir):\n",
        "            os.makedirs(validation_subdir)\n",
        "\n",
        "        train_counter = 0\n",
        "        validation_counter = 0\n",
        "\n",
        "        # Randomly assign an image to train or validation folder\n",
        "        for filename in os.listdir(subdir_fullpath):\n",
        "            if filename.endswith(\".jpg\") or filename.endswith(\".png\"): \n",
        "                fileparts = filename.split('.')\n",
        "\n",
        "                if random.uniform(0, 1) <= train_size:\n",
        "                    copyfile(os.path.join(subdir_fullpath, filename), os.path.join(train_subdir, str(train_counter) + '.' + fileparts[1]))\n",
        "                    train_counter += 1\n",
        "                else:\n",
        "                    copyfile(os.path.join(subdir_fullpath, filename), os.path.join(validation_subdir, str(validation_counter) + '.' + fileparts[1]))\n",
        "                    validation_counter += 1\n",
        "                    \n",
        "        print('Copied ' + str(train_counter) + ' images to data/train/' + subdir)\n",
        "        print('Copied ' + str(validation_counter) + ' images to data/validation/' + subdir)"
      ],
      "execution_count": 0,
      "outputs": []
    },
    {
      "cell_type": "code",
      "metadata": {
        "id": "RC0Puy0FCc9P",
        "colab_type": "code",
        "colab": {}
      },
      "source": [
        "import pathlib\n",
        "import random\n",
        "import shutil\n",
        "\n",
        "import split_folders\n",
        "from os import path\n",
        "\n",
        "try:\n",
        "    from tqdm import tqdm\n",
        "\n",
        "    tqdm_is_installed = True\n",
        "except ImportError:\n",
        "    tqdm_is_installed = False\n",
        "\n",
        "\n",
        "def list_dirs(directory):\n",
        "    \"\"\"Returns all directories in a given directory\n",
        "    \"\"\"\n",
        "    return [f for f in pathlib.Path(directory).iterdir() if f.is_dir()]\n",
        "\n",
        "\n",
        "def list_files(directory):\n",
        "    \"\"\"Returns all files in a given directory\n",
        "    \"\"\"\n",
        "    return [\n",
        "        f\n",
        "        for f in pathlib.Path(directory).iterdir()\n",
        "        if f.is_file() and not f.name.startswith(\".\")\n",
        "    ]\n",
        "\n",
        "\n",
        "def ratio(input, output=\"output\", seed=1337, ratio=(0.8, 0.2)):\n",
        "    # make up for some impression\n",
        "    assert round(sum(ratio), 5) == 1\n",
        "    assert len(ratio) in (2, 3)\n",
        "\n",
        "    if tqdm_is_installed:\n",
        "        prog_bar = tqdm(desc=f\"Copying files\", unit=\" files\")\n",
        "\n",
        "    for class_dir in list_dirs(input):\n",
        "        split_class_dir_ratio(\n",
        "            class_dir, output, ratio, seed, prog_bar if tqdm_is_installed else None\n",
        "        )\n",
        "\n",
        "    if tqdm_is_installed:\n",
        "        prog_bar.close()\n",
        "\n",
        "\n",
        "\n",
        "\n",
        "\n",
        "def setup_files(class_dir, seed):\n",
        "    \"\"\"Returns shuffled files\n",
        "    \"\"\"\n",
        "    # make sure its reproducible\n",
        "    random.seed(seed)\n",
        "\n",
        "    files = list_files(class_dir)\n",
        "\n",
        "    files.sort()\n",
        "    random.shuffle(files)\n",
        "    return files\n",
        "\n",
        "\n",
        "def split_class_dir_ratio(class_dir, output, ratio, seed, prog_bar):\n",
        "    \"\"\"Splits one very class folder\n",
        "    \"\"\"\n",
        "    files = setup_files(class_dir, seed)\n",
        "\n",
        "    split_train = int(ratio[0] * len(files))\n",
        "    split_val = split_train + int(ratio[1] * len(files))\n",
        "\n",
        "    li = split_files(files, split_train, split_val, len(ratio) == 3)\n",
        "    copy_files(li, class_dir, output, prog_bar)\n",
        "\n",
        "\n",
        "def split_files(files, split_train, split_val, use_test):\n",
        "    \"\"\"Splits the files along the provided indices\n",
        "    \"\"\"\n",
        "    files_train = files[:split_train]\n",
        "    files_val = files[split_train:split_val] if use_test else files[split_train:]\n",
        "\n",
        "    li = [(files_train, \"train\"), (files_val, \"val\")]\n",
        "\n",
        "    # optional test folder\n",
        "    if use_test:\n",
        "        files_test = files[split_val:]\n",
        "        li.append((files_test, \"test\"))\n",
        "    return li\n",
        "\n",
        "\n",
        "def copy_files(files_type, class_dir, output, prog_bar):\n",
        "    \"\"\"Copies the files from the input folder to the output folder\n",
        "    \"\"\"\n",
        "    # get the last part within the file\n",
        "    class_name = path.split(class_dir)[1]\n",
        "    for (files, folder_type) in files_type:\n",
        "        full_path = path.join(output, folder_type, class_name)\n",
        "\n",
        "        pathlib.Path(full_path).mkdir(parents=True, exist_ok=True)\n",
        "        for f in files:\n",
        "            if not prog_bar is None:\n",
        "                prog_bar.update()\n",
        "            shutil.copy2(f, full_path)"
      ],
      "execution_count": 0,
      "outputs": []
    },
    {
      "cell_type": "code",
      "metadata": {
        "id": "aN4VWZOyie6Y",
        "colab_type": "code",
        "colab": {
          "base_uri": "https://localhost:8080/",
          "height": 362
        },
        "outputId": "a5298d9a-059f-4aab-c801-fd4e66963ce7"
      },
      "source": [
        "\n",
        "split_folders.ratio('./LGGperclass', output='./output', seed=446, ratio=(.6, .4))"
      ],
      "execution_count": 37,
      "outputs": [
        {
          "output_type": "stream",
          "text": [
            "\n",
            "Copying files: 0 files [00:00, ? files/s]\u001b[A"
          ],
          "name": "stderr"
        },
        {
          "output_type": "error",
          "ename": "FileNotFoundError",
          "evalue": "ignored",
          "traceback": [
            "\u001b[0;31m---------------------------------------------------------------------------\u001b[0m",
            "\u001b[0;31mFileNotFoundError\u001b[0m                         Traceback (most recent call last)",
            "\u001b[0;32m<ipython-input-37-cea99a0876e3>\u001b[0m in \u001b[0;36m<module>\u001b[0;34m()\u001b[0m\n\u001b[1;32m      1\u001b[0m \u001b[0;34m\u001b[0m\u001b[0m\n\u001b[0;32m----> 2\u001b[0;31m \u001b[0msplit_folders\u001b[0m\u001b[0;34m.\u001b[0m\u001b[0mratio\u001b[0m\u001b[0;34m(\u001b[0m\u001b[0;34m'./LGGperclass'\u001b[0m\u001b[0;34m,\u001b[0m \u001b[0moutput\u001b[0m\u001b[0;34m=\u001b[0m\u001b[0;34m'./output'\u001b[0m\u001b[0;34m,\u001b[0m \u001b[0mseed\u001b[0m\u001b[0;34m=\u001b[0m\u001b[0;36m446\u001b[0m\u001b[0;34m,\u001b[0m \u001b[0mratio\u001b[0m\u001b[0;34m=\u001b[0m\u001b[0;34m(\u001b[0m\u001b[0;36m.6\u001b[0m\u001b[0;34m,\u001b[0m \u001b[0;36m.4\u001b[0m\u001b[0;34m)\u001b[0m\u001b[0;34m)\u001b[0m\u001b[0;34m\u001b[0m\u001b[0;34m\u001b[0m\u001b[0m\n\u001b[0m",
            "\u001b[0;32m/usr/local/lib/python3.6/dist-packages/split_folders/split.py\u001b[0m in \u001b[0;36mratio\u001b[0;34m(input, output, seed, ratio)\u001b[0m\n\u001b[1;32m     70\u001b[0m         \u001b[0mprog_bar\u001b[0m \u001b[0;34m=\u001b[0m \u001b[0mtqdm\u001b[0m\u001b[0;34m(\u001b[0m\u001b[0mdesc\u001b[0m\u001b[0;34m=\u001b[0m\u001b[0;34mf\"Copying files\"\u001b[0m\u001b[0;34m,\u001b[0m \u001b[0munit\u001b[0m\u001b[0;34m=\u001b[0m\u001b[0;34m\" files\"\u001b[0m\u001b[0;34m)\u001b[0m\u001b[0;34m\u001b[0m\u001b[0;34m\u001b[0m\u001b[0m\n\u001b[1;32m     71\u001b[0m \u001b[0;34m\u001b[0m\u001b[0m\n\u001b[0;32m---> 72\u001b[0;31m     \u001b[0;32mfor\u001b[0m \u001b[0mclass_dir\u001b[0m \u001b[0;32min\u001b[0m \u001b[0mlist_dirs\u001b[0m\u001b[0;34m(\u001b[0m\u001b[0minput\u001b[0m\u001b[0;34m)\u001b[0m\u001b[0;34m:\u001b[0m\u001b[0;34m\u001b[0m\u001b[0;34m\u001b[0m\u001b[0m\n\u001b[0m\u001b[1;32m     73\u001b[0m         split_class_dir_ratio(\n\u001b[1;32m     74\u001b[0m             \u001b[0mclass_dir\u001b[0m\u001b[0;34m,\u001b[0m \u001b[0moutput\u001b[0m\u001b[0;34m,\u001b[0m \u001b[0mratio\u001b[0m\u001b[0;34m,\u001b[0m \u001b[0mseed\u001b[0m\u001b[0;34m,\u001b[0m \u001b[0mprog_bar\u001b[0m \u001b[0;32mif\u001b[0m \u001b[0mtqdm_is_installed\u001b[0m \u001b[0;32melse\u001b[0m \u001b[0;32mNone\u001b[0m\u001b[0;34m\u001b[0m\u001b[0;34m\u001b[0m\u001b[0m\n",
            "\u001b[0;32m/usr/local/lib/python3.6/dist-packages/split_folders/split.py\u001b[0m in \u001b[0;36mlist_dirs\u001b[0;34m(directory)\u001b[0m\n\u001b[1;32m     49\u001b[0m     \"\"\"Returns all directories in a given directory\n\u001b[1;32m     50\u001b[0m     \"\"\"\n\u001b[0;32m---> 51\u001b[0;31m     \u001b[0;32mreturn\u001b[0m \u001b[0;34m[\u001b[0m\u001b[0mf\u001b[0m \u001b[0;32mfor\u001b[0m \u001b[0mf\u001b[0m \u001b[0;32min\u001b[0m \u001b[0mpathlib\u001b[0m\u001b[0;34m.\u001b[0m\u001b[0mPath\u001b[0m\u001b[0;34m(\u001b[0m\u001b[0mdirectory\u001b[0m\u001b[0;34m)\u001b[0m\u001b[0;34m.\u001b[0m\u001b[0miterdir\u001b[0m\u001b[0;34m(\u001b[0m\u001b[0;34m)\u001b[0m \u001b[0;32mif\u001b[0m \u001b[0mf\u001b[0m\u001b[0;34m.\u001b[0m\u001b[0mis_dir\u001b[0m\u001b[0;34m(\u001b[0m\u001b[0;34m)\u001b[0m\u001b[0;34m]\u001b[0m\u001b[0;34m\u001b[0m\u001b[0;34m\u001b[0m\u001b[0m\n\u001b[0m\u001b[1;32m     52\u001b[0m \u001b[0;34m\u001b[0m\u001b[0m\n\u001b[1;32m     53\u001b[0m \u001b[0;34m\u001b[0m\u001b[0m\n",
            "\u001b[0;32m/usr/local/lib/python3.6/dist-packages/split_folders/split.py\u001b[0m in \u001b[0;36m<listcomp>\u001b[0;34m(.0)\u001b[0m\n\u001b[1;32m     49\u001b[0m     \"\"\"Returns all directories in a given directory\n\u001b[1;32m     50\u001b[0m     \"\"\"\n\u001b[0;32m---> 51\u001b[0;31m     \u001b[0;32mreturn\u001b[0m \u001b[0;34m[\u001b[0m\u001b[0mf\u001b[0m \u001b[0;32mfor\u001b[0m \u001b[0mf\u001b[0m \u001b[0;32min\u001b[0m \u001b[0mpathlib\u001b[0m\u001b[0;34m.\u001b[0m\u001b[0mPath\u001b[0m\u001b[0;34m(\u001b[0m\u001b[0mdirectory\u001b[0m\u001b[0;34m)\u001b[0m\u001b[0;34m.\u001b[0m\u001b[0miterdir\u001b[0m\u001b[0;34m(\u001b[0m\u001b[0;34m)\u001b[0m \u001b[0;32mif\u001b[0m \u001b[0mf\u001b[0m\u001b[0;34m.\u001b[0m\u001b[0mis_dir\u001b[0m\u001b[0;34m(\u001b[0m\u001b[0;34m)\u001b[0m\u001b[0;34m]\u001b[0m\u001b[0;34m\u001b[0m\u001b[0;34m\u001b[0m\u001b[0m\n\u001b[0m\u001b[1;32m     52\u001b[0m \u001b[0;34m\u001b[0m\u001b[0m\n\u001b[1;32m     53\u001b[0m \u001b[0;34m\u001b[0m\u001b[0m\n",
            "\u001b[0;32m/usr/lib/python3.6/pathlib.py\u001b[0m in \u001b[0;36miterdir\u001b[0;34m(self)\u001b[0m\n\u001b[1;32m   1079\u001b[0m         \u001b[0;32mif\u001b[0m \u001b[0mself\u001b[0m\u001b[0;34m.\u001b[0m\u001b[0m_closed\u001b[0m\u001b[0;34m:\u001b[0m\u001b[0;34m\u001b[0m\u001b[0;34m\u001b[0m\u001b[0m\n\u001b[1;32m   1080\u001b[0m             \u001b[0mself\u001b[0m\u001b[0;34m.\u001b[0m\u001b[0m_raise_closed\u001b[0m\u001b[0;34m(\u001b[0m\u001b[0;34m)\u001b[0m\u001b[0;34m\u001b[0m\u001b[0;34m\u001b[0m\u001b[0m\n\u001b[0;32m-> 1081\u001b[0;31m         \u001b[0;32mfor\u001b[0m \u001b[0mname\u001b[0m \u001b[0;32min\u001b[0m \u001b[0mself\u001b[0m\u001b[0;34m.\u001b[0m\u001b[0m_accessor\u001b[0m\u001b[0;34m.\u001b[0m\u001b[0mlistdir\u001b[0m\u001b[0;34m(\u001b[0m\u001b[0mself\u001b[0m\u001b[0;34m)\u001b[0m\u001b[0;34m:\u001b[0m\u001b[0;34m\u001b[0m\u001b[0;34m\u001b[0m\u001b[0m\n\u001b[0m\u001b[1;32m   1082\u001b[0m             \u001b[0;32mif\u001b[0m \u001b[0mname\u001b[0m \u001b[0;32min\u001b[0m \u001b[0;34m{\u001b[0m\u001b[0;34m'.'\u001b[0m\u001b[0;34m,\u001b[0m \u001b[0;34m'..'\u001b[0m\u001b[0;34m}\u001b[0m\u001b[0;34m:\u001b[0m\u001b[0;34m\u001b[0m\u001b[0;34m\u001b[0m\u001b[0m\n\u001b[1;32m   1083\u001b[0m                 \u001b[0;31m# Yielding a path object for these makes little sense\u001b[0m\u001b[0;34m\u001b[0m\u001b[0;34m\u001b[0m\u001b[0;34m\u001b[0m\u001b[0m\n",
            "\u001b[0;32m/usr/lib/python3.6/pathlib.py\u001b[0m in \u001b[0;36mwrapped\u001b[0;34m(pathobj, *args)\u001b[0m\n\u001b[1;32m    385\u001b[0m         \u001b[0;34m@\u001b[0m\u001b[0mfunctools\u001b[0m\u001b[0;34m.\u001b[0m\u001b[0mwraps\u001b[0m\u001b[0;34m(\u001b[0m\u001b[0mstrfunc\u001b[0m\u001b[0;34m)\u001b[0m\u001b[0;34m\u001b[0m\u001b[0;34m\u001b[0m\u001b[0m\n\u001b[1;32m    386\u001b[0m         \u001b[0;32mdef\u001b[0m \u001b[0mwrapped\u001b[0m\u001b[0;34m(\u001b[0m\u001b[0mpathobj\u001b[0m\u001b[0;34m,\u001b[0m \u001b[0;34m*\u001b[0m\u001b[0margs\u001b[0m\u001b[0;34m)\u001b[0m\u001b[0;34m:\u001b[0m\u001b[0;34m\u001b[0m\u001b[0;34m\u001b[0m\u001b[0m\n\u001b[0;32m--> 387\u001b[0;31m             \u001b[0;32mreturn\u001b[0m \u001b[0mstrfunc\u001b[0m\u001b[0;34m(\u001b[0m\u001b[0mstr\u001b[0m\u001b[0;34m(\u001b[0m\u001b[0mpathobj\u001b[0m\u001b[0;34m)\u001b[0m\u001b[0;34m,\u001b[0m \u001b[0;34m*\u001b[0m\u001b[0margs\u001b[0m\u001b[0;34m)\u001b[0m\u001b[0;34m\u001b[0m\u001b[0;34m\u001b[0m\u001b[0m\n\u001b[0m\u001b[1;32m    388\u001b[0m         \u001b[0;32mreturn\u001b[0m \u001b[0mstaticmethod\u001b[0m\u001b[0;34m(\u001b[0m\u001b[0mwrapped\u001b[0m\u001b[0;34m)\u001b[0m\u001b[0;34m\u001b[0m\u001b[0;34m\u001b[0m\u001b[0m\n\u001b[1;32m    389\u001b[0m \u001b[0;34m\u001b[0m\u001b[0m\n",
            "\u001b[0;31mFileNotFoundError\u001b[0m: [Errno 2] No such file or directory: 'LGGperclass'"
          ]
        }
      ]
    },
    {
      "cell_type": "code",
      "metadata": {
        "id": "GC1Uh6W9ie31",
        "colab_type": "code",
        "colab": {}
      },
      "source": [
        ""
      ],
      "execution_count": 0,
      "outputs": []
    },
    {
      "cell_type": "code",
      "metadata": {
        "id": "HCzjZCcnie07",
        "colab_type": "code",
        "colab": {}
      },
      "source": [
        ""
      ],
      "execution_count": 0,
      "outputs": []
    },
    {
      "cell_type": "code",
      "metadata": {
        "id": "5iQuQDuwieyE",
        "colab_type": "code",
        "colab": {}
      },
      "source": [
        ""
      ],
      "execution_count": 0,
      "outputs": []
    },
    {
      "cell_type": "code",
      "metadata": {
        "id": "OPuqXkncieuB",
        "colab_type": "code",
        "colab": {}
      },
      "source": [
        ""
      ],
      "execution_count": 0,
      "outputs": []
    },
    {
      "cell_type": "code",
      "metadata": {
        "id": "HYIVtpvhiekg",
        "colab_type": "code",
        "colab": {}
      },
      "source": [
        ""
      ],
      "execution_count": 0,
      "outputs": []
    }
  ]
}