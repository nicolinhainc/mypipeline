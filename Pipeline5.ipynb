{
  "nbformat": 4,
  "nbformat_minor": 0,
  "metadata": {
    "colab": {
      "name": "Pipeline3.ipynb",
      "provenance": [],
      "authorship_tag": "ABX9TyPk3q6mkgvsD92FvHcnhIX0",
      "include_colab_link": true
    },
    "kernelspec": {
      "name": "python3",
      "display_name": "Python 3"
    }
  },
  "cells": [
    {
      "cell_type": "markdown",
      "metadata": {
        "id": "view-in-github",
        "colab_type": "text"
      },
      "source": [
        "<a href=\"https://colab.research.google.com/github/nicolinhainc/mypipeline/blob/master/Pipeline5.ipynb\" target=\"_parent\"><img src=\"https://colab.research.google.com/assets/colab-badge.svg\" alt=\"Open In Colab\"/></a>"
      ]
    },
    {
      "cell_type": "code",
      "metadata": {
        "id": "OD3fnUQGiSaQ",
        "colab_type": "code",
        "outputId": "2de0b2c2-006a-4f93-e3bd-2fc7ee3efff1",
        "colab": {
          "base_uri": "https://localhost:8080/",
          "height": 34
        }
      },
      "source": [
        "%pwd  "
      ],
      "execution_count": 1,
      "outputs": [
        {
          "output_type": "execute_result",
          "data": {
            "text/plain": [
              "'/content'"
            ]
          },
          "metadata": {
            "tags": []
          },
          "execution_count": 1
        }
      ]
    },
    {
      "cell_type": "code",
      "metadata": {
        "id": "NiBkzlnNifj7",
        "colab_type": "code",
        "outputId": "f140fda0-7cea-4e6a-f0a7-11cc10a12c08",
        "colab": {
          "base_uri": "https://localhost:8080/",
          "height": 34
        }
      },
      "source": [
        "%cd '/content'"
      ],
      "execution_count": 2,
      "outputs": [
        {
          "output_type": "stream",
          "text": [
            "/content\n"
          ],
          "name": "stdout"
        }
      ]
    },
    {
      "cell_type": "code",
      "metadata": {
        "id": "cWKczacPifgd",
        "colab_type": "code",
        "outputId": "778859bf-a9b3-44dc-dadc-f55d13f2cf32",
        "colab": {
          "base_uri": "https://localhost:8080/",
          "height": 350
        }
      },
      "source": [
        "!wget --no-check-certificate 'https://drive.google.com/uc?export=download&id=1XdwGEqKXeKH1NRhZXxCZo5T8mncwYHCC' -O ./Bet-n-dcm2nii.zip\n",
        "!unzip -q ./Bet-n-dcm2nii.zip\n",
        "!rm -rf images"
      ],
      "execution_count": 3,
      "outputs": [
        {
          "output_type": "stream",
          "text": [
            "--2020-04-05 14:45:25--  https://drive.google.com/uc?export=download&id=1XdwGEqKXeKH1NRhZXxCZo5T8mncwYHCC\n",
            "Resolving drive.google.com (drive.google.com)... 172.217.193.102, 172.217.193.113, 172.217.193.139, ...\n",
            "Connecting to drive.google.com (drive.google.com)|172.217.193.102|:443... connected.\n",
            "HTTP request sent, awaiting response... 302 Moved Temporarily\n",
            "Location: https://doc-0k-60-docs.googleusercontent.com/docs/securesc/ha0ro937gcuc7l7deffksulhg5h7mbp1/9cqknq4rpccgoq2f91omluc47oop8uj0/1586097900000/07380574639032097336/*/1XdwGEqKXeKH1NRhZXxCZo5T8mncwYHCC?e=download [following]\n",
            "Warning: wildcards not supported in HTTP.\n",
            "--2020-04-05 14:45:35--  https://doc-0k-60-docs.googleusercontent.com/docs/securesc/ha0ro937gcuc7l7deffksulhg5h7mbp1/9cqknq4rpccgoq2f91omluc47oop8uj0/1586097900000/07380574639032097336/*/1XdwGEqKXeKH1NRhZXxCZo5T8mncwYHCC?e=download\n",
            "Resolving doc-0k-60-docs.googleusercontent.com (doc-0k-60-docs.googleusercontent.com)... 173.194.213.132, 2607:f8b0:400c:c0a::84\n",
            "Connecting to doc-0k-60-docs.googleusercontent.com (doc-0k-60-docs.googleusercontent.com)|173.194.213.132|:443... connected.\n",
            "HTTP request sent, awaiting response... 200 OK\n",
            "Length: unspecified [application/zip]\n",
            "Saving to: ‘./Bet-n-dcm2nii.zip’\n",
            "\n",
            "./Bet-n-dcm2nii.zip     [ <=>                ]  12.52M  --.-KB/s    in 0.1s    \n",
            "\n",
            "2020-04-05 14:45:36 (96.3 MB/s) - ‘./Bet-n-dcm2nii.zip’ saved [13126916]\n",
            "\n",
            "replace dcm2nii? [y]es, [n]o, [A]ll, [N]one, [r]ename: A\n"
          ],
          "name": "stdout"
        }
      ]
    },
    {
      "cell_type": "code",
      "metadata": {
        "id": "jwGvEZAIifeR",
        "colab_type": "code",
        "colab": {}
      },
      "source": [
        "# upload the LGG zip file yourself as the link to google drive wasnt working"
      ],
      "execution_count": 0,
      "outputs": []
    },
    {
      "cell_type": "code",
      "metadata": {
        "id": "y3a3PV9JifY8",
        "colab_type": "code",
        "outputId": "3356993c-4e83-48fe-c626-23a8fad38f8b",
        "colab": {
          "base_uri": "https://localhost:8080/",
          "height": 34
        }
      },
      "source": [
        "!unzip -q ./LGG.zip\n",
        "!rm -rf ./_MACOSX\n",
        "!rm -rf *.DS_Store\n",
        "!rm -rf ./LGG/.DS_Store\n",
        "!rm -rf ./LGG/class1/.DS_Store\n",
        "!rm -rf ./LGG/class2/.DS_Store"
      ],
      "execution_count": 5,
      "outputs": [
        {
          "output_type": "stream",
          "text": [
            "replace __MACOSX/LGG/._.DS_Store? [y]es, [n]o, [A]ll, [N]one, [r]ename: A\n"
          ],
          "name": "stdout"
        }
      ]
    },
    {
      "cell_type": "code",
      "metadata": {
        "id": "fqv8_CSbifVx",
        "colab_type": "code",
        "outputId": "6bb0cd44-85ae-4366-90fa-1c0aa9efb5ce",
        "colab": {
          "base_uri": "https://localhost:8080/",
          "height": 350
        }
      },
      "source": [
        "!wget --no-check-certificate 'https://drive.google.com/uc?export=download&id=1uBQdQIYcA_ACqycw8ofDzD-1G9YwZaRw' -O ./icbm152t2.zip\n",
        "!unzip -q ./icbm152t2.zip"
      ],
      "execution_count": 6,
      "outputs": [
        {
          "output_type": "stream",
          "text": [
            "--2020-04-05 15:11:07--  https://drive.google.com/uc?export=download&id=1uBQdQIYcA_ACqycw8ofDzD-1G9YwZaRw\n",
            "Resolving drive.google.com (drive.google.com)... 172.217.193.100, 172.217.193.113, 172.217.193.102, ...\n",
            "Connecting to drive.google.com (drive.google.com)|172.217.193.100|:443... connected.\n",
            "HTTP request sent, awaiting response... 302 Moved Temporarily\n",
            "Location: https://doc-0k-60-docs.googleusercontent.com/docs/securesc/ha0ro937gcuc7l7deffksulhg5h7mbp1/om5gd6puts9a6pc3lpamflqijsb39v61/1586099400000/07380574639032097336/*/1uBQdQIYcA_ACqycw8ofDzD-1G9YwZaRw?e=download [following]\n",
            "Warning: wildcards not supported in HTTP.\n",
            "--2020-04-05 15:11:08--  https://doc-0k-60-docs.googleusercontent.com/docs/securesc/ha0ro937gcuc7l7deffksulhg5h7mbp1/om5gd6puts9a6pc3lpamflqijsb39v61/1586099400000/07380574639032097336/*/1uBQdQIYcA_ACqycw8ofDzD-1G9YwZaRw?e=download\n",
            "Resolving doc-0k-60-docs.googleusercontent.com (doc-0k-60-docs.googleusercontent.com)... 173.194.213.132, 2607:f8b0:400c:c0a::84\n",
            "Connecting to doc-0k-60-docs.googleusercontent.com (doc-0k-60-docs.googleusercontent.com)|173.194.213.132|:443... connected.\n",
            "HTTP request sent, awaiting response... 200 OK\n",
            "Length: unspecified [application/zip]\n",
            "Saving to: ‘./icbm152t2.zip’\n",
            "\n",
            "./icbm152t2.zip         [ <=>                ]  12.92M  --.-KB/s    in 0.1s    \n",
            "\n",
            "2020-04-05 15:11:09 (121 MB/s) - ‘./icbm152t2.zip’ saved [13550902]\n",
            "\n",
            "replace icbm_avg_152_t2_tal_lin.nii? [y]es, [n]o, [A]ll, [N]one, [r]ename: A\n"
          ],
          "name": "stdout"
        }
      ]
    },
    {
      "cell_type": "code",
      "metadata": {
        "id": "20qqIk8difTI",
        "colab_type": "code",
        "colab": {}
      },
      "source": [
        "NIFTI_PATH = './LGG/class1'"
      ],
      "execution_count": 0,
      "outputs": []
    },
    {
      "cell_type": "code",
      "metadata": {
        "id": "h3BewtvrifQS",
        "colab_type": "code",
        "colab": {}
      },
      "source": [
        "import os, fnmatch"
      ],
      "execution_count": 0,
      "outputs": []
    },
    {
      "cell_type": "code",
      "metadata": {
        "id": "zzmthqc5ifNW",
        "colab_type": "code",
        "colab": {}
      },
      "source": [
        "os.environ['FSLOUTPUTTYPE'] = 'NIFTI_GZ'"
      ],
      "execution_count": 0,
      "outputs": []
    },
    {
      "cell_type": "code",
      "metadata": {
        "id": "mVXVKzU4ifK0",
        "colab_type": "code",
        "outputId": "ed10a624-1778-49b1-9e2d-bc1f8ccbdd73",
        "colab": {
          "base_uri": "https://localhost:8080/",
          "height": 191
        }
      },
      "source": [
        "for subj in os.listdir(NIFTI_PATH):\n",
        "    subj_path = os.path.join(NIFTI_PATH, subj)\n",
        "    print (\"Working on \" + subj_path)\n",
        "    series = fnmatch.filter(os.listdir(subj_path), '*.nii.gz')\n",
        "    for ser in ['T2*']: #not sure why I had to add the star here but this was the only way it worked\n",
        "        nii_file = os.path.join (subj_path, ser)\n",
        "# First, perform N4 bias correction. Not required, but may improve results. Also must track new names\n",
        "        new_file = os.path.join (subj_path, 'N4-' + ser)\n",
        "        cmd = \"./N4BiasFieldCorrection -i %s.nii.gz -o %s.nii.gz\" % (nii_file, new_file)\n",
        "        os.system(cmd)\n",
        "        print (cmd)"
      ],
      "execution_count": 10,
      "outputs": [
        {
          "output_type": "stream",
          "text": [
            "Working on ./LGG/class1/Patient4\n",
            "./N4BiasFieldCorrection -i ./LGG/class1/Patient4/T2*.nii.gz -o ./LGG/class1/Patient4/N4-T2*.nii.gz\n",
            "Working on ./LGG/class1/Patient3\n",
            "./N4BiasFieldCorrection -i ./LGG/class1/Patient3/T2*.nii.gz -o ./LGG/class1/Patient3/N4-T2*.nii.gz\n",
            "Working on ./LGG/class1/Patient5\n",
            "./N4BiasFieldCorrection -i ./LGG/class1/Patient5/T2*.nii.gz -o ./LGG/class1/Patient5/N4-T2*.nii.gz\n",
            "Working on ./LGG/class1/Patient2\n",
            "./N4BiasFieldCorrection -i ./LGG/class1/Patient2/T2*.nii.gz -o ./LGG/class1/Patient2/N4-T2*.nii.gz\n",
            "Working on ./LGG/class1/Patient1\n",
            "./N4BiasFieldCorrection -i ./LGG/class1/Patient1/T2*.nii.gz -o ./LGG/class1/Patient1/N4-T2*.nii.gz\n"
          ],
          "name": "stdout"
        }
      ]
    },
    {
      "cell_type": "code",
      "metadata": {
        "id": "xMf-kqTEx5B_",
        "colab_type": "code",
        "colab": {
          "base_uri": "https://localhost:8080/",
          "height": 191
        },
        "outputId": "32cfe055-1f7a-493b-a61b-1aa35e58b9be"
      },
      "source": [
        "for subj in os.listdir(NIFTI_PATH):\n",
        "    subj_path = os.path.join(NIFTI_PATH, subj)\n",
        "    print (\"Working on \" + subj_path)\n",
        "    series = fnmatch.filter(os.listdir(subj_path), '*.nii.gz')\n",
        "    for ser in ['T2.nii.gz']: #not sure why I had to add the star here but this was the only way it worked\n",
        "        nii_file = os.path.join (subj_path, ser)\n",
        "# removes old files\n",
        "        \n",
        "        cmd = os.remove(nii_file)\n",
        "        \n",
        "        print (cmd)"
      ],
      "execution_count": 11,
      "outputs": [
        {
          "output_type": "stream",
          "text": [
            "Working on ./LGG/class1/Patient4\n",
            "None\n",
            "Working on ./LGG/class1/Patient3\n",
            "None\n",
            "Working on ./LGG/class1/Patient5\n",
            "None\n",
            "Working on ./LGG/class1/Patient2\n",
            "None\n",
            "Working on ./LGG/class1/Patient1\n",
            "None\n"
          ],
          "name": "stdout"
        }
      ]
    },
    {
      "cell_type": "markdown",
      "metadata": {
        "id": "aLmqNkVvkMjH",
        "colab_type": "text"
      },
      "source": [
        ""
      ]
    },
    {
      "cell_type": "code",
      "metadata": {
        "id": "ifEYCCSdifFL",
        "colab_type": "code",
        "colab": {
          "base_uri": "https://localhost:8080/",
          "height": 211
        },
        "outputId": "968d2d54-ddd6-4a78-ec87-20f89630e71d"
      },
      "source": [
        "# Next, Register the images to the avg 152 t2 image from MNI\n",
        "for subj in os.listdir(NIFTI_PATH):\n",
        "    subj_path = os.path.join(NIFTI_PATH, subj)\n",
        "    print (\"Working on \" + subj_path)\n",
        "    series = fnmatch.filter(os.listdir(subj_path), 'N4-*')\n",
        "    for ser in ['T2']:   \n",
        "        MNI_file = './icbm_avg_152_t2_tal_lin.nii'\n",
        "        T2_file =  os.path.join (subj_path, 'N4-T2*.nii.gz')\n",
        "        new_file = os.path.join (subj_path, 'Reg-N4-T2.nii.gz')\n",
        "        cmd = \"./flirt -in %s -ref %s  -out %s\" % (T2_file, MNI_file, new_file)\n",
        "        os.system(cmd)\n",
        "        print (cmd)\n",
        "\n"
      ],
      "execution_count": 12,
      "outputs": [
        {
          "output_type": "stream",
          "text": [
            "Working on ./LGG/class1/Patient4\n",
            "./flirt -in ./LGG/class1/Patient4/N4-T2*.nii.gz -ref ./icbm_avg_152_t2_tal_lin.nii  -out ./LGG/class1/Patient4/Reg-N4-T2.nii.gz\n",
            "Working on ./LGG/class1/Patient3\n",
            "./flirt -in ./LGG/class1/Patient3/N4-T2*.nii.gz -ref ./icbm_avg_152_t2_tal_lin.nii  -out ./LGG/class1/Patient3/Reg-N4-T2.nii.gz\n",
            "Working on ./LGG/class1/Patient5\n",
            "./flirt -in ./LGG/class1/Patient5/N4-T2*.nii.gz -ref ./icbm_avg_152_t2_tal_lin.nii  -out ./LGG/class1/Patient5/Reg-N4-T2.nii.gz\n",
            "Working on ./LGG/class1/Patient2\n",
            "./flirt -in ./LGG/class1/Patient2/N4-T2*.nii.gz -ref ./icbm_avg_152_t2_tal_lin.nii  -out ./LGG/class1/Patient2/Reg-N4-T2.nii.gz\n",
            "Working on ./LGG/class1/Patient1\n",
            "./flirt -in ./LGG/class1/Patient1/N4-T2*.nii.gz -ref ./icbm_avg_152_t2_tal_lin.nii  -out ./LGG/class1/Patient1/Reg-N4-T2.nii.gz\n"
          ],
          "name": "stdout"
        }
      ]
    },
    {
      "cell_type": "code",
      "metadata": {
        "id": "6auR69KF6Z2D",
        "colab_type": "code",
        "colab": {
          "base_uri": "https://localhost:8080/",
          "height": 191
        },
        "outputId": "cd338f53-0808-4a39-db15-3391891e59e4"
      },
      "source": [
        "# Next, remove the unnegistered N4-T2 files",
        "for subj in os.listdir(NIFTI_PATH):\n",
        "    subj_path = os.path.join(NIFTI_PATH, subj)\n",
        "    print (\"Working on \" + subj_path)\n",
        "    series = fnmatch.filter(os.listdir(subj_path), 'N4-*')\n",
        "    for ser in ['T2']:   \n",
        "        MNI_file = './icbm_avg_152_t2_tal_lin.nii'\n",
        "        T2_file =  os.path.join (subj_path, 'N4-T2*.nii.gz')\n",
        "        new_file = os.path.join (subj_path, 'Reg-N4-T2.nii.gz')\n",
        "        cmd = os.remove(T2_file)\n",
        "        \n",
        "        print (cmd)"
      ],
      "execution_count": 13,
      "outputs": [
        {
          "output_type": "stream",
          "text": [
            "Working on ./LGG/class1/Patient4\n",
            "None\n",
            "Working on ./LGG/class1/Patient3\n",
            "None\n",
            "Working on ./LGG/class1/Patient5\n",
            "None\n",
            "Working on ./LGG/class1/Patient2\n",
            "None\n",
            "Working on ./LGG/class1/Patient1\n",
            "None\n"
          ],
          "name": "stdout"
        }
      ]
    },
    {
      "cell_type": "code",
      "metadata": {
        "id": "EeHtpkFWifAF",
        "colab_type": "code",
        "colab": {}
      },
      "source": [
        "#then test the split directory function below. It didnt separate randomly last time so lets see what it does now"
      ],
      "execution_count": 0,
      "outputs": []
    },
    {
      "cell_type": "code",
      "metadata": {
        "id": "aLrgC_NEie9F",
        "colab_type": "code",
        "colab": {}
      },
      "source": [
        "!pip install split-folders\n",
        "!pip install split-folders tqdm\n"
      ],
      "execution_count": 0,
      "outputs": []
    },
    {
      "cell_type": "code",
      "metadata": {
        "id": "aN4VWZOyie6Y",
        "colab_type": "code",
        "colab": {}
      },
      "source": [
        "import split_folders\n",
        "split_folders.ratio('./LGG', output='./output', seed=1337, ratio=(.8, .2))"
      ],
      "execution_count": 0,
      "outputs": []
    },
    {
      "cell_type": "code",
      "metadata": {
        "id": "GC1Uh6W9ie31",
        "colab_type": "code",
        "colab": {}
      },
      "source": [
        ""
      ],
      "execution_count": 0,
      "outputs": []
    },
    {
      "cell_type": "code",
      "metadata": {
        "id": "HCzjZCcnie07",
        "colab_type": "code",
        "colab": {}
      },
      "source": [
        ""
      ],
      "execution_count": 0,
      "outputs": []
    },
    {
      "cell_type": "code",
      "metadata": {
        "id": "5iQuQDuwieyE",
        "colab_type": "code",
        "colab": {}
      },
      "source": [
        ""
      ],
      "execution_count": 0,
      "outputs": []
    },
    {
      "cell_type": "code",
      "metadata": {
        "id": "OPuqXkncieuB",
        "colab_type": "code",
        "colab": {}
      },
      "source": [
        ""
      ],
      "execution_count": 0,
      "outputs": []
    },
    {
      "cell_type": "code",
      "metadata": {
        "id": "HYIVtpvhiekg",
        "colab_type": "code",
        "colab": {}
      },
      "source": [
        ""
      ],
      "execution_count": 0,
      "outputs": []
    }
  ]
}
