{
  "nbformat": 4,
  "nbformat_minor": 0,
  "metadata": {
    "colab": {
      "name": "Pipeline3.ipynb",
      "provenance": [],
      "authorship_tag": "ABX9TyM1A4B/9HJS17t8ZMxlCRgN",
      "include_colab_link": true
    },
    "kernelspec": {
      "name": "python3",
      "display_name": "Python 3"
    },
    "accelerator": "GPU"
  },
  "cells": [
    {
      "cell_type": "markdown",
      "metadata": {
        "id": "view-in-github",
        "colab_type": "text"
      },
      "source": [
        "<a href=\"https://colab.research.google.com/github/nicolinhainc/mypipeline/blob/master/Sept13pipelineIDH.ipynb\" target=\"_parent\"><img src=\"https://colab.research.google.com/assets/colab-badge.svg\" alt=\"Open In Colab\"/></a>"
      ]
    },
    {
      "cell_type": "code",
      "metadata": {
        "id": "OD3fnUQGiSaQ",
        "colab_type": "code",
        "colab": {
          "base_uri": "https://localhost:8080/",
          "height": 35
        },
        "outputId": "3c16594b-4fbc-4dda-a02f-429625788c1d"
      },
      "source": [
        "%pwd  "
      ],
      "execution_count": 1,
      "outputs": [
        {
          "output_type": "execute_result",
          "data": {
            "application/vnd.google.colaboratory.intrinsic+json": {
              "type": "string"
            },
            "text/plain": [
              "'/content'"
            ]
          },
          "metadata": {
            "tags": []
          },
          "execution_count": 1
        }
      ]
    },
    {
      "cell_type": "code",
      "metadata": {
        "id": "NiBkzlnNifj7",
        "colab_type": "code",
        "colab": {
          "base_uri": "https://localhost:8080/",
          "height": 34
        },
        "outputId": "41256856-8e6c-415e-b947-23ce7a6a99e0"
      },
      "source": [
        "%cd '/content/'"
      ],
      "execution_count": 2,
      "outputs": [
        {
          "output_type": "stream",
          "text": [
            "/content\n"
          ],
          "name": "stdout"
        }
      ]
    },
    {
      "cell_type": "code",
      "metadata": {
        "id": "cWKczacPifgd",
        "colab_type": "code",
        "colab": {
          "base_uri": "https://localhost:8080/",
          "height": 326
        },
        "outputId": "a48350c1-975e-46eb-f374-815f4ce3a741"
      },
      "source": [
        "!wget --no-check-certificate 'https://drive.google.com/uc?export=download&id=1XdwGEqKXeKH1NRhZXxCZo5T8mncwYHCC' -O ./Bet-n-dcm2nii.zip\n",
        "!unzip -q ./Bet-n-dcm2nii.zip\n",
        "!rm -rf images"
      ],
      "execution_count": 3,
      "outputs": [
        {
          "output_type": "stream",
          "text": [
            "--2020-09-11 00:46:03--  https://drive.google.com/uc?export=download&id=1XdwGEqKXeKH1NRhZXxCZo5T8mncwYHCC\n",
            "Resolving drive.google.com (drive.google.com)... 173.194.197.100, 173.194.197.139, 173.194.197.101, ...\n",
            "Connecting to drive.google.com (drive.google.com)|173.194.197.100|:443... connected.\n",
            "HTTP request sent, awaiting response... 302 Moved Temporarily\n",
            "Location: https://doc-0k-60-docs.googleusercontent.com/docs/securesc/ha0ro937gcuc7l7deffksulhg5h7mbp1/iubovb7obod98glvtekhdha6v3vi69bi/1599785100000/07380574639032097336/*/1XdwGEqKXeKH1NRhZXxCZo5T8mncwYHCC?e=download [following]\n",
            "Warning: wildcards not supported in HTTP.\n",
            "--2020-09-11 00:46:13--  https://doc-0k-60-docs.googleusercontent.com/docs/securesc/ha0ro937gcuc7l7deffksulhg5h7mbp1/iubovb7obod98glvtekhdha6v3vi69bi/1599785100000/07380574639032097336/*/1XdwGEqKXeKH1NRhZXxCZo5T8mncwYHCC?e=download\n",
            "Resolving doc-0k-60-docs.googleusercontent.com (doc-0k-60-docs.googleusercontent.com)... 74.125.69.132, 2607:f8b0:4001:c08::84\n",
            "Connecting to doc-0k-60-docs.googleusercontent.com (doc-0k-60-docs.googleusercontent.com)|74.125.69.132|:443... connected.\n",
            "HTTP request sent, awaiting response... 200 OK\n",
            "Length: unspecified [application/zip]\n",
            "Saving to: ‘./Bet-n-dcm2nii.zip’\n",
            "\n",
            "./Bet-n-dcm2nii.zip     [ <=>                ]  12.52M  --.-KB/s    in 0.1s    \n",
            "\n",
            "2020-09-11 00:46:13 (109 MB/s) - ‘./Bet-n-dcm2nii.zip’ saved [13126916]\n",
            "\n"
          ],
          "name": "stdout"
        }
      ]
    },
    {
      "cell_type": "code",
      "metadata": {
        "id": "jwGvEZAIifeR",
        "colab_type": "code",
        "colab": {}
      },
      "source": [
        "# upload the zip file yourself "
      ],
      "execution_count": 4,
      "outputs": []
    },
    {
      "cell_type": "code",
      "metadata": {
        "id": "y3a3PV9JifY8",
        "colab_type": "code",
        "colab": {
          "base_uri": "https://localhost:8080/",
          "height": 34
        },
        "outputId": "944fbb00-a193-4e17-9415-76c114ad65c9"
      },
      "source": [
        "!unzip -q ./IDH.zip\n"
      ],
      "execution_count": 88,
      "outputs": [
        {
          "output_type": "stream",
          "text": [
            "replace __MACOSX/IDH/mut/._pat00002? [y]es, [n]o, [A]ll, [N]one, [r]ename: A\n"
          ],
          "name": "stdout"
        }
      ]
    },
    {
      "cell_type": "code",
      "metadata": {
        "id": "M96A31sGT2jk",
        "colab_type": "code",
        "colab": {}
      },
      "source": [
        "!rm -rf './IDH/wt/.DS_Store'\n",
        "!rm -rf './IDH/mut/.DS_Store'"
      ],
      "execution_count": 6,
      "outputs": []
    },
    {
      "cell_type": "code",
      "metadata": {
        "id": "fqv8_CSbifVx",
        "colab_type": "code",
        "colab": {
          "base_uri": "https://localhost:8080/",
          "height": 377
        },
        "outputId": "17d3c025-d02e-4466-9ac0-283d8c49cfc7"
      },
      "source": [
        "!wget --no-check-certificate 'https://www.dropbox.com/s/78omroebht50042/icbm_avg_152_t1_tal_lin.nii.zip?dl=1' -O ./icbm152t1.zip\n",
        "!unzip -q ./icbm152t1.zip"
      ],
      "execution_count": 7,
      "outputs": [
        {
          "output_type": "stream",
          "text": [
            "--2020-09-11 00:46:19--  https://www.dropbox.com/s/78omroebht50042/icbm_avg_152_t1_tal_lin.nii.zip?dl=1\n",
            "Resolving www.dropbox.com (www.dropbox.com)... 162.125.3.1, 2620:100:6018:1::a27d:301\n",
            "Connecting to www.dropbox.com (www.dropbox.com)|162.125.3.1|:443... connected.\n",
            "HTTP request sent, awaiting response... 301 Moved Permanently\n",
            "Location: /s/dl/78omroebht50042/icbm_avg_152_t1_tal_lin.nii.zip [following]\n",
            "--2020-09-11 00:46:19--  https://www.dropbox.com/s/dl/78omroebht50042/icbm_avg_152_t1_tal_lin.nii.zip\n",
            "Reusing existing connection to www.dropbox.com:443.\n",
            "HTTP request sent, awaiting response... 302 Found\n",
            "Location: https://uc69cdc9ebe52dda62c7147dc6d0.dl.dropboxusercontent.com/cd/0/get/A_LMZXKDyqpyoxMY1rzhme20xIfCKFWwoLvu3CPBWeyCsrt5xGEmrrblFrrTQLu6f-MSCndm9uJynna5HjZqa0l8kpw-j4pE_vPxhImF3yCTxvtSsLccXH6QIk805bzNNK0/file?dl=1# [following]\n",
            "--2020-09-11 00:46:19--  https://uc69cdc9ebe52dda62c7147dc6d0.dl.dropboxusercontent.com/cd/0/get/A_LMZXKDyqpyoxMY1rzhme20xIfCKFWwoLvu3CPBWeyCsrt5xGEmrrblFrrTQLu6f-MSCndm9uJynna5HjZqa0l8kpw-j4pE_vPxhImF3yCTxvtSsLccXH6QIk805bzNNK0/file?dl=1\n",
            "Resolving uc69cdc9ebe52dda62c7147dc6d0.dl.dropboxusercontent.com (uc69cdc9ebe52dda62c7147dc6d0.dl.dropboxusercontent.com)... 162.125.3.15, 2620:100:6018:15::a27d:30f\n",
            "Connecting to uc69cdc9ebe52dda62c7147dc6d0.dl.dropboxusercontent.com (uc69cdc9ebe52dda62c7147dc6d0.dl.dropboxusercontent.com)|162.125.3.15|:443... connected.\n",
            "HTTP request sent, awaiting response... 200 OK\n",
            "Length: 14475752 (14M) [application/binary]\n",
            "Saving to: ‘./icbm152t1.zip’\n",
            "\n",
            "./icbm152t1.zip     100%[===================>]  13.80M  80.5MB/s    in 0.2s    \n",
            "\n",
            "2020-09-11 00:46:20 (80.5 MB/s) - ‘./icbm152t1.zip’ saved [14475752/14475752]\n",
            "\n"
          ],
          "name": "stdout"
        }
      ]
    },
    {
      "cell_type": "code",
      "metadata": {
        "id": "20qqIk8difTI",
        "colab_type": "code",
        "colab": {}
      },
      "source": [
        "NIFTI_PATH = 'IDH/wt/'"
      ],
      "execution_count": 8,
      "outputs": []
    },
    {
      "cell_type": "code",
      "metadata": {
        "id": "j38us7CGZJGr",
        "colab_type": "code",
        "colab": {}
      },
      "source": [
        "import gzip\n",
        "import shutil\n",
        "import os\n",
        "import fnmatch"
      ],
      "execution_count": 9,
      "outputs": []
    },
    {
      "cell_type": "code",
      "metadata": {
        "id": "zzmthqc5ifNW",
        "colab_type": "code",
        "colab": {}
      },
      "source": [
        "os.environ['FSLOUTPUTTYPE'] = 'NIFTI_GZ'"
      ],
      "execution_count": 10,
      "outputs": []
    },
    {
      "cell_type": "code",
      "metadata": {
        "id": "__Sp2hRZrcEp",
        "colab_type": "code",
        "colab": {}
      },
      "source": [
        "\n",
        "!rm -rf './IDH/wt/._pat00001' \n",
        "!rm -rf './IDH/wt/._pat00002' \n",
        "!rm -rf './IDH/wt/._pat00003' \n",
        "!rm -rf './IDH/wt/._pat00004' \n",
        "!rm -rf './IDH/wt/._pat00005' \n",
        "!rm -rf './IDH/wt/._pat00006' \n",
        "!rm -rf './IDH/wt/._pat00007' \n",
        "!rm -rf './IDH/wt/._pat00008' \n",
        "!rm -rf './IDH/wt/._pat00009' \n",
        "!rm -rf './IDH/wt/._pat00010' \n",
        "!rm -rf './IDH/wt/._pat00011' \n",
        "!rm -rf './IDH/wt/._pat00012' \n",
        "!rm -rf './IDH/wt/._pat00013' \n",
        "!rm -rf './IDH/wt/._pat00014' \n",
        "!rm -rf './IDH/wt/._pat00015' \n",
        "!rm -rf './IDH/wt/._pat00016' \n",
        "!rm -rf './IDH/wt/._pat00017' \n",
        "!rm -rf './IDH/wt/._pat00018' \n",
        "!rm -rf './IDH/wt/._pat00019' \n",
        "!rm -rf './IDH/wt/._pat00020' \n",
        "!rm -rf './IDH/wt/._pat00021' \n",
        "!rm -rf './IDH/wt/._pat00022' \n",
        "!rm -rf './IDH/wt/._pat00023' \n",
        "!rm -rf './IDH/wt/._pat00024' \n",
        "!rm -rf './IDH/wt/._pat00025' \n",
        "!rm -rf './IDH/wt/._pat00026' \n",
        "!rm -rf './IDH/wt/._pat00027' \n",
        "!rm -rf './IDH/wt/._pat00028' \n",
        "!rm -rf './IDH/wt/._pat00029' \n",
        "!rm -rf './IDH/wt/._pat00030' \n",
        "!rm -rf './IDH/wt/._pat00031' \n",
        "!rm -rf './IDH/wt/._pat00032' \n",
        "!rm -rf './IDH/wt/._pat00033' \n",
        "!rm -rf './IDH/wt/._pat00034' \n",
        "!rm -rf './IDH/wt/._pat00035' \n",
        "!rm -rf './IDH/wt/._pat00036' \n",
        "!rm -rf './IDH/wt/._pat00037' \n",
        "!rm -rf './IDH/wt/._pat00038' \n",
        "!rm -rf './IDH/wt/._pat00039' \n",
        "!rm -rf './IDH/wt/._pat00040' \n",
        "!rm -rf './IDH/wt/._pat00041' \n",
        "!rm -rf './IDH/wt/._pat00042' \n",
        "!rm -rf './IDH/wt/._pat00043' \n",
        "!rm -rf './IDH/wt/._pat00044' \n",
        "!rm -rf './IDH/wt/._pat00045' \n",
        "!rm -rf './IDH/wt/._pat00046' \n",
        "!rm -rf './IDH/wt/._pat00047' \n",
        "!rm -rf './IDH/wt/._pat00048' \n",
        "!rm -rf './IDH/wt/._pat00049' \n",
        "!rm -rf './IDH/wt/._pat00050' \n",
        "!rm -rf './IDH/wt/._pat00051' \n",
        "!rm -rf './IDH/wt/._pat00052' \n",
        "!rm -rf './IDH/wt/._pat00053' \n",
        "!rm -rf './IDH/wt/._pat00054' \n",
        "!rm -rf './IDH/wt/._pat00055' \n",
        "!rm -rf './IDH/wt/._pat00056' \n",
        "!rm -rf './IDH/wt/._pat00057' \n",
        "!rm -rf './IDH/wt/._pat00058' \n",
        "!rm -rf './IDH/wt/._pat00059' \n",
        "!rm -rf './IDH/wt/._pat00060' \n",
        "!rm -rf './IDH/wt/._pat00061' \n",
        "!rm -rf './IDH/wt/._pat00062' \n",
        "!rm -rf './IDH/wt/._pat00063' \n",
        "!rm -rf './IDH/wt/._pat00064' \n",
        "!rm -rf './IDH/wt/._pat00065' \n",
        "!rm -rf './IDH/wt/._pat00066' \n",
        "!rm -rf './IDH/wt/._pat00067' \n",
        "!rm -rf './IDH/wt/._pat00068' \n",
        "!rm -rf './IDH/wt/._pat00069' \n",
        "!rm -rf './IDH/wt/._pat00070' \n",
        "!rm -rf './IDH/wt/._pat00071' \n",
        "!rm -rf './IDH/wt/._pat00072' \n",
        "!rm -rf './IDH/wt/._pat00073' \n",
        "!rm -rf './IDH/wt/._pat00074' \n",
        "!rm -rf './IDH/wt/._pat00075' \n",
        "!rm -rf './IDH/wt/._pat00076' \n",
        "!rm -rf './IDH/wt/._pat00077' \n",
        "!rm -rf './IDH/wt/._pat00078' \n",
        "!rm -rf './IDH/wt/._pat00079' \n",
        "!rm -rf './IDH/wt/._pat00080' \n",
        "!rm -rf './IDH/wt/._pat00081' \n",
        "!rm -rf './IDH/wt/._pat00082' \n",
        "!rm -rf './IDH/wt/._pat00083' \n",
        "!rm -rf './IDH/wt/._pat00084' \n",
        "!rm -rf './IDH/wt/._pat00085' \n",
        "!rm -rf './IDH/wt/._pat00086' \n",
        "!rm -rf './IDH/wt/._pat00087' \n",
        "!rm -rf './IDH/wt/._pat00088' \n",
        "!rm -rf './IDH/wt/._pat00089' \n",
        "!rm -rf './IDH/wt/._pat00090' \n",
        "!rm -rf './IDH/wt/._pat00091' \n",
        "!rm -rf './IDH/wt/._pat00092' \n",
        "!rm -rf './IDH/wt/._pat00093' \n",
        "!rm -rf './IDH/wt/._pat00094' \n",
        "!rm -rf './IDH/wt/._pat00095' \n",
        "!rm -rf './IDH/wt/._pat00096' \n",
        "!rm -rf './IDH/wt/._pat00097'\n"
      ],
      "execution_count": 11,
      "outputs": []
    },
    {
      "cell_type": "code",
      "metadata": {
        "id": "QyAyi8N4JE7N",
        "colab_type": "code",
        "colab": {}
      },
      "source": [
        "!rm -rf './IDH/mut/._pat00001' \n",
        "!rm -rf './IDH/mut/._pat00002' \n",
        "!rm -rf './IDH/mut/._pat00003' \n",
        "!rm -rf './IDH/mut/._pat00004' \n",
        "!rm -rf './IDH/mut/._pat00005' \n",
        "!rm -rf './IDH/mut/._pat00006' \n",
        "!rm -rf './IDH/mut/._pat00007' \n",
        "!rm -rf './IDH/mut/._pat00008' \n",
        "!rm -rf './IDH/mut/._pat00009' \n",
        "!rm -rf './IDH/mut/._pat00010' \n",
        "!rm -rf './IDH/mut/._pat00011' \n",
        "!rm -rf './IDH/mut/._pat00012' \n",
        "!rm -rf './IDH/mut/._pat00013' \n",
        "!rm -rf './IDH/mut/._pat00014' \n",
        "!rm -rf './IDH/mut/._pat00015' \n",
        "!rm -rf './IDH/mut/._pat00016' \n",
        "!rm -rf './IDH/mut/._pat00017' \n",
        "!rm -rf './IDH/mut/._pat00018' \n",
        "!rm -rf './IDH/mut/._pat00019' \n",
        "!rm -rf './IDH/mut/._pat00020' \n",
        "!rm -rf './IDH/mut/._pat00021' \n",
        "!rm -rf './IDH/mut/._pat00022' \n",
        "!rm -rf './IDH/mut/._pat00023' \n",
        "!rm -rf './IDH/mut/._pat00024' \n",
        "!rm -rf './IDH/mut/._pat00025' \n",
        "!rm -rf './IDH/mut/._pat00026' \n",
        "!rm -rf './IDH/mut/._pat00027' \n",
        "!rm -rf './IDH/mut/._pat00028' \n",
        "!rm -rf './IDH/mut/._pat00029' \n",
        "!rm -rf './IDH/mut/._pat00030' \n",
        "!rm -rf './IDH/mut/._pat00031' \n",
        "!rm -rf './IDH/mut/._pat00032' \n",
        "!rm -rf './IDH/mut/._pat00033' \n",
        "!rm -rf './IDH/mut/._pat00034' \n",
        "!rm -rf './IDH/mut/._pat00035' \n",
        "!rm -rf './IDH/mut/._pat00036' \n",
        "!rm -rf './IDH/mut/._pat00037' \n",
        "!rm -rf './IDH/mut/._pat00038' \n",
        "!rm -rf './IDH/mut/._pat00039' \n",
        "!rm -rf './IDH/mut/._pat00040' \n",
        "!rm -rf './IDH/mut/._pat00041' \n",
        "!rm -rf './IDH/mut/._pat00042' \n",
        "!rm -rf './IDH/mut/._pat00043' \n",
        "!rm -rf './IDH/mut/._pat00044' \n",
        "!rm -rf './IDH/mut/._pat00045' \n",
        "!rm -rf './IDH/mut/._pat00046' \n",
        "!rm -rf './IDH/mut/._pat00047' \n",
        "!rm -rf './IDH/mut/._pat00048' \n",
        "!rm -rf './IDH/mut/._pat00049' \n",
        "!rm -rf './IDH/mut/._pat00050' \n",
        "!rm -rf './IDH/mut/._pat00051' \n",
        "!rm -rf './IDH/mut/._pat00052' \n",
        "!rm -rf './IDH/mut/._pat00053' \n",
        "!rm -rf './IDH/mut/._pat00054' \n",
        "!rm -rf './IDH/mut/._pat00055' \n",
        "!rm -rf './IDH/mut/._pat00056' \n",
        "!rm -rf './IDH/mut/._pat00057' \n",
        "!rm -rf './IDH/mut/._pat00058' \n",
        "!rm -rf './IDH/mut/._pat00059' \n",
        "!rm -rf './IDH/mut/._pat00060' \n",
        "!rm -rf './IDH/mut/._pat00061' \n",
        "!rm -rf './IDH/mut/._pat00062' \n",
        "!rm -rf './IDH/mut/._pat00063' \n",
        "!rm -rf './IDH/mut/._pat00064' \n",
        "!rm -rf './IDH/mut/._pat00065' \n",
        "!rm -rf './IDH/mut/._pat00066' \n",
        "!rm -rf './IDH/mut/._pat00067' \n",
        "!rm -rf './IDH/mut/._pat00068' \n",
        "!rm -rf './IDH/mut/._pat00069' \n",
        "!rm -rf './IDH/mut/._pat00070' \n",
        "!rm -rf './IDH/mut/._pat00071' \n",
        "!rm -rf './IDH/mut/._pat00072' \n",
        "!rm -rf './IDH/mut/._pat00073' \n",
        "!rm -rf './IDH/mut/._pat00074' \n",
        "!rm -rf './IDH/mut/._pat00075' \n",
        "!rm -rf './IDH/mut/._pat00076' \n",
        "!rm -rf './IDH/mut/._pat00077' \n",
        "!rm -rf './IDH/mut/._pat00078' \n",
        "!rm -rf './IDH/mut/._pat00079' \n",
        "!rm -rf './IDH/mut/._pat00080' \n",
        "!rm -rf './IDH/mut/._pat00081' \n",
        "!rm -rf './IDH/mut/._pat00082' \n",
        "!rm -rf './IDH/mut/._pat00083' \n",
        "!rm -rf './IDH/mut/._pat00084' \n",
        "!rm -rf './IDH/mut/._pat00085' \n",
        "!rm -rf './IDH/mut/._pat00086' \n",
        "!rm -rf './IDH/mut/._pat00087' \n",
        "!rm -rf './IDH/mut/._pat00088' \n",
        "!rm -rf './IDH/mut/._pat00089' \n",
        "!rm -rf './IDH/mut/._pat00090' \n",
        "!rm -rf './IDH/mut/._pat00091' \n",
        "!rm -rf './IDH/mut/._pat00092' \n",
        "!rm -rf './IDH/mut/._pat00093' \n",
        "!rm -rf './IDH/mut/._pat00094' \n",
        "!rm -rf './IDH/mut/._pat00095' \n",
        "!rm -rf './IDH/mut/._pat00096'\n",
        "!rm -rf './IDH/mut/._pat00097'"
      ],
      "execution_count": 12,
      "outputs": []
    },
    {
      "cell_type": "code",
      "metadata": {
        "id": "O2yiIYobTAby",
        "colab_type": "code",
        "colab": {
          "base_uri": "https://localhost:8080/",
          "height": 102
        },
        "outputId": "7b9b98f4-2ee4-4aa8-d96d-06b4ae4c042d"
      },
      "source": [
        "for subj in os.listdir(NIFTI_PATH):\n",
        "    subj_path = os.path.join(NIFTI_PATH, subj)\n",
        "    print (\"Working on \" + subj_path)\n",
        "    series = fnmatch.filter(os.listdir(subj_path), '*.nii')\n",
        "    for ser in ['t1.nii']: \n",
        "      nativenii_file = os.path.join (subj_path, ser)\n",
        "      newniigz_file = os.path.join (subj_path, ser)\n",
        "      with open(nativenii_file, 'rb') as f_in:\n",
        "        with gzip.open(newniigz_file + '.gz', 'wb') as f_out:\n",
        "          shutil.copyfileobj(f_in, f_out)\n",
        "        \n"
      ],
      "execution_count": 13,
      "outputs": [
        {
          "output_type": "stream",
          "text": [
            "Working on IDH/wt/pat00002\n",
            "Working on IDH/wt/pat00001\n",
            "Working on IDH/wt/pat00005\n",
            "Working on IDH/wt/pat00004\n",
            "Working on IDH/wt/pat00003\n"
          ],
          "name": "stdout"
        }
      ]
    },
    {
      "cell_type": "code",
      "metadata": {
        "id": "M2yAtE3olH1y",
        "colab_type": "code",
        "colab": {
          "base_uri": "https://localhost:8080/",
          "height": 187
        },
        "outputId": "58460246-ced5-4575-a106-ad345382ff2c"
      },
      "source": [
        "for subj in os.listdir(NIFTI_PATH):\n",
        "    subj_path = os.path.join(NIFTI_PATH, subj)\n",
        "    print (\"Working on \" + subj_path)\n",
        "    series = fnmatch.filter(os.listdir(subj_path), '*.nii')\n",
        "    for ser in ['t1.nii']: \n",
        "        niinative_file = os.path.join (subj_path, ser)\n",
        "# removes old files\n",
        "        \n",
        "        cmd = os.remove(niinative_file)\n",
        "        \n",
        "        print (cmd)"
      ],
      "execution_count": 14,
      "outputs": [
        {
          "output_type": "stream",
          "text": [
            "Working on IDH/wt/pat00002\n",
            "None\n",
            "Working on IDH/wt/pat00001\n",
            "None\n",
            "Working on IDH/wt/pat00005\n",
            "None\n",
            "Working on IDH/wt/pat00004\n",
            "None\n",
            "Working on IDH/wt/pat00003\n",
            "None\n"
          ],
          "name": "stdout"
        }
      ]
    },
    {
      "cell_type": "code",
      "metadata": {
        "id": "PtXoDErt4HaV",
        "colab_type": "code",
        "colab": {
          "base_uri": "https://localhost:8080/",
          "height": 102
        },
        "outputId": "aea44419-7e49-4791-a1e3-b8e70ddd52af"
      },
      "source": [
        "for subj in os.listdir(NIFTI_PATH):\n",
        "    subj_path = os.path.join(NIFTI_PATH, subj)\n",
        "    print (\"Working on \" + subj_path)\n",
        "    series = fnmatch.filter(os.listdir(subj_path), '*.nii')\n",
        "    for ser in ['flair.nii']: \n",
        "      nativenii_file = os.path.join (subj_path, ser)\n",
        "      newniigz_file = os.path.join (subj_path, ser)\n",
        "      with open(nativenii_file, 'rb') as f_in:\n",
        "        with gzip.open(newniigz_file + '.gz', 'wb') as f_out:\n",
        "          shutil.copyfileobj(f_in, f_out)\n",
        "        \n"
      ],
      "execution_count": 15,
      "outputs": [
        {
          "output_type": "stream",
          "text": [
            "Working on IDH/wt/pat00002\n",
            "Working on IDH/wt/pat00001\n",
            "Working on IDH/wt/pat00005\n",
            "Working on IDH/wt/pat00004\n",
            "Working on IDH/wt/pat00003\n"
          ],
          "name": "stdout"
        }
      ]
    },
    {
      "cell_type": "code",
      "metadata": {
        "id": "hAu-v4Rk4Mkf",
        "colab_type": "code",
        "colab": {
          "base_uri": "https://localhost:8080/",
          "height": 187
        },
        "outputId": "41ec2d85-0cc2-4d5b-81c2-885a7b150995"
      },
      "source": [
        "for subj in os.listdir(NIFTI_PATH):\n",
        "    subj_path = os.path.join(NIFTI_PATH, subj)\n",
        "    print (\"Working on \" + subj_path)\n",
        "    series = fnmatch.filter(os.listdir(subj_path), '*.nii')\n",
        "    for ser in ['flair.nii']: \n",
        "        niinative_file = os.path.join (subj_path, ser)\n",
        "# removes old files\n",
        "        \n",
        "        cmd = os.remove(niinative_file)\n",
        "        \n",
        "        print (cmd)"
      ],
      "execution_count": 16,
      "outputs": [
        {
          "output_type": "stream",
          "text": [
            "Working on IDH/wt/pat00002\n",
            "None\n",
            "Working on IDH/wt/pat00001\n",
            "None\n",
            "Working on IDH/wt/pat00005\n",
            "None\n",
            "Working on IDH/wt/pat00004\n",
            "None\n",
            "Working on IDH/wt/pat00003\n",
            "None\n"
          ],
          "name": "stdout"
        }
      ]
    },
    {
      "cell_type": "code",
      "metadata": {
        "id": "7nyyH8io4HMg",
        "colab_type": "code",
        "colab": {
          "base_uri": "https://localhost:8080/",
          "height": 102
        },
        "outputId": "4cfbbdcb-833b-47f6-867c-835803afbbd5"
      },
      "source": [
        "for subj in os.listdir(NIFTI_PATH):\n",
        "    subj_path = os.path.join(NIFTI_PATH, subj)\n",
        "    print (\"Working on \" + subj_path)\n",
        "    series = fnmatch.filter(os.listdir(subj_path), '*.nii')\n",
        "    for ser in ['gad.nii']: \n",
        "      nativenii_file = os.path.join (subj_path, ser)\n",
        "      newniigz_file = os.path.join (subj_path, ser)\n",
        "      with open(nativenii_file, 'rb') as f_in:\n",
        "        with gzip.open(newniigz_file + '.gz', 'wb') as f_out:\n",
        "          shutil.copyfileobj(f_in, f_out)\n",
        "        \n"
      ],
      "execution_count": 17,
      "outputs": [
        {
          "output_type": "stream",
          "text": [
            "Working on IDH/wt/pat00002\n",
            "Working on IDH/wt/pat00001\n",
            "Working on IDH/wt/pat00005\n",
            "Working on IDH/wt/pat00004\n",
            "Working on IDH/wt/pat00003\n"
          ],
          "name": "stdout"
        }
      ]
    },
    {
      "cell_type": "code",
      "metadata": {
        "id": "cmZWPPyQ4Mbj",
        "colab_type": "code",
        "colab": {
          "base_uri": "https://localhost:8080/",
          "height": 187
        },
        "outputId": "48724cb1-8580-42b3-85e1-199e980bf2c8"
      },
      "source": [
        "for subj in os.listdir(NIFTI_PATH):\n",
        "    subj_path = os.path.join(NIFTI_PATH, subj)\n",
        "    print (\"Working on \" + subj_path)\n",
        "    series = fnmatch.filter(os.listdir(subj_path), '*.nii')\n",
        "    for ser in ['gad.nii']: \n",
        "        niinative_file = os.path.join (subj_path, ser)\n",
        "# removes old files\n",
        "        \n",
        "        cmd = os.remove(niinative_file)\n",
        "        \n",
        "        print (cmd)"
      ],
      "execution_count": 18,
      "outputs": [
        {
          "output_type": "stream",
          "text": [
            "Working on IDH/wt/pat00002\n",
            "None\n",
            "Working on IDH/wt/pat00001\n",
            "None\n",
            "Working on IDH/wt/pat00005\n",
            "None\n",
            "Working on IDH/wt/pat00004\n",
            "None\n",
            "Working on IDH/wt/pat00003\n",
            "None\n"
          ],
          "name": "stdout"
        }
      ]
    },
    {
      "cell_type": "code",
      "metadata": {
        "id": "6-nP6WQgqXXu",
        "colab_type": "code",
        "colab": {}
      },
      "source": [
        "NIFTI_PATH = 'IDH/mut/'"
      ],
      "execution_count": 19,
      "outputs": []
    },
    {
      "cell_type": "code",
      "metadata": {
        "id": "ZqZnZDH5qYVb",
        "colab_type": "code",
        "colab": {
          "base_uri": "https://localhost:8080/",
          "height": 102
        },
        "outputId": "c173cd5d-5c4c-4bd7-f56c-63441babaf6b"
      },
      "source": [
        "for subj in os.listdir(NIFTI_PATH):\n",
        "    subj_path = os.path.join(NIFTI_PATH, subj)\n",
        "    print (\"Working on \" + subj_path)\n",
        "    series = fnmatch.filter(os.listdir(subj_path), '*.nii')\n",
        "    for ser in ['t1.nii']: \n",
        "      nativenii_file = os.path.join (subj_path, ser)\n",
        "      newniigz_file = os.path.join (subj_path, ser)\n",
        "      with open(nativenii_file, 'rb') as f_in:\n",
        "        with gzip.open(newniigz_file + '.gz', 'wb') as f_out:\n",
        "          shutil.copyfileobj(f_in, f_out)\n",
        "        "
      ],
      "execution_count": 20,
      "outputs": [
        {
          "output_type": "stream",
          "text": [
            "Working on IDH/mut/pat00002\n",
            "Working on IDH/mut/pat00001\n",
            "Working on IDH/mut/pat00005\n",
            "Working on IDH/mut/pat00004\n",
            "Working on IDH/mut/pat00003\n"
          ],
          "name": "stdout"
        }
      ]
    },
    {
      "cell_type": "code",
      "metadata": {
        "id": "aqsxAO0PqYH9",
        "colab_type": "code",
        "colab": {
          "base_uri": "https://localhost:8080/",
          "height": 187
        },
        "outputId": "6e2a555e-3340-472a-ec36-bd6f66fe01a7"
      },
      "source": [
        "for subj in os.listdir(NIFTI_PATH):\n",
        "    subj_path = os.path.join(NIFTI_PATH, subj)\n",
        "    print (\"Working on \" + subj_path)\n",
        "    series = fnmatch.filter(os.listdir(subj_path), '*.nii')\n",
        "    for ser in ['t1.nii']: \n",
        "        niinative_file = os.path.join (subj_path, ser)\n",
        "# removes old files\n",
        "        \n",
        "        cmd = os.remove(niinative_file)\n",
        "        \n",
        "        print (cmd)"
      ],
      "execution_count": 21,
      "outputs": [
        {
          "output_type": "stream",
          "text": [
            "Working on IDH/mut/pat00002\n",
            "None\n",
            "Working on IDH/mut/pat00001\n",
            "None\n",
            "Working on IDH/mut/pat00005\n",
            "None\n",
            "Working on IDH/mut/pat00004\n",
            "None\n",
            "Working on IDH/mut/pat00003\n",
            "None\n"
          ],
          "name": "stdout"
        }
      ]
    },
    {
      "cell_type": "code",
      "metadata": {
        "id": "4vDOcFJQ4iAz",
        "colab_type": "code",
        "colab": {
          "base_uri": "https://localhost:8080/",
          "height": 102
        },
        "outputId": "97d38a7f-8945-4441-cdee-08f2a44925d9"
      },
      "source": [
        "for subj in os.listdir(NIFTI_PATH):\n",
        "    subj_path = os.path.join(NIFTI_PATH, subj)\n",
        "    print (\"Working on \" + subj_path)\n",
        "    series = fnmatch.filter(os.listdir(subj_path), '*.nii')\n",
        "    for ser in ['flair.nii']: \n",
        "      nativenii_file = os.path.join (subj_path, ser)\n",
        "      newniigz_file = os.path.join (subj_path, ser)\n",
        "      with open(nativenii_file, 'rb') as f_in:\n",
        "        with gzip.open(newniigz_file + '.gz', 'wb') as f_out:\n",
        "          shutil.copyfileobj(f_in, f_out)\n",
        "        "
      ],
      "execution_count": 22,
      "outputs": [
        {
          "output_type": "stream",
          "text": [
            "Working on IDH/mut/pat00002\n",
            "Working on IDH/mut/pat00001\n",
            "Working on IDH/mut/pat00005\n",
            "Working on IDH/mut/pat00004\n",
            "Working on IDH/mut/pat00003\n"
          ],
          "name": "stdout"
        }
      ]
    },
    {
      "cell_type": "code",
      "metadata": {
        "id": "ZKAVTiSg4ih4",
        "colab_type": "code",
        "colab": {
          "base_uri": "https://localhost:8080/",
          "height": 187
        },
        "outputId": "c7eae231-3330-474b-f631-d2a86958a567"
      },
      "source": [
        "for subj in os.listdir(NIFTI_PATH):\n",
        "    subj_path = os.path.join(NIFTI_PATH, subj)\n",
        "    print (\"Working on \" + subj_path)\n",
        "    series = fnmatch.filter(os.listdir(subj_path), '*.nii')\n",
        "    for ser in ['flair.nii']: \n",
        "        niinative_file = os.path.join (subj_path, ser)\n",
        "# removes old files\n",
        "        \n",
        "        cmd = os.remove(niinative_file)\n",
        "        \n",
        "        print (cmd)"
      ],
      "execution_count": 23,
      "outputs": [
        {
          "output_type": "stream",
          "text": [
            "Working on IDH/mut/pat00002\n",
            "None\n",
            "Working on IDH/mut/pat00001\n",
            "None\n",
            "Working on IDH/mut/pat00005\n",
            "None\n",
            "Working on IDH/mut/pat00004\n",
            "None\n",
            "Working on IDH/mut/pat00003\n",
            "None\n"
          ],
          "name": "stdout"
        }
      ]
    },
    {
      "cell_type": "code",
      "metadata": {
        "id": "I_xW-q8y4iVO",
        "colab_type": "code",
        "colab": {
          "base_uri": "https://localhost:8080/",
          "height": 102
        },
        "outputId": "3ce1819c-cc85-4229-9bf1-5bd27ff0c27f"
      },
      "source": [
        "for subj in os.listdir(NIFTI_PATH):\n",
        "    subj_path = os.path.join(NIFTI_PATH, subj)\n",
        "    print (\"Working on \" + subj_path)\n",
        "    series = fnmatch.filter(os.listdir(subj_path), '*.nii')\n",
        "    for ser in ['gad.nii']: \n",
        "      nativenii_file = os.path.join (subj_path, ser)\n",
        "      newniigz_file = os.path.join (subj_path, ser)\n",
        "      with open(nativenii_file, 'rb') as f_in:\n",
        "        with gzip.open(newniigz_file + '.gz', 'wb') as f_out:\n",
        "          shutil.copyfileobj(f_in, f_out)\n",
        "        "
      ],
      "execution_count": 24,
      "outputs": [
        {
          "output_type": "stream",
          "text": [
            "Working on IDH/mut/pat00002\n",
            "Working on IDH/mut/pat00001\n",
            "Working on IDH/mut/pat00005\n",
            "Working on IDH/mut/pat00004\n",
            "Working on IDH/mut/pat00003\n"
          ],
          "name": "stdout"
        }
      ]
    },
    {
      "cell_type": "code",
      "metadata": {
        "id": "qv4XsbWC4h3C",
        "colab_type": "code",
        "colab": {
          "base_uri": "https://localhost:8080/",
          "height": 187
        },
        "outputId": "a8535d08-4ebe-411b-e0af-b307411e7abb"
      },
      "source": [
        "for subj in os.listdir(NIFTI_PATH):\n",
        "    subj_path = os.path.join(NIFTI_PATH, subj)\n",
        "    print (\"Working on \" + subj_path)\n",
        "    series = fnmatch.filter(os.listdir(subj_path), '*.nii')\n",
        "    for ser in ['gad.nii']: \n",
        "        niinative_file = os.path.join (subj_path, ser)\n",
        "# removes old files\n",
        "        \n",
        "        cmd = os.remove(niinative_file)\n",
        "        \n",
        "        print (cmd)"
      ],
      "execution_count": 25,
      "outputs": [
        {
          "output_type": "stream",
          "text": [
            "Working on IDH/mut/pat00002\n",
            "None\n",
            "Working on IDH/mut/pat00001\n",
            "None\n",
            "Working on IDH/mut/pat00005\n",
            "None\n",
            "Working on IDH/mut/pat00004\n",
            "None\n",
            "Working on IDH/mut/pat00003\n",
            "None\n"
          ],
          "name": "stdout"
        }
      ]
    },
    {
      "cell_type": "code",
      "metadata": {
        "id": "ZWsiOlB3qfvR",
        "colab_type": "code",
        "colab": {}
      },
      "source": [
        "NIFTI_PATH = 'IDH/wt/'"
      ],
      "execution_count": 26,
      "outputs": []
    },
    {
      "cell_type": "code",
      "metadata": {
        "id": "mVXVKzU4ifK0",
        "colab_type": "code",
        "colab": {
          "base_uri": "https://localhost:8080/",
          "height": 187
        },
        "outputId": "5ded2154-ba3e-4f37-e355-21b7d4a8c823"
      },
      "source": [
        "for subj in os.listdir(NIFTI_PATH):\n",
        "    subj_path = os.path.join(NIFTI_PATH, subj)\n",
        "    print (\"Working on \" + subj_path)\n",
        "    series = fnmatch.filter(os.listdir(subj_path), '*.nii.gz')\n",
        "    for ser in ['t1']: #not sure why I had to add the star here but this was the only way it worked\n",
        "        nii_file = os.path.join (subj_path, ser)\n",
        "# First, perform N4 bias correction. Not required, but may improve results. Also must track new names\n",
        "        new_file = os.path.join (subj_path, 'N4-' + ser)\n",
        "        cmd = \"./N4BiasFieldCorrection -i %s.nii.gz -o %s.nii.gz\" % (nii_file, new_file)\n",
        "        os.system(cmd)\n",
        "        print (cmd)"
      ],
      "execution_count": 27,
      "outputs": [
        {
          "output_type": "stream",
          "text": [
            "Working on IDH/wt/pat00002\n",
            "./N4BiasFieldCorrection -i IDH/wt/pat00002/t1.nii.gz -o IDH/wt/pat00002/N4-t1.nii.gz\n",
            "Working on IDH/wt/pat00001\n",
            "./N4BiasFieldCorrection -i IDH/wt/pat00001/t1.nii.gz -o IDH/wt/pat00001/N4-t1.nii.gz\n",
            "Working on IDH/wt/pat00005\n",
            "./N4BiasFieldCorrection -i IDH/wt/pat00005/t1.nii.gz -o IDH/wt/pat00005/N4-t1.nii.gz\n",
            "Working on IDH/wt/pat00004\n",
            "./N4BiasFieldCorrection -i IDH/wt/pat00004/t1.nii.gz -o IDH/wt/pat00004/N4-t1.nii.gz\n",
            "Working on IDH/wt/pat00003\n",
            "./N4BiasFieldCorrection -i IDH/wt/pat00003/t1.nii.gz -o IDH/wt/pat00003/N4-t1.nii.gz\n"
          ],
          "name": "stdout"
        }
      ]
    },
    {
      "cell_type": "code",
      "metadata": {
        "id": "xMf-kqTEx5B_",
        "colab_type": "code",
        "colab": {
          "base_uri": "https://localhost:8080/",
          "height": 187
        },
        "outputId": "b22ceef8-c26a-476d-d2e9-ac21304fef4f"
      },
      "source": [
        "for subj in os.listdir(NIFTI_PATH):\n",
        "    subj_path = os.path.join(NIFTI_PATH, subj)\n",
        "    print (\"Working on \" + subj_path)\n",
        "    series = fnmatch.filter(os.listdir(subj_path), '*.nii.gz')\n",
        "    for ser in ['t1.nii.gz']: #not sure why I had to add the star here but this was the only way it worked\n",
        "        nii_file = os.path.join (subj_path, ser)\n",
        "# removes old files\n",
        "        \n",
        "        cmd = os.remove(nii_file)\n",
        "        \n",
        "        print (cmd)"
      ],
      "execution_count": 28,
      "outputs": [
        {
          "output_type": "stream",
          "text": [
            "Working on IDH/wt/pat00002\n",
            "None\n",
            "Working on IDH/wt/pat00001\n",
            "None\n",
            "Working on IDH/wt/pat00005\n",
            "None\n",
            "Working on IDH/wt/pat00004\n",
            "None\n",
            "Working on IDH/wt/pat00003\n",
            "None\n"
          ],
          "name": "stdout"
        }
      ]
    },
    {
      "cell_type": "code",
      "metadata": {
        "id": "hG1fZ5Dc5NTc",
        "colab_type": "code",
        "colab": {
          "base_uri": "https://localhost:8080/",
          "height": 187
        },
        "outputId": "9650a0fd-8576-4a2f-c67d-812ad0edd817"
      },
      "source": [
        "for subj in os.listdir(NIFTI_PATH):\n",
        "    subj_path = os.path.join(NIFTI_PATH, subj)\n",
        "    print (\"Working on \" + subj_path)\n",
        "    series = fnmatch.filter(os.listdir(subj_path), '*.nii.gz')\n",
        "    for ser in ['flair']: #not sure why I had to add the star here but this was the only way it worked\n",
        "        nii_file = os.path.join (subj_path, ser)\n",
        "# First, perform N4 bias correction. Not required, but may improve results. Also must track new names\n",
        "        new_file = os.path.join (subj_path, 'N4-' + ser)\n",
        "        cmd = \"./N4BiasFieldCorrection -i %s.nii.gz -o %s.nii.gz\" % (nii_file, new_file)\n",
        "        os.system(cmd)\n",
        "        print (cmd)"
      ],
      "execution_count": 29,
      "outputs": [
        {
          "output_type": "stream",
          "text": [
            "Working on IDH/wt/pat00002\n",
            "./N4BiasFieldCorrection -i IDH/wt/pat00002/flair.nii.gz -o IDH/wt/pat00002/N4-flair.nii.gz\n",
            "Working on IDH/wt/pat00001\n",
            "./N4BiasFieldCorrection -i IDH/wt/pat00001/flair.nii.gz -o IDH/wt/pat00001/N4-flair.nii.gz\n",
            "Working on IDH/wt/pat00005\n",
            "./N4BiasFieldCorrection -i IDH/wt/pat00005/flair.nii.gz -o IDH/wt/pat00005/N4-flair.nii.gz\n",
            "Working on IDH/wt/pat00004\n",
            "./N4BiasFieldCorrection -i IDH/wt/pat00004/flair.nii.gz -o IDH/wt/pat00004/N4-flair.nii.gz\n",
            "Working on IDH/wt/pat00003\n",
            "./N4BiasFieldCorrection -i IDH/wt/pat00003/flair.nii.gz -o IDH/wt/pat00003/N4-flair.nii.gz\n"
          ],
          "name": "stdout"
        }
      ]
    },
    {
      "cell_type": "code",
      "metadata": {
        "id": "TR4IVjLb5OK4",
        "colab_type": "code",
        "colab": {
          "base_uri": "https://localhost:8080/",
          "height": 187
        },
        "outputId": "e4eab8ba-347d-4c36-fa35-fa4d7855e35c"
      },
      "source": [
        "for subj in os.listdir(NIFTI_PATH):\n",
        "    subj_path = os.path.join(NIFTI_PATH, subj)\n",
        "    print (\"Working on \" + subj_path)\n",
        "    series = fnmatch.filter(os.listdir(subj_path), '*.nii.gz')\n",
        "    for ser in ['flair.nii.gz']: #not sure why I had to add the star here but this was the only way it worked\n",
        "        nii_file = os.path.join (subj_path, ser)\n",
        "# removes old files\n",
        "        \n",
        "        cmd = os.remove(nii_file)\n",
        "        \n",
        "        print (cmd)"
      ],
      "execution_count": 30,
      "outputs": [
        {
          "output_type": "stream",
          "text": [
            "Working on IDH/wt/pat00002\n",
            "None\n",
            "Working on IDH/wt/pat00001\n",
            "None\n",
            "Working on IDH/wt/pat00005\n",
            "None\n",
            "Working on IDH/wt/pat00004\n",
            "None\n",
            "Working on IDH/wt/pat00003\n",
            "None\n"
          ],
          "name": "stdout"
        }
      ]
    },
    {
      "cell_type": "code",
      "metadata": {
        "id": "r9b5T8n75Ncd",
        "colab_type": "code",
        "colab": {
          "base_uri": "https://localhost:8080/",
          "height": 187
        },
        "outputId": "8a33be67-381e-4247-9e97-03c3546b8ff6"
      },
      "source": [
        "for subj in os.listdir(NIFTI_PATH):\n",
        "    subj_path = os.path.join(NIFTI_PATH, subj)\n",
        "    print (\"Working on \" + subj_path)\n",
        "    series = fnmatch.filter(os.listdir(subj_path), '*.nii.gz')\n",
        "    for ser in ['gad']: #not sure why I had to add the star here but this was the only way it worked\n",
        "        nii_file = os.path.join (subj_path, ser)\n",
        "# First, perform N4 bias correction. Not required, but may improve results. Also must track new names\n",
        "        new_file = os.path.join (subj_path, 'N4-' + ser)\n",
        "        cmd = \"./N4BiasFieldCorrection -i %s.nii.gz -o %s.nii.gz\" % (nii_file, new_file)\n",
        "        os.system(cmd)\n",
        "        print (cmd)"
      ],
      "execution_count": 31,
      "outputs": [
        {
          "output_type": "stream",
          "text": [
            "Working on IDH/wt/pat00002\n",
            "./N4BiasFieldCorrection -i IDH/wt/pat00002/gad.nii.gz -o IDH/wt/pat00002/N4-gad.nii.gz\n",
            "Working on IDH/wt/pat00001\n",
            "./N4BiasFieldCorrection -i IDH/wt/pat00001/gad.nii.gz -o IDH/wt/pat00001/N4-gad.nii.gz\n",
            "Working on IDH/wt/pat00005\n",
            "./N4BiasFieldCorrection -i IDH/wt/pat00005/gad.nii.gz -o IDH/wt/pat00005/N4-gad.nii.gz\n",
            "Working on IDH/wt/pat00004\n",
            "./N4BiasFieldCorrection -i IDH/wt/pat00004/gad.nii.gz -o IDH/wt/pat00004/N4-gad.nii.gz\n",
            "Working on IDH/wt/pat00003\n",
            "./N4BiasFieldCorrection -i IDH/wt/pat00003/gad.nii.gz -o IDH/wt/pat00003/N4-gad.nii.gz\n"
          ],
          "name": "stdout"
        }
      ]
    },
    {
      "cell_type": "code",
      "metadata": {
        "id": "RQQW7dsB5NLU",
        "colab_type": "code",
        "colab": {
          "base_uri": "https://localhost:8080/",
          "height": 187
        },
        "outputId": "971030ca-43c1-4107-f062-3fdb6574f023"
      },
      "source": [
        "for subj in os.listdir(NIFTI_PATH):\n",
        "    subj_path = os.path.join(NIFTI_PATH, subj)\n",
        "    print (\"Working on \" + subj_path)\n",
        "    series = fnmatch.filter(os.listdir(subj_path), '*.nii.gz')\n",
        "    for ser in ['gad.nii.gz']: #not sure why I had to add the star here but this was the only way it worked\n",
        "        nii_file = os.path.join (subj_path, ser)\n",
        "# removes old files\n",
        "        \n",
        "        cmd = os.remove(nii_file)\n",
        "        \n",
        "        print (cmd)"
      ],
      "execution_count": 32,
      "outputs": [
        {
          "output_type": "stream",
          "text": [
            "Working on IDH/wt/pat00002\n",
            "None\n",
            "Working on IDH/wt/pat00001\n",
            "None\n",
            "Working on IDH/wt/pat00005\n",
            "None\n",
            "Working on IDH/wt/pat00004\n",
            "None\n",
            "Working on IDH/wt/pat00003\n",
            "None\n"
          ],
          "name": "stdout"
        }
      ]
    },
    {
      "cell_type": "code",
      "metadata": {
        "id": "fTvuq8eBqmvg",
        "colab_type": "code",
        "colab": {}
      },
      "source": [
        "NIFTI_PATH = 'IDH/mut/'"
      ],
      "execution_count": 33,
      "outputs": []
    },
    {
      "cell_type": "code",
      "metadata": {
        "id": "UdPHMOYqqmmt",
        "colab_type": "code",
        "colab": {
          "base_uri": "https://localhost:8080/",
          "height": 187
        },
        "outputId": "1a205672-7149-4291-8555-4836f9956527"
      },
      "source": [
        "for subj in os.listdir(NIFTI_PATH):\n",
        "    subj_path = os.path.join(NIFTI_PATH, subj)\n",
        "    print (\"Working on \" + subj_path)\n",
        "    series = fnmatch.filter(os.listdir(subj_path), '*.nii.gz')\n",
        "    for ser in ['t1']: #not sure why I had to add the star here but this was the only way it worked\n",
        "        nii_file = os.path.join (subj_path, ser)\n",
        "# First, perform N4 bias correction. Not required, but may improve results. Also must track new names\n",
        "        new_file = os.path.join (subj_path, 'N4-' + ser)\n",
        "        cmd = \"./N4BiasFieldCorrection -i %s.nii.gz -o %s.nii.gz\" % (nii_file, new_file)\n",
        "        os.system(cmd)\n",
        "        print (cmd)"
      ],
      "execution_count": 34,
      "outputs": [
        {
          "output_type": "stream",
          "text": [
            "Working on IDH/mut/pat00002\n",
            "./N4BiasFieldCorrection -i IDH/mut/pat00002/t1.nii.gz -o IDH/mut/pat00002/N4-t1.nii.gz\n",
            "Working on IDH/mut/pat00001\n",
            "./N4BiasFieldCorrection -i IDH/mut/pat00001/t1.nii.gz -o IDH/mut/pat00001/N4-t1.nii.gz\n",
            "Working on IDH/mut/pat00005\n",
            "./N4BiasFieldCorrection -i IDH/mut/pat00005/t1.nii.gz -o IDH/mut/pat00005/N4-t1.nii.gz\n",
            "Working on IDH/mut/pat00004\n",
            "./N4BiasFieldCorrection -i IDH/mut/pat00004/t1.nii.gz -o IDH/mut/pat00004/N4-t1.nii.gz\n",
            "Working on IDH/mut/pat00003\n",
            "./N4BiasFieldCorrection -i IDH/mut/pat00003/t1.nii.gz -o IDH/mut/pat00003/N4-t1.nii.gz\n"
          ],
          "name": "stdout"
        }
      ]
    },
    {
      "cell_type": "code",
      "metadata": {
        "id": "VtoBFYnwqmdk",
        "colab_type": "code",
        "colab": {
          "base_uri": "https://localhost:8080/",
          "height": 187
        },
        "outputId": "74f5a16d-2729-436d-b727-1ba0128a021b"
      },
      "source": [
        "for subj in os.listdir(NIFTI_PATH):\n",
        "    subj_path = os.path.join(NIFTI_PATH, subj)\n",
        "    print (\"Working on \" + subj_path)\n",
        "    series = fnmatch.filter(os.listdir(subj_path), '*.nii.gz')\n",
        "    for ser in ['t1.nii.gz']: #not sure why I had to add the star here but this was the only way it worked\n",
        "        nii_file = os.path.join (subj_path, ser)\n",
        "# removes old files\n",
        "        \n",
        "        cmd = os.remove(nii_file)\n",
        "        \n",
        "        print (cmd)"
      ],
      "execution_count": 35,
      "outputs": [
        {
          "output_type": "stream",
          "text": [
            "Working on IDH/mut/pat00002\n",
            "None\n",
            "Working on IDH/mut/pat00001\n",
            "None\n",
            "Working on IDH/mut/pat00005\n",
            "None\n",
            "Working on IDH/mut/pat00004\n",
            "None\n",
            "Working on IDH/mut/pat00003\n",
            "None\n"
          ],
          "name": "stdout"
        }
      ]
    },
    {
      "cell_type": "code",
      "metadata": {
        "id": "m2rRvQOP7I2x",
        "colab_type": "code",
        "colab": {
          "base_uri": "https://localhost:8080/",
          "height": 187
        },
        "outputId": "e6101aef-09aa-4af5-ddc1-2ac40c7e277d"
      },
      "source": [
        "for subj in os.listdir(NIFTI_PATH):\n",
        "    subj_path = os.path.join(NIFTI_PATH, subj)\n",
        "    print (\"Working on \" + subj_path)\n",
        "    series = fnmatch.filter(os.listdir(subj_path), '*.nii.gz')\n",
        "    for ser in ['flair']: #not sure why I had to add the star here but this was the only way it worked\n",
        "        nii_file = os.path.join (subj_path, ser)\n",
        "# First, perform N4 bias correction. Not required, but may improve results. Also must track new names\n",
        "        new_file = os.path.join (subj_path, 'N4-' + ser)\n",
        "        cmd = \"./N4BiasFieldCorrection -i %s.nii.gz -o %s.nii.gz\" % (nii_file, new_file)\n",
        "        os.system(cmd)\n",
        "        print (cmd)"
      ],
      "execution_count": 36,
      "outputs": [
        {
          "output_type": "stream",
          "text": [
            "Working on IDH/mut/pat00002\n",
            "./N4BiasFieldCorrection -i IDH/mut/pat00002/flair.nii.gz -o IDH/mut/pat00002/N4-flair.nii.gz\n",
            "Working on IDH/mut/pat00001\n",
            "./N4BiasFieldCorrection -i IDH/mut/pat00001/flair.nii.gz -o IDH/mut/pat00001/N4-flair.nii.gz\n",
            "Working on IDH/mut/pat00005\n",
            "./N4BiasFieldCorrection -i IDH/mut/pat00005/flair.nii.gz -o IDH/mut/pat00005/N4-flair.nii.gz\n",
            "Working on IDH/mut/pat00004\n",
            "./N4BiasFieldCorrection -i IDH/mut/pat00004/flair.nii.gz -o IDH/mut/pat00004/N4-flair.nii.gz\n",
            "Working on IDH/mut/pat00003\n",
            "./N4BiasFieldCorrection -i IDH/mut/pat00003/flair.nii.gz -o IDH/mut/pat00003/N4-flair.nii.gz\n"
          ],
          "name": "stdout"
        }
      ]
    },
    {
      "cell_type": "code",
      "metadata": {
        "id": "o71eDy4I7JOX",
        "colab_type": "code",
        "colab": {
          "base_uri": "https://localhost:8080/",
          "height": 187
        },
        "outputId": "54d5e691-5a1c-41c2-bc63-84f9a9470678"
      },
      "source": [
        "for subj in os.listdir(NIFTI_PATH):\n",
        "    subj_path = os.path.join(NIFTI_PATH, subj)\n",
        "    print (\"Working on \" + subj_path)\n",
        "    series = fnmatch.filter(os.listdir(subj_path), '*.nii.gz')\n",
        "    for ser in ['flair.nii.gz']: #not sure why I had to add the star here but this was the only way it worked\n",
        "        nii_file = os.path.join (subj_path, ser)\n",
        "# removes old files\n",
        "        \n",
        "        cmd = os.remove(nii_file)\n",
        "        \n",
        "        print (cmd)"
      ],
      "execution_count": 37,
      "outputs": [
        {
          "output_type": "stream",
          "text": [
            "Working on IDH/mut/pat00002\n",
            "None\n",
            "Working on IDH/mut/pat00001\n",
            "None\n",
            "Working on IDH/mut/pat00005\n",
            "None\n",
            "Working on IDH/mut/pat00004\n",
            "None\n",
            "Working on IDH/mut/pat00003\n",
            "None\n"
          ],
          "name": "stdout"
        }
      ]
    },
    {
      "cell_type": "code",
      "metadata": {
        "id": "e8V49mc17I_t",
        "colab_type": "code",
        "colab": {
          "base_uri": "https://localhost:8080/",
          "height": 187
        },
        "outputId": "25d1249a-74df-4a62-cdd3-59670475ea46"
      },
      "source": [
        "for subj in os.listdir(NIFTI_PATH):\n",
        "    subj_path = os.path.join(NIFTI_PATH, subj)\n",
        "    print (\"Working on \" + subj_path)\n",
        "    series = fnmatch.filter(os.listdir(subj_path), '*.nii.gz')\n",
        "    for ser in ['gad']: #not sure why I had to add the star here but this was the only way it worked\n",
        "        nii_file = os.path.join (subj_path, ser)\n",
        "# First, perform N4 bias correction. Not required, but may improve results. Also must track new names\n",
        "        new_file = os.path.join (subj_path, 'N4-' + ser)\n",
        "        cmd = \"./N4BiasFieldCorrection -i %s.nii.gz -o %s.nii.gz\" % (nii_file, new_file)\n",
        "        os.system(cmd)\n",
        "        print (cmd)"
      ],
      "execution_count": 38,
      "outputs": [
        {
          "output_type": "stream",
          "text": [
            "Working on IDH/mut/pat00002\n",
            "./N4BiasFieldCorrection -i IDH/mut/pat00002/gad.nii.gz -o IDH/mut/pat00002/N4-gad.nii.gz\n",
            "Working on IDH/mut/pat00001\n",
            "./N4BiasFieldCorrection -i IDH/mut/pat00001/gad.nii.gz -o IDH/mut/pat00001/N4-gad.nii.gz\n",
            "Working on IDH/mut/pat00005\n",
            "./N4BiasFieldCorrection -i IDH/mut/pat00005/gad.nii.gz -o IDH/mut/pat00005/N4-gad.nii.gz\n",
            "Working on IDH/mut/pat00004\n",
            "./N4BiasFieldCorrection -i IDH/mut/pat00004/gad.nii.gz -o IDH/mut/pat00004/N4-gad.nii.gz\n",
            "Working on IDH/mut/pat00003\n",
            "./N4BiasFieldCorrection -i IDH/mut/pat00003/gad.nii.gz -o IDH/mut/pat00003/N4-gad.nii.gz\n"
          ],
          "name": "stdout"
        }
      ]
    },
    {
      "cell_type": "code",
      "metadata": {
        "id": "o_jtyC5s7Is_",
        "colab_type": "code",
        "colab": {
          "base_uri": "https://localhost:8080/",
          "height": 187
        },
        "outputId": "d0f235e7-e04d-4b68-ecd0-e6c398caf21f"
      },
      "source": [
        "for subj in os.listdir(NIFTI_PATH):\n",
        "    subj_path = os.path.join(NIFTI_PATH, subj)\n",
        "    print (\"Working on \" + subj_path)\n",
        "    series = fnmatch.filter(os.listdir(subj_path), '*.nii.gz')\n",
        "    for ser in ['gad.nii.gz']: #not sure why I had to add the star here but this was the only way it worked\n",
        "        nii_file = os.path.join (subj_path, ser)\n",
        "# removes old files\n",
        "        \n",
        "        cmd = os.remove(nii_file)\n",
        "        \n",
        "        print (cmd)"
      ],
      "execution_count": 39,
      "outputs": [
        {
          "output_type": "stream",
          "text": [
            "Working on IDH/mut/pat00002\n",
            "None\n",
            "Working on IDH/mut/pat00001\n",
            "None\n",
            "Working on IDH/mut/pat00005\n",
            "None\n",
            "Working on IDH/mut/pat00004\n",
            "None\n",
            "Working on IDH/mut/pat00003\n",
            "None\n"
          ],
          "name": "stdout"
        }
      ]
    },
    {
      "cell_type": "code",
      "metadata": {
        "id": "sxlviDkNqukH",
        "colab_type": "code",
        "colab": {}
      },
      "source": [
        "NIFTI_PATH = 'IDH/wt/'"
      ],
      "execution_count": 40,
      "outputs": []
    },
    {
      "cell_type": "code",
      "metadata": {
        "id": "ifEYCCSdifFL",
        "colab_type": "code",
        "colab": {
          "base_uri": "https://localhost:8080/",
          "height": 187
        },
        "outputId": "65f2efd2-2f49-4dd2-da4f-e9982e173984"
      },
      "source": [
        "# Next, Register the images to the avg 152 t1 image from MNI\n",
        "for subj in os.listdir(NIFTI_PATH):\n",
        "    subj_path = os.path.join(NIFTI_PATH, subj)\n",
        "    print (\"Working on \" + subj_path)\n",
        "    series = fnmatch.filter(os.listdir(subj_path), 'N4-*')\n",
        "    for ser in ['t1']:   \n",
        "        MNI_file = './icbm_avg_152_t1_tal_lin.nii'\n",
        "        T1_file =  os.path.join (subj_path, 'N4-t1.nii.gz')\n",
        "        new_file = os.path.join (subj_path, 'Reg-N4-t1.nii.gz')\n",
        "        cmd = \"./flirt -in %s -ref %s  -out %s\" % (T1_file, MNI_file, new_file)\n",
        "        os.system(cmd)\n",
        "        print (cmd)\n",
        "\n"
      ],
      "execution_count": 41,
      "outputs": [
        {
          "output_type": "stream",
          "text": [
            "Working on IDH/wt/pat00002\n",
            "./flirt -in IDH/wt/pat00002/N4-t1.nii.gz -ref ./icbm_avg_152_t1_tal_lin.nii  -out IDH/wt/pat00002/Reg-N4-t1.nii.gz\n",
            "Working on IDH/wt/pat00001\n",
            "./flirt -in IDH/wt/pat00001/N4-t1.nii.gz -ref ./icbm_avg_152_t1_tal_lin.nii  -out IDH/wt/pat00001/Reg-N4-t1.nii.gz\n",
            "Working on IDH/wt/pat00005\n",
            "./flirt -in IDH/wt/pat00005/N4-t1.nii.gz -ref ./icbm_avg_152_t1_tal_lin.nii  -out IDH/wt/pat00005/Reg-N4-t1.nii.gz\n",
            "Working on IDH/wt/pat00004\n",
            "./flirt -in IDH/wt/pat00004/N4-t1.nii.gz -ref ./icbm_avg_152_t1_tal_lin.nii  -out IDH/wt/pat00004/Reg-N4-t1.nii.gz\n",
            "Working on IDH/wt/pat00003\n",
            "./flirt -in IDH/wt/pat00003/N4-t1.nii.gz -ref ./icbm_avg_152_t1_tal_lin.nii  -out IDH/wt/pat00003/Reg-N4-t1.nii.gz\n"
          ],
          "name": "stdout"
        }
      ]
    },
    {
      "cell_type": "code",
      "metadata": {
        "id": "NNGa4nZAmMqe",
        "colab_type": "code",
        "colab": {
          "base_uri": "https://localhost:8080/",
          "height": 187
        },
        "outputId": "17854fe2-2368-483b-d759-d4788e641ce2"
      },
      "source": [
        "for subj in os.listdir(NIFTI_PATH):\n",
        "    subj_path = os.path.join(NIFTI_PATH, subj)\n",
        "    print (\"Working on \" + subj_path)\n",
        "    series = fnmatch.filter(os.listdir(subj_path), '*.nii.gz')\n",
        "    for ser in ['N4-t1.nii.gz']: #not sure why I had to add the star here but this was the only way it worked\n",
        "        nii_file = os.path.join (subj_path, ser)\n",
        "# removes old files\n",
        "        \n",
        "        cmd = os.remove(nii_file)\n",
        "        \n",
        "        print (cmd)"
      ],
      "execution_count": 42,
      "outputs": [
        {
          "output_type": "stream",
          "text": [
            "Working on IDH/wt/pat00002\n",
            "None\n",
            "Working on IDH/wt/pat00001\n",
            "None\n",
            "Working on IDH/wt/pat00005\n",
            "None\n",
            "Working on IDH/wt/pat00004\n",
            "None\n",
            "Working on IDH/wt/pat00003\n",
            "None\n"
          ],
          "name": "stdout"
        }
      ]
    },
    {
      "cell_type": "code",
      "metadata": {
        "id": "oECjD9ilJN1G",
        "colab_type": "code",
        "colab": {
          "base_uri": "https://localhost:8080/",
          "height": 207
        },
        "outputId": "dc2d8890-810c-4a02-b52c-6277978f8ef7"
      },
      "source": [
        "# Next, Register the images to the avg 152 t1 image from MNI\n",
        "for subj in os.listdir(NIFTI_PATH):\n",
        "    subj_path = os.path.join(NIFTI_PATH, subj)\n",
        "    print (\"Working on \" + subj_path)\n",
        "    series = fnmatch.filter(os.listdir(subj_path), 'N4-*')\n",
        "    for ser in ['flair']:   \n",
        "        MNI_file = os.path.join (subj_path, 'Reg-N4-t1.nii.gz')\n",
        "        T1_file =  os.path.join (subj_path, 'N4-flair.nii.gz')\n",
        "        new_file = os.path.join (subj_path, 'Reg-N4-flair.nii.gz')\n",
        "        cmd = \"./flirt -in %s -ref %s  -out %s\" % (T1_file, MNI_file, new_file)\n",
        "        os.system(cmd)\n",
        "        print (cmd)\n"
      ],
      "execution_count": 43,
      "outputs": [
        {
          "output_type": "stream",
          "text": [
            "Working on IDH/wt/pat00002\n",
            "./flirt -in IDH/wt/pat00002/N4-flair.nii.gz -ref IDH/wt/pat00002/Reg-N4-t1.nii.gz  -out IDH/wt/pat00002/Reg-N4-flair.nii.gz\n",
            "Working on IDH/wt/pat00001\n",
            "./flirt -in IDH/wt/pat00001/N4-flair.nii.gz -ref IDH/wt/pat00001/Reg-N4-t1.nii.gz  -out IDH/wt/pat00001/Reg-N4-flair.nii.gz\n",
            "Working on IDH/wt/pat00005\n",
            "./flirt -in IDH/wt/pat00005/N4-flair.nii.gz -ref IDH/wt/pat00005/Reg-N4-t1.nii.gz  -out IDH/wt/pat00005/Reg-N4-flair.nii.gz\n",
            "Working on IDH/wt/pat00004\n",
            "./flirt -in IDH/wt/pat00004/N4-flair.nii.gz -ref IDH/wt/pat00004/Reg-N4-t1.nii.gz  -out IDH/wt/pat00004/Reg-N4-flair.nii.gz\n",
            "Working on IDH/wt/pat00003\n",
            "./flirt -in IDH/wt/pat00003/N4-flair.nii.gz -ref IDH/wt/pat00003/Reg-N4-t1.nii.gz  -out IDH/wt/pat00003/Reg-N4-flair.nii.gz\n"
          ],
          "name": "stdout"
        }
      ]
    },
    {
      "cell_type": "code",
      "metadata": {
        "id": "BRcbBswHaa_V",
        "colab_type": "code",
        "colab": {
          "base_uri": "https://localhost:8080/",
          "height": 187
        },
        "outputId": "8b925c05-c9c1-45a7-f32d-101f042d6428"
      },
      "source": [
        "for subj in os.listdir(NIFTI_PATH):\n",
        "    subj_path = os.path.join(NIFTI_PATH, subj)\n",
        "    print (\"Working on \" + subj_path)\n",
        "    series = fnmatch.filter(os.listdir(subj_path), '*.nii.gz')\n",
        "    for ser in ['N4-flair.nii.gz']: #not sure why I had to add the star here but this was the only way it worked\n",
        "        nii_file = os.path.join (subj_path, ser)\n",
        "# removes old files\n",
        "        \n",
        "        cmd = os.remove(nii_file)\n",
        "        \n",
        "        print (cmd)"
      ],
      "execution_count": 44,
      "outputs": [
        {
          "output_type": "stream",
          "text": [
            "Working on IDH/wt/pat00002\n",
            "None\n",
            "Working on IDH/wt/pat00001\n",
            "None\n",
            "Working on IDH/wt/pat00005\n",
            "None\n",
            "Working on IDH/wt/pat00004\n",
            "None\n",
            "Working on IDH/wt/pat00003\n",
            "None\n"
          ],
          "name": "stdout"
        }
      ]
    },
    {
      "cell_type": "code",
      "metadata": {
        "id": "Js1xRVYMJNeo",
        "colab_type": "code",
        "colab": {
          "base_uri": "https://localhost:8080/",
          "height": 187
        },
        "outputId": "56cc0a8f-bee1-4016-e09f-c9b094ab32c8"
      },
      "source": [
        "# Next, Register the images to the avg 152 t1 image from MNI\n",
        "for subj in os.listdir(NIFTI_PATH):\n",
        "    subj_path = os.path.join(NIFTI_PATH, subj)\n",
        "    print (\"Working on \" + subj_path)\n",
        "    series = fnmatch.filter(os.listdir(subj_path), 'N4-*')\n",
        "    for ser in ['gad']:   \n",
        "        MNI_file = os.path.join (subj_path, 'Reg-N4-t1.nii.gz')\n",
        "        T1_file =  os.path.join (subj_path, 'N4-gad.nii.gz')\n",
        "        new_file = os.path.join (subj_path, 'Reg-N4-gad.nii.gz')\n",
        "        cmd = \"./flirt -in %s -ref %s  -out %s\" % (T1_file, MNI_file, new_file)\n",
        "        os.system(cmd)\n",
        "        print (cmd)\n"
      ],
      "execution_count": 45,
      "outputs": [
        {
          "output_type": "stream",
          "text": [
            "Working on IDH/wt/pat00002\n",
            "./flirt -in IDH/wt/pat00002/N4-gad.nii.gz -ref IDH/wt/pat00002/Reg-N4-t1.nii.gz  -out IDH/wt/pat00002/Reg-N4-gad.nii.gz\n",
            "Working on IDH/wt/pat00001\n",
            "./flirt -in IDH/wt/pat00001/N4-gad.nii.gz -ref IDH/wt/pat00001/Reg-N4-t1.nii.gz  -out IDH/wt/pat00001/Reg-N4-gad.nii.gz\n",
            "Working on IDH/wt/pat00005\n",
            "./flirt -in IDH/wt/pat00005/N4-gad.nii.gz -ref IDH/wt/pat00005/Reg-N4-t1.nii.gz  -out IDH/wt/pat00005/Reg-N4-gad.nii.gz\n",
            "Working on IDH/wt/pat00004\n",
            "./flirt -in IDH/wt/pat00004/N4-gad.nii.gz -ref IDH/wt/pat00004/Reg-N4-t1.nii.gz  -out IDH/wt/pat00004/Reg-N4-gad.nii.gz\n",
            "Working on IDH/wt/pat00003\n",
            "./flirt -in IDH/wt/pat00003/N4-gad.nii.gz -ref IDH/wt/pat00003/Reg-N4-t1.nii.gz  -out IDH/wt/pat00003/Reg-N4-gad.nii.gz\n"
          ],
          "name": "stdout"
        }
      ]
    },
    {
      "cell_type": "code",
      "metadata": {
        "id": "j4dK__YxabrY",
        "colab_type": "code",
        "colab": {
          "base_uri": "https://localhost:8080/",
          "height": 187
        },
        "outputId": "04f1788f-58d5-4407-bcd8-330f25bb4925"
      },
      "source": [
        "for subj in os.listdir(NIFTI_PATH):\n",
        "    subj_path = os.path.join(NIFTI_PATH, subj)\n",
        "    print (\"Working on \" + subj_path)\n",
        "    series = fnmatch.filter(os.listdir(subj_path), '*.nii.gz')\n",
        "    for ser in ['N4-gad.nii.gz']: #not sure why I had to add the star here but this was the only way it worked\n",
        "        nii_file = os.path.join (subj_path, ser)\n",
        "# removes old files\n",
        "        \n",
        "        cmd = os.remove(nii_file)\n",
        "        \n",
        "        print (cmd)"
      ],
      "execution_count": 46,
      "outputs": [
        {
          "output_type": "stream",
          "text": [
            "Working on IDH/wt/pat00002\n",
            "None\n",
            "Working on IDH/wt/pat00001\n",
            "None\n",
            "Working on IDH/wt/pat00005\n",
            "None\n",
            "Working on IDH/wt/pat00004\n",
            "None\n",
            "Working on IDH/wt/pat00003\n",
            "None\n"
          ],
          "name": "stdout"
        }
      ]
    },
    {
      "cell_type": "code",
      "metadata": {
        "id": "J-YAFnk3qJEt",
        "colab_type": "code",
        "colab": {}
      },
      "source": [
        "NIFTI_PATH = 'IDH/mut/'"
      ],
      "execution_count": 47,
      "outputs": []
    },
    {
      "cell_type": "code",
      "metadata": {
        "id": "OM7Ao_rSqI_u",
        "colab_type": "code",
        "colab": {
          "base_uri": "https://localhost:8080/",
          "height": 187
        },
        "outputId": "07d0aeab-897b-4ce5-a3d3-29fabed34cb2"
      },
      "source": [
        "# Next, Register the images to the avg 152 t1 image from MNI\n",
        "for subj in os.listdir(NIFTI_PATH):\n",
        "    subj_path = os.path.join(NIFTI_PATH, subj)\n",
        "    print (\"Working on \" + subj_path)\n",
        "    series = fnmatch.filter(os.listdir(subj_path), 'N4-*')\n",
        "    for ser in ['t1']:   \n",
        "        MNI_file = './icbm_avg_152_t1_tal_lin.nii'\n",
        "        T1_file =  os.path.join (subj_path, 'N4-t1.nii.gz')\n",
        "        new_file = os.path.join (subj_path, 'Reg-N4-t1.nii.gz')\n",
        "        cmd = \"./flirt -in %s -ref %s  -out %s\" % (T1_file, MNI_file, new_file)\n",
        "        os.system(cmd)\n",
        "        print (cmd)\n",
        "\n"
      ],
      "execution_count": 48,
      "outputs": [
        {
          "output_type": "stream",
          "text": [
            "Working on IDH/mut/pat00002\n",
            "./flirt -in IDH/mut/pat00002/N4-t1.nii.gz -ref ./icbm_avg_152_t1_tal_lin.nii  -out IDH/mut/pat00002/Reg-N4-t1.nii.gz\n",
            "Working on IDH/mut/pat00001\n",
            "./flirt -in IDH/mut/pat00001/N4-t1.nii.gz -ref ./icbm_avg_152_t1_tal_lin.nii  -out IDH/mut/pat00001/Reg-N4-t1.nii.gz\n",
            "Working on IDH/mut/pat00005\n",
            "./flirt -in IDH/mut/pat00005/N4-t1.nii.gz -ref ./icbm_avg_152_t1_tal_lin.nii  -out IDH/mut/pat00005/Reg-N4-t1.nii.gz\n",
            "Working on IDH/mut/pat00004\n",
            "./flirt -in IDH/mut/pat00004/N4-t1.nii.gz -ref ./icbm_avg_152_t1_tal_lin.nii  -out IDH/mut/pat00004/Reg-N4-t1.nii.gz\n",
            "Working on IDH/mut/pat00003\n",
            "./flirt -in IDH/mut/pat00003/N4-t1.nii.gz -ref ./icbm_avg_152_t1_tal_lin.nii  -out IDH/mut/pat00003/Reg-N4-t1.nii.gz\n"
          ],
          "name": "stdout"
        }
      ]
    },
    {
      "cell_type": "code",
      "metadata": {
        "id": "W6vg4OZOmnmL",
        "colab_type": "code",
        "colab": {
          "base_uri": "https://localhost:8080/",
          "height": 187
        },
        "outputId": "e1ad5198-9da3-4794-c3a9-10d3ba7e1afd"
      },
      "source": [
        "for subj in os.listdir(NIFTI_PATH):\n",
        "    subj_path = os.path.join(NIFTI_PATH, subj)\n",
        "    print (\"Working on \" + subj_path)\n",
        "    series = fnmatch.filter(os.listdir(subj_path), '*.nii.gz')\n",
        "    for ser in ['N4-t1.nii.gz']: #not sure why I had to add the star here but this was the only way it worked\n",
        "        nii_file = os.path.join (subj_path, ser)\n",
        "# removes old files\n",
        "        \n",
        "        cmd = os.remove(nii_file)\n",
        "        \n",
        "        print (cmd)"
      ],
      "execution_count": 49,
      "outputs": [
        {
          "output_type": "stream",
          "text": [
            "Working on IDH/mut/pat00002\n",
            "None\n",
            "Working on IDH/mut/pat00001\n",
            "None\n",
            "Working on IDH/mut/pat00005\n",
            "None\n",
            "Working on IDH/mut/pat00004\n",
            "None\n",
            "Working on IDH/mut/pat00003\n",
            "None\n"
          ],
          "name": "stdout"
        }
      ]
    },
    {
      "cell_type": "code",
      "metadata": {
        "id": "mRiagwr8JQjc",
        "colab_type": "code",
        "colab": {
          "base_uri": "https://localhost:8080/",
          "height": 207
        },
        "outputId": "eb7ce162-d2a1-4f8c-dabe-216c2952e710"
      },
      "source": [
        "# Next, Register the images to the avg 152 t1 image from MNI\n",
        "for subj in os.listdir(NIFTI_PATH):\n",
        "    subj_path = os.path.join(NIFTI_PATH, subj)\n",
        "    print (\"Working on \" + subj_path)\n",
        "    series = fnmatch.filter(os.listdir(subj_path), 'N4-*')\n",
        "    for ser in ['flair']:   \n",
        "        MNI_file = os.path.join (subj_path, 'Reg-N4-t1.nii.gz')\n",
        "        T1_file =  os.path.join (subj_path, 'N4-flair.nii.gz')\n",
        "        new_file = os.path.join (subj_path, 'Reg-N4-flair.nii.gz')\n",
        "        cmd = \"./flirt -in %s -ref %s  -out %s\" % (T1_file, MNI_file, new_file)\n",
        "        os.system(cmd)\n",
        "        print (cmd)"
      ],
      "execution_count": 50,
      "outputs": [
        {
          "output_type": "stream",
          "text": [
            "Working on IDH/mut/pat00002\n",
            "./flirt -in IDH/mut/pat00002/N4-flair.nii.gz -ref IDH/mut/pat00002/Reg-N4-t1.nii.gz  -out IDH/mut/pat00002/Reg-N4-flair.nii.gz\n",
            "Working on IDH/mut/pat00001\n",
            "./flirt -in IDH/mut/pat00001/N4-flair.nii.gz -ref IDH/mut/pat00001/Reg-N4-t1.nii.gz  -out IDH/mut/pat00001/Reg-N4-flair.nii.gz\n",
            "Working on IDH/mut/pat00005\n",
            "./flirt -in IDH/mut/pat00005/N4-flair.nii.gz -ref IDH/mut/pat00005/Reg-N4-t1.nii.gz  -out IDH/mut/pat00005/Reg-N4-flair.nii.gz\n",
            "Working on IDH/mut/pat00004\n",
            "./flirt -in IDH/mut/pat00004/N4-flair.nii.gz -ref IDH/mut/pat00004/Reg-N4-t1.nii.gz  -out IDH/mut/pat00004/Reg-N4-flair.nii.gz\n",
            "Working on IDH/mut/pat00003\n",
            "./flirt -in IDH/mut/pat00003/N4-flair.nii.gz -ref IDH/mut/pat00003/Reg-N4-t1.nii.gz  -out IDH/mut/pat00003/Reg-N4-flair.nii.gz\n"
          ],
          "name": "stdout"
        }
      ]
    },
    {
      "cell_type": "code",
      "metadata": {
        "id": "MV6GAMV9moKL",
        "colab_type": "code",
        "colab": {
          "base_uri": "https://localhost:8080/",
          "height": 187
        },
        "outputId": "d0d4f924-ecb3-4334-8583-303750010502"
      },
      "source": [
        "for subj in os.listdir(NIFTI_PATH):\n",
        "    subj_path = os.path.join(NIFTI_PATH, subj)\n",
        "    print (\"Working on \" + subj_path)\n",
        "    series = fnmatch.filter(os.listdir(subj_path), '*.nii.gz')\n",
        "    for ser in ['N4-flair.nii.gz']: #not sure why I had to add the star here but this was the only way it worked\n",
        "        nii_file = os.path.join (subj_path, ser)\n",
        "# removes old files\n",
        "        \n",
        "        cmd = os.remove(nii_file)\n",
        "        \n",
        "        print (cmd)"
      ],
      "execution_count": 51,
      "outputs": [
        {
          "output_type": "stream",
          "text": [
            "Working on IDH/mut/pat00002\n",
            "None\n",
            "Working on IDH/mut/pat00001\n",
            "None\n",
            "Working on IDH/mut/pat00005\n",
            "None\n",
            "Working on IDH/mut/pat00004\n",
            "None\n",
            "Working on IDH/mut/pat00003\n",
            "None\n"
          ],
          "name": "stdout"
        }
      ]
    },
    {
      "cell_type": "code",
      "metadata": {
        "id": "SkvKM0YaJQWD",
        "colab_type": "code",
        "colab": {
          "base_uri": "https://localhost:8080/",
          "height": 207
        },
        "outputId": "6a9d8133-2e22-4a27-887d-30aeb43e211e"
      },
      "source": [
        "# Next, Register the images to the avg 152 t1 image from MNI\n",
        "for subj in os.listdir(NIFTI_PATH):\n",
        "    subj_path = os.path.join(NIFTI_PATH, subj)\n",
        "    print (\"Working on \" + subj_path)\n",
        "    series = fnmatch.filter(os.listdir(subj_path), 'N4-*')\n",
        "    for ser in ['gad']:   \n",
        "        MNI_file = os.path.join (subj_path, 'Reg-N4-t1.nii.gz')\n",
        "        T1_file =  os.path.join (subj_path, 'N4-gad.nii.gz')\n",
        "        new_file = os.path.join (subj_path, 'Reg-N4-gad.nii.gz')\n",
        "        cmd = \"./flirt -in %s -ref %s  -out %s\" % (T1_file, MNI_file, new_file)\n",
        "        os.system(cmd)\n",
        "        print (cmd)\n"
      ],
      "execution_count": 52,
      "outputs": [
        {
          "output_type": "stream",
          "text": [
            "Working on IDH/mut/pat00002\n",
            "./flirt -in IDH/mut/pat00002/N4-gad.nii.gz -ref IDH/mut/pat00002/Reg-N4-t1.nii.gz  -out IDH/mut/pat00002/Reg-N4-gad.nii.gz\n",
            "Working on IDH/mut/pat00001\n",
            "./flirt -in IDH/mut/pat00001/N4-gad.nii.gz -ref IDH/mut/pat00001/Reg-N4-t1.nii.gz  -out IDH/mut/pat00001/Reg-N4-gad.nii.gz\n",
            "Working on IDH/mut/pat00005\n",
            "./flirt -in IDH/mut/pat00005/N4-gad.nii.gz -ref IDH/mut/pat00005/Reg-N4-t1.nii.gz  -out IDH/mut/pat00005/Reg-N4-gad.nii.gz\n",
            "Working on IDH/mut/pat00004\n",
            "./flirt -in IDH/mut/pat00004/N4-gad.nii.gz -ref IDH/mut/pat00004/Reg-N4-t1.nii.gz  -out IDH/mut/pat00004/Reg-N4-gad.nii.gz\n",
            "Working on IDH/mut/pat00003\n",
            "./flirt -in IDH/mut/pat00003/N4-gad.nii.gz -ref IDH/mut/pat00003/Reg-N4-t1.nii.gz  -out IDH/mut/pat00003/Reg-N4-gad.nii.gz\n"
          ],
          "name": "stdout"
        }
      ]
    },
    {
      "cell_type": "code",
      "metadata": {
        "id": "ssOJ5VSKmovU",
        "colab_type": "code",
        "colab": {
          "base_uri": "https://localhost:8080/",
          "height": 187
        },
        "outputId": "d59db042-2a29-4377-8ae6-466c64834376"
      },
      "source": [
        "for subj in os.listdir(NIFTI_PATH):\n",
        "    subj_path = os.path.join(NIFTI_PATH, subj)\n",
        "    print (\"Working on \" + subj_path)\n",
        "    series = fnmatch.filter(os.listdir(subj_path), '*.nii.gz')\n",
        "    for ser in ['N4-gad.nii.gz']: #not sure why I had to add the star here but this was the only way it worked\n",
        "        nii_file = os.path.join (subj_path, ser)\n",
        "# removes old files\n",
        "        \n",
        "        cmd = os.remove(nii_file)\n",
        "        \n",
        "        print (cmd)"
      ],
      "execution_count": 53,
      "outputs": [
        {
          "output_type": "stream",
          "text": [
            "Working on IDH/mut/pat00002\n",
            "None\n",
            "Working on IDH/mut/pat00001\n",
            "None\n",
            "Working on IDH/mut/pat00005\n",
            "None\n",
            "Working on IDH/mut/pat00004\n",
            "None\n",
            "Working on IDH/mut/pat00003\n",
            "None\n"
          ],
          "name": "stdout"
        }
      ]
    },
    {
      "cell_type": "code",
      "metadata": {
        "id": "P3hBfqpgKvv_",
        "colab_type": "code",
        "colab": {
          "base_uri": "https://localhost:8080/",
          "height": 136
        },
        "outputId": "1c0ffa08-8c8f-4792-c225-0894991d40f1"
      },
      "source": [
        "\n",
        "!git clone https://github.com/MIC-DKFZ/HD-BET\n"
      ],
      "execution_count": 54,
      "outputs": [
        {
          "output_type": "stream",
          "text": [
            "Cloning into 'HD-BET'...\n",
            "remote: Enumerating objects: 6, done.\u001b[K\n",
            "remote: Counting objects: 100% (6/6), done.\u001b[K\n",
            "remote: Compressing objects: 100% (4/4), done.\u001b[K\n",
            "remote: Total 152 (delta 2), reused 6 (delta 2), pack-reused 146\u001b[K\n",
            "Receiving objects: 100% (152/152), 36.97 KiB | 7.39 MiB/s, done.\n",
            "Resolving deltas: 100% (96/96), done.\n"
          ],
          "name": "stdout"
        }
      ]
    },
    {
      "cell_type": "code",
      "metadata": {
        "id": "cDkqIQS9KwGA",
        "colab_type": "code",
        "colab": {
          "base_uri": "https://localhost:8080/",
          "height": 445
        },
        "outputId": "1c7056e7-dec2-4906-bbca-29b5830394ab"
      },
      "source": [
        "%cd HD-BET\n",
        "! pip install -e ."
      ],
      "execution_count": 55,
      "outputs": [
        {
          "output_type": "stream",
          "text": [
            "/content/HD-BET\n",
            "Obtaining file:///content/HD-BET\n",
            "Requirement already satisfied: numpy in /usr/local/lib/python3.6/dist-packages (from HD-BET==1.0) (1.18.5)\n",
            "Requirement already satisfied: torch>=0.4.1 in /usr/local/lib/python3.6/dist-packages (from HD-BET==1.0) (1.6.0+cu101)\n",
            "Requirement already satisfied: scikit-image in /usr/local/lib/python3.6/dist-packages (from HD-BET==1.0) (0.16.2)\n",
            "Collecting SimpleITK\n",
            "\u001b[?25l  Downloading https://files.pythonhosted.org/packages/f8/d8/53338c34f71020725ffb3557846c80af96c29c03bc883551a2565aa68a7c/SimpleITK-1.2.4-cp36-cp36m-manylinux1_x86_64.whl (42.5MB)\n",
            "\u001b[K     |████████████████████████████████| 42.5MB 70kB/s \n",
            "\u001b[?25hRequirement already satisfied: future in /usr/local/lib/python3.6/dist-packages (from torch>=0.4.1->HD-BET==1.0) (0.16.0)\n",
            "Requirement already satisfied: networkx>=2.0 in /usr/local/lib/python3.6/dist-packages (from scikit-image->HD-BET==1.0) (2.5)\n",
            "Requirement already satisfied: imageio>=2.3.0 in /usr/local/lib/python3.6/dist-packages (from scikit-image->HD-BET==1.0) (2.4.1)\n",
            "Requirement already satisfied: matplotlib!=3.0.0,>=2.0.0 in /usr/local/lib/python3.6/dist-packages (from scikit-image->HD-BET==1.0) (3.2.2)\n",
            "Requirement already satisfied: scipy>=0.19.0 in /usr/local/lib/python3.6/dist-packages (from scikit-image->HD-BET==1.0) (1.4.1)\n",
            "Requirement already satisfied: pillow>=4.3.0 in /usr/local/lib/python3.6/dist-packages (from scikit-image->HD-BET==1.0) (7.0.0)\n",
            "Requirement already satisfied: PyWavelets>=0.4.0 in /usr/local/lib/python3.6/dist-packages (from scikit-image->HD-BET==1.0) (1.1.1)\n",
            "Requirement already satisfied: decorator>=4.3.0 in /usr/local/lib/python3.6/dist-packages (from networkx>=2.0->scikit-image->HD-BET==1.0) (4.4.2)\n",
            "Requirement already satisfied: pyparsing!=2.0.4,!=2.1.2,!=2.1.6,>=2.0.1 in /usr/local/lib/python3.6/dist-packages (from matplotlib!=3.0.0,>=2.0.0->scikit-image->HD-BET==1.0) (2.4.7)\n",
            "Requirement already satisfied: cycler>=0.10 in /usr/local/lib/python3.6/dist-packages (from matplotlib!=3.0.0,>=2.0.0->scikit-image->HD-BET==1.0) (0.10.0)\n",
            "Requirement already satisfied: kiwisolver>=1.0.1 in /usr/local/lib/python3.6/dist-packages (from matplotlib!=3.0.0,>=2.0.0->scikit-image->HD-BET==1.0) (1.2.0)\n",
            "Requirement already satisfied: python-dateutil>=2.1 in /usr/local/lib/python3.6/dist-packages (from matplotlib!=3.0.0,>=2.0.0->scikit-image->HD-BET==1.0) (2.8.1)\n",
            "Requirement already satisfied: six in /usr/local/lib/python3.6/dist-packages (from cycler>=0.10->matplotlib!=3.0.0,>=2.0.0->scikit-image->HD-BET==1.0) (1.15.0)\n",
            "Installing collected packages: SimpleITK, HD-BET\n",
            "  Running setup.py develop for HD-BET\n",
            "Successfully installed HD-BET SimpleITK-1.2.4\n"
          ],
          "name": "stdout"
        }
      ]
    },
    {
      "cell_type": "code",
      "metadata": {
        "id": "wG-2LQgqKv4v",
        "colab_type": "code",
        "colab": {
          "base_uri": "https://localhost:8080/",
          "height": 34
        },
        "outputId": "4b8fcc3d-e7aa-49f6-8782-adbc57720943"
      },
      "source": [
        "%cd '/content/'"
      ],
      "execution_count": 56,
      "outputs": [
        {
          "output_type": "stream",
          "text": [
            "/content\n"
          ],
          "name": "stdout"
        }
      ]
    },
    {
      "cell_type": "code",
      "metadata": {
        "id": "mSqQa5kSN9wr",
        "colab_type": "code",
        "colab": {}
      },
      "source": [
        "NIFTI_PATH = 'IDH/wt/'"
      ],
      "execution_count": 57,
      "outputs": []
    },
    {
      "cell_type": "code",
      "metadata": {
        "id": "E-cSOQ0bKv2C",
        "colab_type": "code",
        "colab": {
          "base_uri": "https://localhost:8080/",
          "height": 102
        },
        "outputId": "cfd04d60-b51f-40ca-b3c3-ae6aea33cab0"
      },
      "source": [
        "#iterate through all patients in no (then add codels)\n",
        "\n",
        "for subj in os.listdir(NIFTI_PATH):\n",
        "    subj_path = os.path.join(NIFTI_PATH, subj)\n",
        "    #print (\"Working on \" + subj_path)\n",
        "    series = fnmatch.filter(os.listdir(subj_path), 'Reg-N4-t1*')\n",
        "    for ser in series:  \n",
        "      name = (os.path.join(\"!hd-bet -i \" + subj_path + \"/\" + ser))\n",
        "      print(name)\n",
        "\n",
        "#copy all output and enter into next field.    "
      ],
      "execution_count": 58,
      "outputs": [
        {
          "output_type": "stream",
          "text": [
            "!hd-bet -i IDH/wt/pat00002/Reg-N4-t1.nii.gz\n",
            "!hd-bet -i IDH/wt/pat00001/Reg-N4-t1.nii.gz\n",
            "!hd-bet -i IDH/wt/pat00005/Reg-N4-t1.nii.gz\n",
            "!hd-bet -i IDH/wt/pat00004/Reg-N4-t1.nii.gz\n",
            "!hd-bet -i IDH/wt/pat00003/Reg-N4-t1.nii.gz\n"
          ],
          "name": "stdout"
        }
      ]
    },
    {
      "cell_type": "code",
      "metadata": {
        "id": "wk7MRSVvKvkR",
        "colab_type": "code",
        "colab": {
          "base_uri": "https://localhost:8080/",
          "height": 1000
        },
        "outputId": "1afc12d5-3411-4fd0-e215-aa8332e0200a"
      },
      "source": [
        "!hd-bet -i IDH/wt/pat00002/Reg-N4-t1.nii.gz\n",
        "!hd-bet -i IDH/wt/pat00001/Reg-N4-t1.nii.gz\n",
        "!hd-bet -i IDH/wt/pat00005/Reg-N4-t1.nii.gz\n",
        "!hd-bet -i IDH/wt/pat00004/Reg-N4-t1.nii.gz\n",
        "!hd-bet -i IDH/wt/pat00003/Reg-N4-t1.nii.gz"
      ],
      "execution_count": 59,
      "outputs": [
        {
          "output_type": "stream",
          "text": [
            "\n",
            "########################\n",
            "If you are using hd-bet, please cite the following paper:\n",
            "Isensee F, Schell M, Tursunova I, Brugnara G, Bonekamp D, Neuberger U, Wick A, Schlemmer HP, Heiland S, Wick W,Bendszus M, Maier-Hein KH, Kickingereder P. Automated brain extraction of multi-sequence MRI using artificialneural networks. arXiv preprint arXiv:1901.11341, 2019.\n",
            "########################\n",
            "\n",
            "Downloading https://zenodo.org/record/2540695/files/0.model?download=1 ...\n",
            "Downloading https://zenodo.org/record/2540695/files/1.model?download=1 ...\n",
            "Downloading https://zenodo.org/record/2540695/files/2.model?download=1 ...\n",
            "Downloading https://zenodo.org/record/2540695/files/3.model?download=1 ...\n",
            "Downloading https://zenodo.org/record/2540695/files/4.model?download=1 ...\n",
            "File: IDH/wt/pat00002/Reg-N4-t1.nii.gz\n",
            "preprocessing...\n",
            "image shape after preprocessing:  (121, 145, 121)\n",
            "prediction (CNN id)...\n",
            "0\n",
            "1\n",
            "2\n",
            "3\n",
            "4\n",
            "running postprocessing... \n",
            "/content/HD-BET/HD_BET/utils.py:74: UserWarning: The argument 'neighbors' is deprecated and will be removed in scikit-image 0.18, use 'connectivity' instead. For neighbors=8, use connectivity=3\n",
            "  lbls = label(mask, 8)\n",
            "exporting segmentation...\n",
            "\n",
            "########################\n",
            "If you are using hd-bet, please cite the following paper:\n",
            "Isensee F, Schell M, Tursunova I, Brugnara G, Bonekamp D, Neuberger U, Wick A, Schlemmer HP, Heiland S, Wick W,Bendszus M, Maier-Hein KH, Kickingereder P. Automated brain extraction of multi-sequence MRI using artificialneural networks. arXiv preprint arXiv:1901.11341, 2019.\n",
            "########################\n",
            "\n",
            "File: IDH/wt/pat00001/Reg-N4-t1.nii.gz\n",
            "preprocessing...\n",
            "image shape after preprocessing:  (121, 145, 121)\n",
            "prediction (CNN id)...\n",
            "0\n",
            "1\n",
            "2\n",
            "3\n",
            "4\n",
            "running postprocessing... \n",
            "/content/HD-BET/HD_BET/utils.py:74: UserWarning: The argument 'neighbors' is deprecated and will be removed in scikit-image 0.18, use 'connectivity' instead. For neighbors=8, use connectivity=3\n",
            "  lbls = label(mask, 8)\n",
            "exporting segmentation...\n",
            "\n",
            "########################\n",
            "If you are using hd-bet, please cite the following paper:\n",
            "Isensee F, Schell M, Tursunova I, Brugnara G, Bonekamp D, Neuberger U, Wick A, Schlemmer HP, Heiland S, Wick W,Bendszus M, Maier-Hein KH, Kickingereder P. Automated brain extraction of multi-sequence MRI using artificialneural networks. arXiv preprint arXiv:1901.11341, 2019.\n",
            "########################\n",
            "\n",
            "File: IDH/wt/pat00005/Reg-N4-t1.nii.gz\n",
            "preprocessing...\n",
            "image shape after preprocessing:  (121, 145, 121)\n",
            "prediction (CNN id)...\n",
            "0\n",
            "1\n",
            "2\n",
            "3\n",
            "4\n",
            "running postprocessing... \n",
            "/content/HD-BET/HD_BET/utils.py:74: UserWarning: The argument 'neighbors' is deprecated and will be removed in scikit-image 0.18, use 'connectivity' instead. For neighbors=8, use connectivity=3\n",
            "  lbls = label(mask, 8)\n",
            "exporting segmentation...\n",
            "\n",
            "########################\n",
            "If you are using hd-bet, please cite the following paper:\n",
            "Isensee F, Schell M, Tursunova I, Brugnara G, Bonekamp D, Neuberger U, Wick A, Schlemmer HP, Heiland S, Wick W,Bendszus M, Maier-Hein KH, Kickingereder P. Automated brain extraction of multi-sequence MRI using artificialneural networks. arXiv preprint arXiv:1901.11341, 2019.\n",
            "########################\n",
            "\n",
            "File: IDH/wt/pat00004/Reg-N4-t1.nii.gz\n",
            "preprocessing...\n",
            "image shape after preprocessing:  (121, 145, 121)\n",
            "prediction (CNN id)...\n",
            "0\n",
            "1\n",
            "2\n",
            "3\n",
            "4\n",
            "running postprocessing... \n",
            "/content/HD-BET/HD_BET/utils.py:74: UserWarning: The argument 'neighbors' is deprecated and will be removed in scikit-image 0.18, use 'connectivity' instead. For neighbors=8, use connectivity=3\n",
            "  lbls = label(mask, 8)\n",
            "exporting segmentation...\n",
            "\n",
            "########################\n",
            "If you are using hd-bet, please cite the following paper:\n",
            "Isensee F, Schell M, Tursunova I, Brugnara G, Bonekamp D, Neuberger U, Wick A, Schlemmer HP, Heiland S, Wick W,Bendszus M, Maier-Hein KH, Kickingereder P. Automated brain extraction of multi-sequence MRI using artificialneural networks. arXiv preprint arXiv:1901.11341, 2019.\n",
            "########################\n",
            "\n",
            "File: IDH/wt/pat00003/Reg-N4-t1.nii.gz\n",
            "preprocessing...\n",
            "image shape after preprocessing:  (121, 145, 121)\n",
            "prediction (CNN id)...\n",
            "0\n",
            "1\n",
            "2\n",
            "3\n",
            "4\n",
            "running postprocessing... \n",
            "/content/HD-BET/HD_BET/utils.py:74: UserWarning: The argument 'neighbors' is deprecated and will be removed in scikit-image 0.18, use 'connectivity' instead. For neighbors=8, use connectivity=3\n",
            "  lbls = label(mask, 8)\n",
            "exporting segmentation...\n"
          ],
          "name": "stdout"
        }
      ]
    },
    {
      "cell_type": "code",
      "metadata": {
        "id": "pNzOiOgANvTm",
        "colab_type": "code",
        "colab": {
          "base_uri": "https://localhost:8080/",
          "height": 187
        },
        "outputId": "700e3c4b-fb15-45d2-d341-748cce47e532"
      },
      "source": [
        "\n",
        "for subj in os.listdir(NIFTI_PATH):\n",
        "    subj_path = os.path.join(NIFTI_PATH, subj)\n",
        "    print (\"Working on \" + subj_path)\n",
        "    series = fnmatch.filter(os.listdir(subj_path), '*.nii.gz')\n",
        "    for ser in ['Reg-N4-t1.nii.gz']: #not sure why I had to add the star here but this was the only way it worked\n",
        "        nii_file = os.path.join (subj_path, ser)\n",
        "# removes old files\n",
        "        \n",
        "        cmd = os.remove(nii_file)\n",
        "        \n",
        "        print (cmd)"
      ],
      "execution_count": 60,
      "outputs": [
        {
          "output_type": "stream",
          "text": [
            "Working on IDH/wt/pat00002\n",
            "None\n",
            "Working on IDH/wt/pat00001\n",
            "None\n",
            "Working on IDH/wt/pat00005\n",
            "None\n",
            "Working on IDH/wt/pat00004\n",
            "None\n",
            "Working on IDH/wt/pat00003\n",
            "None\n"
          ],
          "name": "stdout"
        }
      ]
    },
    {
      "cell_type": "code",
      "metadata": {
        "id": "l53IR0e1NvGr",
        "colab_type": "code",
        "colab": {
          "base_uri": "https://localhost:8080/",
          "height": 187
        },
        "outputId": "aa6735e3-d5d4-4c28-9446-6e4b858e2d82"
      },
      "source": [
        "for subj in os.listdir(NIFTI_PATH):\n",
        "    subj_path = os.path.join(NIFTI_PATH, subj)\n",
        "    print (\"Working on \" + subj_path)\n",
        "    series = fnmatch.filter(os.listdir(subj_path), '*.nii.gz')\n",
        "    for ser in ['Reg-N4-t1_bet_mask.nii.gz']: #not sure why I had to add the star here but this was the only way it worked\n",
        "        nii_file = os.path.join (subj_path, ser)\n",
        "# removes old files\n",
        "        \n",
        "        cmd = os.remove(nii_file)\n",
        "        \n",
        "        print (cmd)"
      ],
      "execution_count": 61,
      "outputs": [
        {
          "output_type": "stream",
          "text": [
            "Working on IDH/wt/pat00002\n",
            "None\n",
            "Working on IDH/wt/pat00001\n",
            "None\n",
            "Working on IDH/wt/pat00005\n",
            "None\n",
            "Working on IDH/wt/pat00004\n",
            "None\n",
            "Working on IDH/wt/pat00003\n",
            "None\n"
          ],
          "name": "stdout"
        }
      ]
    },
    {
      "cell_type": "code",
      "metadata": {
        "id": "qhi1ShT6Pj_u",
        "colab_type": "code",
        "colab": {
          "base_uri": "https://localhost:8080/",
          "height": 102
        },
        "outputId": "92fdd621-54ae-482b-d689-786378b51e79"
      },
      "source": [
        "#iterate through all patients in no (then add codels)\n",
        "\n",
        "for subj in os.listdir(NIFTI_PATH):\n",
        "    subj_path = os.path.join(NIFTI_PATH, subj)\n",
        "    #print (\"Working on \" + subj_path)\n",
        "    series = fnmatch.filter(os.listdir(subj_path), 'Reg-N4-flair*')\n",
        "    for ser in series:  \n",
        "      name = (os.path.join(\"!hd-bet -i \" + subj_path + \"/\" + ser))\n",
        "      print(name)\n",
        "\n",
        "#copy all output and enter into next field.    "
      ],
      "execution_count": 62,
      "outputs": [
        {
          "output_type": "stream",
          "text": [
            "!hd-bet -i IDH/wt/pat00002/Reg-N4-flair.nii.gz\n",
            "!hd-bet -i IDH/wt/pat00001/Reg-N4-flair.nii.gz\n",
            "!hd-bet -i IDH/wt/pat00005/Reg-N4-flair.nii.gz\n",
            "!hd-bet -i IDH/wt/pat00004/Reg-N4-flair.nii.gz\n",
            "!hd-bet -i IDH/wt/pat00003/Reg-N4-flair.nii.gz\n"
          ],
          "name": "stdout"
        }
      ]
    },
    {
      "cell_type": "code",
      "metadata": {
        "id": "qu-p_VSiPkdv",
        "colab_type": "code",
        "colab": {
          "base_uri": "https://localhost:8080/",
          "height": 1000
        },
        "outputId": "93580b80-dce2-4e75-d50e-5a4f4319d084"
      },
      "source": [
        "!hd-bet -i IDH/wt/pat00002/Reg-N4-flair.nii.gz\n",
        "!hd-bet -i IDH/wt/pat00001/Reg-N4-flair.nii.gz\n",
        "!hd-bet -i IDH/wt/pat00005/Reg-N4-flair.nii.gz\n",
        "!hd-bet -i IDH/wt/pat00004/Reg-N4-flair.nii.gz\n",
        "!hd-bet -i IDH/wt/pat00003/Reg-N4-flair.nii.gz"
      ],
      "execution_count": 63,
      "outputs": [
        {
          "output_type": "stream",
          "text": [
            "\n",
            "########################\n",
            "If you are using hd-bet, please cite the following paper:\n",
            "Isensee F, Schell M, Tursunova I, Brugnara G, Bonekamp D, Neuberger U, Wick A, Schlemmer HP, Heiland S, Wick W,Bendszus M, Maier-Hein KH, Kickingereder P. Automated brain extraction of multi-sequence MRI using artificialneural networks. arXiv preprint arXiv:1901.11341, 2019.\n",
            "########################\n",
            "\n",
            "File: IDH/wt/pat00002/Reg-N4-flair.nii.gz\n",
            "preprocessing...\n",
            "image shape after preprocessing:  (121, 145, 121)\n",
            "prediction (CNN id)...\n",
            "0\n",
            "1\n",
            "2\n",
            "3\n",
            "4\n",
            "running postprocessing... \n",
            "/content/HD-BET/HD_BET/utils.py:74: UserWarning: The argument 'neighbors' is deprecated and will be removed in scikit-image 0.18, use 'connectivity' instead. For neighbors=8, use connectivity=3\n",
            "  lbls = label(mask, 8)\n",
            "exporting segmentation...\n",
            "\n",
            "########################\n",
            "If you are using hd-bet, please cite the following paper:\n",
            "Isensee F, Schell M, Tursunova I, Brugnara G, Bonekamp D, Neuberger U, Wick A, Schlemmer HP, Heiland S, Wick W,Bendszus M, Maier-Hein KH, Kickingereder P. Automated brain extraction of multi-sequence MRI using artificialneural networks. arXiv preprint arXiv:1901.11341, 2019.\n",
            "########################\n",
            "\n",
            "File: IDH/wt/pat00001/Reg-N4-flair.nii.gz\n",
            "preprocessing...\n",
            "image shape after preprocessing:  (121, 145, 121)\n",
            "prediction (CNN id)...\n",
            "0\n",
            "1\n",
            "2\n",
            "3\n",
            "4\n",
            "running postprocessing... \n",
            "/content/HD-BET/HD_BET/utils.py:74: UserWarning: The argument 'neighbors' is deprecated and will be removed in scikit-image 0.18, use 'connectivity' instead. For neighbors=8, use connectivity=3\n",
            "  lbls = label(mask, 8)\n",
            "exporting segmentation...\n",
            "\n",
            "########################\n",
            "If you are using hd-bet, please cite the following paper:\n",
            "Isensee F, Schell M, Tursunova I, Brugnara G, Bonekamp D, Neuberger U, Wick A, Schlemmer HP, Heiland S, Wick W,Bendszus M, Maier-Hein KH, Kickingereder P. Automated brain extraction of multi-sequence MRI using artificialneural networks. arXiv preprint arXiv:1901.11341, 2019.\n",
            "########################\n",
            "\n",
            "File: IDH/wt/pat00005/Reg-N4-flair.nii.gz\n",
            "preprocessing...\n",
            "image shape after preprocessing:  (121, 145, 121)\n",
            "prediction (CNN id)...\n",
            "0\n",
            "1\n",
            "2\n",
            "3\n",
            "4\n",
            "running postprocessing... \n",
            "/content/HD-BET/HD_BET/utils.py:74: UserWarning: The argument 'neighbors' is deprecated and will be removed in scikit-image 0.18, use 'connectivity' instead. For neighbors=8, use connectivity=3\n",
            "  lbls = label(mask, 8)\n",
            "exporting segmentation...\n",
            "\n",
            "########################\n",
            "If you are using hd-bet, please cite the following paper:\n",
            "Isensee F, Schell M, Tursunova I, Brugnara G, Bonekamp D, Neuberger U, Wick A, Schlemmer HP, Heiland S, Wick W,Bendszus M, Maier-Hein KH, Kickingereder P. Automated brain extraction of multi-sequence MRI using artificialneural networks. arXiv preprint arXiv:1901.11341, 2019.\n",
            "########################\n",
            "\n",
            "File: IDH/wt/pat00004/Reg-N4-flair.nii.gz\n",
            "preprocessing...\n",
            "image shape after preprocessing:  (121, 145, 121)\n",
            "prediction (CNN id)...\n",
            "0\n",
            "1\n",
            "2\n",
            "3\n",
            "4\n",
            "running postprocessing... \n",
            "/content/HD-BET/HD_BET/utils.py:74: UserWarning: The argument 'neighbors' is deprecated and will be removed in scikit-image 0.18, use 'connectivity' instead. For neighbors=8, use connectivity=3\n",
            "  lbls = label(mask, 8)\n",
            "exporting segmentation...\n",
            "\n",
            "########################\n",
            "If you are using hd-bet, please cite the following paper:\n",
            "Isensee F, Schell M, Tursunova I, Brugnara G, Bonekamp D, Neuberger U, Wick A, Schlemmer HP, Heiland S, Wick W,Bendszus M, Maier-Hein KH, Kickingereder P. Automated brain extraction of multi-sequence MRI using artificialneural networks. arXiv preprint arXiv:1901.11341, 2019.\n",
            "########################\n",
            "\n",
            "File: IDH/wt/pat00003/Reg-N4-flair.nii.gz\n",
            "preprocessing...\n",
            "image shape after preprocessing:  (121, 145, 121)\n",
            "prediction (CNN id)...\n",
            "0\n",
            "1\n",
            "2\n",
            "3\n",
            "4\n",
            "running postprocessing... \n",
            "/content/HD-BET/HD_BET/utils.py:74: UserWarning: The argument 'neighbors' is deprecated and will be removed in scikit-image 0.18, use 'connectivity' instead. For neighbors=8, use connectivity=3\n",
            "  lbls = label(mask, 8)\n",
            "exporting segmentation...\n"
          ],
          "name": "stdout"
        }
      ]
    },
    {
      "cell_type": "code",
      "metadata": {
        "id": "yYYacl93Pk0N",
        "colab_type": "code",
        "colab": {
          "base_uri": "https://localhost:8080/",
          "height": 187
        },
        "outputId": "0fad6855-aca1-4cb2-9744-e8cdd5233b10"
      },
      "source": [
        "\n",
        "for subj in os.listdir(NIFTI_PATH):\n",
        "    subj_path = os.path.join(NIFTI_PATH, subj)\n",
        "    print (\"Working on \" + subj_path)\n",
        "    series = fnmatch.filter(os.listdir(subj_path), '*.nii.gz')\n",
        "    for ser in ['Reg-N4-flair.nii.gz']: #not sure why I had to add the star here but this was the only way it worked\n",
        "        nii_file = os.path.join (subj_path, ser)\n",
        "# removes old files\n",
        "        \n",
        "        cmd = os.remove(nii_file)\n",
        "        \n",
        "        print (cmd)"
      ],
      "execution_count": 64,
      "outputs": [
        {
          "output_type": "stream",
          "text": [
            "Working on IDH/wt/pat00002\n",
            "None\n",
            "Working on IDH/wt/pat00001\n",
            "None\n",
            "Working on IDH/wt/pat00005\n",
            "None\n",
            "Working on IDH/wt/pat00004\n",
            "None\n",
            "Working on IDH/wt/pat00003\n",
            "None\n"
          ],
          "name": "stdout"
        }
      ]
    },
    {
      "cell_type": "code",
      "metadata": {
        "id": "E-QMy0v2PlA6",
        "colab_type": "code",
        "colab": {
          "base_uri": "https://localhost:8080/",
          "height": 187
        },
        "outputId": "5273f4b4-d02e-4f89-9c96-8693f1a85545"
      },
      "source": [
        "for subj in os.listdir(NIFTI_PATH):\n",
        "    subj_path = os.path.join(NIFTI_PATH, subj)\n",
        "    print (\"Working on \" + subj_path)\n",
        "    series = fnmatch.filter(os.listdir(subj_path), '*.nii.gz')\n",
        "    for ser in ['Reg-N4-flair_bet_mask.nii.gz']: #not sure why I had to add the star here but this was the only way it worked\n",
        "        nii_file = os.path.join (subj_path, ser)\n",
        "# removes old files\n",
        "        \n",
        "        cmd = os.remove(nii_file)\n",
        "        \n",
        "        print (cmd)"
      ],
      "execution_count": 65,
      "outputs": [
        {
          "output_type": "stream",
          "text": [
            "Working on IDH/wt/pat00002\n",
            "None\n",
            "Working on IDH/wt/pat00001\n",
            "None\n",
            "Working on IDH/wt/pat00005\n",
            "None\n",
            "Working on IDH/wt/pat00004\n",
            "None\n",
            "Working on IDH/wt/pat00003\n",
            "None\n"
          ],
          "name": "stdout"
        }
      ]
    },
    {
      "cell_type": "code",
      "metadata": {
        "id": "XLTf8M4KPlbo",
        "colab_type": "code",
        "colab": {
          "base_uri": "https://localhost:8080/",
          "height": 102
        },
        "outputId": "e02dbe30-b080-4b89-d684-e8838edca8a1"
      },
      "source": [
        "#iterate through all patients in no (then add codels)\n",
        "\n",
        "for subj in os.listdir(NIFTI_PATH):\n",
        "    subj_path = os.path.join(NIFTI_PATH, subj)\n",
        "    #print (\"Working on \" + subj_path)\n",
        "    series = fnmatch.filter(os.listdir(subj_path), 'Reg-N4-gad*')\n",
        "    for ser in series:  \n",
        "      name = (os.path.join(\"!hd-bet -i \" + subj_path + \"/\" + ser))\n",
        "      print(name)\n",
        "\n",
        "#copy all output and enter into next field.    "
      ],
      "execution_count": 66,
      "outputs": [
        {
          "output_type": "stream",
          "text": [
            "!hd-bet -i IDH/wt/pat00002/Reg-N4-gad.nii.gz\n",
            "!hd-bet -i IDH/wt/pat00001/Reg-N4-gad.nii.gz\n",
            "!hd-bet -i IDH/wt/pat00005/Reg-N4-gad.nii.gz\n",
            "!hd-bet -i IDH/wt/pat00004/Reg-N4-gad.nii.gz\n",
            "!hd-bet -i IDH/wt/pat00003/Reg-N4-gad.nii.gz\n"
          ],
          "name": "stdout"
        }
      ]
    },
    {
      "cell_type": "code",
      "metadata": {
        "id": "McKfwxG5Pk67",
        "colab_type": "code",
        "colab": {
          "base_uri": "https://localhost:8080/",
          "height": 1000
        },
        "outputId": "85591bd6-8763-4efe-fea4-6775945a422c"
      },
      "source": [
        "!hd-bet -i IDH/wt/pat00002/Reg-N4-gad.nii.gz\n",
        "!hd-bet -i IDH/wt/pat00001/Reg-N4-gad.nii.gz\n",
        "!hd-bet -i IDH/wt/pat00005/Reg-N4-gad.nii.gz\n",
        "!hd-bet -i IDH/wt/pat00004/Reg-N4-gad.nii.gz\n",
        "!hd-bet -i IDH/wt/pat00003/Reg-N4-gad.nii.gz"
      ],
      "execution_count": 67,
      "outputs": [
        {
          "output_type": "stream",
          "text": [
            "\n",
            "########################\n",
            "If you are using hd-bet, please cite the following paper:\n",
            "Isensee F, Schell M, Tursunova I, Brugnara G, Bonekamp D, Neuberger U, Wick A, Schlemmer HP, Heiland S, Wick W,Bendszus M, Maier-Hein KH, Kickingereder P. Automated brain extraction of multi-sequence MRI using artificialneural networks. arXiv preprint arXiv:1901.11341, 2019.\n",
            "########################\n",
            "\n",
            "File: IDH/wt/pat00002/Reg-N4-gad.nii.gz\n",
            "preprocessing...\n",
            "image shape after preprocessing:  (121, 145, 121)\n",
            "prediction (CNN id)...\n",
            "0\n",
            "1\n",
            "2\n",
            "3\n",
            "4\n",
            "running postprocessing... \n",
            "/content/HD-BET/HD_BET/utils.py:74: UserWarning: The argument 'neighbors' is deprecated and will be removed in scikit-image 0.18, use 'connectivity' instead. For neighbors=8, use connectivity=3\n",
            "  lbls = label(mask, 8)\n",
            "exporting segmentation...\n",
            "\n",
            "########################\n",
            "If you are using hd-bet, please cite the following paper:\n",
            "Isensee F, Schell M, Tursunova I, Brugnara G, Bonekamp D, Neuberger U, Wick A, Schlemmer HP, Heiland S, Wick W,Bendszus M, Maier-Hein KH, Kickingereder P. Automated brain extraction of multi-sequence MRI using artificialneural networks. arXiv preprint arXiv:1901.11341, 2019.\n",
            "########################\n",
            "\n",
            "File: IDH/wt/pat00001/Reg-N4-gad.nii.gz\n",
            "preprocessing...\n",
            "image shape after preprocessing:  (121, 145, 121)\n",
            "prediction (CNN id)...\n",
            "0\n",
            "1\n",
            "2\n",
            "3\n",
            "4\n",
            "running postprocessing... \n",
            "/content/HD-BET/HD_BET/utils.py:74: UserWarning: The argument 'neighbors' is deprecated and will be removed in scikit-image 0.18, use 'connectivity' instead. For neighbors=8, use connectivity=3\n",
            "  lbls = label(mask, 8)\n",
            "exporting segmentation...\n",
            "\n",
            "########################\n",
            "If you are using hd-bet, please cite the following paper:\n",
            "Isensee F, Schell M, Tursunova I, Brugnara G, Bonekamp D, Neuberger U, Wick A, Schlemmer HP, Heiland S, Wick W,Bendszus M, Maier-Hein KH, Kickingereder P. Automated brain extraction of multi-sequence MRI using artificialneural networks. arXiv preprint arXiv:1901.11341, 2019.\n",
            "########################\n",
            "\n",
            "File: IDH/wt/pat00005/Reg-N4-gad.nii.gz\n",
            "preprocessing...\n",
            "image shape after preprocessing:  (121, 145, 121)\n",
            "prediction (CNN id)...\n",
            "0\n",
            "1\n",
            "2\n",
            "3\n",
            "4\n",
            "running postprocessing... \n",
            "/content/HD-BET/HD_BET/utils.py:74: UserWarning: The argument 'neighbors' is deprecated and will be removed in scikit-image 0.18, use 'connectivity' instead. For neighbors=8, use connectivity=3\n",
            "  lbls = label(mask, 8)\n",
            "exporting segmentation...\n",
            "\n",
            "########################\n",
            "If you are using hd-bet, please cite the following paper:\n",
            "Isensee F, Schell M, Tursunova I, Brugnara G, Bonekamp D, Neuberger U, Wick A, Schlemmer HP, Heiland S, Wick W,Bendszus M, Maier-Hein KH, Kickingereder P. Automated brain extraction of multi-sequence MRI using artificialneural networks. arXiv preprint arXiv:1901.11341, 2019.\n",
            "########################\n",
            "\n",
            "File: IDH/wt/pat00004/Reg-N4-gad.nii.gz\n",
            "preprocessing...\n",
            "image shape after preprocessing:  (121, 145, 121)\n",
            "prediction (CNN id)...\n",
            "0\n",
            "1\n",
            "2\n",
            "3\n",
            "4\n",
            "running postprocessing... \n",
            "/content/HD-BET/HD_BET/utils.py:74: UserWarning: The argument 'neighbors' is deprecated and will be removed in scikit-image 0.18, use 'connectivity' instead. For neighbors=8, use connectivity=3\n",
            "  lbls = label(mask, 8)\n",
            "exporting segmentation...\n",
            "\n",
            "########################\n",
            "If you are using hd-bet, please cite the following paper:\n",
            "Isensee F, Schell M, Tursunova I, Brugnara G, Bonekamp D, Neuberger U, Wick A, Schlemmer HP, Heiland S, Wick W,Bendszus M, Maier-Hein KH, Kickingereder P. Automated brain extraction of multi-sequence MRI using artificialneural networks. arXiv preprint arXiv:1901.11341, 2019.\n",
            "########################\n",
            "\n",
            "File: IDH/wt/pat00003/Reg-N4-gad.nii.gz\n",
            "preprocessing...\n",
            "image shape after preprocessing:  (121, 145, 121)\n",
            "prediction (CNN id)...\n",
            "0\n",
            "1\n",
            "2\n",
            "3\n",
            "4\n",
            "running postprocessing... \n",
            "/content/HD-BET/HD_BET/utils.py:74: UserWarning: The argument 'neighbors' is deprecated and will be removed in scikit-image 0.18, use 'connectivity' instead. For neighbors=8, use connectivity=3\n",
            "  lbls = label(mask, 8)\n",
            "exporting segmentation...\n"
          ],
          "name": "stdout"
        }
      ]
    },
    {
      "cell_type": "code",
      "metadata": {
        "id": "MHAye0UWPkm6",
        "colab_type": "code",
        "colab": {
          "base_uri": "https://localhost:8080/",
          "height": 187
        },
        "outputId": "5b482d33-84a9-4e8e-eea4-28a2bebdd8e3"
      },
      "source": [
        "for subj in os.listdir(NIFTI_PATH):\n",
        "    subj_path = os.path.join(NIFTI_PATH, subj)\n",
        "    print (\"Working on \" + subj_path)\n",
        "    series = fnmatch.filter(os.listdir(subj_path), '*.nii.gz')\n",
        "    for ser in ['Reg-N4-gad.nii.gz']: #not sure why I had to add the star here but this was the only way it worked\n",
        "        nii_file = os.path.join (subj_path, ser)\n",
        "# removes old files\n",
        "        \n",
        "        cmd = os.remove(nii_file)\n",
        "        \n",
        "        print (cmd)"
      ],
      "execution_count": 68,
      "outputs": [
        {
          "output_type": "stream",
          "text": [
            "Working on IDH/wt/pat00002\n",
            "None\n",
            "Working on IDH/wt/pat00001\n",
            "None\n",
            "Working on IDH/wt/pat00005\n",
            "None\n",
            "Working on IDH/wt/pat00004\n",
            "None\n",
            "Working on IDH/wt/pat00003\n",
            "None\n"
          ],
          "name": "stdout"
        }
      ]
    },
    {
      "cell_type": "code",
      "metadata": {
        "id": "6l39OF2HPkTR",
        "colab_type": "code",
        "colab": {
          "base_uri": "https://localhost:8080/",
          "height": 187
        },
        "outputId": "9320eea6-1b47-4685-b3c9-c2e4d08a5857"
      },
      "source": [
        "for subj in os.listdir(NIFTI_PATH):\n",
        "    subj_path = os.path.join(NIFTI_PATH, subj)\n",
        "    print (\"Working on \" + subj_path)\n",
        "    series = fnmatch.filter(os.listdir(subj_path), '*.nii.gz')\n",
        "    for ser in ['Reg-N4-gad_bet_mask.nii.gz']: #not sure why I had to add the star here but this was the only way it worked\n",
        "        nii_file = os.path.join (subj_path, ser)\n",
        "# removes old files\n",
        "        \n",
        "        cmd = os.remove(nii_file)\n",
        "        \n",
        "        print (cmd)"
      ],
      "execution_count": 69,
      "outputs": [
        {
          "output_type": "stream",
          "text": [
            "Working on IDH/wt/pat00002\n",
            "None\n",
            "Working on IDH/wt/pat00001\n",
            "None\n",
            "Working on IDH/wt/pat00005\n",
            "None\n",
            "Working on IDH/wt/pat00004\n",
            "None\n",
            "Working on IDH/wt/pat00003\n",
            "None\n"
          ],
          "name": "stdout"
        }
      ]
    },
    {
      "cell_type": "code",
      "metadata": {
        "id": "_bDDp77FQA4x",
        "colab_type": "code",
        "colab": {}
      },
      "source": [
        "NIFTI_PATH = 'IDH/mut/'"
      ],
      "execution_count": 70,
      "outputs": []
    },
    {
      "cell_type": "code",
      "metadata": {
        "id": "KLThVKPeQH1M",
        "colab_type": "code",
        "colab": {
          "base_uri": "https://localhost:8080/",
          "height": 102
        },
        "outputId": "d9d9eee4-9b79-4bd7-aeff-fc3b227f9561"
      },
      "source": [
        "#iterate through all patients in no (then add codels)\n",
        "\n",
        "for subj in os.listdir(NIFTI_PATH):\n",
        "    subj_path = os.path.join(NIFTI_PATH, subj)\n",
        "    #print (\"Working on \" + subj_path)\n",
        "    series = fnmatch.filter(os.listdir(subj_path), 'Reg-N4-t1*')\n",
        "    for ser in series:  \n",
        "      name = (os.path.join(\"!hd-bet -i \" + subj_path + \"/\" + ser))\n",
        "      print(name)\n",
        "\n",
        "#copy all output and enter into next field.    "
      ],
      "execution_count": 71,
      "outputs": [
        {
          "output_type": "stream",
          "text": [
            "!hd-bet -i IDH/mut/pat00002/Reg-N4-t1.nii.gz\n",
            "!hd-bet -i IDH/mut/pat00001/Reg-N4-t1.nii.gz\n",
            "!hd-bet -i IDH/mut/pat00005/Reg-N4-t1.nii.gz\n",
            "!hd-bet -i IDH/mut/pat00004/Reg-N4-t1.nii.gz\n",
            "!hd-bet -i IDH/mut/pat00003/Reg-N4-t1.nii.gz\n"
          ],
          "name": "stdout"
        }
      ]
    },
    {
      "cell_type": "code",
      "metadata": {
        "id": "laAvZFa6QIKA",
        "colab_type": "code",
        "colab": {
          "base_uri": "https://localhost:8080/",
          "height": 1000
        },
        "outputId": "4c35f9be-c9ad-4d09-ffc2-30d3a45e537d"
      },
      "source": [
        "!hd-bet -i IDH/mut/pat00002/Reg-N4-t1.nii.gz\n",
        "!hd-bet -i IDH/mut/pat00001/Reg-N4-t1.nii.gz\n",
        "!hd-bet -i IDH/mut/pat00005/Reg-N4-t1.nii.gz\n",
        "!hd-bet -i IDH/mut/pat00004/Reg-N4-t1.nii.gz\n",
        "!hd-bet -i IDH/mut/pat00003/Reg-N4-t1.nii.gz"
      ],
      "execution_count": 72,
      "outputs": [
        {
          "output_type": "stream",
          "text": [
            "\n",
            "########################\n",
            "If you are using hd-bet, please cite the following paper:\n",
            "Isensee F, Schell M, Tursunova I, Brugnara G, Bonekamp D, Neuberger U, Wick A, Schlemmer HP, Heiland S, Wick W,Bendszus M, Maier-Hein KH, Kickingereder P. Automated brain extraction of multi-sequence MRI using artificialneural networks. arXiv preprint arXiv:1901.11341, 2019.\n",
            "########################\n",
            "\n",
            "File: IDH/mut/pat00002/Reg-N4-t1.nii.gz\n",
            "preprocessing...\n",
            "image shape after preprocessing:  (121, 145, 121)\n",
            "prediction (CNN id)...\n",
            "0\n",
            "1\n",
            "2\n",
            "3\n",
            "4\n",
            "running postprocessing... \n",
            "/content/HD-BET/HD_BET/utils.py:74: UserWarning: The argument 'neighbors' is deprecated and will be removed in scikit-image 0.18, use 'connectivity' instead. For neighbors=8, use connectivity=3\n",
            "  lbls = label(mask, 8)\n",
            "exporting segmentation...\n",
            "\n",
            "########################\n",
            "If you are using hd-bet, please cite the following paper:\n",
            "Isensee F, Schell M, Tursunova I, Brugnara G, Bonekamp D, Neuberger U, Wick A, Schlemmer HP, Heiland S, Wick W,Bendszus M, Maier-Hein KH, Kickingereder P. Automated brain extraction of multi-sequence MRI using artificialneural networks. arXiv preprint arXiv:1901.11341, 2019.\n",
            "########################\n",
            "\n",
            "File: IDH/mut/pat00001/Reg-N4-t1.nii.gz\n",
            "preprocessing...\n",
            "image shape after preprocessing:  (121, 145, 121)\n",
            "prediction (CNN id)...\n",
            "0\n",
            "1\n",
            "2\n",
            "3\n",
            "4\n",
            "running postprocessing... \n",
            "/content/HD-BET/HD_BET/utils.py:74: UserWarning: The argument 'neighbors' is deprecated and will be removed in scikit-image 0.18, use 'connectivity' instead. For neighbors=8, use connectivity=3\n",
            "  lbls = label(mask, 8)\n",
            "exporting segmentation...\n",
            "\n",
            "########################\n",
            "If you are using hd-bet, please cite the following paper:\n",
            "Isensee F, Schell M, Tursunova I, Brugnara G, Bonekamp D, Neuberger U, Wick A, Schlemmer HP, Heiland S, Wick W,Bendszus M, Maier-Hein KH, Kickingereder P. Automated brain extraction of multi-sequence MRI using artificialneural networks. arXiv preprint arXiv:1901.11341, 2019.\n",
            "########################\n",
            "\n",
            "File: IDH/mut/pat00005/Reg-N4-t1.nii.gz\n",
            "preprocessing...\n",
            "image shape after preprocessing:  (121, 145, 121)\n",
            "prediction (CNN id)...\n",
            "0\n",
            "1\n",
            "2\n",
            "3\n",
            "4\n",
            "running postprocessing... \n",
            "/content/HD-BET/HD_BET/utils.py:74: UserWarning: The argument 'neighbors' is deprecated and will be removed in scikit-image 0.18, use 'connectivity' instead. For neighbors=8, use connectivity=3\n",
            "  lbls = label(mask, 8)\n",
            "exporting segmentation...\n",
            "\n",
            "########################\n",
            "If you are using hd-bet, please cite the following paper:\n",
            "Isensee F, Schell M, Tursunova I, Brugnara G, Bonekamp D, Neuberger U, Wick A, Schlemmer HP, Heiland S, Wick W,Bendszus M, Maier-Hein KH, Kickingereder P. Automated brain extraction of multi-sequence MRI using artificialneural networks. arXiv preprint arXiv:1901.11341, 2019.\n",
            "########################\n",
            "\n",
            "File: IDH/mut/pat00004/Reg-N4-t1.nii.gz\n",
            "preprocessing...\n",
            "image shape after preprocessing:  (121, 145, 121)\n",
            "prediction (CNN id)...\n",
            "0\n",
            "1\n",
            "2\n",
            "3\n",
            "4\n",
            "running postprocessing... \n",
            "/content/HD-BET/HD_BET/utils.py:74: UserWarning: The argument 'neighbors' is deprecated and will be removed in scikit-image 0.18, use 'connectivity' instead. For neighbors=8, use connectivity=3\n",
            "  lbls = label(mask, 8)\n",
            "exporting segmentation...\n",
            "\n",
            "########################\n",
            "If you are using hd-bet, please cite the following paper:\n",
            "Isensee F, Schell M, Tursunova I, Brugnara G, Bonekamp D, Neuberger U, Wick A, Schlemmer HP, Heiland S, Wick W,Bendszus M, Maier-Hein KH, Kickingereder P. Automated brain extraction of multi-sequence MRI using artificialneural networks. arXiv preprint arXiv:1901.11341, 2019.\n",
            "########################\n",
            "\n",
            "File: IDH/mut/pat00003/Reg-N4-t1.nii.gz\n",
            "preprocessing...\n",
            "image shape after preprocessing:  (121, 145, 121)\n",
            "prediction (CNN id)...\n",
            "0\n",
            "1\n",
            "2\n",
            "3\n",
            "4\n",
            "running postprocessing... \n",
            "/content/HD-BET/HD_BET/utils.py:74: UserWarning: The argument 'neighbors' is deprecated and will be removed in scikit-image 0.18, use 'connectivity' instead. For neighbors=8, use connectivity=3\n",
            "  lbls = label(mask, 8)\n",
            "exporting segmentation...\n"
          ],
          "name": "stdout"
        }
      ]
    },
    {
      "cell_type": "code",
      "metadata": {
        "id": "oHQnUG0AQIXN",
        "colab_type": "code",
        "colab": {
          "base_uri": "https://localhost:8080/",
          "height": 187
        },
        "outputId": "2b2d76d4-8430-42f5-e8a3-667fc44424bd"
      },
      "source": [
        "for subj in os.listdir(NIFTI_PATH):\n",
        "    subj_path = os.path.join(NIFTI_PATH, subj)\n",
        "    print (\"Working on \" + subj_path)\n",
        "    series = fnmatch.filter(os.listdir(subj_path), '*.nii.gz')\n",
        "    for ser in ['Reg-N4-t1.nii.gz']: #not sure why I had to add the star here but this was the only way it worked\n",
        "        nii_file = os.path.join (subj_path, ser)\n",
        "# removes old files\n",
        "        \n",
        "        cmd = os.remove(nii_file)\n",
        "        \n",
        "        print (cmd)"
      ],
      "execution_count": 73,
      "outputs": [
        {
          "output_type": "stream",
          "text": [
            "Working on IDH/mut/pat00002\n",
            "None\n",
            "Working on IDH/mut/pat00001\n",
            "None\n",
            "Working on IDH/mut/pat00005\n",
            "None\n",
            "Working on IDH/mut/pat00004\n",
            "None\n",
            "Working on IDH/mut/pat00003\n",
            "None\n"
          ],
          "name": "stdout"
        }
      ]
    },
    {
      "cell_type": "code",
      "metadata": {
        "id": "13-eN69jQIu_",
        "colab_type": "code",
        "colab": {
          "base_uri": "https://localhost:8080/",
          "height": 187
        },
        "outputId": "acc36e38-24c8-4538-89b6-8534f5b74ee5"
      },
      "source": [
        "for subj in os.listdir(NIFTI_PATH):\n",
        "    subj_path = os.path.join(NIFTI_PATH, subj)\n",
        "    print (\"Working on \" + subj_path)\n",
        "    series = fnmatch.filter(os.listdir(subj_path), '*.nii.gz')\n",
        "    for ser in ['Reg-N4-t1_bet_mask.nii.gz']: #not sure why I had to add the star here but this was the only way it worked\n",
        "        nii_file = os.path.join (subj_path, ser)\n",
        "# removes old files\n",
        "        \n",
        "        cmd = os.remove(nii_file)\n",
        "        \n",
        "        print (cmd)"
      ],
      "execution_count": 74,
      "outputs": [
        {
          "output_type": "stream",
          "text": [
            "Working on IDH/mut/pat00002\n",
            "None\n",
            "Working on IDH/mut/pat00001\n",
            "None\n",
            "Working on IDH/mut/pat00005\n",
            "None\n",
            "Working on IDH/mut/pat00004\n",
            "None\n",
            "Working on IDH/mut/pat00003\n",
            "None\n"
          ],
          "name": "stdout"
        }
      ]
    },
    {
      "cell_type": "code",
      "metadata": {
        "id": "jIBkDyahQJJo",
        "colab_type": "code",
        "colab": {
          "base_uri": "https://localhost:8080/",
          "height": 102
        },
        "outputId": "d4f63b59-d9b1-4259-fee6-372858de6c19"
      },
      "source": [
        "#iterate through all patients in no (then add codels)\n",
        "\n",
        "for subj in os.listdir(NIFTI_PATH):\n",
        "    subj_path = os.path.join(NIFTI_PATH, subj)\n",
        "    #print (\"Working on \" + subj_path)\n",
        "    series = fnmatch.filter(os.listdir(subj_path), 'Reg-N4-gad*')\n",
        "    for ser in series:  \n",
        "      name = (os.path.join(\"!hd-bet -i \" + subj_path + \"/\" + ser))\n",
        "      print(name)\n",
        "\n",
        "#copy all output and enter into next field.    "
      ],
      "execution_count": 75,
      "outputs": [
        {
          "output_type": "stream",
          "text": [
            "!hd-bet -i IDH/mut/pat00002/Reg-N4-gad.nii.gz\n",
            "!hd-bet -i IDH/mut/pat00001/Reg-N4-gad.nii.gz\n",
            "!hd-bet -i IDH/mut/pat00005/Reg-N4-gad.nii.gz\n",
            "!hd-bet -i IDH/mut/pat00004/Reg-N4-gad.nii.gz\n",
            "!hd-bet -i IDH/mut/pat00003/Reg-N4-gad.nii.gz\n"
          ],
          "name": "stdout"
        }
      ]
    },
    {
      "cell_type": "code",
      "metadata": {
        "id": "wXXLC7UZQJC1",
        "colab_type": "code",
        "colab": {
          "base_uri": "https://localhost:8080/",
          "height": 1000
        },
        "outputId": "28b73d71-3b14-4953-8696-9fefcc5d879a"
      },
      "source": [
        "!hd-bet -i IDH/mut/pat00002/Reg-N4-gad.nii.gz\n",
        "!hd-bet -i IDH/mut/pat00001/Reg-N4-gad.nii.gz\n",
        "!hd-bet -i IDH/mut/pat00005/Reg-N4-gad.nii.gz\n",
        "!hd-bet -i IDH/mut/pat00004/Reg-N4-gad.nii.gz\n",
        "!hd-bet -i IDH/mut/pat00003/Reg-N4-gad.nii.gz"
      ],
      "execution_count": 76,
      "outputs": [
        {
          "output_type": "stream",
          "text": [
            "\n",
            "########################\n",
            "If you are using hd-bet, please cite the following paper:\n",
            "Isensee F, Schell M, Tursunova I, Brugnara G, Bonekamp D, Neuberger U, Wick A, Schlemmer HP, Heiland S, Wick W,Bendszus M, Maier-Hein KH, Kickingereder P. Automated brain extraction of multi-sequence MRI using artificialneural networks. arXiv preprint arXiv:1901.11341, 2019.\n",
            "########################\n",
            "\n",
            "File: IDH/mut/pat00002/Reg-N4-gad.nii.gz\n",
            "preprocessing...\n",
            "image shape after preprocessing:  (121, 145, 121)\n",
            "prediction (CNN id)...\n",
            "0\n",
            "1\n",
            "2\n",
            "3\n",
            "4\n",
            "running postprocessing... \n",
            "/content/HD-BET/HD_BET/utils.py:74: UserWarning: The argument 'neighbors' is deprecated and will be removed in scikit-image 0.18, use 'connectivity' instead. For neighbors=8, use connectivity=3\n",
            "  lbls = label(mask, 8)\n",
            "exporting segmentation...\n",
            "\n",
            "########################\n",
            "If you are using hd-bet, please cite the following paper:\n",
            "Isensee F, Schell M, Tursunova I, Brugnara G, Bonekamp D, Neuberger U, Wick A, Schlemmer HP, Heiland S, Wick W,Bendszus M, Maier-Hein KH, Kickingereder P. Automated brain extraction of multi-sequence MRI using artificialneural networks. arXiv preprint arXiv:1901.11341, 2019.\n",
            "########################\n",
            "\n",
            "File: IDH/mut/pat00001/Reg-N4-gad.nii.gz\n",
            "preprocessing...\n",
            "image shape after preprocessing:  (121, 145, 121)\n",
            "prediction (CNN id)...\n",
            "0\n",
            "1\n",
            "2\n",
            "3\n",
            "4\n",
            "running postprocessing... \n",
            "/content/HD-BET/HD_BET/utils.py:74: UserWarning: The argument 'neighbors' is deprecated and will be removed in scikit-image 0.18, use 'connectivity' instead. For neighbors=8, use connectivity=3\n",
            "  lbls = label(mask, 8)\n",
            "exporting segmentation...\n",
            "\n",
            "########################\n",
            "If you are using hd-bet, please cite the following paper:\n",
            "Isensee F, Schell M, Tursunova I, Brugnara G, Bonekamp D, Neuberger U, Wick A, Schlemmer HP, Heiland S, Wick W,Bendszus M, Maier-Hein KH, Kickingereder P. Automated brain extraction of multi-sequence MRI using artificialneural networks. arXiv preprint arXiv:1901.11341, 2019.\n",
            "########################\n",
            "\n",
            "File: IDH/mut/pat00005/Reg-N4-gad.nii.gz\n",
            "preprocessing...\n",
            "image shape after preprocessing:  (121, 145, 121)\n",
            "prediction (CNN id)...\n",
            "0\n",
            "1\n",
            "2\n",
            "3\n",
            "4\n",
            "running postprocessing... \n",
            "/content/HD-BET/HD_BET/utils.py:74: UserWarning: The argument 'neighbors' is deprecated and will be removed in scikit-image 0.18, use 'connectivity' instead. For neighbors=8, use connectivity=3\n",
            "  lbls = label(mask, 8)\n",
            "exporting segmentation...\n",
            "\n",
            "########################\n",
            "If you are using hd-bet, please cite the following paper:\n",
            "Isensee F, Schell M, Tursunova I, Brugnara G, Bonekamp D, Neuberger U, Wick A, Schlemmer HP, Heiland S, Wick W,Bendszus M, Maier-Hein KH, Kickingereder P. Automated brain extraction of multi-sequence MRI using artificialneural networks. arXiv preprint arXiv:1901.11341, 2019.\n",
            "########################\n",
            "\n",
            "File: IDH/mut/pat00004/Reg-N4-gad.nii.gz\n",
            "preprocessing...\n",
            "image shape after preprocessing:  (121, 145, 121)\n",
            "prediction (CNN id)...\n",
            "0\n",
            "1\n",
            "2\n",
            "3\n",
            "4\n",
            "running postprocessing... \n",
            "/content/HD-BET/HD_BET/utils.py:74: UserWarning: The argument 'neighbors' is deprecated and will be removed in scikit-image 0.18, use 'connectivity' instead. For neighbors=8, use connectivity=3\n",
            "  lbls = label(mask, 8)\n",
            "exporting segmentation...\n",
            "\n",
            "########################\n",
            "If you are using hd-bet, please cite the following paper:\n",
            "Isensee F, Schell M, Tursunova I, Brugnara G, Bonekamp D, Neuberger U, Wick A, Schlemmer HP, Heiland S, Wick W,Bendszus M, Maier-Hein KH, Kickingereder P. Automated brain extraction of multi-sequence MRI using artificialneural networks. arXiv preprint arXiv:1901.11341, 2019.\n",
            "########################\n",
            "\n",
            "File: IDH/mut/pat00003/Reg-N4-gad.nii.gz\n",
            "preprocessing...\n",
            "image shape after preprocessing:  (121, 145, 121)\n",
            "prediction (CNN id)...\n",
            "0\n",
            "1\n",
            "2\n",
            "3\n",
            "4\n",
            "running postprocessing... \n",
            "/content/HD-BET/HD_BET/utils.py:74: UserWarning: The argument 'neighbors' is deprecated and will be removed in scikit-image 0.18, use 'connectivity' instead. For neighbors=8, use connectivity=3\n",
            "  lbls = label(mask, 8)\n",
            "exporting segmentation...\n"
          ],
          "name": "stdout"
        }
      ]
    },
    {
      "cell_type": "code",
      "metadata": {
        "id": "Rx6tXoXeQI_3",
        "colab_type": "code",
        "colab": {
          "base_uri": "https://localhost:8080/",
          "height": 187
        },
        "outputId": "67fe3909-4514-492a-b2aa-4056b3863b3a"
      },
      "source": [
        "for subj in os.listdir(NIFTI_PATH):\n",
        "    subj_path = os.path.join(NIFTI_PATH, subj)\n",
        "    print (\"Working on \" + subj_path)\n",
        "    series = fnmatch.filter(os.listdir(subj_path), '*.nii.gz')\n",
        "    for ser in ['Reg-N4-gad.nii.gz']: #not sure why I had to add the star here but this was the only way it worked\n",
        "        nii_file = os.path.join (subj_path, ser)\n",
        "# removes old files\n",
        "        \n",
        "        cmd = os.remove(nii_file)\n",
        "        \n",
        "        print (cmd)"
      ],
      "execution_count": 77,
      "outputs": [
        {
          "output_type": "stream",
          "text": [
            "Working on IDH/mut/pat00002\n",
            "None\n",
            "Working on IDH/mut/pat00001\n",
            "None\n",
            "Working on IDH/mut/pat00005\n",
            "None\n",
            "Working on IDH/mut/pat00004\n",
            "None\n",
            "Working on IDH/mut/pat00003\n",
            "None\n"
          ],
          "name": "stdout"
        }
      ]
    },
    {
      "cell_type": "code",
      "metadata": {
        "id": "0pO3SE5SQI9D",
        "colab_type": "code",
        "colab": {
          "base_uri": "https://localhost:8080/",
          "height": 187
        },
        "outputId": "8ce88561-d934-4352-b8a7-3e0b485da22b"
      },
      "source": [
        "for subj in os.listdir(NIFTI_PATH):\n",
        "    subj_path = os.path.join(NIFTI_PATH, subj)\n",
        "    print (\"Working on \" + subj_path)\n",
        "    series = fnmatch.filter(os.listdir(subj_path), '*.nii.gz')\n",
        "    for ser in ['Reg-N4-gad_bet_mask.nii.gz']: #not sure why I had to add the star here but this was the only way it worked\n",
        "        nii_file = os.path.join (subj_path, ser)\n",
        "# removes old files\n",
        "        \n",
        "        cmd = os.remove(nii_file)\n",
        "        \n",
        "        print (cmd)"
      ],
      "execution_count": 78,
      "outputs": [
        {
          "output_type": "stream",
          "text": [
            "Working on IDH/mut/pat00002\n",
            "None\n",
            "Working on IDH/mut/pat00001\n",
            "None\n",
            "Working on IDH/mut/pat00005\n",
            "None\n",
            "Working on IDH/mut/pat00004\n",
            "None\n",
            "Working on IDH/mut/pat00003\n",
            "None\n"
          ],
          "name": "stdout"
        }
      ]
    },
    {
      "cell_type": "code",
      "metadata": {
        "id": "Gb6nU3-HQI7a",
        "colab_type": "code",
        "colab": {
          "base_uri": "https://localhost:8080/",
          "height": 102
        },
        "outputId": "42f2e4b3-fef4-4596-a2a3-7ab7cfb91008"
      },
      "source": [
        "#iterate through all patients in no (then add codels)\n",
        "\n",
        "for subj in os.listdir(NIFTI_PATH):\n",
        "    subj_path = os.path.join(NIFTI_PATH, subj)\n",
        "    #print (\"Working on \" + subj_path)\n",
        "    series = fnmatch.filter(os.listdir(subj_path), 'Reg-N4-flair*')\n",
        "    for ser in series:  \n",
        "      name = (os.path.join(\"!hd-bet -i \" + subj_path + \"/\" + ser))\n",
        "      print(name)\n",
        "\n",
        "#copy all output and enter into next field.    "
      ],
      "execution_count": 79,
      "outputs": [
        {
          "output_type": "stream",
          "text": [
            "!hd-bet -i IDH/mut/pat00002/Reg-N4-flair.nii.gz\n",
            "!hd-bet -i IDH/mut/pat00001/Reg-N4-flair.nii.gz\n",
            "!hd-bet -i IDH/mut/pat00005/Reg-N4-flair.nii.gz\n",
            "!hd-bet -i IDH/mut/pat00004/Reg-N4-flair.nii.gz\n",
            "!hd-bet -i IDH/mut/pat00003/Reg-N4-flair.nii.gz\n"
          ],
          "name": "stdout"
        }
      ]
    },
    {
      "cell_type": "code",
      "metadata": {
        "id": "YQdSK923QInJ",
        "colab_type": "code",
        "colab": {
          "base_uri": "https://localhost:8080/",
          "height": 1000
        },
        "outputId": "7e10e10a-987c-4417-d332-27e24d208b5b"
      },
      "source": [
        "!hd-bet -i IDH/mut/pat00002/Reg-N4-flair.nii.gz\n",
        "!hd-bet -i IDH/mut/pat00001/Reg-N4-flair.nii.gz\n",
        "!hd-bet -i IDH/mut/pat00005/Reg-N4-flair.nii.gz\n",
        "!hd-bet -i IDH/mut/pat00004/Reg-N4-flair.nii.gz\n",
        "!hd-bet -i IDH/mut/pat00003/Reg-N4-flair.nii.gz"
      ],
      "execution_count": 80,
      "outputs": [
        {
          "output_type": "stream",
          "text": [
            "\n",
            "########################\n",
            "If you are using hd-bet, please cite the following paper:\n",
            "Isensee F, Schell M, Tursunova I, Brugnara G, Bonekamp D, Neuberger U, Wick A, Schlemmer HP, Heiland S, Wick W,Bendszus M, Maier-Hein KH, Kickingereder P. Automated brain extraction of multi-sequence MRI using artificialneural networks. arXiv preprint arXiv:1901.11341, 2019.\n",
            "########################\n",
            "\n",
            "File: IDH/mut/pat00002/Reg-N4-flair.nii.gz\n",
            "preprocessing...\n",
            "image shape after preprocessing:  (121, 145, 121)\n",
            "prediction (CNN id)...\n",
            "0\n",
            "1\n",
            "2\n",
            "3\n",
            "4\n",
            "running postprocessing... \n",
            "/content/HD-BET/HD_BET/utils.py:74: UserWarning: The argument 'neighbors' is deprecated and will be removed in scikit-image 0.18, use 'connectivity' instead. For neighbors=8, use connectivity=3\n",
            "  lbls = label(mask, 8)\n",
            "exporting segmentation...\n",
            "\n",
            "########################\n",
            "If you are using hd-bet, please cite the following paper:\n",
            "Isensee F, Schell M, Tursunova I, Brugnara G, Bonekamp D, Neuberger U, Wick A, Schlemmer HP, Heiland S, Wick W,Bendszus M, Maier-Hein KH, Kickingereder P. Automated brain extraction of multi-sequence MRI using artificialneural networks. arXiv preprint arXiv:1901.11341, 2019.\n",
            "########################\n",
            "\n",
            "File: IDH/mut/pat00001/Reg-N4-flair.nii.gz\n",
            "preprocessing...\n",
            "image shape after preprocessing:  (121, 145, 121)\n",
            "prediction (CNN id)...\n",
            "0\n",
            "1\n",
            "2\n",
            "3\n",
            "4\n",
            "running postprocessing... \n",
            "/content/HD-BET/HD_BET/utils.py:74: UserWarning: The argument 'neighbors' is deprecated and will be removed in scikit-image 0.18, use 'connectivity' instead. For neighbors=8, use connectivity=3\n",
            "  lbls = label(mask, 8)\n",
            "exporting segmentation...\n",
            "\n",
            "########################\n",
            "If you are using hd-bet, please cite the following paper:\n",
            "Isensee F, Schell M, Tursunova I, Brugnara G, Bonekamp D, Neuberger U, Wick A, Schlemmer HP, Heiland S, Wick W,Bendszus M, Maier-Hein KH, Kickingereder P. Automated brain extraction of multi-sequence MRI using artificialneural networks. arXiv preprint arXiv:1901.11341, 2019.\n",
            "########################\n",
            "\n",
            "File: IDH/mut/pat00005/Reg-N4-flair.nii.gz\n",
            "preprocessing...\n",
            "image shape after preprocessing:  (121, 145, 121)\n",
            "prediction (CNN id)...\n",
            "0\n",
            "1\n",
            "2\n",
            "3\n",
            "4\n",
            "running postprocessing... \n",
            "/content/HD-BET/HD_BET/utils.py:74: UserWarning: The argument 'neighbors' is deprecated and will be removed in scikit-image 0.18, use 'connectivity' instead. For neighbors=8, use connectivity=3\n",
            "  lbls = label(mask, 8)\n",
            "exporting segmentation...\n",
            "\n",
            "########################\n",
            "If you are using hd-bet, please cite the following paper:\n",
            "Isensee F, Schell M, Tursunova I, Brugnara G, Bonekamp D, Neuberger U, Wick A, Schlemmer HP, Heiland S, Wick W,Bendszus M, Maier-Hein KH, Kickingereder P. Automated brain extraction of multi-sequence MRI using artificialneural networks. arXiv preprint arXiv:1901.11341, 2019.\n",
            "########################\n",
            "\n",
            "File: IDH/mut/pat00004/Reg-N4-flair.nii.gz\n",
            "preprocessing...\n",
            "image shape after preprocessing:  (121, 145, 121)\n",
            "prediction (CNN id)...\n",
            "0\n",
            "1\n",
            "2\n",
            "3\n",
            "4\n",
            "running postprocessing... \n",
            "/content/HD-BET/HD_BET/utils.py:74: UserWarning: The argument 'neighbors' is deprecated and will be removed in scikit-image 0.18, use 'connectivity' instead. For neighbors=8, use connectivity=3\n",
            "  lbls = label(mask, 8)\n",
            "exporting segmentation...\n",
            "\n",
            "########################\n",
            "If you are using hd-bet, please cite the following paper:\n",
            "Isensee F, Schell M, Tursunova I, Brugnara G, Bonekamp D, Neuberger U, Wick A, Schlemmer HP, Heiland S, Wick W,Bendszus M, Maier-Hein KH, Kickingereder P. Automated brain extraction of multi-sequence MRI using artificialneural networks. arXiv preprint arXiv:1901.11341, 2019.\n",
            "########################\n",
            "\n",
            "File: IDH/mut/pat00003/Reg-N4-flair.nii.gz\n",
            "preprocessing...\n",
            "image shape after preprocessing:  (121, 145, 121)\n",
            "prediction (CNN id)...\n",
            "0\n",
            "1\n",
            "2\n",
            "3\n",
            "4\n",
            "running postprocessing... \n",
            "/content/HD-BET/HD_BET/utils.py:74: UserWarning: The argument 'neighbors' is deprecated and will be removed in scikit-image 0.18, use 'connectivity' instead. For neighbors=8, use connectivity=3\n",
            "  lbls = label(mask, 8)\n",
            "exporting segmentation...\n"
          ],
          "name": "stdout"
        }
      ]
    },
    {
      "cell_type": "code",
      "metadata": {
        "id": "ne612xJxQIjq",
        "colab_type": "code",
        "colab": {
          "base_uri": "https://localhost:8080/",
          "height": 187
        },
        "outputId": "3464b142-aa04-451c-c3c2-8c8976fc4c1a"
      },
      "source": [
        "for subj in os.listdir(NIFTI_PATH):\n",
        "    subj_path = os.path.join(NIFTI_PATH, subj)\n",
        "    print (\"Working on \" + subj_path)\n",
        "    series = fnmatch.filter(os.listdir(subj_path), '*.nii.gz')\n",
        "    for ser in ['Reg-N4-flair.nii.gz']: #not sure why I had to add the star here but this was the only way it worked\n",
        "        nii_file = os.path.join (subj_path, ser)\n",
        "# removes old files\n",
        "        \n",
        "        cmd = os.remove(nii_file)\n",
        "        \n",
        "        print (cmd)"
      ],
      "execution_count": 81,
      "outputs": [
        {
          "output_type": "stream",
          "text": [
            "Working on IDH/mut/pat00002\n",
            "None\n",
            "Working on IDH/mut/pat00001\n",
            "None\n",
            "Working on IDH/mut/pat00005\n",
            "None\n",
            "Working on IDH/mut/pat00004\n",
            "None\n",
            "Working on IDH/mut/pat00003\n",
            "None\n"
          ],
          "name": "stdout"
        }
      ]
    },
    {
      "cell_type": "code",
      "metadata": {
        "id": "LTLlHb2hQIgN",
        "colab_type": "code",
        "colab": {
          "base_uri": "https://localhost:8080/",
          "height": 187
        },
        "outputId": "dc87932b-dc8c-4624-9f8a-ddbd960ce951"
      },
      "source": [
        "for subj in os.listdir(NIFTI_PATH):\n",
        "    subj_path = os.path.join(NIFTI_PATH, subj)\n",
        "    print (\"Working on \" + subj_path)\n",
        "    series = fnmatch.filter(os.listdir(subj_path), '*.nii.gz')\n",
        "    for ser in ['Reg-N4-flair_bet_mask.nii.gz']: #not sure why I had to add the star here but this was the only way it worked\n",
        "        nii_file = os.path.join (subj_path, ser)\n",
        "# removes old files\n",
        "        \n",
        "        cmd = os.remove(nii_file)\n",
        "        \n",
        "        print (cmd)"
      ],
      "execution_count": 82,
      "outputs": [
        {
          "output_type": "stream",
          "text": [
            "Working on IDH/mut/pat00002\n",
            "None\n",
            "Working on IDH/mut/pat00001\n",
            "None\n",
            "Working on IDH/mut/pat00005\n",
            "None\n",
            "Working on IDH/mut/pat00004\n",
            "None\n",
            "Working on IDH/mut/pat00003\n",
            "None\n"
          ],
          "name": "stdout"
        }
      ]
    },
    {
      "cell_type": "code",
      "metadata": {
        "id": "0yUB5du9FajP",
        "colab_type": "code",
        "colab": {
          "base_uri": "https://localhost:8080/",
          "height": 748
        },
        "outputId": "d146ca78-cf35-4f8c-850f-fc6ecc884b02"
      },
      "source": [
        "!zip -r ./IDH.zip ./IDH"
      ],
      "execution_count": 83,
      "outputs": [
        {
          "output_type": "stream",
          "text": [
            "  adding: IDH/ (stored 0%)\n",
            "  adding: IDH/mut/ (stored 0%)\n",
            "  adding: IDH/mut/pat00002/ (stored 0%)\n",
            "  adding: IDH/mut/pat00002/Reg-N4-t1_bet.nii.gz (deflated 0%)\n",
            "  adding: IDH/mut/pat00002/Reg-N4-flair_bet.nii.gz (deflated 0%)\n",
            "  adding: IDH/mut/pat00002/Reg-N4-gad_bet.nii.gz (deflated 0%)\n",
            "  adding: IDH/mut/pat00001/ (stored 0%)\n",
            "  adding: IDH/mut/pat00001/Reg-N4-t1_bet.nii.gz (deflated 0%)\n",
            "  adding: IDH/mut/pat00001/Reg-N4-flair_bet.nii.gz (deflated 0%)\n",
            "  adding: IDH/mut/pat00001/Reg-N4-gad_bet.nii.gz (deflated 0%)\n",
            "  adding: IDH/mut/pat00005/ (stored 0%)\n",
            "  adding: IDH/mut/pat00005/Reg-N4-t1_bet.nii.gz (deflated 0%)\n",
            "  adding: IDH/mut/pat00005/Reg-N4-flair_bet.nii.gz (deflated 1%)\n",
            "  adding: IDH/mut/pat00005/Reg-N4-gad_bet.nii.gz (deflated 0%)\n",
            "  adding: IDH/mut/pat00004/ (stored 0%)\n",
            "  adding: IDH/mut/pat00004/Reg-N4-t1_bet.nii.gz (deflated 0%)\n",
            "  adding: IDH/mut/pat00004/Reg-N4-flair_bet.nii.gz (deflated 0%)\n",
            "  adding: IDH/mut/pat00004/Reg-N4-gad_bet.nii.gz (deflated 0%)\n",
            "  adding: IDH/mut/pat00003/ (stored 0%)\n",
            "  adding: IDH/mut/pat00003/Reg-N4-t1_bet.nii.gz (deflated 0%)\n",
            "  adding: IDH/mut/pat00003/Reg-N4-flair_bet.nii.gz (deflated 0%)\n",
            "  adding: IDH/mut/pat00003/Reg-N4-gad_bet.nii.gz (deflated 0%)\n",
            "  adding: IDH/wt/ (stored 0%)\n",
            "  adding: IDH/wt/pat00002/ (stored 0%)\n",
            "  adding: IDH/wt/pat00002/Reg-N4-t1_bet.nii.gz (deflated 0%)\n",
            "  adding: IDH/wt/pat00002/Reg-N4-flair_bet.nii.gz (deflated 0%)\n",
            "  adding: IDH/wt/pat00002/Reg-N4-gad_bet.nii.gz (deflated 0%)\n",
            "  adding: IDH/wt/pat00001/ (stored 0%)\n",
            "  adding: IDH/wt/pat00001/Reg-N4-t1_bet.nii.gz (deflated 0%)\n",
            "  adding: IDH/wt/pat00001/Reg-N4-flair_bet.nii.gz (deflated 0%)\n",
            "  adding: IDH/wt/pat00001/Reg-N4-gad_bet.nii.gz (deflated 0%)\n",
            "  adding: IDH/wt/pat00005/ (stored 0%)\n",
            "  adding: IDH/wt/pat00005/Reg-N4-t1_bet.nii.gz (deflated 1%)\n",
            "  adding: IDH/wt/pat00005/Reg-N4-flair_bet.nii.gz (deflated 1%)\n",
            "  adding: IDH/wt/pat00005/Reg-N4-gad_bet.nii.gz (deflated 1%)\n",
            "  adding: IDH/wt/pat00004/ (stored 0%)\n",
            "  adding: IDH/wt/pat00004/Reg-N4-t1_bet.nii.gz (deflated 0%)\n",
            "  adding: IDH/wt/pat00004/Reg-N4-flair_bet.nii.gz (deflated 1%)\n",
            "  adding: IDH/wt/pat00004/Reg-N4-gad_bet.nii.gz (deflated 1%)\n",
            "  adding: IDH/wt/pat00003/ (stored 0%)\n",
            "  adding: IDH/wt/pat00003/Reg-N4-t1_bet.nii.gz (deflated 0%)\n",
            "  adding: IDH/wt/pat00003/Reg-N4-flair_bet.nii.gz (deflated 0%)\n",
            "  adding: IDH/wt/pat00003/Reg-N4-gad_bet.nii.gz (deflated 0%)\n"
          ],
          "name": "stdout"
        }
      ]
    },
    {
      "cell_type": "code",
      "metadata": {
        "id": "EeHtpkFWifAF",
        "colab_type": "code",
        "colab": {}
      },
      "source": [
        "#manually create the valc1 and valc2 folders to make sure it works\n",
        "#below ref https://stackoverflow.com/questions/46717742/split-data-directory-into-training-and-test-directory-with-sub-directory-structu"
      ],
      "execution_count": null,
      "outputs": []
    },
    {
      "cell_type": "code",
      "metadata": {
        "id": "kfVEtsxt9dvo",
        "colab_type": "code",
        "colab": {}
      },
      "source": [
        "!unzip -q ./IDH.zip"
      ],
      "execution_count": null,
      "outputs": []
    },
    {
      "cell_type": "markdown",
      "metadata": {
        "id": "_Z1W2pX-WGKO",
        "colab_type": "text"
      },
      "source": [
        "skip below, make folders manually"
      ]
    },
    {
      "cell_type": "code",
      "metadata": {
        "id": "XwsehPxfuoT3",
        "colab_type": "code",
        "colab": {
          "base_uri": "https://localhost:8080/",
          "height": 51
        },
        "outputId": "5ff906ff-3750-462d-aabc-d28d68b6abd8"
      },
      "source": [
        "   import os\n",
        "   import shutil\n",
        "   import numpy as np\n",
        "   base_dir = '/content/adnitest10'\n",
        "\n",
        "   !mkdir /content/adnitest10/ADval\n",
        "   !mkdir /content/adnitest10/CNval"
      ],
      "execution_count": 84,
      "outputs": [
        {
          "output_type": "stream",
          "text": [
            "mkdir: cannot create directory ‘/content/adnitest10/ADval’: No such file or directory\n",
            "mkdir: cannot create directory ‘/content/adnitest10/CNval’: No such file or directory\n"
          ],
          "name": "stdout"
        }
      ]
    },
    {
      "cell_type": "markdown",
      "metadata": {
        "id": "ZHr3JZvgWJHt",
        "colab_type": "text"
      },
      "source": [
        "skip below, make folders manually"
      ]
    },
    {
      "cell_type": "code",
      "metadata": {
        "id": "WUk9fqHGORYS",
        "colab_type": "code",
        "colab": {
          "base_uri": "https://localhost:8080/",
          "height": 85
        },
        "outputId": "2d22054d-3ff5-4d32-fa26-22d02768b165"
      },
      "source": [
        "sourceN = base_dir + \"/AD\"\n",
        "destN = base_dir + \"/ADval\"\n",
        "sourceP = base_dir + \"/CN\"\n",
        "destP = base_dir + \"/CNval\"\n",
        "\n",
        "filesN = os.listdir(sourceN)\n",
        "filesP = os.listdir(sourceP)       \n",
        "\n",
        "for f in filesN:\n",
        "  if np.random.rand(1) < 0.3: #is this a 70 30 split? what does it mean exactly?\n",
        "    shutil.move(sourceN + '/'+ f, destN + '/'+ f)\n",
        "\n",
        "for i in filesP:\n",
        "  if np.random.rand(1) < 0.3:\n",
        "    shutil.move(sourceP + '/'+ i, destP + '/'+ i)\n",
        "\n",
        "print(len(os.listdir(sourceN)))\n",
        "print(len(os.listdir(sourceP)))\n",
        "print(len(os.listdir(destN)))\n",
        "print(len(os.listdir(destP)))"
      ],
      "execution_count": null,
      "outputs": [
        {
          "output_type": "stream",
          "text": [
            "3\n",
            "4\n",
            "5\n",
            "4\n"
          ],
          "name": "stdout"
        }
      ]
    },
    {
      "cell_type": "code",
      "metadata": {
        "id": "OTF40yU7rz-i",
        "colab_type": "code",
        "colab": {}
      },
      "source": [
        "!rm -rf ./LGG/valc2/.ipynb_checkpoints\n",
        "!rm -rf ./LGG/valc1/.ipynb_checkpoints\n",
        "\n",
        "!rm -rf './IDH/wtval/.ipynb_checkpoints'\n",
        "!rm -rf './IDH/mutval/.ipynb_checkpoints'"
      ],
      "execution_count": null,
      "outputs": []
    },
    {
      "cell_type": "markdown",
      "metadata": {
        "id": "DQ8UjtqTWe2h",
        "colab_type": "text"
      },
      "source": [
        "not sure if below is needed"
      ]
    },
    {
      "cell_type": "code",
      "metadata": {
        "id": "GC1Uh6W9ie31",
        "colab_type": "code",
        "colab": {
          "base_uri": "https://localhost:8080/",
          "height": 564
        },
        "outputId": "4316e317-849b-424d-a550-7890c4b26bd9"
      },
      "source": [
        "#make a huge list of thousands of patients here\n",
        "import pandas as pd\n",
        "\n",
        "!wget --no-check-certificate 'https://drive.google.com/uc?export=download&id=1z2GmRDDVMbcb1x26jlA9X0M4WAv4-kvA' -O ./TumorSlices.csv\n",
        "df = pd.read_csv ('./TumorSlices.csv')\n",
        "print (df) "
      ],
      "execution_count": 103,
      "outputs": [
        {
          "output_type": "stream",
          "text": [
            "--2020-09-11 04:02:52--  https://drive.google.com/uc?export=download&id=1z2GmRDDVMbcb1x26jlA9X0M4WAv4-kvA\n",
            "Resolving drive.google.com (drive.google.com)... 172.217.212.138, 172.217.212.101, 172.217.212.100, ...\n",
            "Connecting to drive.google.com (drive.google.com)|172.217.212.138|:443... connected.\n",
            "HTTP request sent, awaiting response... 302 Moved Temporarily\n",
            "Location: https://doc-10-60-docs.googleusercontent.com/docs/securesc/ha0ro937gcuc7l7deffksulhg5h7mbp1/b09k8l3mce3kc6fnj9fkpknfpbop9itc/1599796950000/07380574639032097336/*/1z2GmRDDVMbcb1x26jlA9X0M4WAv4-kvA?e=download [following]\n",
            "Warning: wildcards not supported in HTTP.\n",
            "--2020-09-11 04:02:52--  https://doc-10-60-docs.googleusercontent.com/docs/securesc/ha0ro937gcuc7l7deffksulhg5h7mbp1/b09k8l3mce3kc6fnj9fkpknfpbop9itc/1599796950000/07380574639032097336/*/1z2GmRDDVMbcb1x26jlA9X0M4WAv4-kvA?e=download\n",
            "Resolving doc-10-60-docs.googleusercontent.com (doc-10-60-docs.googleusercontent.com)... 74.125.69.132, 2607:f8b0:4001:c08::84\n",
            "Connecting to doc-10-60-docs.googleusercontent.com (doc-10-60-docs.googleusercontent.com)|74.125.69.132|:443... connected.\n",
            "HTTP request sent, awaiting response... 200 OK\n",
            "Length: 22459 (22K) [text/csv]\n",
            "Saving to: ‘./TumorSlices.csv’\n",
            "\n",
            "./TumorSlices.csv   100%[===================>]  21.93K  --.-KB/s    in 0s      \n",
            "\n",
            "2020-09-11 04:02:52 (121 MB/s) - ‘./TumorSlices.csv’ saved [22459/22459]\n",
            "\n",
            "       Subject  StartSlice  EndSlice\n",
            "0     pat00001           0       300\n",
            "1     pat00002           0       300\n",
            "2     pat00003           0       300\n",
            "3     pat00004           0       300\n",
            "4     pat00005           0       300\n",
            "...        ...         ...       ...\n",
            "1397  pat01398           0       300\n",
            "1398  pat01399           0       300\n",
            "1399  pat01400           0       300\n",
            "1400  pat01401           0       300\n",
            "1401  pat01402           0       300\n",
            "\n",
            "[1402 rows x 3 columns]\n"
          ],
          "name": "stdout"
        }
      ]
    },
    {
      "cell_type": "code",
      "metadata": {
        "id": "t1nns-vZP60_",
        "colab_type": "code",
        "colab": {
          "base_uri": "https://localhost:8080/",
          "height": 119
        },
        "outputId": "84c99a7f-c09e-4f11-aecc-553d1fff5db1"
      },
      "source": [
        "os.listdir('IDH/mutval/pat00001')"
      ],
      "execution_count": 97,
      "outputs": [
        {
          "output_type": "execute_result",
          "data": {
            "text/plain": [
              "['Reg-N4-t1_bet.nii.gz',\n",
              " '._Reg-N4-flair_bet.nii.gz',\n",
              " 'Reg-N4-flair_bet.nii.gz',\n",
              " '._Reg-N4-gad_bet.nii.gz',\n",
              " '._Reg-N4-t1_bet.nii.gz',\n",
              " 'Reg-N4-gad_bet.nii.gz']"
            ]
          },
          "metadata": {
            "tags": []
          },
          "execution_count": 97
        }
      ]
    },
    {
      "cell_type": "code",
      "metadata": {
        "id": "Jw6NamnXQHEW",
        "colab_type": "code",
        "colab": {}
      },
      "source": [
        "!rm -rf './IDH/._mut'\n",
        "!rm -rf './IDH/._wt'"
      ],
      "execution_count": 92,
      "outputs": []
    },
    {
      "cell_type": "code",
      "metadata": {
        "id": "XozgUfwARP2Z",
        "colab_type": "code",
        "colab": {}
      },
      "source": [
        "\n",
        "!rm -rf './IDH/wt/._pat00001' \n",
        "!rm -rf './IDH/wt/._pat00002' \n",
        "!rm -rf './IDH/wt/._pat00003' \n",
        "!rm -rf './IDH/wt/._pat00004' \n",
        "!rm -rf './IDH/wt/._pat00005' \n",
        "!rm -rf './IDH/wt/._pat00006' \n",
        "!rm -rf './IDH/wt/._pat00007' \n",
        "!rm -rf './IDH/wt/._pat00008' \n",
        "!rm -rf './IDH/wt/._pat00009' \n",
        "!rm -rf './IDH/wt/._pat00010' \n",
        "!rm -rf './IDH/wt/._pat00011' \n",
        "!rm -rf './IDH/wt/._pat00012' \n",
        "!rm -rf './IDH/wt/._pat00013' \n",
        "!rm -rf './IDH/wt/._pat00014' \n",
        "!rm -rf './IDH/wt/._pat00015' \n",
        "!rm -rf './IDH/wt/._pat00016' \n",
        "!rm -rf './IDH/wt/._pat00017' \n",
        "!rm -rf './IDH/wt/._pat00018' \n",
        "!rm -rf './IDH/wt/._pat00019' \n",
        "!rm -rf './IDH/wt/._pat00020' \n",
        "!rm -rf './IDH/wt/._pat00021' \n",
        "!rm -rf './IDH/wt/._pat00022' \n",
        "!rm -rf './IDH/wt/._pat00023' \n",
        "!rm -rf './IDH/wt/._pat00024' \n",
        "!rm -rf './IDH/wt/._pat00025' \n",
        "!rm -rf './IDH/wt/._pat00026' \n",
        "!rm -rf './IDH/wt/._pat00027' \n",
        "!rm -rf './IDH/wt/._pat00028' \n",
        "!rm -rf './IDH/wt/._pat00029' \n",
        "!rm -rf './IDH/wt/._pat00030' \n",
        "!rm -rf './IDH/wt/._pat00031' \n",
        "!rm -rf './IDH/wt/._pat00032' \n",
        "!rm -rf './IDH/wt/._pat00033' \n",
        "!rm -rf './IDH/wt/._pat00034' \n",
        "!rm -rf './IDH/wt/._pat00035' \n",
        "!rm -rf './IDH/wt/._pat00036' \n",
        "!rm -rf './IDH/wt/._pat00037' \n",
        "!rm -rf './IDH/wt/._pat00038' \n",
        "!rm -rf './IDH/wt/._pat00039' \n",
        "!rm -rf './IDH/wt/._pat00040' \n",
        "!rm -rf './IDH/wt/._pat00041' \n",
        "!rm -rf './IDH/wt/._pat00042' \n",
        "!rm -rf './IDH/wt/._pat00043' \n",
        "!rm -rf './IDH/wt/._pat00044' \n",
        "!rm -rf './IDH/wt/._pat00045' \n",
        "!rm -rf './IDH/wt/._pat00046' \n",
        "!rm -rf './IDH/wt/._pat00047' \n",
        "!rm -rf './IDH/wt/._pat00048' \n",
        "!rm -rf './IDH/wt/._pat00049' \n",
        "!rm -rf './IDH/wt/._pat00050' \n",
        "!rm -rf './IDH/wt/._pat00051' \n",
        "!rm -rf './IDH/wt/._pat00052' \n",
        "!rm -rf './IDH/wt/._pat00053' \n",
        "!rm -rf './IDH/wt/._pat00054' \n",
        "!rm -rf './IDH/wt/._pat00055' \n",
        "!rm -rf './IDH/wt/._pat00056' \n",
        "!rm -rf './IDH/wt/._pat00057' \n",
        "!rm -rf './IDH/wt/._pat00058' \n",
        "!rm -rf './IDH/wt/._pat00059' \n",
        "!rm -rf './IDH/wt/._pat00060' \n",
        "!rm -rf './IDH/wt/._pat00061' \n",
        "!rm -rf './IDH/wt/._pat00062' \n",
        "!rm -rf './IDH/wt/._pat00063' \n",
        "!rm -rf './IDH/wt/._pat00064' \n",
        "!rm -rf './IDH/wt/._pat00065' \n",
        "!rm -rf './IDH/wt/._pat00066' \n",
        "!rm -rf './IDH/wt/._pat00067' \n",
        "!rm -rf './IDH/wt/._pat00068' \n",
        "!rm -rf './IDH/wt/._pat00069' \n",
        "!rm -rf './IDH/wt/._pat00070' \n",
        "!rm -rf './IDH/wt/._pat00071' \n",
        "!rm -rf './IDH/wt/._pat00072' \n",
        "!rm -rf './IDH/wt/._pat00073' \n",
        "!rm -rf './IDH/wt/._pat00074' \n",
        "!rm -rf './IDH/wt/._pat00075' \n",
        "!rm -rf './IDH/wt/._pat00076' \n",
        "!rm -rf './IDH/wt/._pat00077' \n",
        "!rm -rf './IDH/wt/._pat00078' \n",
        "!rm -rf './IDH/wt/._pat00079' \n",
        "!rm -rf './IDH/wt/._pat00080' \n",
        "!rm -rf './IDH/wt/._pat00081' \n",
        "!rm -rf './IDH/wt/._pat00082' \n",
        "!rm -rf './IDH/wt/._pat00083' \n",
        "!rm -rf './IDH/wt/._pat00084' \n",
        "!rm -rf './IDH/wt/._pat00085' \n",
        "!rm -rf './IDH/wt/._pat00086' \n",
        "!rm -rf './IDH/wt/._pat00087' \n",
        "!rm -rf './IDH/wt/._pat00088' \n",
        "!rm -rf './IDH/wt/._pat00089' \n",
        "!rm -rf './IDH/wt/._pat00090' \n",
        "!rm -rf './IDH/wt/._pat00091' \n",
        "!rm -rf './IDH/wt/._pat00092' \n",
        "!rm -rf './IDH/wt/._pat00093' \n",
        "!rm -rf './IDH/wt/._pat00094' \n",
        "!rm -rf './IDH/wt/._pat00095' \n",
        "!rm -rf './IDH/wt/._pat00096' \n",
        "!rm -rf './IDH/wt/._pat00097'"
      ],
      "execution_count": 109,
      "outputs": []
    },
    {
      "cell_type": "code",
      "metadata": {
        "id": "IwrxNHvjRPpA",
        "colab_type": "code",
        "colab": {}
      },
      "source": [
        "!rm -rf './IDH/mut/._pat00001' \n",
        "!rm -rf './IDH/mut/._pat00002' \n",
        "!rm -rf './IDH/mut/._pat00003' \n",
        "!rm -rf './IDH/mut/._pat00004' \n",
        "!rm -rf './IDH/mut/._pat00005' \n",
        "!rm -rf './IDH/mut/._pat00006' \n",
        "!rm -rf './IDH/mut/._pat00007' \n",
        "!rm -rf './IDH/mut/._pat00008' \n",
        "!rm -rf './IDH/mut/._pat00009' \n",
        "!rm -rf './IDH/mut/._pat00010' \n",
        "!rm -rf './IDH/mut/._pat00011' \n",
        "!rm -rf './IDH/mut/._pat00012' \n",
        "!rm -rf './IDH/mut/._pat00013' \n",
        "!rm -rf './IDH/mut/._pat00014' \n",
        "!rm -rf './IDH/mut/._pat00015' \n",
        "!rm -rf './IDH/mut/._pat00016' \n",
        "!rm -rf './IDH/mut/._pat00017' \n",
        "!rm -rf './IDH/mut/._pat00018' \n",
        "!rm -rf './IDH/mut/._pat00019' \n",
        "!rm -rf './IDH/mut/._pat00020' \n",
        "!rm -rf './IDH/mut/._pat00021' \n",
        "!rm -rf './IDH/mut/._pat00022' \n",
        "!rm -rf './IDH/mut/._pat00023' \n",
        "!rm -rf './IDH/mut/._pat00024' \n",
        "!rm -rf './IDH/mut/._pat00025' \n",
        "!rm -rf './IDH/mut/._pat00026' \n",
        "!rm -rf './IDH/mut/._pat00027' \n",
        "!rm -rf './IDH/mut/._pat00028' \n",
        "!rm -rf './IDH/mut/._pat00029' \n",
        "!rm -rf './IDH/mut/._pat00030' \n",
        "!rm -rf './IDH/mut/._pat00031' \n",
        "!rm -rf './IDH/mut/._pat00032' \n",
        "!rm -rf './IDH/mut/._pat00033' \n",
        "!rm -rf './IDH/mut/._pat00034' \n",
        "!rm -rf './IDH/mut/._pat00035' \n",
        "!rm -rf './IDH/mut/._pat00036' \n",
        "!rm -rf './IDH/mut/._pat00037' \n",
        "!rm -rf './IDH/mut/._pat00038' \n",
        "!rm -rf './IDH/mut/._pat00039' \n",
        "!rm -rf './IDH/mut/._pat00040' \n",
        "!rm -rf './IDH/mut/._pat00041' \n",
        "!rm -rf './IDH/mut/._pat00042' \n",
        "!rm -rf './IDH/mut/._pat00043' \n",
        "!rm -rf './IDH/mut/._pat00044' \n",
        "!rm -rf './IDH/mut/._pat00045' \n",
        "!rm -rf './IDH/mut/._pat00046' \n",
        "!rm -rf './IDH/mut/._pat00047' \n",
        "!rm -rf './IDH/mut/._pat00048' \n",
        "!rm -rf './IDH/mut/._pat00049' \n",
        "!rm -rf './IDH/mut/._pat00050' \n",
        "!rm -rf './IDH/mut/._pat00051' \n",
        "!rm -rf './IDH/mut/._pat00052' \n",
        "!rm -rf './IDH/mut/._pat00053' \n",
        "!rm -rf './IDH/mut/._pat00054' \n",
        "!rm -rf './IDH/mut/._pat00055' \n",
        "!rm -rf './IDH/mut/._pat00056' \n",
        "!rm -rf './IDH/mut/._pat00057' \n",
        "!rm -rf './IDH/mut/._pat00058' \n",
        "!rm -rf './IDH/mut/._pat00059' \n",
        "!rm -rf './IDH/mut/._pat00060' \n",
        "!rm -rf './IDH/mut/._pat00061' \n",
        "!rm -rf './IDH/mut/._pat00062' \n",
        "!rm -rf './IDH/mut/._pat00063' \n",
        "!rm -rf './IDH/mut/._pat00064' \n",
        "!rm -rf './IDH/mut/._pat00065' \n",
        "!rm -rf './IDH/mut/._pat00066' \n",
        "!rm -rf './IDH/mut/._pat00067' \n",
        "!rm -rf './IDH/mut/._pat00068' \n",
        "!rm -rf './IDH/mut/._pat00069' \n",
        "!rm -rf './IDH/mut/._pat00070' \n",
        "!rm -rf './IDH/mut/._pat00071' \n",
        "!rm -rf './IDH/mut/._pat00072' \n",
        "!rm -rf './IDH/mut/._pat00073' \n",
        "!rm -rf './IDH/mut/._pat00074' \n",
        "!rm -rf './IDH/mut/._pat00075' \n",
        "!rm -rf './IDH/mut/._pat00076' \n",
        "!rm -rf './IDH/mut/._pat00077' \n",
        "!rm -rf './IDH/mut/._pat00078' \n",
        "!rm -rf './IDH/mut/._pat00079' \n",
        "!rm -rf './IDH/mut/._pat00080' \n",
        "!rm -rf './IDH/mut/._pat00081' \n",
        "!rm -rf './IDH/mut/._pat00082' \n",
        "!rm -rf './IDH/mut/._pat00083' \n",
        "!rm -rf './IDH/mut/._pat00084' \n",
        "!rm -rf './IDH/mut/._pat00085' \n",
        "!rm -rf './IDH/mut/._pat00086' \n",
        "!rm -rf './IDH/mut/._pat00087' \n",
        "!rm -rf './IDH/mut/._pat00088' \n",
        "!rm -rf './IDH/mut/._pat00089' \n",
        "!rm -rf './IDH/mut/._pat00090' \n",
        "!rm -rf './IDH/mut/._pat00091' \n",
        "!rm -rf './IDH/mut/._pat00092' \n",
        "!rm -rf './IDH/mut/._pat00093' \n",
        "!rm -rf './IDH/mut/._pat00094' \n",
        "!rm -rf './IDH/mut/._pat00095' \n",
        "!rm -rf './IDH/mut/._pat00096'\n",
        "!rm -rf './IDH/mut/._pat00097'"
      ],
      "execution_count": null,
      "outputs": []
    },
    {
      "cell_type": "code",
      "metadata": {
        "id": "WDc40nxsQw0k",
        "colab_type": "code",
        "colab": {}
      },
      "source": [
        "!rm -rf './IDH/mutval/._pat00001' \n",
        "!rm -rf './IDH/mutval/._pat00002' \n",
        "!rm -rf './IDH/mutval/._pat00003' \n",
        "!rm -rf './IDH/mutval/._pat00004' \n",
        "!rm -rf './IDH/mutval/._pat00005' \n",
        "!rm -rf './IDH/mutval/._pat00006' \n",
        "!rm -rf './IDH/mutval/._pat00007' \n",
        "!rm -rf './IDH/mutval/._pat00008' \n",
        "!rm -rf './IDH/mutval/._pat00009' \n",
        "!rm -rf './IDH/mutval/._pat00010' \n",
        "!rm -rf './IDH/mutval/._pat00011' \n",
        "!rm -rf './IDH/mutval/._pat00012' \n",
        "!rm -rf './IDH/mutval/._pat00013' \n",
        "!rm -rf './IDH/mutval/._pat00014' \n",
        "!rm -rf './IDH/mutval/._pat00015' \n",
        "!rm -rf './IDH/mutval/._pat00016' \n",
        "!rm -rf './IDH/mutval/._pat00017' \n",
        "!rm -rf './IDH/mutval/._pat00018' \n",
        "!rm -rf './IDH/mutval/._pat00019' \n",
        "!rm -rf './IDH/mutval/._pat00020' \n",
        "!rm -rf './IDH/mutval/._pat00021' \n",
        "!rm -rf './IDH/mutval/._pat00022' \n",
        "!rm -rf './IDH/mutval/._pat00023' \n",
        "!rm -rf './IDH/mutval/._pat00024' \n",
        "!rm -rf './IDH/mutval/._pat00025' \n",
        "!rm -rf './IDH/mutval/._pat00026' \n",
        "!rm -rf './IDH/mutval/._pat00027' \n",
        "!rm -rf './IDH/mutval/._pat00028' \n",
        "!rm -rf './IDH/mutval/._pat00029' \n",
        "!rm -rf './IDH/mutval/._pat00030' \n",
        "!rm -rf './IDH/mutval/._pat00031' \n",
        "!rm -rf './IDH/mutval/._pat00032' \n",
        "!rm -rf './IDH/mutval/._pat00033' \n",
        "!rm -rf './IDH/mutval/._pat00034' \n",
        "!rm -rf './IDH/mutval/._pat00035' \n",
        "!rm -rf './IDH/mutval/._pat00036' \n",
        "!rm -rf './IDH/mutval/._pat00037' \n",
        "!rm -rf './IDH/mutval/._pat00038' \n",
        "!rm -rf './IDH/mutval/._pat00039' \n",
        "!rm -rf './IDH/mutval/._pat00040' \n",
        "!rm -rf './IDH/mutval/._pat00041' \n",
        "!rm -rf './IDH/mutval/._pat00042' \n",
        "!rm -rf './IDH/mutval/._pat00043' \n",
        "!rm -rf './IDH/mutval/._pat00044' \n",
        "!rm -rf './IDH/mutval/._pat00045' \n",
        "!rm -rf './IDH/mutval/._pat00046' \n",
        "!rm -rf './IDH/mutval/._pat00047' \n",
        "!rm -rf './IDH/mutval/._pat00048' \n",
        "!rm -rf './IDH/mutval/._pat00049' \n",
        "!rm -rf './IDH/mutval/._pat00050' \n",
        "!rm -rf './IDH/mutval/._pat00051' \n",
        "!rm -rf './IDH/mutval/._pat00052' \n",
        "!rm -rf './IDH/mutval/._pat00053' \n",
        "!rm -rf './IDH/mutval/._pat00054' \n",
        "!rm -rf './IDH/mutval/._pat00055' \n",
        "!rm -rf './IDH/mutval/._pat00056' \n",
        "!rm -rf './IDH/mutval/._pat00057' \n",
        "!rm -rf './IDH/mutval/._pat00058' \n",
        "!rm -rf './IDH/mutval/._pat00059' \n",
        "!rm -rf './IDH/mutval/._pat00060' \n",
        "!rm -rf './IDH/mutval/._pat00061' \n",
        "!rm -rf './IDH/mutval/._pat00062' \n",
        "!rm -rf './IDH/mutval/._pat00063' \n",
        "!rm -rf './IDH/mutval/._pat00064' \n",
        "!rm -rf './IDH/mutval/._pat00065' \n",
        "!rm -rf './IDH/mutval/._pat00066' \n",
        "!rm -rf './IDH/mutval/._pat00067' \n",
        "!rm -rf './IDH/mutval/._pat00068' \n",
        "!rm -rf './IDH/mutval/._pat00069' \n",
        "!rm -rf './IDH/mutval/._pat00070' \n",
        "!rm -rf './IDH/mutval/._pat00071' \n",
        "!rm -rf './IDH/mutval/._pat00072' \n",
        "!rm -rf './IDH/mutval/._pat00073' \n",
        "!rm -rf './IDH/mutval/._pat00074' \n",
        "!rm -rf './IDH/mutval/._pat00075' \n",
        "!rm -rf './IDH/mutval/._pat00076' \n",
        "!rm -rf './IDH/mutval/._pat00077' \n",
        "!rm -rf './IDH/mutval/._pat00078' \n",
        "!rm -rf './IDH/mutval/._pat00079' \n",
        "!rm -rf './IDH/mutval/._pat00080' \n",
        "!rm -rf './IDH/mutval/._pat00081' \n",
        "!rm -rf './IDH/mutval/._pat00082' \n",
        "!rm -rf './IDH/mutval/._pat00083' \n",
        "!rm -rf './IDH/mutval/._pat00084' \n",
        "!rm -rf './IDH/mutval/._pat00085' \n",
        "!rm -rf './IDH/mutval/._pat00086' \n",
        "!rm -rf './IDH/mutval/._pat00087' \n",
        "!rm -rf './IDH/mutval/._pat00088' \n",
        "!rm -rf './IDH/mutval/._pat00089' \n",
        "!rm -rf './IDH/mutval/._pat00090' \n",
        "!rm -rf './IDH/mutval/._pat00091' \n",
        "!rm -rf './IDH/mutval/._pat00092' \n",
        "!rm -rf './IDH/mutval/._pat00093' \n",
        "!rm -rf './IDH/mutval/._pat00094' \n",
        "!rm -rf './IDH/mutval/._pat00095' \n",
        "!rm -rf './IDH/mutval/._pat00096'\n",
        "!rm -rf './IDH/mutval/._pat00097'"
      ],
      "execution_count": null,
      "outputs": []
    },
    {
      "cell_type": "code",
      "metadata": {
        "id": "SzO4yxM8QxV3",
        "colab_type": "code",
        "colab": {}
      },
      "source": [
        "\n",
        "!rm -rf './IDH/wtval/._pat00001' \n",
        "!rm -rf './IDH/wtval/._pat00002' \n",
        "!rm -rf './IDH/wtval/._pat00003' \n",
        "!rm -rf './IDH/wtval/._pat00004' \n",
        "!rm -rf './IDH/wtval/._pat00005' \n",
        "!rm -rf './IDH/wtval/._pat00006' \n",
        "!rm -rf './IDH/wtval/._pat00007' \n",
        "!rm -rf './IDH/wtval/._pat00008' \n",
        "!rm -rf './IDH/wtval/._pat00009' \n",
        "!rm -rf './IDH/wtval/._pat00010' \n",
        "!rm -rf './IDH/wtval/._pat00011' \n",
        "!rm -rf './IDH/wtval/._pat00012' \n",
        "!rm -rf './IDH/wtval/._pat00013' \n",
        "!rm -rf './IDH/wtval/._pat00014' \n",
        "!rm -rf './IDH/wtval/._pat00015' \n",
        "!rm -rf './IDH/wtval/._pat00016' \n",
        "!rm -rf './IDH/wtval/._pat00017' \n",
        "!rm -rf './IDH/wtval/._pat00018' \n",
        "!rm -rf './IDH/wtval/._pat00019' \n",
        "!rm -rf './IDH/wtval/._pat00020' \n",
        "!rm -rf './IDH/wtval/._pat00021' \n",
        "!rm -rf './IDH/wtval/._pat00022' \n",
        "!rm -rf './IDH/wtval/._pat00023' \n",
        "!rm -rf './IDH/wtval/._pat00024' \n",
        "!rm -rf './IDH/wtval/._pat00025' \n",
        "!rm -rf './IDH/wtval/._pat00026' \n",
        "!rm -rf './IDH/wtval/._pat00027' \n",
        "!rm -rf './IDH/wtval/._pat00028' \n",
        "!rm -rf './IDH/wtval/._pat00029' \n",
        "!rm -rf './IDH/wtval/._pat00030' \n",
        "!rm -rf './IDH/wtval/._pat00031' \n",
        "!rm -rf './IDH/wtval/._pat00032' \n",
        "!rm -rf './IDH/wtval/._pat00033' \n",
        "!rm -rf './IDH/wtval/._pat00034' \n",
        "!rm -rf './IDH/wtval/._pat00035' \n",
        "!rm -rf './IDH/wtval/._pat00036' \n",
        "!rm -rf './IDH/wtval/._pat00037' \n",
        "!rm -rf './IDH/wtval/._pat00038' \n",
        "!rm -rf './IDH/wtval/._pat00039' \n",
        "!rm -rf './IDH/wtval/._pat00040' \n",
        "!rm -rf './IDH/wtval/._pat00041' \n",
        "!rm -rf './IDH/wtval/._pat00042' \n",
        "!rm -rf './IDH/wtval/._pat00043' \n",
        "!rm -rf './IDH/wtval/._pat00044' \n",
        "!rm -rf './IDH/wtval/._pat00045' \n",
        "!rm -rf './IDH/wtval/._pat00046' \n",
        "!rm -rf './IDH/wtval/._pat00047' \n",
        "!rm -rf './IDH/wtval/._pat00048' \n",
        "!rm -rf './IDH/wtval/._pat00049' \n",
        "!rm -rf './IDH/wtval/._pat00050' \n",
        "!rm -rf './IDH/wtval/._pat00051' \n",
        "!rm -rf './IDH/wtval/._pat00052' \n",
        "!rm -rf './IDH/wtval/._pat00053' \n",
        "!rm -rf './IDH/wtval/._pat00054' \n",
        "!rm -rf './IDH/wtval/._pat00055' \n",
        "!rm -rf './IDH/wtval/._pat00056' \n",
        "!rm -rf './IDH/wtval/._pat00057' \n",
        "!rm -rf './IDH/wtval/._pat00058' \n",
        "!rm -rf './IDH/wtval/._pat00059' \n",
        "!rm -rf './IDH/wtval/._pat00060' \n",
        "!rm -rf './IDH/wtval/._pat00061' \n",
        "!rm -rf './IDH/wtval/._pat00062' \n",
        "!rm -rf './IDH/wtval/._pat00063' \n",
        "!rm -rf './IDH/wtval/._pat00064' \n",
        "!rm -rf './IDH/wtval/._pat00065' \n",
        "!rm -rf './IDH/wtval/._pat00066' \n",
        "!rm -rf './IDH/wtval/._pat00067' \n",
        "!rm -rf './IDH/wtval/._pat00068' \n",
        "!rm -rf './IDH/wtval/._pat00069' \n",
        "!rm -rf './IDH/wtval/._pat00070' \n",
        "!rm -rf './IDH/wtval/._pat00071' \n",
        "!rm -rf './IDH/wtval/._pat00072' \n",
        "!rm -rf './IDH/wtval/._pat00073' \n",
        "!rm -rf './IDH/wtval/._pat00074' \n",
        "!rm -rf './IDH/wtval/._pat00075' \n",
        "!rm -rf './IDH/wtval/._pat00076' \n",
        "!rm -rf './IDH/wtval/._pat00077' \n",
        "!rm -rf './IDH/wtval/._pat00078' \n",
        "!rm -rf './IDH/wtval/._pat00079' \n",
        "!rm -rf './IDH/wtval/._pat00080' \n",
        "!rm -rf './IDH/wtval/._pat00081' \n",
        "!rm -rf './IDH/wtval/._pat00082' \n",
        "!rm -rf './IDH/wtval/._pat00083' \n",
        "!rm -rf './IDH/wtval/._pat00084' \n",
        "!rm -rf './IDH/wtval/._pat00085' \n",
        "!rm -rf './IDH/wtval/._pat00086' \n",
        "!rm -rf './IDH/wtval/._pat00087' \n",
        "!rm -rf './IDH/wtval/._pat00088' \n",
        "!rm -rf './IDH/wtval/._pat00089' \n",
        "!rm -rf './IDH/wtval/._pat00090' \n",
        "!rm -rf './IDH/wtval/._pat00091' \n",
        "!rm -rf './IDH/wtval/._pat00092' \n",
        "!rm -rf './IDH/wtval/._pat00093' \n",
        "!rm -rf './IDH/wtval/._pat00094' \n",
        "!rm -rf './IDH/wtval/._pat00095' \n",
        "!rm -rf './IDH/wtval/._pat00096' \n",
        "!rm -rf './IDH/wtval/._pat00097'"
      ],
      "execution_count": null,
      "outputs": []
    },
    {
      "cell_type": "code",
      "metadata": {
        "id": "HCzjZCcnie07",
        "colab_type": "code",
        "colab": {}
      },
      "source": [
        "from __future__ import unicode_literals\n",
        "from __future__ import print_function\n",
        "from __future__ import division\n",
        "from __future__ import absolute_import\n",
        "# Cell #5\n",
        "# create new versions of the T1, GAD, and T2 images that range from 0 to 255, and where the 0 intensity value maps to the 5th percentile value \n",
        "# and 255 maps to the 95th percentile value.\n",
        "import imageio\n",
        "import nibabel as nib\n",
        "import numpy as np\n",
        "\n",
        "MIN_MR = 20\n",
        "\n",
        "def normalise_zero_one(image):\n",
        "    dims = np.shape(image)\n",
        "    image_1d = image.reshape(1, image.size)\n",
        "    above = np.where(image_1d>MIN_MR, image_1d, image_1d)\n",
        "    if above.size < image_1d.size/2:\n",
        "        above = image_1d # avoid bad MIN_MR thresholds\n",
        "    sorted_im = np.sort(above, axis = None)\n",
        "    \n",
        "    start = int(sorted_im.size / 20)  # 20 = 5%\n",
        "    end = int(sorted_im.size * 19 / 20) # 95%\n",
        "    start_val = sorted_im[start]\n",
        "    end_val = sorted_im[end]\n",
        "    \n",
        "    image = np.maximum(image, start_val) # map values below the start_val to start_val\n",
        "    image = np.minimum(image, end_val)   # map values above the end_val to end_val\n",
        "    image = image - start_val # subtract the starting intensity\n",
        "\n",
        " #   print (\"rescaling range \" + str(newmin) + \" to \" + str(histo[1][index]))\n",
        "  #test  minimum = np.min(image)\n",
        "  #test  maximum = np.max(image)\n",
        "\n",
        "  #test  ret = ((image - minimum) / (maximum - minimum))    \n",
        "  #test  return ret    \n",
        "\n",
        "    \n",
        "    \n",
        "\n",
        "\n",
        "\n",
        "\n",
        "\n",
        "\n",
        "def nifti_to_img(red_file, green_file, blue_file, not_dir, yes_dir, startSlice, endSlice, subject):\n",
        "### red_ green_ and blue_files are the nifit files that will be combined to go into the PNG\n",
        "### not_dir is the direcotry where PNGs are stored if they are not in the (inclusive)\n",
        "### range set by startSlice/endSlice\n",
        "### yes_dir is where they are stored when they ARE in the range\n",
        "### subject is the ID so that we can track where images came from\n",
        "\n",
        "    try:\n",
        "        nifti = nib.load(red_file)\n",
        "        nif_header = nifti.header\n",
        "        red_image = nifti.get_fdata()\n",
        "    except:\n",
        "        return 0\n",
        "\n",
        "    try:\n",
        "        if os.path.isfile(green_file):\n",
        "            nifti = nib.load(green_file)\n",
        "            nif_header = nifti.header\n",
        "            green_image = nifti.get_fdata()\n",
        "        else:\n",
        "            pass\n",
        "    except:  # if can't load, then use red image\n",
        "        green_image = red_image\n",
        "    \n",
        "    try:\n",
        "        if os.path.isfile(blue_file):\n",
        "            nifti = nib.load(blue_file)\n",
        "\n",
        "            nif_header = nifti.header\n",
        "            blue_image = nifti.get_fdata()\n",
        "        else:\n",
        "            pass\n",
        "    except:  # if can't load, then use red image\n",
        "        blue_image = red_image\n",
        "        \n",
        "# now scale the intensity for each image        \n",
        "    red_image = normalise_zero_one(red_image)\n",
        "    green_image = normalise_zero_one(green_image)\n",
        "    blue_image = normalise_zero_one(blue_image)\n",
        "# then convert to 8 bits\n",
        "    red_image = red_image.astype(np.uint8)     \n",
        "    green_image = green_image.astype(np.uint8)     \n",
        "    blue_image = blue_image.astype(np.uint8)   \n",
        "    \n",
        "# get the number of slices\n",
        "    dims = np.shape(red_image)\n",
        "    zd = dims[2]\n",
        "\n",
        "    for z in range(0, zd):\n",
        "        outname = subject + \"-{0:04d}\".format(z) + '.png'\n",
        "        if z >= startSlice and z <= endSlice:  # this is enhancing\n",
        "            out_dir = yes_dir\n",
        "        else:\n",
        "            out_dir = not_dir\n",
        "        outname = os.path.join(out_dir, outname)\n",
        "        if not os.path.exists(out_dir):\n",
        "            os.makedirs(out_dir)\n",
        "        combined = np.dstack((red_image[:,:,z],green_image[:,:,z],\n",
        "                              blue_image[:,:,z]))\n",
        "## . images come in rotated\n",
        "        combined = np.rot90(combined, k=1)\n",
        "#        print ('Name: ' + outname)\n",
        "        imageio.imwrite(outname, combined)\n",
        "    return zd"
      ],
      "execution_count": 113,
      "outputs": []
    },
    {
      "cell_type": "code",
      "metadata": {
        "id": "ETZHZsRFqNlU",
        "colab_type": "code",
        "colab": {}
      },
      "source": [
        "NIFTI_PATH = 'IDH/wt/'"
      ],
      "execution_count": 114,
      "outputs": []
    },
    {
      "cell_type": "code",
      "metadata": {
        "id": "5iQuQDuwieyE",
        "colab_type": "code",
        "colab": {
          "base_uri": "https://localhost:8080/",
          "height": 68
        },
        "outputId": "cd0e802e-288e-4cfe-a8d4-eaa3b0244405"
      },
      "source": [
        "# Cell #6\n",
        "# take the GAD nii, scale it to 0-255 and store that into the red channel\n",
        "# same for T1 (green) and T2 (blue)\n",
        "# PNG files are stored in enh / nonenh folders based on the csv file\n",
        "\n",
        "# store the png files into enhancing or nonenhancing folders after making sure they are cleared\n",
        "\n",
        "!rm -rf classified\n",
        "\n",
        "!mkdir classified\n",
        "\n",
        "for subj in os.listdir(NIFTI_PATH):\n",
        "    subj_path = os.path.join(NIFTI_PATH, subj)\n",
        "    red_f = os.path.join(subj_path, 'Reg-N4-t1.nii.gz')\n",
        "    green_f = os.path.join(subj_path, 'Reg-N4-flair.nii.gz')\n",
        "    blue_f = os.path.join(subj_path, 'Reg-N4-gad.nii.gz')\n",
        "    startSlice = df.loc[df.Subject == subj, 'StartSlice'].values[0]\n",
        "    endSlice = df.loc[df.Subject == subj, 'EndSlice'].values[0]\n",
        "    print (\"Making PNG file for \" + subj + \" start: \" + str(startSlice) + \" end: \" + str(endSlice))\n",
        "    count = nifti_to_img(red_f, green_f, blue_f, NIFTI_PATH, NIFTI_PATH, startSlice, endSlice, subj)"
      ],
      "execution_count": 116,
      "outputs": [
        {
          "output_type": "stream",
          "text": [
            "Making PNG file for pat00001 start: 0 end: 300\n",
            "Making PNG file for pat00005 start: 0 end: 300\n",
            "Making PNG file for pat00003 start: 0 end: 300\n"
          ],
          "name": "stdout"
        }
      ]
    },
    {
      "cell_type": "code",
      "metadata": {
        "id": "jiE_I9o-388G",
        "colab_type": "code",
        "colab": {}
      },
      "source": [
        "shutil.rmtree(subj_path)"
      ],
      "execution_count": null,
      "outputs": []
    },
    {
      "cell_type": "code",
      "metadata": {
        "id": "Ac5yrvqjyTkW",
        "colab_type": "code",
        "colab": {}
      },
      "source": [
        "NIFTI_PATH = 'IDH/wtval/'"
      ],
      "execution_count": 101,
      "outputs": []
    },
    {
      "cell_type": "code",
      "metadata": {
        "id": "zwAEMqYkyTfD",
        "colab_type": "code",
        "colab": {
          "base_uri": "https://localhost:8080/",
          "height": 232
        },
        "outputId": "b37196cb-c8ea-4111-9474-2e6ad5f8d745"
      },
      "source": [
        "# Cell #6\n",
        "# take the GAD nii, scale it to 0-255 and store that into the red channel\n",
        "# same for T1 (green) and T2 (blue)\n",
        "# PNG files are stored in enh / nonenh folders based on the csv file\n",
        "\n",
        "# store the png files into enhancing or nonenhancing folders after making sure they are cleared\n",
        "\n",
        "!rm -rf classified\n",
        "\n",
        "!mkdir classified\n",
        "\n",
        "for subj in os.listdir(NIFTI_PATH):\n",
        "    subj_path = os.path.join(NIFTI_PATH, subj)\n",
        "    red_f = os.path.join(subj_path, 'Reg-N4-t1.nii.gz')\n",
        "    green_f = os.path.join(subj_path, 'Reg-N4-flair.nii.gz')\n",
        "    blue_f = os.path.join(subj_path, 'Reg-N4-gad.nii.gz')\n",
        "    startSlice = df.loc[df.Subject == subj, 'StartSlice'].values[0]\n",
        "    endSlice = df.loc[df.Subject == subj, 'EndSlice'].values[0]\n",
        "    print (\"Making PNG file for \" + subj + \" start: \" + str(startSlice) + \" end: \" + str(endSlice))\n",
        "    count = nifti_to_img(red_f, green_f, blue_f, NIFTI_PATH, NIFTI_PATH, startSlice, endSlice, subj)"
      ],
      "execution_count": 102,
      "outputs": [
        {
          "output_type": "error",
          "ename": "IndexError",
          "evalue": "ignored",
          "traceback": [
            "\u001b[0;31m---------------------------------------------------------------------------\u001b[0m",
            "\u001b[0;31mIndexError\u001b[0m                                Traceback (most recent call last)",
            "\u001b[0;32m<ipython-input-102-1595723fda4c>\u001b[0m in \u001b[0;36m<module>\u001b[0;34m()\u001b[0m\n\u001b[1;32m     15\u001b[0m     \u001b[0mgreen_f\u001b[0m \u001b[0;34m=\u001b[0m \u001b[0mos\u001b[0m\u001b[0;34m.\u001b[0m\u001b[0mpath\u001b[0m\u001b[0;34m.\u001b[0m\u001b[0mjoin\u001b[0m\u001b[0;34m(\u001b[0m\u001b[0msubj_path\u001b[0m\u001b[0;34m,\u001b[0m \u001b[0;34m'Reg-N4-flair.nii.gz'\u001b[0m\u001b[0;34m)\u001b[0m\u001b[0;34m\u001b[0m\u001b[0;34m\u001b[0m\u001b[0m\n\u001b[1;32m     16\u001b[0m     \u001b[0mblue_f\u001b[0m \u001b[0;34m=\u001b[0m \u001b[0mos\u001b[0m\u001b[0;34m.\u001b[0m\u001b[0mpath\u001b[0m\u001b[0;34m.\u001b[0m\u001b[0mjoin\u001b[0m\u001b[0;34m(\u001b[0m\u001b[0msubj_path\u001b[0m\u001b[0;34m,\u001b[0m \u001b[0;34m'Reg-N4-gad.nii.gz'\u001b[0m\u001b[0;34m)\u001b[0m\u001b[0;34m\u001b[0m\u001b[0;34m\u001b[0m\u001b[0m\n\u001b[0;32m---> 17\u001b[0;31m     \u001b[0mstartSlice\u001b[0m \u001b[0;34m=\u001b[0m \u001b[0mdf\u001b[0m\u001b[0;34m.\u001b[0m\u001b[0mloc\u001b[0m\u001b[0;34m[\u001b[0m\u001b[0mdf\u001b[0m\u001b[0;34m.\u001b[0m\u001b[0mSubject\u001b[0m \u001b[0;34m==\u001b[0m \u001b[0msubj\u001b[0m\u001b[0;34m,\u001b[0m \u001b[0;34m'StartSlice'\u001b[0m\u001b[0;34m]\u001b[0m\u001b[0;34m.\u001b[0m\u001b[0mvalues\u001b[0m\u001b[0;34m[\u001b[0m\u001b[0;36m0\u001b[0m\u001b[0;34m]\u001b[0m\u001b[0;34m\u001b[0m\u001b[0;34m\u001b[0m\u001b[0m\n\u001b[0m\u001b[1;32m     18\u001b[0m     \u001b[0mendSlice\u001b[0m \u001b[0;34m=\u001b[0m \u001b[0mdf\u001b[0m\u001b[0;34m.\u001b[0m\u001b[0mloc\u001b[0m\u001b[0;34m[\u001b[0m\u001b[0mdf\u001b[0m\u001b[0;34m.\u001b[0m\u001b[0mSubject\u001b[0m \u001b[0;34m==\u001b[0m \u001b[0msubj\u001b[0m\u001b[0;34m,\u001b[0m \u001b[0;34m'EndSlice'\u001b[0m\u001b[0;34m]\u001b[0m\u001b[0;34m.\u001b[0m\u001b[0mvalues\u001b[0m\u001b[0;34m[\u001b[0m\u001b[0;36m0\u001b[0m\u001b[0;34m]\u001b[0m\u001b[0;34m\u001b[0m\u001b[0;34m\u001b[0m\u001b[0m\n\u001b[1;32m     19\u001b[0m     \u001b[0mprint\u001b[0m \u001b[0;34m(\u001b[0m\u001b[0;34m\"Making PNG file for \"\u001b[0m \u001b[0;34m+\u001b[0m \u001b[0msubj\u001b[0m \u001b[0;34m+\u001b[0m \u001b[0;34m\" start: \"\u001b[0m \u001b[0;34m+\u001b[0m \u001b[0mstr\u001b[0m\u001b[0;34m(\u001b[0m\u001b[0mstartSlice\u001b[0m\u001b[0;34m)\u001b[0m \u001b[0;34m+\u001b[0m \u001b[0;34m\" end: \"\u001b[0m \u001b[0;34m+\u001b[0m \u001b[0mstr\u001b[0m\u001b[0;34m(\u001b[0m\u001b[0mendSlice\u001b[0m\u001b[0;34m)\u001b[0m\u001b[0;34m)\u001b[0m\u001b[0;34m\u001b[0m\u001b[0;34m\u001b[0m\u001b[0m\n",
            "\u001b[0;31mIndexError\u001b[0m: index 0 is out of bounds for axis 0 with size 0"
          ]
        }
      ]
    },
    {
      "cell_type": "code",
      "metadata": {
        "id": "YFK8niq637qC",
        "colab_type": "code",
        "colab": {}
      },
      "source": [
        "shutil.rmtree(subj_path)"
      ],
      "execution_count": null,
      "outputs": []
    },
    {
      "cell_type": "code",
      "metadata": {
        "id": "ndSUrz6iyTR3",
        "colab_type": "code",
        "colab": {}
      },
      "source": [
        "NIFTI_PATH = 'IDH/mut/'"
      ],
      "execution_count": null,
      "outputs": []
    },
    {
      "cell_type": "code",
      "metadata": {
        "id": "-1fqSp70yTNa",
        "colab_type": "code",
        "colab": {
          "base_uri": "https://localhost:8080/",
          "height": 102
        },
        "outputId": "e8b466fd-3a2d-44d8-8c91-5d6b4bffd9ed"
      },
      "source": [
        "# Cell #6\n",
        "# take the GAD nii, scale it to 0-255 and store that into the red channel\n",
        "# same for T1 (green) and T2 (blue)\n",
        "# PNG files are stored in enh / nonenh folders based on the csv file\n",
        "\n",
        "# store the png files into enhancing or nonenhancing folders after making sure they are cleared\n",
        "\n",
        "!rm -rf classified\n",
        "\n",
        "!mkdir classified\n",
        "\n",
        "for subj in os.listdir(NIFTI_PATH):\n",
        "    subj_path = os.path.join(NIFTI_PATH, subj)\n",
        "    red_f = os.path.join(subj_path, 'Reg-N4-t1.nii.gz')\n",
        "    green_f = os.path.join(subj_path, 'Reg-N4-flair.nii.gz')\n",
        "    blue_f = os.path.join(subj_path, 'Reg-N4-gad.nii.gz')\n",
        "    startSlice = df.loc[df.Subject == subj, 'StartSlice'].values[0]\n",
        "    endSlice = df.loc[df.Subject == subj, 'EndSlice'].values[0]\n",
        "    print (\"Making PNG file for \" + subj + \" start: \" + str(startSlice) + \" end: \" + str(endSlice))\n",
        "    count = nifti_to_img(red_f, green_f, blue_f, NIFTI_PATH, NIFTI_PATH, startSlice, endSlice, subj)"
      ],
      "execution_count": null,
      "outputs": [
        {
          "output_type": "stream",
          "text": [
            "Making PNG file for Patient7 start: 0 end: 300\n",
            "Making PNG file for Patient6 start: 0 end: 300\n",
            "Making PNG file for Patient10 start: 0 end: 300\n",
            "Making PNG file for Patient8 start: 0 end: 300\n",
            "Making PNG file for Patient2 start: 0 end: 300\n"
          ],
          "name": "stdout"
        }
      ]
    },
    {
      "cell_type": "code",
      "metadata": {
        "id": "kmjXByUN4Axk",
        "colab_type": "code",
        "colab": {}
      },
      "source": [
        "shutil.rmtree(subj_path)"
      ],
      "execution_count": null,
      "outputs": []
    },
    {
      "cell_type": "code",
      "metadata": {
        "id": "bOzD_LUDyTId",
        "colab_type": "code",
        "colab": {}
      },
      "source": [
        "NIFTI_PATH = 'IDH/mutval/'"
      ],
      "execution_count": null,
      "outputs": []
    },
    {
      "cell_type": "code",
      "metadata": {
        "id": "4RcnCfNpyS9O",
        "colab_type": "code",
        "colab": {
          "base_uri": "https://localhost:8080/",
          "height": 463
        },
        "outputId": "b9bd9105-d213-4c13-e7de-d52893af1d94"
      },
      "source": [
        "# Cell #6\n",
        "# take the GAD nii, scale it to 0-255 and store that into the red channel\n",
        "# same for T1 (green) and T2 (blue)\n",
        "# PNG files are stored in enh / nonenh folders based on the csv file\n",
        "\n",
        "# store the png files into enhancing or nonenhancing folders after making sure they are cleared\n",
        "\n",
        "!rm -rf classified\n",
        "\n",
        "!mkdir classified\n",
        "\n",
        "for subj in os.listdir(NIFTI_PATH):\n",
        "    subj_path = os.path.join(NIFTI_PATH, subj)\n",
        "    red_f = os.path.join(subj_path, 'Reg-N4-t1.nii.gz')\n",
        "    green_f = os.path.join(subj_path, 'Reg-N4-flair.nii.gz')\n",
        "    blue_f = os.path.join(subj_path, 'Reg-N4-gad.nii.gz')\n",
        "    startSlice = df.loc[df.Subject == subj, 'StartSlice'].values[0]\n",
        "    endSlice = df.loc[df.Subject == subj, 'EndSlice'].values[0]\n",
        "    print (\"Making PNG file for \" + subj + \" start: \" + str(startSlice) + \" end: \" + str(endSlice))\n",
        "    count = nifti_to_img(red_f, green_f, blue_f, NIFTI_PATH, NIFTI_PATH, startSlice, endSlice, subj)\n"
      ],
      "execution_count": null,
      "outputs": [
        {
          "output_type": "stream",
          "text": [
            "Making PNG file for Patient6 start: 0 end: 300\n"
          ],
          "name": "stdout"
        },
        {
          "output_type": "error",
          "ename": "KeyboardInterrupt",
          "evalue": "ignored",
          "traceback": [
            "\u001b[0;31m---------------------------------------------------------------------------\u001b[0m",
            "\u001b[0;31mAttributeError\u001b[0m                            Traceback (most recent call last)",
            "\u001b[0;32m/usr/local/lib/python3.6/dist-packages/PIL/ImageFile.py\u001b[0m in \u001b[0;36m_save\u001b[0;34m(im, fp, tile, bufsize)\u001b[0m\n\u001b[1;32m    495\u001b[0m     \u001b[0;32mtry\u001b[0m\u001b[0;34m:\u001b[0m\u001b[0;34m\u001b[0m\u001b[0;34m\u001b[0m\u001b[0m\n\u001b[0;32m--> 496\u001b[0;31m         \u001b[0mfh\u001b[0m \u001b[0;34m=\u001b[0m \u001b[0mfp\u001b[0m\u001b[0;34m.\u001b[0m\u001b[0mfileno\u001b[0m\u001b[0;34m(\u001b[0m\u001b[0;34m)\u001b[0m\u001b[0;34m\u001b[0m\u001b[0;34m\u001b[0m\u001b[0m\n\u001b[0m\u001b[1;32m    497\u001b[0m         \u001b[0mfp\u001b[0m\u001b[0;34m.\u001b[0m\u001b[0mflush\u001b[0m\u001b[0;34m(\u001b[0m\u001b[0;34m)\u001b[0m\u001b[0;34m\u001b[0m\u001b[0;34m\u001b[0m\u001b[0m\n",
            "\u001b[0;31mAttributeError\u001b[0m: '_idat' object has no attribute 'fileno'",
            "\nDuring handling of the above exception, another exception occurred:\n",
            "\u001b[0;31mKeyboardInterrupt\u001b[0m                         Traceback (most recent call last)",
            "\u001b[0;32m<ipython-input-29-b3cbebccf993>\u001b[0m in \u001b[0;36m<module>\u001b[0;34m()\u001b[0m\n\u001b[1;32m     10\u001b[0m     \u001b[0mendSlice\u001b[0m \u001b[0;34m=\u001b[0m \u001b[0mdf\u001b[0m\u001b[0;34m.\u001b[0m\u001b[0mloc\u001b[0m\u001b[0;34m[\u001b[0m\u001b[0mdf\u001b[0m\u001b[0;34m.\u001b[0m\u001b[0mSubject\u001b[0m \u001b[0;34m==\u001b[0m \u001b[0msubj\u001b[0m\u001b[0;34m,\u001b[0m \u001b[0;34m'EndSlice'\u001b[0m\u001b[0;34m]\u001b[0m\u001b[0;34m.\u001b[0m\u001b[0mvalues\u001b[0m\u001b[0;34m[\u001b[0m\u001b[0;36m0\u001b[0m\u001b[0;34m]\u001b[0m\u001b[0;34m\u001b[0m\u001b[0;34m\u001b[0m\u001b[0m\n\u001b[1;32m     11\u001b[0m     \u001b[0mprint\u001b[0m \u001b[0;34m(\u001b[0m\u001b[0;34m\"Making PNG file for \"\u001b[0m \u001b[0;34m+\u001b[0m \u001b[0msubj\u001b[0m \u001b[0;34m+\u001b[0m \u001b[0;34m\" start: \"\u001b[0m \u001b[0;34m+\u001b[0m \u001b[0mstr\u001b[0m\u001b[0;34m(\u001b[0m\u001b[0mstartSlice\u001b[0m\u001b[0;34m)\u001b[0m \u001b[0;34m+\u001b[0m \u001b[0;34m\" end: \"\u001b[0m \u001b[0;34m+\u001b[0m \u001b[0mstr\u001b[0m\u001b[0;34m(\u001b[0m\u001b[0mendSlice\u001b[0m\u001b[0;34m)\u001b[0m\u001b[0;34m)\u001b[0m\u001b[0;34m\u001b[0m\u001b[0;34m\u001b[0m\u001b[0m\n\u001b[0;32m---> 12\u001b[0;31m     \u001b[0mcount\u001b[0m \u001b[0;34m=\u001b[0m \u001b[0mnifti_to_img\u001b[0m\u001b[0;34m(\u001b[0m\u001b[0mred_f\u001b[0m\u001b[0;34m,\u001b[0m \u001b[0mred_f\u001b[0m\u001b[0;34m,\u001b[0m \u001b[0mred_f\u001b[0m\u001b[0;34m,\u001b[0m \u001b[0mNIFTI_PATH\u001b[0m\u001b[0;34m,\u001b[0m \u001b[0mNIFTI_PATH\u001b[0m\u001b[0;34m,\u001b[0m \u001b[0mstartSlice\u001b[0m\u001b[0;34m,\u001b[0m \u001b[0mendSlice\u001b[0m\u001b[0;34m,\u001b[0m \u001b[0msubj\u001b[0m\u001b[0;34m)\u001b[0m\u001b[0;34m\u001b[0m\u001b[0;34m\u001b[0m\u001b[0m\n\u001b[0m",
            "\u001b[0;32m<ipython-input-18-201fb785acd8>\u001b[0m in \u001b[0;36mnifti_to_img\u001b[0;34m(red_file, green_file, blue_file, not_dir, yes_dir, startSlice, endSlice, subject)\u001b[0m\n\u001b[1;32m    106\u001b[0m         \u001b[0mcombined\u001b[0m \u001b[0;34m=\u001b[0m \u001b[0mnp\u001b[0m\u001b[0;34m.\u001b[0m\u001b[0mrot90\u001b[0m\u001b[0;34m(\u001b[0m\u001b[0mcombined\u001b[0m\u001b[0;34m,\u001b[0m \u001b[0mk\u001b[0m\u001b[0;34m=\u001b[0m\u001b[0;36m1\u001b[0m\u001b[0;34m)\u001b[0m\u001b[0;34m\u001b[0m\u001b[0;34m\u001b[0m\u001b[0m\n\u001b[1;32m    107\u001b[0m \u001b[0;31m#        print ('Name: ' + outname)\u001b[0m\u001b[0;34m\u001b[0m\u001b[0;34m\u001b[0m\u001b[0;34m\u001b[0m\u001b[0m\n\u001b[0;32m--> 108\u001b[0;31m         \u001b[0mimageio\u001b[0m\u001b[0;34m.\u001b[0m\u001b[0mimwrite\u001b[0m\u001b[0;34m(\u001b[0m\u001b[0moutname\u001b[0m\u001b[0;34m,\u001b[0m \u001b[0mcombined\u001b[0m\u001b[0;34m)\u001b[0m\u001b[0;34m\u001b[0m\u001b[0;34m\u001b[0m\u001b[0m\n\u001b[0m\u001b[1;32m    109\u001b[0m     \u001b[0;32mreturn\u001b[0m \u001b[0mzd\u001b[0m\u001b[0;34m\u001b[0m\u001b[0;34m\u001b[0m\u001b[0m\n",
            "\u001b[0;32m/usr/local/lib/python3.6/dist-packages/imageio/core/functions.py\u001b[0m in \u001b[0;36mimwrite\u001b[0;34m(uri, im, format, **kwargs)\u001b[0m\n\u001b[1;32m    258\u001b[0m     \u001b[0mwriter\u001b[0m \u001b[0;34m=\u001b[0m \u001b[0mget_writer\u001b[0m\u001b[0;34m(\u001b[0m\u001b[0muri\u001b[0m\u001b[0;34m,\u001b[0m \u001b[0mformat\u001b[0m\u001b[0;34m,\u001b[0m \u001b[0;34m\"i\"\u001b[0m\u001b[0;34m,\u001b[0m \u001b[0;34m**\u001b[0m\u001b[0mkwargs\u001b[0m\u001b[0;34m)\u001b[0m\u001b[0;34m\u001b[0m\u001b[0;34m\u001b[0m\u001b[0m\n\u001b[1;32m    259\u001b[0m     \u001b[0;32mwith\u001b[0m \u001b[0mwriter\u001b[0m\u001b[0;34m:\u001b[0m\u001b[0;34m\u001b[0m\u001b[0;34m\u001b[0m\u001b[0m\n\u001b[0;32m--> 260\u001b[0;31m         \u001b[0mwriter\u001b[0m\u001b[0;34m.\u001b[0m\u001b[0mappend_data\u001b[0m\u001b[0;34m(\u001b[0m\u001b[0mim\u001b[0m\u001b[0;34m)\u001b[0m\u001b[0;34m\u001b[0m\u001b[0;34m\u001b[0m\u001b[0m\n\u001b[0m\u001b[1;32m    261\u001b[0m \u001b[0;34m\u001b[0m\u001b[0m\n\u001b[1;32m    262\u001b[0m     \u001b[0;31m# Return a result if there is any\u001b[0m\u001b[0;34m\u001b[0m\u001b[0;34m\u001b[0m\u001b[0;34m\u001b[0m\u001b[0m\n",
            "\u001b[0;32m/usr/local/lib/python3.6/dist-packages/imageio/core/format.py\u001b[0m in \u001b[0;36mappend_data\u001b[0;34m(self, im, meta)\u001b[0m\n\u001b[1;32m    498\u001b[0m             \u001b[0mim\u001b[0m \u001b[0;34m=\u001b[0m \u001b[0masarray\u001b[0m\u001b[0;34m(\u001b[0m\u001b[0mim\u001b[0m\u001b[0;34m)\u001b[0m\u001b[0;34m\u001b[0m\u001b[0;34m\u001b[0m\u001b[0m\n\u001b[1;32m    499\u001b[0m             \u001b[0;31m# Call\u001b[0m\u001b[0;34m\u001b[0m\u001b[0;34m\u001b[0m\u001b[0;34m\u001b[0m\u001b[0m\n\u001b[0;32m--> 500\u001b[0;31m             \u001b[0;32mreturn\u001b[0m \u001b[0mself\u001b[0m\u001b[0;34m.\u001b[0m\u001b[0m_append_data\u001b[0m\u001b[0;34m(\u001b[0m\u001b[0mim\u001b[0m\u001b[0;34m,\u001b[0m \u001b[0mtotal_meta\u001b[0m\u001b[0;34m)\u001b[0m\u001b[0;34m\u001b[0m\u001b[0;34m\u001b[0m\u001b[0m\n\u001b[0m\u001b[1;32m    501\u001b[0m \u001b[0;34m\u001b[0m\u001b[0m\n\u001b[1;32m    502\u001b[0m         \u001b[0;32mdef\u001b[0m \u001b[0mset_meta_data\u001b[0m\u001b[0;34m(\u001b[0m\u001b[0mself\u001b[0m\u001b[0;34m,\u001b[0m \u001b[0mmeta\u001b[0m\u001b[0;34m)\u001b[0m\u001b[0;34m:\u001b[0m\u001b[0;34m\u001b[0m\u001b[0;34m\u001b[0m\u001b[0m\n",
            "\u001b[0;32m/usr/local/lib/python3.6/dist-packages/imageio/plugins/pillow.py\u001b[0m in \u001b[0;36m_append_data\u001b[0;34m(self, im, meta)\u001b[0m\n\u001b[1;32m    339\u001b[0m             \u001b[0;32melse\u001b[0m\u001b[0;34m:\u001b[0m\u001b[0;34m\u001b[0m\u001b[0;34m\u001b[0m\u001b[0m\n\u001b[1;32m    340\u001b[0m                 \u001b[0mim\u001b[0m \u001b[0;34m=\u001b[0m \u001b[0mimage_as_uint\u001b[0m\u001b[0;34m(\u001b[0m\u001b[0mim\u001b[0m\u001b[0;34m,\u001b[0m \u001b[0mbitdepth\u001b[0m\u001b[0;34m=\u001b[0m\u001b[0;36m8\u001b[0m\u001b[0;34m)\u001b[0m\u001b[0;34m\u001b[0m\u001b[0;34m\u001b[0m\u001b[0m\n\u001b[0;32m--> 341\u001b[0;31m             \u001b[0mPillowFormat\u001b[0m\u001b[0;34m.\u001b[0m\u001b[0mWriter\u001b[0m\u001b[0;34m.\u001b[0m\u001b[0m_append_data\u001b[0m\u001b[0;34m(\u001b[0m\u001b[0mself\u001b[0m\u001b[0;34m,\u001b[0m \u001b[0mim\u001b[0m\u001b[0;34m,\u001b[0m \u001b[0mmeta\u001b[0m\u001b[0;34m)\u001b[0m\u001b[0;34m\u001b[0m\u001b[0;34m\u001b[0m\u001b[0m\n\u001b[0m\u001b[1;32m    342\u001b[0m \u001b[0;34m\u001b[0m\u001b[0m\n\u001b[1;32m    343\u001b[0m \u001b[0;34m\u001b[0m\u001b[0m\n",
            "\u001b[0;32m/usr/local/lib/python3.6/dist-packages/imageio/plugins/pillow.py\u001b[0m in \u001b[0;36m_append_data\u001b[0;34m(self, im, meta)\u001b[0m\n\u001b[1;32m    198\u001b[0m             \u001b[0;32mif\u001b[0m \u001b[0;34m\"bits\"\u001b[0m \u001b[0;32min\u001b[0m \u001b[0mself\u001b[0m\u001b[0;34m.\u001b[0m\u001b[0m_meta\u001b[0m\u001b[0;34m:\u001b[0m\u001b[0;34m\u001b[0m\u001b[0;34m\u001b[0m\u001b[0m\n\u001b[1;32m    199\u001b[0m                 \u001b[0mimg\u001b[0m \u001b[0;34m=\u001b[0m \u001b[0mimg\u001b[0m\u001b[0;34m.\u001b[0m\u001b[0mquantize\u001b[0m\u001b[0;34m(\u001b[0m\u001b[0;34m)\u001b[0m  \u001b[0;31m# Make it a P image, so bits arg is used\u001b[0m\u001b[0;34m\u001b[0m\u001b[0;34m\u001b[0m\u001b[0m\n\u001b[0;32m--> 200\u001b[0;31m             \u001b[0mimg\u001b[0m\u001b[0;34m.\u001b[0m\u001b[0msave\u001b[0m\u001b[0;34m(\u001b[0m\u001b[0mself\u001b[0m\u001b[0;34m.\u001b[0m\u001b[0m_fp\u001b[0m\u001b[0;34m,\u001b[0m \u001b[0mformat\u001b[0m\u001b[0;34m=\u001b[0m\u001b[0mself\u001b[0m\u001b[0;34m.\u001b[0m\u001b[0mformat\u001b[0m\u001b[0;34m.\u001b[0m\u001b[0mplugin_id\u001b[0m\u001b[0;34m,\u001b[0m \u001b[0;34m**\u001b[0m\u001b[0mself\u001b[0m\u001b[0;34m.\u001b[0m\u001b[0m_meta\u001b[0m\u001b[0;34m)\u001b[0m\u001b[0;34m\u001b[0m\u001b[0;34m\u001b[0m\u001b[0m\n\u001b[0m\u001b[1;32m    201\u001b[0m             \u001b[0msave_pillow_close\u001b[0m\u001b[0;34m(\u001b[0m\u001b[0mimg\u001b[0m\u001b[0;34m)\u001b[0m\u001b[0;34m\u001b[0m\u001b[0;34m\u001b[0m\u001b[0m\n\u001b[1;32m    202\u001b[0m \u001b[0;34m\u001b[0m\u001b[0m\n",
            "\u001b[0;32m/usr/local/lib/python3.6/dist-packages/PIL/Image.py\u001b[0m in \u001b[0;36msave\u001b[0;34m(self, fp, format, **params)\u001b[0m\n\u001b[1;32m   2100\u001b[0m \u001b[0;34m\u001b[0m\u001b[0m\n\u001b[1;32m   2101\u001b[0m         \u001b[0;32mtry\u001b[0m\u001b[0;34m:\u001b[0m\u001b[0;34m\u001b[0m\u001b[0;34m\u001b[0m\u001b[0m\n\u001b[0;32m-> 2102\u001b[0;31m             \u001b[0msave_handler\u001b[0m\u001b[0;34m(\u001b[0m\u001b[0mself\u001b[0m\u001b[0;34m,\u001b[0m \u001b[0mfp\u001b[0m\u001b[0;34m,\u001b[0m \u001b[0mfilename\u001b[0m\u001b[0;34m)\u001b[0m\u001b[0;34m\u001b[0m\u001b[0;34m\u001b[0m\u001b[0m\n\u001b[0m\u001b[1;32m   2103\u001b[0m         \u001b[0;32mfinally\u001b[0m\u001b[0;34m:\u001b[0m\u001b[0;34m\u001b[0m\u001b[0;34m\u001b[0m\u001b[0m\n\u001b[1;32m   2104\u001b[0m             \u001b[0;31m# do what we can to clean up\u001b[0m\u001b[0;34m\u001b[0m\u001b[0;34m\u001b[0m\u001b[0;34m\u001b[0m\u001b[0m\n",
            "\u001b[0;32m/usr/local/lib/python3.6/dist-packages/PIL/PngImagePlugin.py\u001b[0m in \u001b[0;36m_save\u001b[0;34m(im, fp, filename, chunk)\u001b[0m\n\u001b[1;32m    898\u001b[0m         \u001b[0mchunk\u001b[0m\u001b[0;34m(\u001b[0m\u001b[0mfp\u001b[0m\u001b[0;34m,\u001b[0m \u001b[0;34mb\"eXIf\"\u001b[0m\u001b[0;34m,\u001b[0m \u001b[0mexif\u001b[0m\u001b[0;34m)\u001b[0m\u001b[0;34m\u001b[0m\u001b[0;34m\u001b[0m\u001b[0m\n\u001b[1;32m    899\u001b[0m \u001b[0;34m\u001b[0m\u001b[0m\n\u001b[0;32m--> 900\u001b[0;31m     \u001b[0mImageFile\u001b[0m\u001b[0;34m.\u001b[0m\u001b[0m_save\u001b[0m\u001b[0;34m(\u001b[0m\u001b[0mim\u001b[0m\u001b[0;34m,\u001b[0m \u001b[0m_idat\u001b[0m\u001b[0;34m(\u001b[0m\u001b[0mfp\u001b[0m\u001b[0;34m,\u001b[0m \u001b[0mchunk\u001b[0m\u001b[0;34m)\u001b[0m\u001b[0;34m,\u001b[0m \u001b[0;34m[\u001b[0m\u001b[0;34m(\u001b[0m\u001b[0;34m\"zip\"\u001b[0m\u001b[0;34m,\u001b[0m \u001b[0;34m(\u001b[0m\u001b[0;36m0\u001b[0m\u001b[0;34m,\u001b[0m \u001b[0;36m0\u001b[0m\u001b[0;34m)\u001b[0m \u001b[0;34m+\u001b[0m \u001b[0mim\u001b[0m\u001b[0;34m.\u001b[0m\u001b[0msize\u001b[0m\u001b[0;34m,\u001b[0m \u001b[0;36m0\u001b[0m\u001b[0;34m,\u001b[0m \u001b[0mrawmode\u001b[0m\u001b[0;34m)\u001b[0m\u001b[0;34m]\u001b[0m\u001b[0;34m)\u001b[0m\u001b[0;34m\u001b[0m\u001b[0;34m\u001b[0m\u001b[0m\n\u001b[0m\u001b[1;32m    901\u001b[0m \u001b[0;34m\u001b[0m\u001b[0m\n\u001b[1;32m    902\u001b[0m     \u001b[0mchunk\u001b[0m\u001b[0;34m(\u001b[0m\u001b[0mfp\u001b[0m\u001b[0;34m,\u001b[0m \u001b[0;34mb\"IEND\"\u001b[0m\u001b[0;34m,\u001b[0m \u001b[0;34mb\"\"\u001b[0m\u001b[0;34m)\u001b[0m\u001b[0;34m\u001b[0m\u001b[0;34m\u001b[0m\u001b[0m\n",
            "\u001b[0;32m/usr/local/lib/python3.6/dist-packages/PIL/ImageFile.py\u001b[0m in \u001b[0;36m_save\u001b[0;34m(im, fp, tile, bufsize)\u001b[0m\n\u001b[1;32m    508\u001b[0m             \u001b[0;32melse\u001b[0m\u001b[0;34m:\u001b[0m\u001b[0;34m\u001b[0m\u001b[0;34m\u001b[0m\u001b[0m\n\u001b[1;32m    509\u001b[0m                 \u001b[0;32mwhile\u001b[0m \u001b[0;32mTrue\u001b[0m\u001b[0;34m:\u001b[0m\u001b[0;34m\u001b[0m\u001b[0;34m\u001b[0m\u001b[0m\n\u001b[0;32m--> 510\u001b[0;31m                     \u001b[0ml\u001b[0m\u001b[0;34m,\u001b[0m \u001b[0ms\u001b[0m\u001b[0;34m,\u001b[0m \u001b[0md\u001b[0m \u001b[0;34m=\u001b[0m \u001b[0me\u001b[0m\u001b[0;34m.\u001b[0m\u001b[0mencode\u001b[0m\u001b[0;34m(\u001b[0m\u001b[0mbufsize\u001b[0m\u001b[0;34m)\u001b[0m\u001b[0;34m\u001b[0m\u001b[0;34m\u001b[0m\u001b[0m\n\u001b[0m\u001b[1;32m    511\u001b[0m                     \u001b[0mfp\u001b[0m\u001b[0;34m.\u001b[0m\u001b[0mwrite\u001b[0m\u001b[0;34m(\u001b[0m\u001b[0md\u001b[0m\u001b[0;34m)\u001b[0m\u001b[0;34m\u001b[0m\u001b[0;34m\u001b[0m\u001b[0m\n\u001b[1;32m    512\u001b[0m                     \u001b[0;32mif\u001b[0m \u001b[0ms\u001b[0m\u001b[0;34m:\u001b[0m\u001b[0;34m\u001b[0m\u001b[0;34m\u001b[0m\u001b[0m\n",
            "\u001b[0;31mKeyboardInterrupt\u001b[0m: "
          ]
        }
      ]
    },
    {
      "cell_type": "code",
      "metadata": {
        "id": "Du6VI9bi1nVS",
        "colab_type": "code",
        "colab": {}
      },
      "source": [
        "shutil.rmtree(subj_path)\n"
      ],
      "execution_count": null,
      "outputs": []
    },
    {
      "cell_type": "code",
      "metadata": {
        "id": "xaUarkM-OfOY",
        "colab_type": "code",
        "colab": {}
      },
      "source": [
        "!zip -r ./IDH.zip ./IDH\n",
        "#then download it."
      ],
      "execution_count": null,
      "outputs": []
    },
    {
      "cell_type": "code",
      "metadata": {
        "id": "sjxhxrhdqnRk",
        "colab_type": "code",
        "colab": {}
      },
      "source": [
        "#below code is from https://towardsdatascience.com/keras-transfer-learning-for-beginners-6c9b8b7143e\n",
        "#and https://towardsdatascience.com/a-comprehensive-hands-on-guide-to-transfer-learning-with-real-world-applications-in-deep-learning-212bf3b2f27a\n",
        "#get the githubs for the refs in the paper"
      ],
      "execution_count": null,
      "outputs": []
    },
    {
      "cell_type": "code",
      "metadata": {
        "id": "OPuqXkncieuB",
        "colab_type": "code",
        "colab": {}
      },
      "source": [
        "# Cell #7\n",
        "# now we are ready to load data and train classifier\n",
        "# while we did this in separate cells before, we will do it all in one\n",
        "# this should look familiar.\n",
        "import numpy as np\n",
        "import tensorflow as tf\n",
        "!pip install tensornets\n",
        "import tensornets as nets\n",
        "import tensorflow_hub as hub\n",
        "import keras\n",
        "import tensorflow.keras \n",
        "import matplotlib.pyplot as plt\n",
        "from tensorflow.keras.layers import Dense,GlobalAveragePooling2D\n",
        "from tensorflow.keras.preprocessing import image\n",
        "from tensorflow.keras.preprocessing.image import ImageDataGenerator\n",
        "from tensorflow.keras.models import Model\n",
        "from tensorflow.keras.optimizers import Adam\n",
        "\n",
        "from tensorflow.keras.applications.imagenet_utils import decode_predictions\n",
        "from tensorflow.keras.applications.nasnet import NASNetLarge, NASNetMobile, preprocess_input\n",
        "directory = \"./content\"\n",
        "\n",
        "base_model=tensorflow.keras.applications.nasnet.NASNetLarge(input_shape=(331, 331, 3), include_top=False, weights='imagenet', input_tensor=None, pooling=None) #imports the nasnet large model and discards the last 1000 neuron layer.\n",
        "\n",
        "x=base_model.output\n",
        "x=GlobalAveragePooling2D()(x)\n",
        "x=Dense(1024,activation='relu')(x) #we add dense layers so that the model can learn more complex functions and classify for better results.\n",
        "x=Dense(1024,activation='relu')(x) #dense layer 2\n",
        "x=Dense(512,activation='relu')(x) #dense layer 3\n",
        "preds=Dense(2,activation='softmax')(x) #final layer with softmax activation, for 2 classes\n",
        "\n",
        "model=Model(inputs=base_model.input,outputs=preds) # to load saved model with weights use model= tensorflow.keras.models.load_model('myLGGtestmodel.h5')\n",
        "#specify the inputs\n",
        "#specify the outputs\n",
        "#now a model has been created based on our architecture\n",
        "\n",
        "for i,layer in enumerate(model.layers):\n",
        "  print(i,layer.name)\n",
        "\n",
        "for layer in model.layers:\n",
        "    layer.trainable=False\n",
        "# or if we want to set the first 20 layers of the network to be non-trainable\n",
        "for layer in model.layers[:1039]:\n",
        "    layer.trainable=False\n",
        "for layer in model.layers[1039:]:\n",
        "    layer.trainable=True\n",
        "\n",
        "train_datagen=ImageDataGenerator(rotation_range=20, zoom_range=0.15, width_shift_range=0.2, height_shift_range=0.2, shear_range=0, fill_mode='nearest', horizontal_flip=False, data_format='channels_last', validation_split=0.0, dtype='float32') #included in our dependencies\n",
        "# add the directory below very important ##########################\n",
        "\n",
        "train=train_datagen.flow_from_directory('./train',\n",
        "                                                 target_size=(331,331),\n",
        "                                                 color_mode='rgb',\n",
        "                                                 batch_size=32,\n",
        "                                                 class_mode='categorical',\n",
        "                                                 shuffle=True)\n",
        "\n",
        "val_datagen=ImageDataGenerator()\n",
        "\n",
        "val=val_datagen.flow_from_directory('./validate',\n",
        "                                                 target_size=(331,331),\n",
        "                                                 color_mode='rgb',\n",
        "                                                 batch_size=32,\n",
        "                                                 class_mode='categorical',\n",
        "                                                 shuffle=False)\n",
        "\n",
        "model.compile(optimizer='Adam',loss='categorical_crossentropy',metrics=['accuracy'])\n",
        "# Adam optimizer\n",
        "# loss function will be categorical cross entropy\n",
        "# evaluation metric will be accuracy\n",
        "\n",
        "step_size_train=train.n//train.batch_size\n",
        "step_size_val=val.n//val.batch_size\n",
        "#model.fit_generator(generator=train_generator,\n",
        "#                   steps_per_epoch=step_size_train,\n",
        "#                   epochs=3)\n",
        "\n",
        "history = model.fit(train, steps_per_epoch=step_size_train, epochs=3,\n",
        "                              validation_data=val, validation_steps=step_size_val, \n",
        "                              verbose=1)       \n",
        "\n",
        "\n",
        "    \n",
        "# next cell to save model including newly trained weights\n",
        "# model.save('myLGGtestmodel.h5') # rename it how you like, it will show up in your directory. I have explained above using a hastag how and where to load the model."
      ],
      "execution_count": null,
      "outputs": []
    },
    {
      "cell_type": "code",
      "metadata": {
        "id": "_FAaux6jEYzb",
        "colab_type": "code",
        "colab": {}
      },
      "source": [
        "#above tips for the graph function: list range has to be 1 to #epochs+1\n",
        "#np.arrange has to be 0, #epochs +1 and no clue what the last number is."
      ],
      "execution_count": null,
      "outputs": []
    },
    {
      "cell_type": "code",
      "metadata": {
        "id": "oegemgM0cquI",
        "colab_type": "code",
        "colab": {}
      },
      "source": [
        "f, (ax1, ax2) = plt.subplots(1, 2, figsize=(12, 4))\n",
        "t = f.suptitle('Basic CNN Performance', fontsize=12)\n",
        "f.subplots_adjust(top=0.85, wspace=0.3)\n",
        "\n",
        "epoch_list = list(range(1,4))\n",
        "ax1.plot(epoch_list, history.history['accuracy'], label='Train Accuracy')\n",
        "ax1.plot(epoch_list, history.history['val_accuracy'], label='Validation Accuracy')\n",
        "ax1.set_xticks(np.arange(0, 4, 5))\n",
        "ax1.set_ylabel('Accuracy Value')\n",
        "ax1.set_xlabel('Epoch')\n",
        "ax1.set_title('Accuracy')\n",
        "l1 = ax1.legend(loc=\"best\")\n",
        "\n",
        "ax2.plot(epoch_list, history.history['loss'], label='Train Loss')\n",
        "ax2.plot(epoch_list, history.history['val_loss'], label='Validation Loss')\n",
        "ax2.set_xticks(np.arange(0, 4, 5))\n",
        "ax2.set_ylabel('Loss Value')\n",
        "ax2.set_xlabel('Epoch')\n",
        "ax2.set_title('Loss')\n",
        "l2 = ax2.legend(loc=\"best\")"
      ],
      "execution_count": null,
      "outputs": []
    },
    {
      "cell_type": "code",
      "metadata": {
        "id": "7o-zvwsrJPgw",
        "colab_type": "code",
        "colab": {}
      },
      "source": [
        "# this cell is to evaluate loss and accuracy on an external test set\n",
        "\n",
        "model.evaluate(val, verbose=1, sample_weight=None, steps=step_size_val, callbacks=None, max_queue_size=10, workers=1, use_multiprocessing=False)\n"
      ],
      "execution_count": null,
      "outputs": []
    },
    {
      "cell_type": "code",
      "metadata": {
        "id": "WZFRaCuYkTfF",
        "colab_type": "code",
        "colab": {}
      },
      "source": [
        "# this cell is to predict smaller numbers of images and so... it returns an array which I havent figured out yet...\n",
        "\n",
        "yhat = model.predict(val, verbose=1, steps=step_size_val, callbacks=None, max_queue_size=10, workers=1, use_multiprocessing=False)\n",
        "\n",
        " "
      ],
      "execution_count": null,
      "outputs": []
    },
    {
      "cell_type": "code",
      "metadata": {
        "id": "vmEgUsRlGnD7",
        "colab_type": "code",
        "colab": {}
      },
      "source": [
        "# make predictions on your choice of numbers in dataset, just change the range https://machinelearningmastery.com/how-to-make-classification-and-regression-predictions-for-deep-learning-models-in-keras/\n",
        "\n",
        "\t\n",
        "from sklearn.linear_model import LogisticRegression\n",
        "from sklearn.datasets import make_blobs\n",
        "# create the inputs and outputs\n",
        "X, y = make_blobs(n_samples=5000, centers=2, n_features=2, random_state=2)\n",
        "# define model\n",
        "model = LogisticRegression(solver='lbfgs')\n",
        "# fit model\n",
        "model.fit(X, y)\n",
        "# make predictions on the entire training dataset\n",
        "yhat = model.predict(X)\n",
        "# connect predictions with outputs\n",
        "for i in range(5000):\n",
        "  print (X[i], yhat[i])\n",
        "  "
      ],
      "execution_count": null,
      "outputs": []
    },
    {
      "cell_type": "code",
      "metadata": {
        "id": "ubpYDLuJXQhL",
        "colab_type": "code",
        "colab": {}
      },
      "source": [
        "# load_model_sample.py TRY THIS FOR A SINGLE IMAGE https://stackoverflow.com/questions/43469281/how-to-predict-input-image-using-trained-model-in-keras\n",
        "from keras.models import load_model\n",
        "from keras.preprocessing import image\n",
        "import matplotlib.pyplot as plt\n",
        "import numpy as np\n",
        "import os\n",
        "\n",
        "\n",
        "def load_image(img_path, show=False):\n",
        "\n",
        "    img = image.load_img(img_path, target_size=(150, 150))\n",
        "    img_tensor = image.img_to_array(img)                    # (height, width, channels)\n",
        "    img_tensor = np.expand_dims(img_tensor, axis=0)         # (1, height, width, channels), add a dimension because the model expects this shape: (batch_size, height, width, channels)\n",
        "    img_tensor /= 255.                                      # imshow expects values in the range [0, 1]\n",
        "\n",
        "    if show:\n",
        "        plt.imshow(img_tensor[0])                           \n",
        "        plt.axis('off')\n",
        "        plt.show()\n",
        "\n",
        "    return img_tensor\n",
        "\n",
        "\n",
        "if __name__ == \"__main__\":\n",
        "\n",
        "    # load model\n",
        "    model = load_model(\"model_aug.h5\")\n",
        "\n",
        "    # image path\n",
        "    img_path = '/media/data/dogscats/test1/3867.jpg'    # dog\n",
        "    #img_path = '/media/data/dogscats/test1/19.jpg'      # cat\n",
        "\n",
        "    # load a single image\n",
        "    new_image = load_image(img_path)\n",
        "\n",
        "    # check prediction\n",
        "    pred = model.predict(new_image)"
      ],
      "execution_count": null,
      "outputs": []
    },
    {
      "cell_type": "code",
      "metadata": {
        "id": "NqHTq1g_n64x",
        "colab_type": "code",
        "colab": {}
      },
      "source": [
        "\n",
        "# TRY this also for a single image https://stackoverflow.com/questions/43469281/how-to-predict-input-image-using-trained-model-in-keras\n",
        "# load_model_sample.py\n",
        "from keras.models import load_model\n",
        "from keras.preprocessing import image\n",
        "import matplotlib.pyplot as plt\n",
        "import numpy as np\n",
        "import os\n",
        "\n",
        "\n",
        "def load_image(img_path, show=False):\n",
        "\n",
        "    img = image.load_img(img_path, target_size=(150, 150))\n",
        "    img_tensor = image.img_to_array(img)                    # (height, width, channels)\n",
        "    img_tensor = np.expand_dims(img_tensor, axis=0)         # (1, height, width, channels), add a dimension because the model expects this shape: (batch_size, height, width, channels)\n",
        "    img_tensor /= 255.                                      # imshow expects values in the range [0, 1]\n",
        "\n",
        "    if show:\n",
        "        plt.imshow(img_tensor[0])                           \n",
        "        plt.axis('off')\n",
        "        plt.show()\n",
        "\n",
        "    return img_tensor\n",
        "\n",
        "\n",
        "if __name__ == \"__main__\":\n",
        "\n",
        "    # load model\n",
        "    model = load_model(\"model_aug.h5\")\n",
        "\n",
        "    # image path\n",
        "    img_path = '/media/data/dogscats/test1/3867.jpg'    # dog\n",
        "    #img_path = '/media/data/dogscats/test1/19.jpg'      # cat\n",
        "\n",
        "    # load a single image\n",
        "    new_image = load_image(img_path)\n",
        "\n",
        "    # check prediction\n",
        "    pred = model.predict(new_image)"
      ],
      "execution_count": null,
      "outputs": []
    }
  ]
}