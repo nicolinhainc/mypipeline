{
  "nbformat": 4,
  "nbformat_minor": 0,
  "metadata": {
    "colab": {
      "name": "Pipeline3.ipynb",
      "provenance": [],
      "authorship_tag": "ABX9TyPXccHSkEET5ELO1w2UCsal",
      "include_colab_link": true
    },
    "kernelspec": {
      "name": "python3",
      "display_name": "Python 3"
    },
    "accelerator": "GPU"
  },
  "cells": [
    {
      "cell_type": "markdown",
      "metadata": {
        "id": "view-in-github",
        "colab_type": "text"
      },
      "source": [
        "<a href=\"https://colab.research.google.com/github/nicolinhainc/mypipeline/blob/master/t2tumorsSSworks.ipynb\" target=\"_parent\"><img src=\"https://colab.research.google.com/assets/colab-badge.svg\" alt=\"Open In Colab\"/></a>"
      ]
    },
    {
      "cell_type": "code",
      "metadata": {
        "id": "OD3fnUQGiSaQ",
        "colab_type": "code",
        "outputId": "6c146c82-6e12-4ac2-e6a2-63cf14009f18",
        "colab": {
          "base_uri": "https://localhost:8080/",
          "height": 34
        }
      },
      "source": [
        "%pwd  "
      ],
      "execution_count": 1,
      "outputs": [
        {
          "output_type": "execute_result",
          "data": {
            "text/plain": [
              "'/content'"
            ]
          },
          "metadata": {
            "tags": []
          },
          "execution_count": 1
        }
      ]
    },
    {
      "cell_type": "code",
      "metadata": {
        "id": "NiBkzlnNifj7",
        "colab_type": "code",
        "colab": {}
      },
      "source": [
        "#%cd '/content/'"
      ],
      "execution_count": 0,
      "outputs": []
    },
    {
      "cell_type": "code",
      "metadata": {
        "id": "cWKczacPifgd",
        "colab_type": "code",
        "outputId": "d3278d4f-e591-405c-8a87-4575f5492bf2",
        "colab": {
          "base_uri": "https://localhost:8080/",
          "height": 326
        }
      },
      "source": [
        "!wget --no-check-certificate 'https://drive.google.com/uc?export=download&id=1XdwGEqKXeKH1NRhZXxCZo5T8mncwYHCC' -O ./Bet-n-dcm2nii.zip\n",
        "!unzip -q ./Bet-n-dcm2nii.zip\n",
        "!rm -rf images"
      ],
      "execution_count": 3,
      "outputs": [
        {
          "output_type": "stream",
          "text": [
            "--2020-06-12 16:23:06--  https://drive.google.com/uc?export=download&id=1XdwGEqKXeKH1NRhZXxCZo5T8mncwYHCC\n",
            "Resolving drive.google.com (drive.google.com)... 64.233.187.101, 64.233.187.100, 64.233.187.138, ...\n",
            "Connecting to drive.google.com (drive.google.com)|64.233.187.101|:443... connected.\n",
            "HTTP request sent, awaiting response... 302 Moved Temporarily\n",
            "Location: https://doc-0k-60-docs.googleusercontent.com/docs/securesc/ha0ro937gcuc7l7deffksulhg5h7mbp1/9akhvljq5d670qilqt99hc1a4rro693f/1591978950000/07380574639032097336/*/1XdwGEqKXeKH1NRhZXxCZo5T8mncwYHCC?e=download [following]\n",
            "Warning: wildcards not supported in HTTP.\n",
            "--2020-06-12 16:23:21--  https://doc-0k-60-docs.googleusercontent.com/docs/securesc/ha0ro937gcuc7l7deffksulhg5h7mbp1/9akhvljq5d670qilqt99hc1a4rro693f/1591978950000/07380574639032097336/*/1XdwGEqKXeKH1NRhZXxCZo5T8mncwYHCC?e=download\n",
            "Resolving doc-0k-60-docs.googleusercontent.com (doc-0k-60-docs.googleusercontent.com)... 74.125.203.132, 2404:6800:4008:c03::84\n",
            "Connecting to doc-0k-60-docs.googleusercontent.com (doc-0k-60-docs.googleusercontent.com)|74.125.203.132|:443... connected.\n",
            "HTTP request sent, awaiting response... 200 OK\n",
            "Length: unspecified [application/zip]\n",
            "Saving to: ‘./Bet-n-dcm2nii.zip’\n",
            "\n",
            "./Bet-n-dcm2nii.zip     [  <=>               ]  12.52M  27.3MB/s    in 0.5s    \n",
            "\n",
            "2020-06-12 16:23:22 (27.3 MB/s) - ‘./Bet-n-dcm2nii.zip’ saved [13126916]\n",
            "\n"
          ],
          "name": "stdout"
        }
      ]
    },
    {
      "cell_type": "code",
      "metadata": {
        "id": "jwGvEZAIifeR",
        "colab_type": "code",
        "colab": {}
      },
      "source": [
        "# upload the zip file yourself "
      ],
      "execution_count": 0,
      "outputs": []
    },
    {
      "cell_type": "code",
      "metadata": {
        "id": "y3a3PV9JifY8",
        "colab_type": "code",
        "colab": {}
      },
      "source": [
        "!unzip -q ./testers.zip\n"
      ],
      "execution_count": 0,
      "outputs": []
    },
    {
      "cell_type": "code",
      "metadata": {
        "id": "M96A31sGT2jk",
        "colab_type": "code",
        "colab": {}
      },
      "source": [
        "!rm -rf './testers/codel/.DS_Store'\n",
        "!rm -rf './testers/no/.DS_Store'"
      ],
      "execution_count": 0,
      "outputs": []
    },
    {
      "cell_type": "code",
      "metadata": {
        "id": "fqv8_CSbifVx",
        "colab_type": "code",
        "outputId": "8829d4ef-452e-4b3e-c8bf-ee42123b7ea4",
        "colab": {
          "base_uri": "https://localhost:8080/",
          "height": 377
        }
      },
      "source": [
        "!wget --no-check-certificate 'https://www.dropbox.com/s/tz0g8bzfik570h7/icbm_avg_152_t2_tal_lin.nii.zip?dl=1' -O ./icbm152t2.zip\n",
        "!unzip -q ./icbm152t2.zip"
      ],
      "execution_count": 4,
      "outputs": [
        {
          "output_type": "stream",
          "text": [
            "--2020-06-12 16:24:33--  https://www.dropbox.com/s/tz0g8bzfik570h7/icbm_avg_152_t2_tal_lin.nii.zip?dl=1\n",
            "Resolving www.dropbox.com (www.dropbox.com)... 162.125.82.1, 2620:100:6032:1::a27d:5201\n",
            "Connecting to www.dropbox.com (www.dropbox.com)|162.125.82.1|:443... connected.\n",
            "HTTP request sent, awaiting response... 301 Moved Permanently\n",
            "Location: /s/dl/tz0g8bzfik570h7/icbm_avg_152_t2_tal_lin.nii.zip [following]\n",
            "--2020-06-12 16:24:33--  https://www.dropbox.com/s/dl/tz0g8bzfik570h7/icbm_avg_152_t2_tal_lin.nii.zip\n",
            "Reusing existing connection to www.dropbox.com:443.\n",
            "HTTP request sent, awaiting response... 302 Found\n",
            "Location: https://ucde847f230d54187fa756ef05f6.dl.dropboxusercontent.com/cd/0/get/A5jKGlik_ro9l1ZlGmlpQeRZQPNmUa_PsRMg1wlG9r3zfFTAkoXwtNBDrV2qMS494DgMX4DxAPcPOye6TBP51HaE6wxnCkPhi8uHWpoNB_rsEbU9rEVDwh-lvqdlDl7lUBI/file?dl=1# [following]\n",
            "--2020-06-12 16:24:34--  https://ucde847f230d54187fa756ef05f6.dl.dropboxusercontent.com/cd/0/get/A5jKGlik_ro9l1ZlGmlpQeRZQPNmUa_PsRMg1wlG9r3zfFTAkoXwtNBDrV2qMS494DgMX4DxAPcPOye6TBP51HaE6wxnCkPhi8uHWpoNB_rsEbU9rEVDwh-lvqdlDl7lUBI/file?dl=1\n",
            "Resolving ucde847f230d54187fa756ef05f6.dl.dropboxusercontent.com (ucde847f230d54187fa756ef05f6.dl.dropboxusercontent.com)... 162.125.82.15, 2620:100:6032:15::a27d:520f\n",
            "Connecting to ucde847f230d54187fa756ef05f6.dl.dropboxusercontent.com (ucde847f230d54187fa756ef05f6.dl.dropboxusercontent.com)|162.125.82.15|:443... connected.\n",
            "HTTP request sent, awaiting response... 200 OK\n",
            "Length: 13550902 (13M) [application/binary]\n",
            "Saving to: ‘./icbm152t2.zip’\n",
            "\n",
            "./icbm152t2.zip     100%[===================>]  12.92M  16.9MB/s    in 0.8s    \n",
            "\n",
            "2020-06-12 16:24:35 (16.9 MB/s) - ‘./icbm152t2.zip’ saved [13550902/13550902]\n",
            "\n"
          ],
          "name": "stdout"
        }
      ]
    },
    {
      "cell_type": "code",
      "metadata": {
        "id": "20qqIk8difTI",
        "colab_type": "code",
        "colab": {}
      },
      "source": [
        "NIFTI_PATH = 'testers/codel/'"
      ],
      "execution_count": 0,
      "outputs": []
    },
    {
      "cell_type": "code",
      "metadata": {
        "id": "j38us7CGZJGr",
        "colab_type": "code",
        "colab": {}
      },
      "source": [
        "import gzip\n",
        "import shutil\n",
        "import os\n",
        "import fnmatch"
      ],
      "execution_count": 0,
      "outputs": []
    },
    {
      "cell_type": "code",
      "metadata": {
        "id": "zzmthqc5ifNW",
        "colab_type": "code",
        "colab": {}
      },
      "source": [
        "os.environ['FSLOUTPUTTYPE'] = 'NIFTI_GZ'"
      ],
      "execution_count": 0,
      "outputs": []
    },
    {
      "cell_type": "code",
      "metadata": {
        "id": "O2yiIYobTAby",
        "colab_type": "code",
        "outputId": "0d963c4f-51ef-4e38-a3a0-59373a7abb45",
        "colab": {
          "base_uri": "https://localhost:8080/",
          "height": 51
        }
      },
      "source": [
        "for subj in os.listdir(NIFTI_PATH):\n",
        "    subj_path = os.path.join(NIFTI_PATH, subj)\n",
        "    print (\"Working on \" + subj_path)\n",
        "    series = fnmatch.filter(os.listdir(subj_path), '*.nii')\n",
        "    for ser in ['T2.nii']: \n",
        "      nativenii_file = os.path.join (subj_path, ser)\n",
        "      newniigz_file = os.path.join (subj_path, ser)\n",
        "      with open(nativenii_file, 'rb') as f_in:\n",
        "        with gzip.open(newniigz_file + '.gz', 'wb') as f_out:\n",
        "          shutil.copyfileobj(f_in, f_out)\n",
        "        \n"
      ],
      "execution_count": 8,
      "outputs": [
        {
          "output_type": "stream",
          "text": [
            "Working on testers/codel/Patient1\n",
            "Working on testers/codel/Patient2\n"
          ],
          "name": "stdout"
        }
      ]
    },
    {
      "cell_type": "code",
      "metadata": {
        "id": "M2yAtE3olH1y",
        "colab_type": "code",
        "outputId": "eaf00c35-f9ca-4d75-cc80-952258a3920c",
        "colab": {
          "base_uri": "https://localhost:8080/",
          "height": 85
        }
      },
      "source": [
        "for subj in os.listdir(NIFTI_PATH):\n",
        "    subj_path = os.path.join(NIFTI_PATH, subj)\n",
        "    print (\"Working on \" + subj_path)\n",
        "    series = fnmatch.filter(os.listdir(subj_path), '*.nii')\n",
        "    for ser in ['T2.nii']: \n",
        "        niinative_file = os.path.join (subj_path, ser)\n",
        "# removes old files\n",
        "        \n",
        "        cmd = os.remove(niinative_file)\n",
        "        \n",
        "        print (cmd)"
      ],
      "execution_count": 9,
      "outputs": [
        {
          "output_type": "stream",
          "text": [
            "Working on testers/codel/Patient1\n",
            "None\n",
            "Working on testers/codel/Patient2\n",
            "None\n"
          ],
          "name": "stdout"
        }
      ]
    },
    {
      "cell_type": "code",
      "metadata": {
        "id": "6-nP6WQgqXXu",
        "colab_type": "code",
        "colab": {}
      },
      "source": [
        "NIFTI_PATH = 'testers/no'"
      ],
      "execution_count": 0,
      "outputs": []
    },
    {
      "cell_type": "code",
      "metadata": {
        "id": "ZqZnZDH5qYVb",
        "colab_type": "code",
        "outputId": "6760eed1-74f3-485c-ef1e-da278be66888",
        "colab": {
          "base_uri": "https://localhost:8080/",
          "height": 51
        }
      },
      "source": [
        "for subj in os.listdir(NIFTI_PATH):\n",
        "    subj_path = os.path.join(NIFTI_PATH, subj)\n",
        "    print (\"Working on \" + subj_path)\n",
        "    series = fnmatch.filter(os.listdir(subj_path), '*.nii')\n",
        "    for ser in ['T2.nii']: \n",
        "      nativenii_file = os.path.join (subj_path, ser)\n",
        "      newniigz_file = os.path.join (subj_path, ser)\n",
        "      with open(nativenii_file, 'rb') as f_in:\n",
        "        with gzip.open(newniigz_file + '.gz', 'wb') as f_out:\n",
        "          shutil.copyfileobj(f_in, f_out)\n",
        "        "
      ],
      "execution_count": 11,
      "outputs": [
        {
          "output_type": "stream",
          "text": [
            "Working on testers/no/Patient1\n",
            "Working on testers/no/Patient2\n"
          ],
          "name": "stdout"
        }
      ]
    },
    {
      "cell_type": "code",
      "metadata": {
        "id": "aqsxAO0PqYH9",
        "colab_type": "code",
        "outputId": "1b7568da-b151-46a7-d14f-db39ad1146e0",
        "colab": {
          "base_uri": "https://localhost:8080/",
          "height": 85
        }
      },
      "source": [
        "for subj in os.listdir(NIFTI_PATH):\n",
        "    subj_path = os.path.join(NIFTI_PATH, subj)\n",
        "    print (\"Working on \" + subj_path)\n",
        "    series = fnmatch.filter(os.listdir(subj_path), '*.nii')\n",
        "    for ser in ['T2.nii']: \n",
        "        niinative_file = os.path.join (subj_path, ser)\n",
        "# removes old files\n",
        "        \n",
        "        cmd = os.remove(niinative_file)\n",
        "        \n",
        "        print (cmd)"
      ],
      "execution_count": 12,
      "outputs": [
        {
          "output_type": "stream",
          "text": [
            "Working on testers/no/Patient1\n",
            "None\n",
            "Working on testers/no/Patient2\n",
            "None\n"
          ],
          "name": "stdout"
        }
      ]
    },
    {
      "cell_type": "code",
      "metadata": {
        "id": "ZWsiOlB3qfvR",
        "colab_type": "code",
        "colab": {}
      },
      "source": [
        "NIFTI_PATH = 'testers/codel/'"
      ],
      "execution_count": 0,
      "outputs": []
    },
    {
      "cell_type": "code",
      "metadata": {
        "id": "mVXVKzU4ifK0",
        "colab_type": "code",
        "outputId": "a6d6903c-bf98-4009-f4c3-0bb549c9492b",
        "colab": {
          "base_uri": "https://localhost:8080/",
          "height": 85
        }
      },
      "source": [
        "for subj in os.listdir(NIFTI_PATH):\n",
        "    subj_path = os.path.join(NIFTI_PATH, subj)\n",
        "    print (\"Working on \" + subj_path)\n",
        "    series = fnmatch.filter(os.listdir(subj_path), '*.nii.gz')\n",
        "    for ser in ['T2']: #not sure why I had to add the star here but this was the only way it worked\n",
        "        nii_file = os.path.join (subj_path, ser)\n",
        "# First, perform N4 bias correction. Not required, but may improve results. Also must track new names\n",
        "        new_file = os.path.join (subj_path, 'N4-' + ser)\n",
        "        cmd = \"./N4BiasFieldCorrection -i %s.nii.gz -o %s.nii.gz\" % (nii_file, new_file)\n",
        "        os.system(cmd)\n",
        "        print (cmd)"
      ],
      "execution_count": 14,
      "outputs": [
        {
          "output_type": "stream",
          "text": [
            "Working on testers/codel/Patient1\n",
            "./N4BiasFieldCorrection -i testers/codel/Patient1/T2.nii.gz -o testers/codel/Patient1/N4-T2.nii.gz\n",
            "Working on testers/codel/Patient2\n",
            "./N4BiasFieldCorrection -i testers/codel/Patient2/T2.nii.gz -o testers/codel/Patient2/N4-T2.nii.gz\n"
          ],
          "name": "stdout"
        }
      ]
    },
    {
      "cell_type": "code",
      "metadata": {
        "id": "xMf-kqTEx5B_",
        "colab_type": "code",
        "outputId": "fe04079f-adc1-4a04-f0a5-6f45cd5e78d8",
        "colab": {
          "base_uri": "https://localhost:8080/",
          "height": 85
        }
      },
      "source": [
        "for subj in os.listdir(NIFTI_PATH):\n",
        "    subj_path = os.path.join(NIFTI_PATH, subj)\n",
        "    print (\"Working on \" + subj_path)\n",
        "    series = fnmatch.filter(os.listdir(subj_path), '*.nii.gz')\n",
        "    for ser in ['T2.nii.gz']: #not sure why I had to add the star here but this was the only way it worked\n",
        "        nii_file = os.path.join (subj_path, ser)\n",
        "# removes old files\n",
        "        \n",
        "        cmd = os.remove(nii_file)\n",
        "        \n",
        "        print (cmd)"
      ],
      "execution_count": 15,
      "outputs": [
        {
          "output_type": "stream",
          "text": [
            "Working on testers/codel/Patient1\n",
            "None\n",
            "Working on testers/codel/Patient2\n",
            "None\n"
          ],
          "name": "stdout"
        }
      ]
    },
    {
      "cell_type": "code",
      "metadata": {
        "id": "fTvuq8eBqmvg",
        "colab_type": "code",
        "colab": {}
      },
      "source": [
        "NIFTI_PATH = 'testers/no/'"
      ],
      "execution_count": 0,
      "outputs": []
    },
    {
      "cell_type": "code",
      "metadata": {
        "id": "UdPHMOYqqmmt",
        "colab_type": "code",
        "outputId": "13cf9ee2-1dfd-4bcd-a1b0-78f1e90e58b6",
        "colab": {
          "base_uri": "https://localhost:8080/",
          "height": 85
        }
      },
      "source": [
        "for subj in os.listdir(NIFTI_PATH):\n",
        "    subj_path = os.path.join(NIFTI_PATH, subj)\n",
        "    print (\"Working on \" + subj_path)\n",
        "    series = fnmatch.filter(os.listdir(subj_path), '*.nii.gz')\n",
        "    for ser in ['T2']: #not sure why I had to add the star here but this was the only way it worked\n",
        "        nii_file = os.path.join (subj_path, ser)\n",
        "# First, perform N4 bias correction. Not required, but may improve results. Also must track new names\n",
        "        new_file = os.path.join (subj_path, 'N4-' + ser)\n",
        "        cmd = \"./N4BiasFieldCorrection -i %s.nii.gz -o %s.nii.gz\" % (nii_file, new_file)\n",
        "        os.system(cmd)\n",
        "        print (cmd)"
      ],
      "execution_count": 17,
      "outputs": [
        {
          "output_type": "stream",
          "text": [
            "Working on testers/no/Patient1\n",
            "./N4BiasFieldCorrection -i testers/no/Patient1/T2.nii.gz -o testers/no/Patient1/N4-T2.nii.gz\n",
            "Working on testers/no/Patient2\n",
            "./N4BiasFieldCorrection -i testers/no/Patient2/T2.nii.gz -o testers/no/Patient2/N4-T2.nii.gz\n"
          ],
          "name": "stdout"
        }
      ]
    },
    {
      "cell_type": "code",
      "metadata": {
        "id": "VtoBFYnwqmdk",
        "colab_type": "code",
        "outputId": "24ffc2a9-2c34-4a1c-e216-1a255a89c128",
        "colab": {
          "base_uri": "https://localhost:8080/",
          "height": 85
        }
      },
      "source": [
        "for subj in os.listdir(NIFTI_PATH):\n",
        "    subj_path = os.path.join(NIFTI_PATH, subj)\n",
        "    print (\"Working on \" + subj_path)\n",
        "    series = fnmatch.filter(os.listdir(subj_path), '*.nii.gz')\n",
        "    for ser in ['T2.nii.gz']: #not sure why I had to add the star here but this was the only way it worked\n",
        "        nii_file = os.path.join (subj_path, ser)\n",
        "# removes old files\n",
        "        \n",
        "        cmd = os.remove(nii_file)\n",
        "        \n",
        "        print (cmd)"
      ],
      "execution_count": 18,
      "outputs": [
        {
          "output_type": "stream",
          "text": [
            "Working on testers/no/Patient1\n",
            "None\n",
            "Working on testers/no/Patient2\n",
            "None\n"
          ],
          "name": "stdout"
        }
      ]
    },
    {
      "cell_type": "code",
      "metadata": {
        "id": "sxlviDkNqukH",
        "colab_type": "code",
        "colab": {}
      },
      "source": [
        "NIFTI_PATH = 'testers/codel/'"
      ],
      "execution_count": 0,
      "outputs": []
    },
    {
      "cell_type": "code",
      "metadata": {
        "id": "ifEYCCSdifFL",
        "colab_type": "code",
        "outputId": "9f49ee82-1c0d-4f0d-d193-95810ae55f92",
        "colab": {
          "base_uri": "https://localhost:8080/",
          "height": 105
        }
      },
      "source": [
        "# Next, Register the images to the avg 152 t1 image from MNI\n",
        "for subj in os.listdir(NIFTI_PATH):\n",
        "    subj_path = os.path.join(NIFTI_PATH, subj)\n",
        "    print (\"Working on \" + subj_path)\n",
        "    series = fnmatch.filter(os.listdir(subj_path), 'N4-*')\n",
        "    for ser in ['T2']:   \n",
        "        MNI_file = './icbm_avg_152_t2_tal_lin.nii'\n",
        "        T1_file =  os.path.join (subj_path, 'N4-T2*.nii.gz')\n",
        "        new_file = os.path.join (subj_path, 'Reg-N4-T2.nii.gz')\n",
        "        cmd = \"./flirt -in %s -ref %s  -out %s\" % (T1_file, MNI_file, new_file)\n",
        "        os.system(cmd)\n",
        "        print (cmd)\n",
        "\n"
      ],
      "execution_count": 20,
      "outputs": [
        {
          "output_type": "stream",
          "text": [
            "Working on testers/codel/Patient1\n",
            "./flirt -in testers/codel/Patient1/N4-T2*.nii.gz -ref ./icbm_avg_152_t2_tal_lin.nii  -out testers/codel/Patient1/Reg-N4-T2.nii.gz\n",
            "Working on testers/codel/Patient2\n",
            "./flirt -in testers/codel/Patient2/N4-T2*.nii.gz -ref ./icbm_avg_152_t2_tal_lin.nii  -out testers/codel/Patient2/Reg-N4-T2.nii.gz\n"
          ],
          "name": "stdout"
        }
      ]
    },
    {
      "cell_type": "code",
      "metadata": {
        "id": "-CpA2HpO5frR",
        "colab_type": "code",
        "colab": {
          "base_uri": "https://localhost:8080/",
          "height": 85
        },
        "outputId": "73a9137c-2da5-41a9-d0e3-4a7f7a708578"
      },
      "source": [
        "# Next, remove the unnecessary N4-T1 files\n",
        "for subj in os.listdir(NIFTI_PATH):\n",
        "    subj_path = os.path.join(NIFTI_PATH, subj)\n",
        "    print (\"Working on \" + subj_path)\n",
        "    series = fnmatch.filter(os.listdir(subj_path), 'N4-*')\n",
        "    for ser in ['T2']:   \n",
        "        MNI_file = './icbm_avg_152_t2_tal_lin.nii'\n",
        "        T1_file =  os.path.join (subj_path, 'N4-T2.nii.gz')\n",
        "        new_file = os.path.join (subj_path, 'Reg-N4-T2.nii.gz')\n",
        "        cmd = os.remove(T1_file)\n",
        "        \n",
        "        print (cmd)"
      ],
      "execution_count": 21,
      "outputs": [
        {
          "output_type": "stream",
          "text": [
            "Working on testers/codel/Patient1\n",
            "None\n",
            "Working on testers/codel/Patient2\n",
            "None\n"
          ],
          "name": "stdout"
        }
      ]
    },
    {
      "cell_type": "code",
      "metadata": {
        "id": "cRDjK8DxVaN7",
        "colab_type": "code",
        "colab": {}
      },
      "source": [
        "NIFTI_PATH = 'testers/no/'"
      ],
      "execution_count": 0,
      "outputs": []
    },
    {
      "cell_type": "code",
      "metadata": {
        "id": "VsV0URReVaG_",
        "colab_type": "code",
        "colab": {
          "base_uri": "https://localhost:8080/",
          "height": 105
        },
        "outputId": "b43a54c0-97f4-43e6-bbd5-fe8ddfae625c"
      },
      "source": [
        "# Next, Register the images to the avg 152 t1 image from MNI\n",
        "for subj in os.listdir(NIFTI_PATH):\n",
        "    subj_path = os.path.join(NIFTI_PATH, subj)\n",
        "    print (\"Working on \" + subj_path)\n",
        "    series = fnmatch.filter(os.listdir(subj_path), 'N4-*')\n",
        "    for ser in ['T2']:   \n",
        "        MNI_file = './icbm_avg_152_t2_tal_lin.nii'\n",
        "        T1_file =  os.path.join (subj_path, 'N4-T2*.nii.gz')\n",
        "        new_file = os.path.join (subj_path, 'Reg-N4-T2.nii.gz')\n",
        "        cmd = \"./flirt -in %s -ref %s  -out %s\" % (T1_file, MNI_file, new_file)\n",
        "        os.system(cmd)\n",
        "        print (cmd)"
      ],
      "execution_count": 23,
      "outputs": [
        {
          "output_type": "stream",
          "text": [
            "Working on testers/no/Patient1\n",
            "./flirt -in testers/no/Patient1/N4-T2*.nii.gz -ref ./icbm_avg_152_t2_tal_lin.nii  -out testers/no/Patient1/Reg-N4-T2.nii.gz\n",
            "Working on testers/no/Patient2\n",
            "./flirt -in testers/no/Patient2/N4-T2*.nii.gz -ref ./icbm_avg_152_t2_tal_lin.nii  -out testers/no/Patient2/Reg-N4-T2.nii.gz\n"
          ],
          "name": "stdout"
        }
      ]
    },
    {
      "cell_type": "code",
      "metadata": {
        "id": "FXCcWg86VZ4q",
        "colab_type": "code",
        "colab": {
          "base_uri": "https://localhost:8080/",
          "height": 85
        },
        "outputId": "52bc592a-dcf7-4d1b-c5ce-020c8a607f78"
      },
      "source": [
        "# Next, remove the unnecessary N4-T1 files\n",
        "for subj in os.listdir(NIFTI_PATH):\n",
        "    subj_path = os.path.join(NIFTI_PATH, subj)\n",
        "    print (\"Working on \" + subj_path)\n",
        "    series = fnmatch.filter(os.listdir(subj_path), 'N4-*')\n",
        "    for ser in ['T2']:   \n",
        "        MNI_file = './icbm_avg_152_t2_tal_lin.nii'\n",
        "        T1_file =  os.path.join (subj_path, 'N4-T2.nii.gz')\n",
        "        new_file = os.path.join (subj_path, 'Reg-N4-T2.nii.gz')\n",
        "        cmd = os.remove(T1_file)\n",
        "        \n",
        "        print (cmd)"
      ],
      "execution_count": 24,
      "outputs": [
        {
          "output_type": "stream",
          "text": [
            "Working on testers/no/Patient1\n",
            "None\n",
            "Working on testers/no/Patient2\n",
            "None\n"
          ],
          "name": "stdout"
        }
      ]
    },
    {
      "cell_type": "code",
      "metadata": {
        "id": "Ml8pG3F0LSpD",
        "colab_type": "code",
        "colab": {
          "base_uri": "https://localhost:8080/",
          "height": 136
        },
        "outputId": "565a739d-64d6-4d6d-bc6c-a389c8600f97"
      },
      "source": [
        "!git clone https://github.com/MIC-DKFZ/HD-BET"
      ],
      "execution_count": 25,
      "outputs": [
        {
          "output_type": "stream",
          "text": [
            "Cloning into 'HD-BET'...\n",
            "remote: Enumerating objects: 6, done.\u001b[K\n",
            "remote: Counting objects: 100% (6/6), done.\u001b[K\n",
            "remote: Compressing objects: 100% (4/4), done.\u001b[K\n",
            "remote: Total 152 (delta 2), reused 6 (delta 2), pack-reused 146\u001b[K\n",
            "Receiving objects: 100% (152/152), 36.97 KiB | 213.00 KiB/s, done.\n",
            "Resolving deltas: 100% (96/96), done.\n"
          ],
          "name": "stdout"
        }
      ]
    },
    {
      "cell_type": "code",
      "metadata": {
        "id": "FwqLcasTVmKP",
        "colab_type": "code",
        "colab": {
          "base_uri": "https://localhost:8080/",
          "height": 445
        },
        "outputId": "efefaeb5-e9ce-45ec-f70b-b6fcd928f106"
      },
      "source": [
        "%cd HD-BET\n",
        "! pip install -e ."
      ],
      "execution_count": 32,
      "outputs": [
        {
          "output_type": "stream",
          "text": [
            "/content/HD-BET\n",
            "Obtaining file:///content/HD-BET\n",
            "Requirement already satisfied: numpy in /usr/local/lib/python3.6/dist-packages (from HD-BET==1.0) (1.18.5)\n",
            "Requirement already satisfied: torch>=0.4.1 in /usr/local/lib/python3.6/dist-packages (from HD-BET==1.0) (1.5.0+cu101)\n",
            "Requirement already satisfied: scikit-image in /usr/local/lib/python3.6/dist-packages (from HD-BET==1.0) (0.16.2)\n",
            "Collecting SimpleITK\n",
            "\u001b[?25l  Downloading https://files.pythonhosted.org/packages/f8/d8/53338c34f71020725ffb3557846c80af96c29c03bc883551a2565aa68a7c/SimpleITK-1.2.4-cp36-cp36m-manylinux1_x86_64.whl (42.5MB)\n",
            "\u001b[K     |████████████████████████████████| 42.5MB 72kB/s \n",
            "\u001b[?25hRequirement already satisfied: future in /usr/local/lib/python3.6/dist-packages (from torch>=0.4.1->HD-BET==1.0) (0.16.0)\n",
            "Requirement already satisfied: scipy>=0.19.0 in /usr/local/lib/python3.6/dist-packages (from scikit-image->HD-BET==1.0) (1.4.1)\n",
            "Requirement already satisfied: PyWavelets>=0.4.0 in /usr/local/lib/python3.6/dist-packages (from scikit-image->HD-BET==1.0) (1.1.1)\n",
            "Requirement already satisfied: imageio>=2.3.0 in /usr/local/lib/python3.6/dist-packages (from scikit-image->HD-BET==1.0) (2.4.1)\n",
            "Requirement already satisfied: matplotlib!=3.0.0,>=2.0.0 in /usr/local/lib/python3.6/dist-packages (from scikit-image->HD-BET==1.0) (3.2.1)\n",
            "Requirement already satisfied: networkx>=2.0 in /usr/local/lib/python3.6/dist-packages (from scikit-image->HD-BET==1.0) (2.4)\n",
            "Requirement already satisfied: pillow>=4.3.0 in /usr/local/lib/python3.6/dist-packages (from scikit-image->HD-BET==1.0) (7.0.0)\n",
            "Requirement already satisfied: python-dateutil>=2.1 in /usr/local/lib/python3.6/dist-packages (from matplotlib!=3.0.0,>=2.0.0->scikit-image->HD-BET==1.0) (2.8.1)\n",
            "Requirement already satisfied: pyparsing!=2.0.4,!=2.1.2,!=2.1.6,>=2.0.1 in /usr/local/lib/python3.6/dist-packages (from matplotlib!=3.0.0,>=2.0.0->scikit-image->HD-BET==1.0) (2.4.7)\n",
            "Requirement already satisfied: cycler>=0.10 in /usr/local/lib/python3.6/dist-packages (from matplotlib!=3.0.0,>=2.0.0->scikit-image->HD-BET==1.0) (0.10.0)\n",
            "Requirement already satisfied: kiwisolver>=1.0.1 in /usr/local/lib/python3.6/dist-packages (from matplotlib!=3.0.0,>=2.0.0->scikit-image->HD-BET==1.0) (1.2.0)\n",
            "Requirement already satisfied: decorator>=4.3.0 in /usr/local/lib/python3.6/dist-packages (from networkx>=2.0->scikit-image->HD-BET==1.0) (4.4.2)\n",
            "Requirement already satisfied: six>=1.5 in /usr/local/lib/python3.6/dist-packages (from python-dateutil>=2.1->matplotlib!=3.0.0,>=2.0.0->scikit-image->HD-BET==1.0) (1.12.0)\n",
            "Installing collected packages: SimpleITK, HD-BET\n",
            "  Running setup.py develop for HD-BET\n",
            "Successfully installed HD-BET SimpleITK-1.2.4\n"
          ],
          "name": "stdout"
        }
      ]
    },
    {
      "cell_type": "code",
      "metadata": {
        "id": "1yroqlMkX_D3",
        "colab_type": "code",
        "colab": {
          "base_uri": "https://localhost:8080/",
          "height": 34
        },
        "outputId": "71e2e62f-d857-4f7e-91d2-1762efc2004d"
      },
      "source": [
        "%cd '/content/'"
      ],
      "execution_count": 35,
      "outputs": [
        {
          "output_type": "stream",
          "text": [
            "/content\n"
          ],
          "name": "stdout"
        }
      ]
    },
    {
      "cell_type": "code",
      "metadata": {
        "id": "9pCP5wyhVwYh",
        "colab_type": "code",
        "colab": {}
      },
      "source": [
        "INPUT_FOLDER = 'testers/codel/Patient1'\n",
        "OUTPUT_FOLDER = 'masked'"
      ],
      "execution_count": 0,
      "outputs": []
    },
    {
      "cell_type": "code",
      "metadata": {
        "id": "-PtQpUiGVoCv",
        "colab_type": "code",
        "colab": {
          "base_uri": "https://localhost:8080/",
          "height": 360
        },
        "outputId": "d91a80a3-045e-4a2a-9e51-2d3cece3f78f"
      },
      "source": [
        "!hd-bet -i 'testers/codel/Patient1' -o 'masked'"
      ],
      "execution_count": 45,
      "outputs": [
        {
          "output_type": "stream",
          "text": [
            "\n",
            "########################\n",
            "If you are using hd-bet, please cite the following paper:\n",
            "Isensee F, Schell M, Tursunova I, Brugnara G, Bonekamp D, Neuberger U, Wick A, Schlemmer HP, Heiland S, Wick W,Bendszus M, Maier-Hein KH, Kickingereder P. Automated brain extraction of multi-sequence MRI using artificialneural networks. arXiv preprint arXiv:1901.11341, 2019.\n",
            "########################\n",
            "\n",
            "File: testers/codel/Patient1/Reg-N4-T2.nii.gz\n",
            "preprocessing...\n",
            "image shape after preprocessing:  (121, 145, 121)\n",
            "prediction (CNN id)...\n",
            "0\n",
            "1\n",
            "2\n",
            "3\n",
            "4\n",
            "running postprocessing... \n",
            "/content/HD-BET/HD_BET/utils.py:74: UserWarning: The argument 'neighbors' is deprecated and will be removed in scikit-image 0.18, use 'connectivity' instead. For neighbors=8, use connectivity=3\n",
            "  lbls = label(mask, 8)\n",
            "exporting segmentation...\n"
          ],
          "name": "stdout"
        }
      ]
    },
    {
      "cell_type": "code",
      "metadata": {
        "id": "QAxY2W1nLq7d",
        "colab_type": "code",
        "colab": {}
      },
      "source": [
        ""
      ],
      "execution_count": 0,
      "outputs": []
    },
    {
      "cell_type": "code",
      "metadata": {
        "id": "AWkpBULjDwZt",
        "colab_type": "code",
        "colab": {}
      },
      "source": [
        ""
      ],
      "execution_count": 0,
      "outputs": []
    },
    {
      "cell_type": "code",
      "metadata": {
        "id": "U7BLDLFha3hT",
        "colab_type": "code",
        "colab": {}
      },
      "source": [
        "\n",
        "\n",
        "\n",
        "\n"
      ],
      "execution_count": 0,
      "outputs": []
    },
    {
      "cell_type": "code",
      "metadata": {
        "id": "J-YAFnk3qJEt",
        "colab_type": "code",
        "colab": {}
      },
      "source": [
        "NIFTI_PATH = 'tester/no/'"
      ],
      "execution_count": 0,
      "outputs": []
    },
    {
      "cell_type": "code",
      "metadata": {
        "id": "OM7Ao_rSqI_u",
        "colab_type": "code",
        "colab": {}
      },
      "source": [
        "\n"
      ],
      "execution_count": 0,
      "outputs": []
    },
    {
      "cell_type": "code",
      "metadata": {
        "id": "uvk_XIQLWaGn",
        "colab_type": "code",
        "colab": {}
      },
      "source": [
        "\n",
        "\n"
      ],
      "execution_count": 0,
      "outputs": []
    },
    {
      "cell_type": "code",
      "metadata": {
        "id": "XwsehPxfuoT3",
        "colab_type": "code",
        "outputId": "b4d21a9b-6732-465e-ad15-fda96152c627",
        "colab": {
          "base_uri": "https://localhost:8080/",
          "height": 51
        }
      },
      "source": [
        "   import os\n",
        "   import shutil\n",
        "   import numpy as np\n",
        "   base_dir = '/content/testers'\n",
        "\n",
        "   !mkdir /content/tester/codelval\n",
        "   !mkdir /content/tester/noval"
      ],
      "execution_count": 29,
      "outputs": [
        {
          "output_type": "stream",
          "text": [
            "mkdir: cannot create directory ‘/content/tester/codelval’: No such file or directory\n",
            "mkdir: cannot create directory ‘/content/tester/noval’: No such file or directory\n"
          ],
          "name": "stdout"
        }
      ]
    },
    {
      "cell_type": "code",
      "metadata": {
        "id": "WUk9fqHGORYS",
        "colab_type": "code",
        "outputId": "74b9cd75-80b1-452c-e047-0f9573cd471d",
        "colab": {
          "base_uri": "https://localhost:8080/",
          "height": 249
        }
      },
      "source": [
        "sourceN = base_dir + \"/codel\"\n",
        "destN = base_dir + \"/codelval\"\n",
        "sourceP = base_dir + \"/no\"\n",
        "destP = base_dir + \"/noval\"\n",
        "\n",
        "filesN = os.listdir(sourceN)\n",
        "filesP = os.listdir(sourceP)       \n",
        "\n",
        "for f in filesN:\n",
        "  if np.random.rand(1) < 0.3: #is this a 70 30 split? what does it mean exactly?\n",
        "    shutil.move(sourceN + '/'+ f, destN + '/'+ f)\n",
        "\n",
        "for i in filesP:\n",
        "  if np.random.rand(1) < 0.3:\n",
        "    shutil.move(sourceP + '/'+ i, destP + '/'+ i)\n",
        "\n",
        "print(len(os.listdir(sourceN)))\n",
        "print(len(os.listdir(sourceP)))\n",
        "print(len(os.listdir(destN)))\n",
        "print(len(os.listdir(destP)))"
      ],
      "execution_count": 30,
      "outputs": [
        {
          "output_type": "stream",
          "text": [
            "2\n",
            "1\n"
          ],
          "name": "stdout"
        },
        {
          "output_type": "error",
          "ename": "FileNotFoundError",
          "evalue": "ignored",
          "traceback": [
            "\u001b[0;31m---------------------------------------------------------------------------\u001b[0m",
            "\u001b[0;31mFileNotFoundError\u001b[0m                         Traceback (most recent call last)",
            "\u001b[0;32m<ipython-input-30-68d9f2f8153e>\u001b[0m in \u001b[0;36m<module>\u001b[0;34m()\u001b[0m\n\u001b[1;32m     17\u001b[0m \u001b[0mprint\u001b[0m\u001b[0;34m(\u001b[0m\u001b[0mlen\u001b[0m\u001b[0;34m(\u001b[0m\u001b[0mos\u001b[0m\u001b[0;34m.\u001b[0m\u001b[0mlistdir\u001b[0m\u001b[0;34m(\u001b[0m\u001b[0msourceN\u001b[0m\u001b[0;34m)\u001b[0m\u001b[0;34m)\u001b[0m\u001b[0;34m)\u001b[0m\u001b[0;34m\u001b[0m\u001b[0;34m\u001b[0m\u001b[0m\n\u001b[1;32m     18\u001b[0m \u001b[0mprint\u001b[0m\u001b[0;34m(\u001b[0m\u001b[0mlen\u001b[0m\u001b[0;34m(\u001b[0m\u001b[0mos\u001b[0m\u001b[0;34m.\u001b[0m\u001b[0mlistdir\u001b[0m\u001b[0;34m(\u001b[0m\u001b[0msourceP\u001b[0m\u001b[0;34m)\u001b[0m\u001b[0;34m)\u001b[0m\u001b[0;34m)\u001b[0m\u001b[0;34m\u001b[0m\u001b[0;34m\u001b[0m\u001b[0m\n\u001b[0;32m---> 19\u001b[0;31m \u001b[0mprint\u001b[0m\u001b[0;34m(\u001b[0m\u001b[0mlen\u001b[0m\u001b[0;34m(\u001b[0m\u001b[0mos\u001b[0m\u001b[0;34m.\u001b[0m\u001b[0mlistdir\u001b[0m\u001b[0;34m(\u001b[0m\u001b[0mdestN\u001b[0m\u001b[0;34m)\u001b[0m\u001b[0;34m)\u001b[0m\u001b[0;34m)\u001b[0m\u001b[0;34m\u001b[0m\u001b[0;34m\u001b[0m\u001b[0m\n\u001b[0m\u001b[1;32m     20\u001b[0m \u001b[0mprint\u001b[0m\u001b[0;34m(\u001b[0m\u001b[0mlen\u001b[0m\u001b[0;34m(\u001b[0m\u001b[0mos\u001b[0m\u001b[0;34m.\u001b[0m\u001b[0mlistdir\u001b[0m\u001b[0;34m(\u001b[0m\u001b[0mdestP\u001b[0m\u001b[0;34m)\u001b[0m\u001b[0;34m)\u001b[0m\u001b[0;34m)\u001b[0m\u001b[0;34m\u001b[0m\u001b[0;34m\u001b[0m\u001b[0m\n",
            "\u001b[0;31mFileNotFoundError\u001b[0m: [Errno 2] No such file or directory: '/content/testers/codelval'"
          ]
        }
      ]
    },
    {
      "cell_type": "code",
      "metadata": {
        "id": "OTF40yU7rz-i",
        "colab_type": "code",
        "colab": {}
      },
      "source": [
        "!rm -rf ./LGG/valc2/.ipynb_checkpoints\n",
        "!rm -rf ./LGG/valc1/.ipynb_checkpoints\n",
        "\n",
        "!rm -rf './testers/codelval/.ipynb_checkpoints'\n",
        "!rm -rf './testers/noval/.ipynb_checkpoints'"
      ],
      "execution_count": 0,
      "outputs": []
    },
    {
      "cell_type": "code",
      "metadata": {
        "id": "GC1Uh6W9ie31",
        "colab_type": "code",
        "colab": {}
      },
      "source": [
        "#make a huge list of thousands of patients here\n",
        "import pandas as pd\n",
        "\n",
        "!wget --no-check-certificate 'https://drive.google.com/uc?export=download&id=1z2GmRDDVMbcb1x26jlA9X0M4WAv4-kvA' -O ./TumorSlices.csv\n",
        "df = pd.read_csv ('./TumorSlices.csv')\n",
        "print (df) "
      ],
      "execution_count": 0,
      "outputs": []
    },
    {
      "cell_type": "code",
      "metadata": {
        "id": "HCzjZCcnie07",
        "colab_type": "code",
        "colab": {}
      },
      "source": [
        "from __future__ import unicode_literals\n",
        "from __future__ import print_function\n",
        "from __future__ import division\n",
        "from __future__ import absolute_import\n",
        "# Cell #5\n",
        "# create new versions of the T1, GAD, and T2 images that range from 0 to 255, and where the 0 intensity value maps to the 5th percentile value \n",
        "# and 255 maps to the 95th percentile value.\n",
        "import imageio\n",
        "import nibabel as nib\n",
        "import numpy as np\n",
        "\n",
        "MIN_MR = 20\n",
        "\n",
        "def normalise_zero_one(image):\n",
        "    dims = np.shape(image)\n",
        "    image_1d = image.reshape(1, image.size)\n",
        "    above = np.where(image_1d>MIN_MR, image_1d, image_1d)\n",
        "    if above.size < image_1d.size/2:\n",
        "        above = image_1d # avoid bad MIN_MR thresholds\n",
        "    sorted_im = np.sort(above, axis = None)\n",
        "    \n",
        "    start = int(sorted_im.size / 20)  # 20 = 5%\n",
        "    end = int(sorted_im.size * 19 / 20) # 95%\n",
        "    start_val = sorted_im[start]\n",
        "    end_val = sorted_im[end]\n",
        "    \n",
        "    image = np.maximum(image, start_val) # map values below the start_val to start_val\n",
        "    image = np.minimum(image, end_val)   # map values above the end_val to end_val\n",
        "    image = image - start_val # subtract the starting intensity\n",
        "\n",
        " #   print (\"rescaling range \" + str(newmin) + \" to \" + str(histo[1][index]))\n",
        "#    minimum = np.min(image)\n",
        " #   maximum = np.max(image)\n",
        "\n",
        "  #  ret = ((image - minimum) / (maximum - minimum))    \n",
        "   # return ret    \n",
        "\n",
        "    \n",
        "    \n",
        "\n",
        "\n",
        "\n",
        "\n",
        "\n",
        "\n",
        "def nifti_to_img(red_file, green_file, blue_file, not_dir, yes_dir, startSlice, endSlice, subject):\n",
        "### red_ green_ and blue_files are the nifit files that will be combined to go into the PNG\n",
        "### not_dir is the direcotry where PNGs are stored if they are not in the (inclusive)\n",
        "### range set by startSlice/endSlice\n",
        "### yes_dir is where they are stored when they ARE in the range\n",
        "### subject is the ID so that we can track where images came from\n",
        "\n",
        "    try:\n",
        "        nifti = nib.load(red_file)\n",
        "        nif_header = nifti.header\n",
        "        red_image = nifti.get_fdata()\n",
        "    except:\n",
        "        return 0\n",
        "\n",
        "    try:\n",
        "        if os.path.isfile(green_file):\n",
        "            nifti = nib.load(green_file)\n",
        "            nif_header = nifti.header\n",
        "            green_image = nifti.get_fdata()\n",
        "        else:\n",
        "            pass\n",
        "    except:  # if can't load, then use red image\n",
        "        green_image = red_image\n",
        "    \n",
        "    try:\n",
        "        if os.path.isfile(blue_file):\n",
        "            nifti = nib.load(blue_file)\n",
        "\n",
        "            nif_header = nifti.header\n",
        "            blue_image = nifti.get_fdata()\n",
        "        else:\n",
        "            pass\n",
        "    except:  # if can't load, then use red image\n",
        "        blue_image = red_image\n",
        "        \n",
        "# now scale the intensity for each image        \n",
        "    red_image = normalise_zero_one(red_image)\n",
        "    green_image = normalise_zero_one(green_image)\n",
        "    blue_image = normalise_zero_one(blue_image)\n",
        "# then convert to 8 bits\n",
        "    red_image = red_image.astype(np.uint8)     \n",
        "    green_image = green_image.astype(np.uint8)     \n",
        "    blue_image = blue_image.astype(np.uint8)   \n",
        "    \n",
        "# get the number of slices\n",
        "    dims = np.shape(red_image)\n",
        "    zd = dims[2]\n",
        "\n",
        "    for z in range(0, zd):\n",
        "        outname = subject + \"-{0:04d}\".format(z) + '.png'\n",
        "        if z >= startSlice and z <= endSlice:  # this is enhancing\n",
        "            out_dir = yes_dir\n",
        "        else:\n",
        "            out_dir = not_dir\n",
        "        outname = os.path.join(out_dir, outname)\n",
        "        if not os.path.exists(out_dir):\n",
        "            os.makedirs(out_dir)\n",
        "        combined = np.dstack((red_image[:,:,z],green_image[:,:,z],\n",
        "                              blue_image[:,:,z]))\n",
        "## . images come in rotated\n",
        "        combined = np.rot90(combined, k=1)\n",
        "#        print ('Name: ' + outname)\n",
        "        imageio.imwrite(outname, combined)\n",
        "    return zd"
      ],
      "execution_count": 0,
      "outputs": []
    },
    {
      "cell_type": "code",
      "metadata": {
        "id": "ETZHZsRFqNlU",
        "colab_type": "code",
        "colab": {}
      },
      "source": [
        "NIFTI_PATH = 'testers/codel/'"
      ],
      "execution_count": 0,
      "outputs": []
    },
    {
      "cell_type": "code",
      "metadata": {
        "id": "5iQuQDuwieyE",
        "colab_type": "code",
        "colab": {}
      },
      "source": [
        "# Cell #6\n",
        "# take the GAD nii, scale it to 0-255 and store that into the red channel\n",
        "# same for T1 (green) and T2 (blue)\n",
        "# PNG files are stored in enh / nonenh folders based on the csv file\n",
        "\n",
        "# store the png files into enhancing or nonenhancing folders after making sure they are cleared\n",
        "\n",
        "!rm -rf classified\n",
        "\n",
        "!mkdir classified\n",
        "\n",
        "for subj in os.listdir(NIFTI_PATH):\n",
        "    subj_path = os.path.join(NIFTI_PATH, subj)\n",
        "    red_f = os.path.join(subj_path, 'Reg-N4-T2.nii.gz')\n",
        "    startSlice = df.loc[df.Subject == subj, 'StartSlice'].values[0]\n",
        "    endSlice = df.loc[df.Subject == subj, 'EndSlice'].values[0]\n",
        "    print (\"Making PNG file for \" + subj + \" start: \" + str(startSlice) + \" end: \" + str(endSlice))\n",
        "    count = nifti_to_img(red_f, red_f, red_f, NIFTI_PATH, NIFTI_PATH, startSlice, endSlice, subj)"
      ],
      "execution_count": 0,
      "outputs": []
    },
    {
      "cell_type": "code",
      "metadata": {
        "id": "jiE_I9o-388G",
        "colab_type": "code",
        "colab": {}
      },
      "source": [
        "shutil.rmtree(subj_path)"
      ],
      "execution_count": 0,
      "outputs": []
    },
    {
      "cell_type": "code",
      "metadata": {
        "id": "Ac5yrvqjyTkW",
        "colab_type": "code",
        "colab": {}
      },
      "source": [
        "NIFTI_PATH = 'testers/no/'"
      ],
      "execution_count": 0,
      "outputs": []
    },
    {
      "cell_type": "code",
      "metadata": {
        "id": "zwAEMqYkyTfD",
        "colab_type": "code",
        "colab": {}
      },
      "source": [
        "# Cell #6\n",
        "# take the GAD nii, scale it to 0-255 and store that into the red channel\n",
        "# same for T1 (green) and T2 (blue)\n",
        "# PNG files are stored in enh / nonenh folders based on the csv file\n",
        "\n",
        "# store the png files into enhancing or nonenhancing folders after making sure they are cleared\n",
        "\n",
        "!rm -rf classified\n",
        "\n",
        "!mkdir classified\n",
        "\n",
        "for subj in os.listdir(NIFTI_PATH):\n",
        "    subj_path = os.path.join(NIFTI_PATH, subj)\n",
        "    red_f = os.path.join(subj_path, 'Reg-N4-T2.nii.gz')\n",
        "    startSlice = df.loc[df.Subject == subj, 'StartSlice'].values[0]\n",
        "    endSlice = df.loc[df.Subject == subj, 'EndSlice'].values[0]\n",
        "    print (\"Making PNG file for \" + subj + \" start: \" + str(startSlice) + \" end: \" + str(endSlice))\n",
        "    count = nifti_to_img(red_f, red_f, red_f, NIFTI_PATH, NIFTI_PATH, startSlice, endSlice, subj)"
      ],
      "execution_count": 0,
      "outputs": []
    },
    {
      "cell_type": "code",
      "metadata": {
        "id": "YFK8niq637qC",
        "colab_type": "code",
        "colab": {}
      },
      "source": [
        "shutil.rmtree(subj_path)"
      ],
      "execution_count": 0,
      "outputs": []
    },
    {
      "cell_type": "code",
      "metadata": {
        "id": "ndSUrz6iyTR3",
        "colab_type": "code",
        "colab": {}
      },
      "source": [
        "NIFTI_PATH = 'testers/codelval/'"
      ],
      "execution_count": 0,
      "outputs": []
    },
    {
      "cell_type": "code",
      "metadata": {
        "id": "-1fqSp70yTNa",
        "colab_type": "code",
        "colab": {}
      },
      "source": [
        "# Cell #6\n",
        "# take the GAD nii, scale it to 0-255 and store that into the red channel\n",
        "# same for T1 (green) and T2 (blue)\n",
        "# PNG files are stored in enh / nonenh folders based on the csv file\n",
        "\n",
        "# store the png files into enhancing or nonenhancing folders after making sure they are cleared\n",
        "\n",
        "!rm -rf classified\n",
        "\n",
        "!mkdir classified\n",
        "\n",
        "for subj in os.listdir(NIFTI_PATH):\n",
        "    subj_path = os.path.join(NIFTI_PATH, subj)\n",
        "    red_f = os.path.join(subj_path, 'Reg-N4-T2.nii.gz')\n",
        "    startSlice = df.loc[df.Subject == subj, 'StartSlice'].values[0]\n",
        "    endSlice = df.loc[df.Subject == subj, 'EndSlice'].values[0]\n",
        "    print (\"Making PNG file for \" + subj + \" start: \" + str(startSlice) + \" end: \" + str(endSlice))\n",
        "    count = nifti_to_img(red_f, red_f, red_f, NIFTI_PATH, NIFTI_PATH, startSlice, endSlice, subj)"
      ],
      "execution_count": 0,
      "outputs": []
    },
    {
      "cell_type": "code",
      "metadata": {
        "id": "kmjXByUN4Axk",
        "colab_type": "code",
        "colab": {}
      },
      "source": [
        "shutil.rmtree(subj_path)"
      ],
      "execution_count": 0,
      "outputs": []
    },
    {
      "cell_type": "code",
      "metadata": {
        "id": "bOzD_LUDyTId",
        "colab_type": "code",
        "colab": {}
      },
      "source": [
        "NIFTI_PATH = 'testers/noval/'"
      ],
      "execution_count": 0,
      "outputs": []
    },
    {
      "cell_type": "code",
      "metadata": {
        "id": "4RcnCfNpyS9O",
        "colab_type": "code",
        "colab": {}
      },
      "source": [
        "# Cell #6\n",
        "# take the GAD nii, scale it to 0-255 and store that into the red channel\n",
        "# same for T1 (green) and T2 (blue)\n",
        "# PNG files are stored in enh / nonenh folders based on the csv file\n",
        "\n",
        "# store the png files into enhancing or nonenhancing folders after making sure they are cleared\n",
        "\n",
        "!rm -rf classified\n",
        "\n",
        "!mkdir classified\n",
        "\n",
        "for subj in os.listdir(NIFTI_PATH):\n",
        "    subj_path = os.path.join(NIFTI_PATH, subj)\n",
        "    red_f = os.path.join(subj_path, 'Reg-N4-T2.nii.gz')\n",
        "    startSlice = df.loc[df.Subject == subj, 'StartSlice'].values[0]\n",
        "    endSlice = df.loc[df.Subject == subj, 'EndSlice'].values[0]\n",
        "    print (\"Making PNG file for \" + subj + \" start: \" + str(startSlice) + \" end: \" + str(endSlice))\n",
        "    count = nifti_to_img(red_f, red_f, red_f, NIFTI_PATH, NIFTI_PATH, startSlice, endSlice, subj)\n"
      ],
      "execution_count": 0,
      "outputs": []
    },
    {
      "cell_type": "code",
      "metadata": {
        "id": "Du6VI9bi1nVS",
        "colab_type": "code",
        "colab": {}
      },
      "source": [
        "shutil.rmtree(subj_path)\n"
      ],
      "execution_count": 0,
      "outputs": []
    },
    {
      "cell_type": "code",
      "metadata": {
        "id": "xaUarkM-OfOY",
        "colab_type": "code",
        "colab": {}
      },
      "source": [
        "!zip -r ./adnitest10.zip ./adnitest10\n",
        "#then download it."
      ],
      "execution_count": 0,
      "outputs": []
    },
    {
      "cell_type": "code",
      "metadata": {
        "id": "sjxhxrhdqnRk",
        "colab_type": "code",
        "colab": {}
      },
      "source": [
        "#below code is from https://towardsdatascience.com/keras-transfer-learning-for-beginners-6c9b8b7143e\n",
        "#and https://towardsdatascience.com/a-comprehensive-hands-on-guide-to-transfer-learning-with-real-world-applications-in-deep-learning-212bf3b2f27a\n",
        "#get the githubs for the refs in the paper"
      ],
      "execution_count": 0,
      "outputs": []
    },
    {
      "cell_type": "code",
      "metadata": {
        "id": "OPuqXkncieuB",
        "colab_type": "code",
        "colab": {}
      },
      "source": [
        "# Cell #7\n",
        "# now we are ready to load data and train classifier\n",
        "# while we did this in separate cells before, we will do it all in one\n",
        "# this should look familiar.\n",
        "import numpy as np\n",
        "import tensorflow as tf\n",
        "!pip install tensornets\n",
        "import tensornets as nets\n",
        "import tensorflow_hub as hub\n",
        "import keras\n",
        "import tensorflow.keras \n",
        "import matplotlib.pyplot as plt\n",
        "from tensorflow.keras.layers import Dense,GlobalAveragePooling2D\n",
        "from tensorflow.keras.preprocessing import image\n",
        "from tensorflow.keras.preprocessing.image import ImageDataGenerator\n",
        "from tensorflow.keras.models import Model\n",
        "from tensorflow.keras.optimizers import Adam\n",
        "\n",
        "from tensorflow.keras.applications.imagenet_utils import decode_predictions\n",
        "from tensorflow.keras.applications.nasnet import NASNetLarge, NASNetMobile, preprocess_input\n",
        "directory = \"./content\"\n",
        "\n",
        "base_model=tensorflow.keras.applications.nasnet.NASNetLarge(input_shape=(331, 331, 3), include_top=False, weights='imagenet', input_tensor=None, pooling=None) #imports the nasnet large model and discards the last 1000 neuron layer.\n",
        "\n",
        "x=base_model.output\n",
        "x=GlobalAveragePooling2D()(x)\n",
        "x=Dense(1024,activation='relu')(x) #we add dense layers so that the model can learn more complex functions and classify for better results.\n",
        "x=Dense(1024,activation='relu')(x) #dense layer 2\n",
        "x=Dense(512,activation='relu')(x) #dense layer 3\n",
        "preds=Dense(2,activation='softmax')(x) #final layer with softmax activation, for 2 classes\n",
        "\n",
        "model=Model(inputs=base_model.input,outputs=preds) # to load saved model with weights use model= tensorflow.keras.models.load_model('myLGGtestmodel.h5')\n",
        "#specify the inputs\n",
        "#specify the outputs\n",
        "#now a model has been created based on our architecture\n",
        "\n",
        "for i,layer in enumerate(model.layers):\n",
        "  print(i,layer.name)\n",
        "\n",
        "for layer in model.layers:\n",
        "    layer.trainable=False\n",
        "# or if we want to set the first 20 layers of the network to be non-trainable\n",
        "for layer in model.layers[:1039]:\n",
        "    layer.trainable=False\n",
        "for layer in model.layers[1039:]:\n",
        "    layer.trainable=True\n",
        "\n",
        "train_datagen=ImageDataGenerator(rotation_range=20, zoom_range=0.15, width_shift_range=0.2, height_shift_range=0.2, shear_range=0, fill_mode='nearest', horizontal_flip=False, data_format='channels_last', validation_split=0.0, dtype='float32') #included in our dependencies\n",
        "# add the directory below very important ##########################\n",
        "\n",
        "train=train_datagen.flow_from_directory('./train',\n",
        "                                                 target_size=(331,331),\n",
        "                                                 color_mode='rgb',\n",
        "                                                 batch_size=32,\n",
        "                                                 class_mode='categorical',\n",
        "                                                 shuffle=True)\n",
        "\n",
        "val_datagen=ImageDataGenerator()\n",
        "\n",
        "val=val_datagen.flow_from_directory('./validate',\n",
        "                                                 target_size=(331,331),\n",
        "                                                 color_mode='rgb',\n",
        "                                                 batch_size=32,\n",
        "                                                 class_mode='categorical',\n",
        "                                                 shuffle=False)\n",
        "\n",
        "model.compile(optimizer='Adam',loss='categorical_crossentropy',metrics=['accuracy'])\n",
        "# Adam optimizer\n",
        "# loss function will be categorical cross entropy\n",
        "# evaluation metric will be accuracy\n",
        "\n",
        "step_size_train=train.n//train.batch_size\n",
        "step_size_val=val.n//val.batch_size\n",
        "#model.fit_generator(generator=train_generator,\n",
        "#                   steps_per_epoch=step_size_train,\n",
        "#                   epochs=3)\n",
        "\n",
        "history = model.fit(train, steps_per_epoch=step_size_train, epochs=3,\n",
        "                              validation_data=val, validation_steps=step_size_val, \n",
        "                              verbose=1)       \n",
        "\n",
        "\n",
        "    \n",
        "# next cell to save model including newly trained weights\n",
        "# model.save('myLGGtestmodel.h5') # rename it how you like, it will show up in your directory. I have explained above using a hastag how and where to load the model."
      ],
      "execution_count": 0,
      "outputs": []
    },
    {
      "cell_type": "code",
      "metadata": {
        "id": "_FAaux6jEYzb",
        "colab_type": "code",
        "colab": {}
      },
      "source": [
        "#above tips for the graph function: list range has to be 1 to #epochs+1\n",
        "#np.arrange has to be 0, #epochs +1 and no clue what the last number is."
      ],
      "execution_count": 0,
      "outputs": []
    },
    {
      "cell_type": "code",
      "metadata": {
        "id": "oegemgM0cquI",
        "colab_type": "code",
        "colab": {}
      },
      "source": [
        "f, (ax1, ax2) = plt.subplots(1, 2, figsize=(12, 4))\n",
        "t = f.suptitle('Basic CNN Performance', fontsize=12)\n",
        "f.subplots_adjust(top=0.85, wspace=0.3)\n",
        "\n",
        "epoch_list = list(range(1,4))\n",
        "ax1.plot(epoch_list, history.history['accuracy'], label='Train Accuracy')\n",
        "ax1.plot(epoch_list, history.history['val_accuracy'], label='Validation Accuracy')\n",
        "ax1.set_xticks(np.arange(0, 4, 5))\n",
        "ax1.set_ylabel('Accuracy Value')\n",
        "ax1.set_xlabel('Epoch')\n",
        "ax1.set_title('Accuracy')\n",
        "l1 = ax1.legend(loc=\"best\")\n",
        "\n",
        "ax2.plot(epoch_list, history.history['loss'], label='Train Loss')\n",
        "ax2.plot(epoch_list, history.history['val_loss'], label='Validation Loss')\n",
        "ax2.set_xticks(np.arange(0, 4, 5))\n",
        "ax2.set_ylabel('Loss Value')\n",
        "ax2.set_xlabel('Epoch')\n",
        "ax2.set_title('Loss')\n",
        "l2 = ax2.legend(loc=\"best\")"
      ],
      "execution_count": 0,
      "outputs": []
    },
    {
      "cell_type": "code",
      "metadata": {
        "id": "7o-zvwsrJPgw",
        "colab_type": "code",
        "colab": {}
      },
      "source": [
        "# this cell is to evaluate loss and accuracy on an external test set\n",
        "\n",
        "model.evaluate(val, verbose=1, sample_weight=None, steps=step_size_val, callbacks=None, max_queue_size=10, workers=1, use_multiprocessing=False)\n"
      ],
      "execution_count": 0,
      "outputs": []
    },
    {
      "cell_type": "code",
      "metadata": {
        "id": "WZFRaCuYkTfF",
        "colab_type": "code",
        "colab": {}
      },
      "source": [
        "# this cell is to predict smaller numbers of images and so... it returns an array which I havent figured out yet...\n",
        "\n",
        "yhat = model.predict(val, verbose=1, steps=step_size_val, callbacks=None, max_queue_size=10, workers=1, use_multiprocessing=False)\n",
        "\n",
        " "
      ],
      "execution_count": 0,
      "outputs": []
    },
    {
      "cell_type": "code",
      "metadata": {
        "id": "vmEgUsRlGnD7",
        "colab_type": "code",
        "colab": {}
      },
      "source": [
        "# make predictions on your choice of numbers in dataset, just change the range https://machinelearningmastery.com/how-to-make-classification-and-regression-predictions-for-deep-learning-models-in-keras/\n",
        "\n",
        "\t\n",
        "from sklearn.linear_model import LogisticRegression\n",
        "from sklearn.datasets import make_blobs\n",
        "# create the inputs and outputs\n",
        "X, y = make_blobs(n_samples=5000, centers=2, n_features=2, random_state=2)\n",
        "# define model\n",
        "model = LogisticRegression(solver='lbfgs')\n",
        "# fit model\n",
        "model.fit(X, y)\n",
        "# make predictions on the entire training dataset\n",
        "yhat = model.predict(X)\n",
        "# connect predictions with outputs\n",
        "for i in range(5000):\n",
        "  print (X[i], yhat[i])\n",
        "  "
      ],
      "execution_count": 0,
      "outputs": []
    },
    {
      "cell_type": "code",
      "metadata": {
        "id": "ubpYDLuJXQhL",
        "colab_type": "code",
        "colab": {}
      },
      "source": [
        "# load_model_sample.py TRY THIS FOR A SINGLE IMAGE https://stackoverflow.com/questions/43469281/how-to-predict-input-image-using-trained-model-in-keras\n",
        "from keras.models import load_model\n",
        "from keras.preprocessing import image\n",
        "import matplotlib.pyplot as plt\n",
        "import numpy as np\n",
        "import os\n",
        "\n",
        "\n",
        "def load_image(img_path, show=False):\n",
        "\n",
        "    img = image.load_img(img_path, target_size=(150, 150))\n",
        "    img_tensor = image.img_to_array(img)                    # (height, width, channels)\n",
        "    img_tensor = np.expand_dims(img_tensor, axis=0)         # (1, height, width, channels), add a dimension because the model expects this shape: (batch_size, height, width, channels)\n",
        "    img_tensor /= 255.                                      # imshow expects values in the range [0, 1]\n",
        "\n",
        "    if show:\n",
        "        plt.imshow(img_tensor[0])                           \n",
        "        plt.axis('off')\n",
        "        plt.show()\n",
        "\n",
        "    return img_tensor\n",
        "\n",
        "\n",
        "if __name__ == \"__main__\":\n",
        "\n",
        "    # load model\n",
        "    model = load_model(\"model_aug.h5\")\n",
        "\n",
        "    # image path\n",
        "    img_path = '/media/data/dogscats/test1/3867.jpg'    # dog\n",
        "    #img_path = '/media/data/dogscats/test1/19.jpg'      # cat\n",
        "\n",
        "    # load a single image\n",
        "    new_image = load_image(img_path)\n",
        "\n",
        "    # check prediction\n",
        "    pred = model.predict(new_image)"
      ],
      "execution_count": 0,
      "outputs": []
    },
    {
      "cell_type": "code",
      "metadata": {
        "id": "NqHTq1g_n64x",
        "colab_type": "code",
        "colab": {}
      },
      "source": [
        "\n",
        "# TRY this also for a single image https://stackoverflow.com/questions/43469281/how-to-predict-input-image-using-trained-model-in-keras\n",
        "# load_model_sample.py\n",
        "from keras.models import load_model\n",
        "from keras.preprocessing import image\n",
        "import matplotlib.pyplot as plt\n",
        "import numpy as np\n",
        "import os\n",
        "\n",
        "\n",
        "def load_image(img_path, show=False):\n",
        "\n",
        "    img = image.load_img(img_path, target_size=(150, 150))\n",
        "    img_tensor = image.img_to_array(img)                    # (height, width, channels)\n",
        "    img_tensor = np.expand_dims(img_tensor, axis=0)         # (1, height, width, channels), add a dimension because the model expects this shape: (batch_size, height, width, channels)\n",
        "    img_tensor /= 255.                                      # imshow expects values in the range [0, 1]\n",
        "\n",
        "    if show:\n",
        "        plt.imshow(img_tensor[0])                           \n",
        "        plt.axis('off')\n",
        "        plt.show()\n",
        "\n",
        "    return img_tensor\n",
        "\n",
        "\n",
        "if __name__ == \"__main__\":\n",
        "\n",
        "    # load model\n",
        "    model = load_model(\"model_aug.h5\")\n",
        "\n",
        "    # image path\n",
        "    img_path = '/media/data/dogscats/test1/3867.jpg'    # dog\n",
        "    #img_path = '/media/data/dogscats/test1/19.jpg'      # cat\n",
        "\n",
        "    # load a single image\n",
        "    new_image = load_image(img_path)\n",
        "\n",
        "    # check prediction\n",
        "    pred = model.predict(new_image)"
      ],
      "execution_count": 0,
      "outputs": []
    }
  ]
}