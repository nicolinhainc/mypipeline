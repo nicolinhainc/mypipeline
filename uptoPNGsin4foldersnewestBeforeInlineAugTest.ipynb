{
  "nbformat": 4,
  "nbformat_minor": 0,
  "metadata": {
    "colab": {
      "name": "Pipeline3.ipynb",
      "provenance": [],
      "authorship_tag": "ABX9TyPBTQUM9j0kG6RwiXfVSIiz",
      "include_colab_link": true
    },
    "kernelspec": {
      "name": "python3",
      "display_name": "Python 3"
    },
    "accelerator": "GPU"
  },
  "cells": [
    {
      "cell_type": "markdown",
      "metadata": {
        "id": "view-in-github",
        "colab_type": "text"
      },
      "source": [
        "<a href=\"https://colab.research.google.com/github/nicolinhainc/mypipeline/blob/master/uptoPNGsin4foldersnewestBeforeInlineAugTest.ipynb\" target=\"_parent\"><img src=\"https://colab.research.google.com/assets/colab-badge.svg\" alt=\"Open In Colab\"/></a>"
      ]
    },
    {
      "cell_type": "code",
      "metadata": {
        "id": "OD3fnUQGiSaQ",
        "colab_type": "code",
        "outputId": "403b4e65-3544-4424-f054-979fa331bf2a",
        "colab": {
          "base_uri": "https://localhost:8080/",
          "height": 34
        }
      },
      "source": [
        "%pwd  "
      ],
      "execution_count": 0,
      "outputs": [
        {
          "output_type": "execute_result",
          "data": {
            "text/plain": [
              "'/content'"
            ]
          },
          "metadata": {
            "tags": []
          },
          "execution_count": 1
        }
      ]
    },
    {
      "cell_type": "code",
      "metadata": {
        "id": "NiBkzlnNifj7",
        "colab_type": "code",
        "outputId": "dd33ed46-ef0a-4def-c145-351acae062a0",
        "colab": {
          "base_uri": "https://localhost:8080/",
          "height": 34
        }
      },
      "source": [
        "%cd '/content'"
      ],
      "execution_count": 0,
      "outputs": [
        {
          "output_type": "stream",
          "text": [
            "/content\n"
          ],
          "name": "stdout"
        }
      ]
    },
    {
      "cell_type": "code",
      "metadata": {
        "id": "cWKczacPifgd",
        "colab_type": "code",
        "outputId": "8b7b42e9-a322-4adb-db78-fe5d970f595a",
        "colab": {
          "base_uri": "https://localhost:8080/",
          "height": 350
        }
      },
      "source": [
        "!wget --no-check-certificate 'https://drive.google.com/uc?export=download&id=1XdwGEqKXeKH1NRhZXxCZo5T8mncwYHCC' -O ./Bet-n-dcm2nii.zip\n",
        "!unzip -q ./Bet-n-dcm2nii.zip\n",
        "!rm -rf images"
      ],
      "execution_count": 0,
      "outputs": [
        {
          "output_type": "stream",
          "text": [
            "--2020-04-05 17:56:51--  https://drive.google.com/uc?export=download&id=1XdwGEqKXeKH1NRhZXxCZo5T8mncwYHCC\n",
            "Resolving drive.google.com (drive.google.com)... 172.217.11.78, 2607:f8b0:4007:803::200e\n",
            "Connecting to drive.google.com (drive.google.com)|172.217.11.78|:443... connected.\n",
            "HTTP request sent, awaiting response... 302 Moved Temporarily\n",
            "Location: https://doc-0k-60-docs.googleusercontent.com/docs/securesc/ha0ro937gcuc7l7deffksulhg5h7mbp1/s52ksheeru9692htk518138bllmc8n2k/1586109375000/07380574639032097336/*/1XdwGEqKXeKH1NRhZXxCZo5T8mncwYHCC?e=download [following]\n",
            "Warning: wildcards not supported in HTTP.\n",
            "--2020-04-05 17:57:04--  https://doc-0k-60-docs.googleusercontent.com/docs/securesc/ha0ro937gcuc7l7deffksulhg5h7mbp1/s52ksheeru9692htk518138bllmc8n2k/1586109375000/07380574639032097336/*/1XdwGEqKXeKH1NRhZXxCZo5T8mncwYHCC?e=download\n",
            "Resolving doc-0k-60-docs.googleusercontent.com (doc-0k-60-docs.googleusercontent.com)... 172.217.11.65, 2607:f8b0:4007:802::2001\n",
            "Connecting to doc-0k-60-docs.googleusercontent.com (doc-0k-60-docs.googleusercontent.com)|172.217.11.65|:443... connected.\n",
            "HTTP request sent, awaiting response... 200 OK\n",
            "Length: unspecified [application/zip]\n",
            "Saving to: ‘./Bet-n-dcm2nii.zip’\n",
            "\n",
            "./Bet-n-dcm2nii.zip     [  <=>               ]  12.52M  41.7MB/s    in 0.3s    \n",
            "\n",
            "2020-04-05 17:57:07 (41.7 MB/s) - ‘./Bet-n-dcm2nii.zip’ saved [13126916]\n",
            "\n",
            "replace dcm2nii? [y]es, [n]o, [A]ll, [N]one, [r]ename: A\n"
          ],
          "name": "stdout"
        }
      ]
    },
    {
      "cell_type": "code",
      "metadata": {
        "id": "jwGvEZAIifeR",
        "colab_type": "code",
        "colab": {}
      },
      "source": [
        "# upload the LGG zip file yourself as the link to google drive wasnt working"
      ],
      "execution_count": 0,
      "outputs": []
    },
    {
      "cell_type": "code",
      "metadata": {
        "id": "y3a3PV9JifY8",
        "colab_type": "code",
        "colab": {}
      },
      "source": [
        "!unzip -q ./LGG.zip\n",
        "!rm -rf ./_MACOSX\n",
        "!rm -rf *.DS_Store\n",
        "!rm -rf ./LGG/.DS_Store\n",
        "!rm -rf ./LGG/class1/.DS_Store\n",
        "!rm -rf ./LGG/class2/.DS_Store"
      ],
      "execution_count": 0,
      "outputs": []
    },
    {
      "cell_type": "code",
      "metadata": {
        "id": "fqv8_CSbifVx",
        "colab_type": "code",
        "outputId": "985ecc8a-0a31-43bb-989e-c8b44dc59e71",
        "colab": {
          "base_uri": "https://localhost:8080/",
          "height": 350
        }
      },
      "source": [
        "!wget --no-check-certificate 'https://drive.google.com/uc?export=download&id=1uBQdQIYcA_ACqycw8ofDzD-1G9YwZaRw' -O ./icbm152t2.zip\n",
        "!unzip -q ./icbm152t2.zip"
      ],
      "execution_count": 0,
      "outputs": [
        {
          "output_type": "stream",
          "text": [
            "--2020-04-05 17:59:15--  https://drive.google.com/uc?export=download&id=1uBQdQIYcA_ACqycw8ofDzD-1G9YwZaRw\n",
            "Resolving drive.google.com (drive.google.com)... 172.217.11.78, 2607:f8b0:4007:803::200e\n",
            "Connecting to drive.google.com (drive.google.com)|172.217.11.78|:443... connected.\n",
            "HTTP request sent, awaiting response... 302 Moved Temporarily\n",
            "Location: https://doc-0k-60-docs.googleusercontent.com/docs/securesc/ha0ro937gcuc7l7deffksulhg5h7mbp1/9srhp2fl0rj3un8ttr5ljb03etrrddik/1586109525000/07380574639032097336/*/1uBQdQIYcA_ACqycw8ofDzD-1G9YwZaRw?e=download [following]\n",
            "Warning: wildcards not supported in HTTP.\n",
            "--2020-04-05 17:59:16--  https://doc-0k-60-docs.googleusercontent.com/docs/securesc/ha0ro937gcuc7l7deffksulhg5h7mbp1/9srhp2fl0rj3un8ttr5ljb03etrrddik/1586109525000/07380574639032097336/*/1uBQdQIYcA_ACqycw8ofDzD-1G9YwZaRw?e=download\n",
            "Resolving doc-0k-60-docs.googleusercontent.com (doc-0k-60-docs.googleusercontent.com)... 172.217.11.65, 2607:f8b0:4007:802::2001\n",
            "Connecting to doc-0k-60-docs.googleusercontent.com (doc-0k-60-docs.googleusercontent.com)|172.217.11.65|:443... connected.\n",
            "HTTP request sent, awaiting response... 200 OK\n",
            "Length: unspecified [application/zip]\n",
            "Saving to: ‘./icbm152t2.zip’\n",
            "\n",
            "./icbm152t2.zip         [  <=>               ]  12.92M  38.2MB/s    in 0.3s    \n",
            "\n",
            "2020-04-05 17:59:17 (38.2 MB/s) - ‘./icbm152t2.zip’ saved [13550902]\n",
            "\n",
            "replace icbm_avg_152_t2_tal_lin.nii? [y]es, [n]o, [A]ll, [N]one, [r]ename: A\n"
          ],
          "name": "stdout"
        }
      ]
    },
    {
      "cell_type": "code",
      "metadata": {
        "id": "20qqIk8difTI",
        "colab_type": "code",
        "colab": {}
      },
      "source": [
        "NIFTI_PATH = './LGG/class2'"
      ],
      "execution_count": 0,
      "outputs": []
    },
    {
      "cell_type": "code",
      "metadata": {
        "id": "h3BewtvrifQS",
        "colab_type": "code",
        "colab": {}
      },
      "source": [
        "import os, fnmatch"
      ],
      "execution_count": 0,
      "outputs": []
    },
    {
      "cell_type": "code",
      "metadata": {
        "id": "zzmthqc5ifNW",
        "colab_type": "code",
        "colab": {}
      },
      "source": [
        "os.environ['FSLOUTPUTTYPE'] = 'NIFTI_GZ'"
      ],
      "execution_count": 0,
      "outputs": []
    },
    {
      "cell_type": "code",
      "metadata": {
        "id": "mVXVKzU4ifK0",
        "colab_type": "code",
        "outputId": "6b54d4d1-a05f-411f-c397-60d6aa8f2678",
        "colab": {
          "base_uri": "https://localhost:8080/",
          "height": 191
        }
      },
      "source": [
        "for subj in os.listdir(NIFTI_PATH):\n",
        "    subj_path = os.path.join(NIFTI_PATH, subj)\n",
        "    print (\"Working on \" + subj_path)\n",
        "    series = fnmatch.filter(os.listdir(subj_path), '*.nii.gz')\n",
        "    for ser in ['T2*']: #not sure why I had to add the star here but this was the only way it worked\n",
        "        nii_file = os.path.join (subj_path, ser)\n",
        "# First, perform N4 bias correction. Not required, but may improve results. Also must track new names\n",
        "        new_file = os.path.join (subj_path, 'N4-' + ser)\n",
        "        cmd = \"./N4BiasFieldCorrection -i %s.nii.gz -o %s.nii.gz\" % (nii_file, new_file)\n",
        "        os.system(cmd)\n",
        "        print (cmd)"
      ],
      "execution_count": 0,
      "outputs": [
        {
          "output_type": "stream",
          "text": [
            "Working on ./LGG/class2/Patient8\n",
            "./N4BiasFieldCorrection -i ./LGG/class2/Patient8/T2*.nii.gz -o ./LGG/class2/Patient8/N4-T2*.nii.gz\n",
            "Working on ./LGG/class2/Patient10\n",
            "./N4BiasFieldCorrection -i ./LGG/class2/Patient10/T2*.nii.gz -o ./LGG/class2/Patient10/N4-T2*.nii.gz\n",
            "Working on ./LGG/class2/Patient9\n",
            "./N4BiasFieldCorrection -i ./LGG/class2/Patient9/T2*.nii.gz -o ./LGG/class2/Patient9/N4-T2*.nii.gz\n",
            "Working on ./LGG/class2/Patient7\n",
            "./N4BiasFieldCorrection -i ./LGG/class2/Patient7/T2*.nii.gz -o ./LGG/class2/Patient7/N4-T2*.nii.gz\n",
            "Working on ./LGG/class2/Patient6\n",
            "./N4BiasFieldCorrection -i ./LGG/class2/Patient6/T2*.nii.gz -o ./LGG/class2/Patient6/N4-T2*.nii.gz\n"
          ],
          "name": "stdout"
        }
      ]
    },
    {
      "cell_type": "code",
      "metadata": {
        "id": "xMf-kqTEx5B_",
        "colab_type": "code",
        "outputId": "4190cc41-6e0c-48ec-8e11-1ac2e3904128",
        "colab": {
          "base_uri": "https://localhost:8080/",
          "height": 191
        }
      },
      "source": [
        "for subj in os.listdir(NIFTI_PATH):\n",
        "    subj_path = os.path.join(NIFTI_PATH, subj)\n",
        "    print (\"Working on \" + subj_path)\n",
        "    series = fnmatch.filter(os.listdir(subj_path), '*.nii.gz')\n",
        "    for ser in ['T2.nii.gz']: #not sure why I had to add the star here but this was the only way it worked\n",
        "        nii_file = os.path.join (subj_path, ser)\n",
        "# removes old files\n",
        "        \n",
        "        cmd = os.remove(nii_file)\n",
        "        \n",
        "        print (cmd)"
      ],
      "execution_count": 0,
      "outputs": [
        {
          "output_type": "stream",
          "text": [
            "Working on ./LGG/class1/Patient2\n",
            "None\n",
            "Working on ./LGG/class1/Patient5\n",
            "None\n",
            "Working on ./LGG/class1/Patient4\n",
            "None\n",
            "Working on ./LGG/class1/Patient1\n",
            "None\n",
            "Working on ./LGG/class1/Patient3\n",
            "None\n"
          ],
          "name": "stdout"
        }
      ]
    },
    {
      "cell_type": "markdown",
      "metadata": {
        "id": "aLmqNkVvkMjH",
        "colab_type": "text"
      },
      "source": [
        ""
      ]
    },
    {
      "cell_type": "code",
      "metadata": {
        "id": "ifEYCCSdifFL",
        "colab_type": "code",
        "outputId": "89a7bfc9-7dd8-4851-aed3-917068be0e07",
        "colab": {
          "base_uri": "https://localhost:8080/",
          "height": 211
        }
      },
      "source": [
        "# Next, Register the images to the avg 152 t2 image from MNI\n",
        "for subj in os.listdir(NIFTI_PATH):\n",
        "    subj_path = os.path.join(NIFTI_PATH, subj)\n",
        "    print (\"Working on \" + subj_path)\n",
        "    series = fnmatch.filter(os.listdir(subj_path), 'N4-*')\n",
        "    for ser in ['T2']:   \n",
        "        MNI_file = './icbm_avg_152_t2_tal_lin.nii'\n",
        "        T2_file =  os.path.join (subj_path, 'N4-T2*.nii.gz')\n",
        "        new_file = os.path.join (subj_path, 'Reg-N4-T2.nii.gz')\n",
        "        cmd = \"./flirt -in %s -ref %s  -out %s\" % (T2_file, MNI_file, new_file)\n",
        "        os.system(cmd)\n",
        "        print (cmd)\n",
        "\n"
      ],
      "execution_count": 0,
      "outputs": [
        {
          "output_type": "stream",
          "text": [
            "Working on ./LGG/class2/Patient8\n",
            "./flirt -in ./LGG/class2/Patient8/N4-T2*.nii.gz -ref ./icbm_avg_152_t2_tal_lin.nii  -out ./LGG/class2/Patient8/Reg-N4-T2.nii.gz\n",
            "Working on ./LGG/class2/Patient10\n",
            "./flirt -in ./LGG/class2/Patient10/N4-T2*.nii.gz -ref ./icbm_avg_152_t2_tal_lin.nii  -out ./LGG/class2/Patient10/Reg-N4-T2.nii.gz\n",
            "Working on ./LGG/class2/Patient9\n",
            "./flirt -in ./LGG/class2/Patient9/N4-T2*.nii.gz -ref ./icbm_avg_152_t2_tal_lin.nii  -out ./LGG/class2/Patient9/Reg-N4-T2.nii.gz\n",
            "Working on ./LGG/class2/Patient7\n",
            "./flirt -in ./LGG/class2/Patient7/N4-T2*.nii.gz -ref ./icbm_avg_152_t2_tal_lin.nii  -out ./LGG/class2/Patient7/Reg-N4-T2.nii.gz\n",
            "Working on ./LGG/class2/Patient6\n",
            "./flirt -in ./LGG/class2/Patient6/N4-T2*.nii.gz -ref ./icbm_avg_152_t2_tal_lin.nii  -out ./LGG/class2/Patient6/Reg-N4-T2.nii.gz\n"
          ],
          "name": "stdout"
        }
      ]
    },
    {
      "cell_type": "code",
      "metadata": {
        "id": "6auR69KF6Z2D",
        "colab_type": "code",
        "outputId": "86548651-6f90-47cc-d3a3-563a833678d9",
        "colab": {
          "base_uri": "https://localhost:8080/",
          "height": 191
        }
      },
      "source": [
        "# Next, remove the unnecessary N4-T2 files\n",
        "for subj in os.listdir(NIFTI_PATH):\n",
        "    subj_path = os.path.join(NIFTI_PATH, subj)\n",
        "    print (\"Working on \" + subj_path)\n",
        "    series = fnmatch.filter(os.listdir(subj_path), 'N4-*')\n",
        "    for ser in ['T2']:   \n",
        "        MNI_file = './icbm_avg_152_t2_tal_lin.nii'\n",
        "        T2_file =  os.path.join (subj_path, 'N4-T2*.nii.gz')\n",
        "        new_file = os.path.join (subj_path, 'Reg-N4-T2.nii.gz')\n",
        "        cmd = os.remove(T2_file)\n",
        "        \n",
        "        print (cmd)"
      ],
      "execution_count": 0,
      "outputs": [
        {
          "output_type": "stream",
          "text": [
            "Working on ./LGG/class2/Patient8\n",
            "None\n",
            "Working on ./LGG/class2/Patient10\n",
            "None\n",
            "Working on ./LGG/class2/Patient9\n",
            "None\n",
            "Working on ./LGG/class2/Patient7\n",
            "None\n",
            "Working on ./LGG/class2/Patient6\n",
            "None\n"
          ],
          "name": "stdout"
        }
      ]
    },
    {
      "cell_type": "code",
      "metadata": {
        "id": "EeHtpkFWifAF",
        "colab_type": "code",
        "colab": {}
      },
      "source": [
        "#manually create the valc1 and valc2 folders to make sure it works\n",
        "#below ref https://stackoverflow.com/questions/46717742/split-data-directory-into-training-and-test-directory-with-sub-directory-structu"
      ],
      "execution_count": 0,
      "outputs": []
    },
    {
      "cell_type": "code",
      "metadata": {
        "id": "WUk9fqHGORYS",
        "colab_type": "code",
        "outputId": "feefb49c-bc76-42eb-86fd-3459822a0ec9",
        "colab": {
          "base_uri": "https://localhost:8080/",
          "height": 86
        }
      },
      "source": [
        "   import os\n",
        "   import shutil\n",
        "   import numpy as np\n",
        "   base_dir = '/content'\n",
        "\n",
        "   sourceN = base_dir + \"/LGG/class1\"\n",
        "   destN = base_dir + \"/LGG/valc1\"\n",
        "   sourceP = base_dir + \"/LGG/class2\"\n",
        "   destP = base_dir + \"/LGG/valc2\"\n",
        "\n",
        "   filesN = os.listdir(sourceN)\n",
        "   filesP = os.listdir(sourceP)       \n",
        "\n",
        "   for f in filesN:\n",
        "       if np.random.rand(1) < 0.2: #is this a 80 20 split? what does it mean exactly?\n",
        "        shutil.move(sourceN + '/'+ f, destN + '/'+ f)\n",
        "\n",
        "   for i in filesP:\n",
        "       if np.random.rand(1) < 0.2:\n",
        "        shutil.move(sourceP + '/'+ i, destP + '/'+ i)\n",
        "\n",
        "   print(len(os.listdir(sourceN)))\n",
        "   print(len(os.listdir(sourceP)))\n",
        "   print(len(os.listdir(destN)))\n",
        "   print(len(os.listdir(destP)))"
      ],
      "execution_count": 0,
      "outputs": [
        {
          "output_type": "stream",
          "text": [
            "0\n",
            "2\n",
            "5\n",
            "3\n"
          ],
          "name": "stdout"
        }
      ]
    },
    {
      "cell_type": "code",
      "metadata": {
        "id": "OTF40yU7rz-i",
        "colab_type": "code",
        "colab": {}
      },
      "source": [
        "!rm -rf ./LGG/valc2/.ipynb_checkpoints\n",
        "!rm -rf ./LGG/valc1/.ipynb_checkpoints"
      ],
      "execution_count": 0,
      "outputs": []
    },
    {
      "cell_type": "code",
      "metadata": {
        "id": "GC1Uh6W9ie31",
        "colab_type": "code",
        "outputId": "e4ae2007-33cb-4210-ca42-cc93ac6d4973",
        "colab": {
          "base_uri": "https://localhost:8080/",
          "height": 523
        }
      },
      "source": [
        "import pandas as pd\n",
        "\n",
        "!wget --no-check-certificate 'https://drive.google.com/uc?export=download&id=1z2GmRDDVMbcb1x26jlA9X0M4WAv4-kvA' -O ./TumorSlices.csv\n",
        "df = pd.read_csv ('./TumorSlices.csv')\n",
        "print (df) "
      ],
      "execution_count": 0,
      "outputs": [
        {
          "output_type": "stream",
          "text": [
            "--2020-04-05 18:53:34--  https://drive.google.com/uc?export=download&id=1z2GmRDDVMbcb1x26jlA9X0M4WAv4-kvA\n",
            "Resolving drive.google.com (drive.google.com)... 172.217.14.78, 2607:f8b0:4007:803::200e\n",
            "Connecting to drive.google.com (drive.google.com)|172.217.14.78|:443... connected.\n",
            "HTTP request sent, awaiting response... 302 Moved Temporarily\n",
            "Location: https://doc-10-60-docs.googleusercontent.com/docs/securesc/ha0ro937gcuc7l7deffksulhg5h7mbp1/4t96a5ag1r8spnpk009kik8038hpbnsd/1586112750000/07380574639032097336/*/1z2GmRDDVMbcb1x26jlA9X0M4WAv4-kvA?e=download [following]\n",
            "Warning: wildcards not supported in HTTP.\n",
            "--2020-04-05 18:53:34--  https://doc-10-60-docs.googleusercontent.com/docs/securesc/ha0ro937gcuc7l7deffksulhg5h7mbp1/4t96a5ag1r8spnpk009kik8038hpbnsd/1586112750000/07380574639032097336/*/1z2GmRDDVMbcb1x26jlA9X0M4WAv4-kvA?e=download\n",
            "Resolving doc-10-60-docs.googleusercontent.com (doc-10-60-docs.googleusercontent.com)... 172.217.11.65, 2607:f8b0:4007:802::2001\n",
            "Connecting to doc-10-60-docs.googleusercontent.com (doc-10-60-docs.googleusercontent.com)|172.217.11.65|:443... connected.\n",
            "HTTP request sent, awaiting response... 200 OK\n",
            "Length: 188 [text/csv]\n",
            "Saving to: ‘./TumorSlices.csv’\n",
            "\n",
            "./TumorSlices.csv   100%[===================>]     188  --.-KB/s    in 0s      \n",
            "\n",
            "2020-04-05 18:53:34 (8.45 MB/s) - ‘./TumorSlices.csv’ saved [188/188]\n",
            "\n",
            "     Subject  StartSlice  EndSlice\n",
            "0   Patient1           0       300\n",
            "1   Patient2           0       300\n",
            "2   Patient3           0       300\n",
            "3   Patient4           0       300\n",
            "4   Patient5           0       300\n",
            "5   Patient6           0       300\n",
            "6   Patient7           0       300\n",
            "7   Patient8           0       300\n",
            "8   Patient9           0       300\n",
            "9  Patient10           0       300\n"
          ],
          "name": "stdout"
        }
      ]
    },
    {
      "cell_type": "code",
      "metadata": {
        "id": "HCzjZCcnie07",
        "colab_type": "code",
        "colab": {}
      },
      "source": [
        "# Cell #5\n",
        "# create new versions of the T1, GAD, and T2 images that range from 0 to 255, and where the 0 intensity value maps to the 5th percentile value \n",
        "# and 255 maps to the 95th percentile value.\n",
        "import imageio\n",
        "import nibabel as nib\n",
        "import numpy as np\n",
        "\n",
        "MIN_MR = 20\n",
        "\n",
        "def rescale_5_95_percentile(image):\n",
        "    dims = np.shape(image)\n",
        "    image_1d = image.reshape(1, image.size)\n",
        "    above = np.where(image_1d>MIN_MR, image_1d, image_1d)\n",
        "    if above.size < image_1d.size/2:\n",
        "        above = image_1d # avoid bad MIN_MR thresholds\n",
        "    sorted_im = np.sort(above, axis = None)\n",
        "    \n",
        "    start = int(sorted_im.size / 20)  # 20 = 5%\n",
        "    end = int(sorted_im.size * 19 / 20) # 95%\n",
        "    start_val = sorted_im[start]\n",
        "    end_val = sorted_im[end]\n",
        "    \n",
        "    image = np.maximum(image, start_val) # map values below the start_val to start_val\n",
        "    image = np.minimum(image, end_val)   # map values above the end_val to end_val\n",
        "    image = image - start_val # subtract the starting intensity\n",
        "\n",
        " #   print (\"rescaling range \" + str(newmin) + \" to \" + str(histo[1][index]))\n",
        "    image = (np.maximum(image, 0) / image.max()) * 255.0\n",
        "    return image\n",
        "\n",
        "def nifti_to_img(red_file, green_file, blue_file, not_dir, yes_dir, startSlice, endSlice, subject):\n",
        "### red_ green_ and blue_files are the nifit files that will be combined to go into the PNG\n",
        "### not_dir is the direcotry where PNGs are stored if they are not in the (inclusive)\n",
        "### range set by startSlice/endSlice\n",
        "### yes_dir is where they are stored when they ARE in the range\n",
        "### subject is the ID so that we can track where images came from\n",
        "\n",
        "    try:\n",
        "        nifti = nib.load(red_file)\n",
        "        nif_header = nifti.header\n",
        "        red_image = nifti.get_fdata()\n",
        "    except:\n",
        "        return 0\n",
        "\n",
        "    try:\n",
        "        if os.path.isfile(green_file):\n",
        "            nifti = nib.load(green_file)\n",
        "            nif_header = nifti.header\n",
        "            green_image = nifti.get_fdata()\n",
        "        else:\n",
        "            pass\n",
        "    except:  # if can't load, then use red image\n",
        "        green_image = red_image\n",
        "    \n",
        "    try:\n",
        "        if os.path.isfile(blue_file):\n",
        "            nifti = nib.load(blue_file)\n",
        "\n",
        "            nif_header = nifti.header\n",
        "            blue_image = nifti.get_fdata()\n",
        "        else:\n",
        "            pass\n",
        "    except:  # if can't load, then use red image\n",
        "        blue_image = red_image\n",
        "        \n",
        "# now scale the intensity for each image        \n",
        "    red_image = rescale_5_95_percentile(red_image)\n",
        "    green_image = rescale_5_95_percentile(green_image)\n",
        "    blue_image = rescale_5_95_percentile(blue_image)\n",
        "# then convert to 8 bits\n",
        "    red_image = red_image.astype(np.uint8)     \n",
        "    green_image = green_image.astype(np.uint8)     \n",
        "    blue_image = blue_image.astype(np.uint8)   \n",
        "    \n",
        "# get the number of slices\n",
        "    dims = np.shape(red_image)\n",
        "    zd = dims[2]\n",
        "\n",
        "    for z in range(0, zd):\n",
        "        outname = subject + \"-{0:04d}\".format(z) + '.png'\n",
        "        if z >= startSlice and z <= endSlice:  # this is enhancing\n",
        "            out_dir = yes_dir\n",
        "        else:\n",
        "            out_dir = not_dir\n",
        "        outname = os.path.join(out_dir, outname)\n",
        "        if not os.path.exists(out_dir):\n",
        "            os.makedirs(out_dir)\n",
        "        combined = np.dstack((red_image[:,:,z],green_image[:,:,z],\n",
        "                              blue_image[:,:,z]))\n",
        "## . images come in rotated\n",
        "        combined = np.rot90(combined, k=1)\n",
        "#        print ('Name: ' + outname)\n",
        "        imageio.imwrite(outname, combined)\n",
        "    return zd"
      ],
      "execution_count": 0,
      "outputs": []
    },
    {
      "cell_type": "code",
      "metadata": {
        "id": "ETZHZsRFqNlU",
        "colab_type": "code",
        "colab": {}
      },
      "source": [
        "NIFTI_PATH = './LGG/valc1'"
      ],
      "execution_count": 0,
      "outputs": []
    },
    {
      "cell_type": "code",
      "metadata": {
        "id": "5iQuQDuwieyE",
        "colab_type": "code",
        "outputId": "aee218ba-ba2d-49d8-81f1-0fd2f624ec47",
        "colab": {
          "base_uri": "https://localhost:8080/",
          "height": 52
        }
      },
      "source": [
        "# Cell #6\n",
        "# take the GAD nii, scale it to 0-255 and store that into the red channel\n",
        "# same for T1 (green) and T2 (blue)\n",
        "# PNG files are stored in enh / nonenh folders based on the csv file\n",
        "\n",
        "# store the png files into enhancing or nonenhancing folders after making sure they are cleared\n",
        "\n",
        "!rm -rf classified\n",
        "\n",
        "!mkdir classified\n",
        "\n",
        "for subj in os.listdir(NIFTI_PATH):\n",
        "    subj_path = os.path.join(NIFTI_PATH, subj)\n",
        "    red_f = os.path.join(subj_path, 'Reg-N4-T2.nii.gz')\n",
        "    startSlice = df.loc[df.Subject == subj, 'StartSlice'].values[0]\n",
        "    endSlice = df.loc[df.Subject == subj, 'EndSlice'].values[0]\n",
        "    print (\"Making PNG file for \" + subj + \" start: \" + str(startSlice) + \" end: \" + str(endSlice))\n",
        "    count = nifti_to_img(red_f, red_f, red_f,'./png/valc1', './png/valc1', startSlice, endSlice, subj)"
      ],
      "execution_count": 0,
      "outputs": [
        {
          "output_type": "stream",
          "text": [
            "Making PNG file for Patient2 start: 0 end: 300\n",
            "Making PNG file for Patient3 start: 0 end: 300\n"
          ],
          "name": "stdout"
        }
      ]
    },
    {
      "cell_type": "code",
      "metadata": {
        "id": "sjxhxrhdqnRk",
        "colab_type": "code",
        "colab": {}
      },
      "source": [
        "#below code is from https://towardsdatascience.com/keras-transfer-learning-for-beginners-6c9b8b7143e"
      ],
      "execution_count": 0,
      "outputs": []
    },
    {
      "cell_type": "code",
      "metadata": {
        "id": "OPuqXkncieuB",
        "colab_type": "code",
        "colab": {}
      },
      "source": [
        "# Cell #7\n",
        "# now we are ready to load data and train classifier\n",
        "# while we did this in separate cells before, we will do it all in one\n",
        "# this should look familiar.\n",
        "import numpy as np\n",
        "import tensorflow as tf\n",
        "!pip install tensornets\n",
        "import tensornets as nets\n",
        "import tensorflow_hub as hub\n",
        "import keras\n",
        "import tensorflow.keras \n",
        "import matplotlib.pyplot as plt\n",
        "from tensorflow.keras.layers import Dense,GlobalAveragePooling2D\n",
        "from tensorflow.keras.preprocessing import image\n",
        "from tensorflow.keras.preprocessing.image import ImageDataGenerator\n",
        "from tensorflow.keras.models import Model\n",
        "from tensorflow.keras.optimizers import Adam\n",
        "\n",
        "from tensorflow.keras.applications.imagenet_utils import decode_predictions\n",
        "from tensorflow.keras.applications.nasnet import NASNetLarge, NASNetMobile, preprocess_input\n",
        "directory = \"./classified\"\n",
        "\n",
        "base_model=tensorflow.keras.applications.nasnet.NASNetLarge(input_shape=(331, 331, 3), include_top=False, weights='imagenet', input_tensor=None, pooling=None) #imports the nasnet large model and discards the last 1000 neuron layer.\n",
        "\n",
        "x=base_model.output\n",
        "x=GlobalAveragePooling2D()(x)\n",
        "x=Dense(1024,activation='relu')(x) #we add dense layers so that the model can learn more complex functions and classify for better results.\n",
        "x=Dense(1024,activation='relu')(x) #dense layer 2\n",
        "x=Dense(512,activation='relu')(x) #dense layer 3\n",
        "preds=Dense(2,activation='softmax')(x) #final layer with softmax activation, for 2 classes\n",
        "\n",
        "model=Model(inputs=base_model.input,outputs=preds) # to load saved model with weights use model= tensorflow.keras.models.load_model('myLGGtestmodel.h5')\n",
        "#specify the inputs\n",
        "#specify the outputs\n",
        "#now a model has been created based on our architecture\n",
        "\n",
        "for i,layer in enumerate(model.layers):\n",
        "  print(i,layer.name)\n",
        "\n",
        "for layer in model.layers:\n",
        "    layer.trainable=False\n",
        "# or if we want to set the first 20 layers of the network to be non-trainable\n",
        "for layer in model.layers[:1039]:\n",
        "    layer.trainable=False\n",
        "for layer in model.layers[1039:]:\n",
        "    layer.trainable=True\n",
        "\n",
        "train_datagen=ImageDataGenerator(preprocessing_function=preprocess_input) #included in our dependencies\n",
        "# add the directory below very important ##########################\n",
        "\n",
        "train_generator=train_datagen.flow_from_directory('./classified',\n",
        "                                                 target_size=(331,331),\n",
        "                                                 color_mode='rgb',\n",
        "                                                 batch_size=32,\n",
        "                                                 class_mode='categorical',\n",
        "                                                 shuffle=True)\n",
        "\n",
        "\n",
        "model.compile(optimizer='Adam',loss='categorical_crossentropy',metrics=['accuracy'])\n",
        "# Adam optimizer\n",
        "# loss function will be categorical cross entropy\n",
        "# evaluation metric will be accuracy\n",
        "\n",
        "step_size_train=train_generator.n//train_generator.batch_size\n",
        "model.fit_generator(generator=train_generator,\n",
        "                   steps_per_epoch=step_size_train,\n",
        "                   epochs=10)\n",
        "    \n",
        "# next cell to save model including newly trained weights\n",
        "model.save('myLGGtestmodel.h5') # rename it how you like, it will show up in your directory. I have explained above using a hastag how and where to load the model."
      ],
      "execution_count": 0,
      "outputs": []
    },
    {
      "cell_type": "code",
      "metadata": {
        "id": "HYIVtpvhiekg",
        "colab_type": "code",
        "colab": {}
      },
      "source": [
        ""
      ],
      "execution_count": 0,
      "outputs": []
    }
  ]
}