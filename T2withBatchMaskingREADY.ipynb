{
  "nbformat": 4,
  "nbformat_minor": 0,
  "metadata": {
    "colab": {
      "name": "Pipeline3.ipynb",
      "provenance": [],
      "authorship_tag": "ABX9TyPfIxvbUcjnoByvxyJdMo2C",
      "include_colab_link": true
    },
    "kernelspec": {
      "name": "python3",
      "display_name": "Python 3"
    },
    "accelerator": "GPU"
  },
  "cells": [
    {
      "cell_type": "markdown",
      "metadata": {
        "id": "view-in-github",
        "colab_type": "text"
      },
      "source": [
        "<a href=\"https://colab.research.google.com/github/nicolinhainc/mypipeline/blob/master/T2withBatchMaskingREADY.ipynb\" target=\"_parent\"><img src=\"https://colab.research.google.com/assets/colab-badge.svg\" alt=\"Open In Colab\"/></a>"
      ]
    },
    {
      "cell_type": "code",
      "metadata": {
        "id": "OD3fnUQGiSaQ",
        "colab_type": "code",
        "outputId": "338fd7aa-2829-4797-f00c-9a9a67885683",
        "colab": {
          "base_uri": "https://localhost:8080/",
          "height": 34
        }
      },
      "source": [
        "%pwd  "
      ],
      "execution_count": 1,
      "outputs": [
        {
          "output_type": "execute_result",
          "data": {
            "text/plain": [
              "'/content'"
            ]
          },
          "metadata": {
            "tags": []
          },
          "execution_count": 1
        }
      ]
    },
    {
      "cell_type": "code",
      "metadata": {
        "id": "NiBkzlnNifj7",
        "colab_type": "code",
        "colab": {}
      },
      "source": [
        "#%cd '/content/'"
      ],
      "execution_count": 0,
      "outputs": []
    },
    {
      "cell_type": "code",
      "metadata": {
        "id": "cWKczacPifgd",
        "colab_type": "code",
        "outputId": "81a38af8-597e-460b-9a66-64faa3c16828",
        "colab": {
          "base_uri": "https://localhost:8080/",
          "height": 326
        }
      },
      "source": [
        "!wget --no-check-certificate 'https://drive.google.com/uc?export=download&id=1XdwGEqKXeKH1NRhZXxCZo5T8mncwYHCC' -O ./Bet-n-dcm2nii.zip\n",
        "!unzip -q ./Bet-n-dcm2nii.zip\n",
        "!rm -rf images"
      ],
      "execution_count": 1,
      "outputs": [
        {
          "output_type": "stream",
          "text": [
            "--2020-06-13 20:36:02--  https://drive.google.com/uc?export=download&id=1XdwGEqKXeKH1NRhZXxCZo5T8mncwYHCC\n",
            "Resolving drive.google.com (drive.google.com)... 172.217.214.113, 172.217.214.139, 172.217.214.102, ...\n",
            "Connecting to drive.google.com (drive.google.com)|172.217.214.113|:443... connected.\n",
            "HTTP request sent, awaiting response... 302 Moved Temporarily\n",
            "Location: https://doc-0k-60-docs.googleusercontent.com/docs/securesc/ha0ro937gcuc7l7deffksulhg5h7mbp1/989hrp790pr1tnv0p85el9n5f9nkjljm/1592080500000/07380574639032097336/*/1XdwGEqKXeKH1NRhZXxCZo5T8mncwYHCC?e=download [following]\n",
            "Warning: wildcards not supported in HTTP.\n",
            "--2020-06-13 20:36:11--  https://doc-0k-60-docs.googleusercontent.com/docs/securesc/ha0ro937gcuc7l7deffksulhg5h7mbp1/989hrp790pr1tnv0p85el9n5f9nkjljm/1592080500000/07380574639032097336/*/1XdwGEqKXeKH1NRhZXxCZo5T8mncwYHCC?e=download\n",
            "Resolving doc-0k-60-docs.googleusercontent.com (doc-0k-60-docs.googleusercontent.com)... 74.125.69.132, 2607:f8b0:4001:c08::84\n",
            "Connecting to doc-0k-60-docs.googleusercontent.com (doc-0k-60-docs.googleusercontent.com)|74.125.69.132|:443... connected.\n",
            "HTTP request sent, awaiting response... 200 OK\n",
            "Length: unspecified [application/zip]\n",
            "Saving to: ‘./Bet-n-dcm2nii.zip’\n",
            "\n",
            "./Bet-n-dcm2nii.zip     [ <=>                ]  12.52M  --.-KB/s    in 0.1s    \n",
            "\n",
            "2020-06-13 20:36:12 (126 MB/s) - ‘./Bet-n-dcm2nii.zip’ saved [13126916]\n",
            "\n"
          ],
          "name": "stdout"
        }
      ]
    },
    {
      "cell_type": "code",
      "metadata": {
        "id": "jwGvEZAIifeR",
        "colab_type": "code",
        "colab": {}
      },
      "source": [
        "# upload the zip file yourself "
      ],
      "execution_count": 0,
      "outputs": []
    },
    {
      "cell_type": "code",
      "metadata": {
        "id": "y3a3PV9JifY8",
        "colab_type": "code",
        "outputId": "56707a89-9f6c-4166-fcd8-dd3f4f7d5276",
        "colab": {
          "base_uri": "https://localhost:8080/",
          "height": 34
        }
      },
      "source": [
        "!unzip -q ./testers.zip\n"
      ],
      "execution_count": 1,
      "outputs": [
        {
          "output_type": "stream",
          "text": [
            "replace __MACOSX/testers/._.DS_Store? [y]es, [n]o, [A]ll, [N]one, [r]ename: A\n"
          ],
          "name": "stdout"
        }
      ]
    },
    {
      "cell_type": "code",
      "metadata": {
        "id": "M96A31sGT2jk",
        "colab_type": "code",
        "colab": {}
      },
      "source": [
        "!rm -rf './testers/codel/.DS_Store'\n",
        "!rm -rf './testers/no/.DS_Store'"
      ],
      "execution_count": 0,
      "outputs": []
    },
    {
      "cell_type": "code",
      "metadata": {
        "id": "fqv8_CSbifVx",
        "colab_type": "code",
        "colab": {
          "base_uri": "https://localhost:8080/",
          "height": 394
        },
        "outputId": "5cd32309-cac0-47ee-fe62-da81dbffb306"
      },
      "source": [
        "!wget --no-check-certificate 'https://www.dropbox.com/s/tz0g8bzfik570h7/icbm_avg_152_t2_tal_lin.nii.zip?dl=1' -O ./icbm152t2.zip\n",
        "!unzip -q ./icbm152t2.zip"
      ],
      "execution_count": 3,
      "outputs": [
        {
          "output_type": "stream",
          "text": [
            "--2020-06-13 22:33:13--  https://www.dropbox.com/s/tz0g8bzfik570h7/icbm_avg_152_t2_tal_lin.nii.zip?dl=1\n",
            "Resolving www.dropbox.com (www.dropbox.com)... 162.125.3.1, 2620:100:6018:1::a27d:301\n",
            "Connecting to www.dropbox.com (www.dropbox.com)|162.125.3.1|:443... connected.\n",
            "HTTP request sent, awaiting response... 301 Moved Permanently\n",
            "Location: /s/dl/tz0g8bzfik570h7/icbm_avg_152_t2_tal_lin.nii.zip [following]\n",
            "--2020-06-13 22:33:13--  https://www.dropbox.com/s/dl/tz0g8bzfik570h7/icbm_avg_152_t2_tal_lin.nii.zip\n",
            "Reusing existing connection to www.dropbox.com:443.\n",
            "HTTP request sent, awaiting response... 302 Found\n",
            "Location: https://ucdc90807cc3f49bfd979d794567.dl.dropboxusercontent.com/cd/0/get/A5krr5O8NohrrSvT1IsvdAf_HPfpCgp8FGgKK6JBYObWSHfLJeQX96T6fm3cuwFkbGoKgL54pSlGfMJoAoWBAVVD8CBXuewzalt07pZxmjA0HuJy94LvSTj8SZ__xba3lLo/file?dl=1# [following]\n",
            "--2020-06-13 22:33:14--  https://ucdc90807cc3f49bfd979d794567.dl.dropboxusercontent.com/cd/0/get/A5krr5O8NohrrSvT1IsvdAf_HPfpCgp8FGgKK6JBYObWSHfLJeQX96T6fm3cuwFkbGoKgL54pSlGfMJoAoWBAVVD8CBXuewzalt07pZxmjA0HuJy94LvSTj8SZ__xba3lLo/file?dl=1\n",
            "Resolving ucdc90807cc3f49bfd979d794567.dl.dropboxusercontent.com (ucdc90807cc3f49bfd979d794567.dl.dropboxusercontent.com)... 162.125.3.15, 2620:100:6018:15::a27d:30f\n",
            "Connecting to ucdc90807cc3f49bfd979d794567.dl.dropboxusercontent.com (ucdc90807cc3f49bfd979d794567.dl.dropboxusercontent.com)|162.125.3.15|:443... connected.\n",
            "HTTP request sent, awaiting response... 200 OK\n",
            "Length: 13550902 (13M) [application/binary]\n",
            "Saving to: ‘./icbm152t2.zip’\n",
            "\n",
            "./icbm152t2.zip     100%[===================>]  12.92M  74.4MB/s    in 0.2s    \n",
            "\n",
            "2020-06-13 22:33:15 (74.4 MB/s) - ‘./icbm152t2.zip’ saved [13550902/13550902]\n",
            "\n",
            "replace icbm_avg_152_t2_tal_lin.nii? [y]es, [n]o, [A]ll, [N]one, [r]ename: N\n"
          ],
          "name": "stdout"
        }
      ]
    },
    {
      "cell_type": "code",
      "metadata": {
        "id": "20qqIk8difTI",
        "colab_type": "code",
        "colab": {}
      },
      "source": [
        "NIFTI_PATH = 'testers/codel/'"
      ],
      "execution_count": 0,
      "outputs": []
    },
    {
      "cell_type": "code",
      "metadata": {
        "id": "j38us7CGZJGr",
        "colab_type": "code",
        "colab": {}
      },
      "source": [
        "import gzip\n",
        "import shutil\n",
        "import os\n",
        "import fnmatch"
      ],
      "execution_count": 0,
      "outputs": []
    },
    {
      "cell_type": "code",
      "metadata": {
        "id": "zzmthqc5ifNW",
        "colab_type": "code",
        "colab": {}
      },
      "source": [
        "os.environ['FSLOUTPUTTYPE'] = 'NIFTI_GZ'"
      ],
      "execution_count": 0,
      "outputs": []
    },
    {
      "cell_type": "code",
      "metadata": {
        "id": "O2yiIYobTAby",
        "colab_type": "code",
        "outputId": "1c8c015d-d73a-465a-dce7-d396b0e37768",
        "colab": {
          "base_uri": "https://localhost:8080/",
          "height": 51
        }
      },
      "source": [
        "for subj in os.listdir(NIFTI_PATH):\n",
        "    subj_path = os.path.join(NIFTI_PATH, subj)\n",
        "    print (\"Working on \" + subj_path)\n",
        "    series = fnmatch.filter(os.listdir(subj_path), '*.nii')\n",
        "    for ser in ['T2.nii']: \n",
        "      nativenii_file = os.path.join (subj_path, ser)\n",
        "      newniigz_file = os.path.join (subj_path, ser)\n",
        "      with open(nativenii_file, 'rb') as f_in:\n",
        "        with gzip.open(newniigz_file + '.gz', 'wb') as f_out:\n",
        "          shutil.copyfileobj(f_in, f_out)\n",
        "        \n"
      ],
      "execution_count": 7,
      "outputs": [
        {
          "output_type": "stream",
          "text": [
            "Working on testers/codel/Patient1\n",
            "Working on testers/codel/Patient2\n"
          ],
          "name": "stdout"
        }
      ]
    },
    {
      "cell_type": "code",
      "metadata": {
        "id": "M2yAtE3olH1y",
        "colab_type": "code",
        "outputId": "3e888e91-9a26-4dba-bee8-0034332563d8",
        "colab": {
          "base_uri": "https://localhost:8080/",
          "height": 85
        }
      },
      "source": [
        "for subj in os.listdir(NIFTI_PATH):\n",
        "    subj_path = os.path.join(NIFTI_PATH, subj)\n",
        "    print (\"Working on \" + subj_path)\n",
        "    series = fnmatch.filter(os.listdir(subj_path), '*.nii')\n",
        "    for ser in ['T2.nii']: \n",
        "        niinative_file = os.path.join (subj_path, ser)\n",
        "# removes old files\n",
        "        \n",
        "        cmd = os.remove(niinative_file)\n",
        "        \n",
        "        print (cmd)"
      ],
      "execution_count": 8,
      "outputs": [
        {
          "output_type": "stream",
          "text": [
            "Working on testers/codel/Patient1\n",
            "None\n",
            "Working on testers/codel/Patient2\n",
            "None\n"
          ],
          "name": "stdout"
        }
      ]
    },
    {
      "cell_type": "code",
      "metadata": {
        "id": "6-nP6WQgqXXu",
        "colab_type": "code",
        "colab": {}
      },
      "source": [
        "NIFTI_PATH = 'testers/no'"
      ],
      "execution_count": 0,
      "outputs": []
    },
    {
      "cell_type": "code",
      "metadata": {
        "id": "ZqZnZDH5qYVb",
        "colab_type": "code",
        "outputId": "24f264f7-c15e-473f-9cfc-6c22f3a213c1",
        "colab": {
          "base_uri": "https://localhost:8080/",
          "height": 51
        }
      },
      "source": [
        "for subj in os.listdir(NIFTI_PATH):\n",
        "    subj_path = os.path.join(NIFTI_PATH, subj)\n",
        "    print (\"Working on \" + subj_path)\n",
        "    series = fnmatch.filter(os.listdir(subj_path), '*.nii')\n",
        "    for ser in ['T2.nii']: \n",
        "      nativenii_file = os.path.join (subj_path, ser)\n",
        "      newniigz_file = os.path.join (subj_path, ser)\n",
        "      with open(nativenii_file, 'rb') as f_in:\n",
        "        with gzip.open(newniigz_file + '.gz', 'wb') as f_out:\n",
        "          shutil.copyfileobj(f_in, f_out)\n",
        "        "
      ],
      "execution_count": 10,
      "outputs": [
        {
          "output_type": "stream",
          "text": [
            "Working on testers/no/Patient1\n",
            "Working on testers/no/Patient2\n"
          ],
          "name": "stdout"
        }
      ]
    },
    {
      "cell_type": "code",
      "metadata": {
        "id": "aqsxAO0PqYH9",
        "colab_type": "code",
        "outputId": "423bd9d5-2a26-47a3-b29a-f9cc1831e34a",
        "colab": {
          "base_uri": "https://localhost:8080/",
          "height": 85
        }
      },
      "source": [
        "for subj in os.listdir(NIFTI_PATH):\n",
        "    subj_path = os.path.join(NIFTI_PATH, subj)\n",
        "    print (\"Working on \" + subj_path)\n",
        "    series = fnmatch.filter(os.listdir(subj_path), '*.nii')\n",
        "    for ser in ['T2.nii']: \n",
        "        niinative_file = os.path.join (subj_path, ser)\n",
        "# removes old files\n",
        "        \n",
        "        cmd = os.remove(niinative_file)\n",
        "        \n",
        "        print (cmd)"
      ],
      "execution_count": 11,
      "outputs": [
        {
          "output_type": "stream",
          "text": [
            "Working on testers/no/Patient1\n",
            "None\n",
            "Working on testers/no/Patient2\n",
            "None\n"
          ],
          "name": "stdout"
        }
      ]
    },
    {
      "cell_type": "code",
      "metadata": {
        "id": "ZWsiOlB3qfvR",
        "colab_type": "code",
        "colab": {}
      },
      "source": [
        "NIFTI_PATH = 'testers/codel/'"
      ],
      "execution_count": 0,
      "outputs": []
    },
    {
      "cell_type": "code",
      "metadata": {
        "id": "mVXVKzU4ifK0",
        "colab_type": "code",
        "outputId": "4cce7156-a13a-477f-8394-fe95839fb2ef",
        "colab": {
          "base_uri": "https://localhost:8080/",
          "height": 85
        }
      },
      "source": [
        "for subj in os.listdir(NIFTI_PATH):\n",
        "    subj_path = os.path.join(NIFTI_PATH, subj)\n",
        "    print (\"Working on \" + subj_path)\n",
        "    series = fnmatch.filter(os.listdir(subj_path), '*.nii.gz')\n",
        "    for ser in ['T2']: #not sure why I had to add the star here but this was the only way it worked\n",
        "        nii_file = os.path.join (subj_path, ser)\n",
        "# First, perform N4 bias correction. Not required, but may improve results. Also must track new names\n",
        "        new_file = os.path.join (subj_path, 'N4-' + ser)\n",
        "        cmd = \"./N4BiasFieldCorrection -i %s.nii.gz -o %s.nii.gz\" % (nii_file, new_file)\n",
        "        os.system(cmd)\n",
        "        print (cmd)"
      ],
      "execution_count": 13,
      "outputs": [
        {
          "output_type": "stream",
          "text": [
            "Working on testers/codel/Patient1\n",
            "./N4BiasFieldCorrection -i testers/codel/Patient1/T2.nii.gz -o testers/codel/Patient1/N4-T2.nii.gz\n",
            "Working on testers/codel/Patient2\n",
            "./N4BiasFieldCorrection -i testers/codel/Patient2/T2.nii.gz -o testers/codel/Patient2/N4-T2.nii.gz\n"
          ],
          "name": "stdout"
        }
      ]
    },
    {
      "cell_type": "code",
      "metadata": {
        "id": "xMf-kqTEx5B_",
        "colab_type": "code",
        "outputId": "dc983778-6a84-4153-d146-7b2114db0c8b",
        "colab": {
          "base_uri": "https://localhost:8080/",
          "height": 85
        }
      },
      "source": [
        "for subj in os.listdir(NIFTI_PATH):\n",
        "    subj_path = os.path.join(NIFTI_PATH, subj)\n",
        "    print (\"Working on \" + subj_path)\n",
        "    series = fnmatch.filter(os.listdir(subj_path), '*.nii.gz')\n",
        "    for ser in ['T2.nii.gz']: #not sure why I had to add the star here but this was the only way it worked\n",
        "        nii_file = os.path.join (subj_path, ser)\n",
        "# removes old files\n",
        "        \n",
        "        cmd = os.remove(nii_file)\n",
        "        \n",
        "        print (cmd)"
      ],
      "execution_count": 14,
      "outputs": [
        {
          "output_type": "stream",
          "text": [
            "Working on testers/codel/Patient1\n",
            "None\n",
            "Working on testers/codel/Patient2\n",
            "None\n"
          ],
          "name": "stdout"
        }
      ]
    },
    {
      "cell_type": "code",
      "metadata": {
        "id": "fTvuq8eBqmvg",
        "colab_type": "code",
        "colab": {}
      },
      "source": [
        "NIFTI_PATH = 'testers/no/'"
      ],
      "execution_count": 0,
      "outputs": []
    },
    {
      "cell_type": "code",
      "metadata": {
        "id": "UdPHMOYqqmmt",
        "colab_type": "code",
        "outputId": "0d78c2bb-0bb0-45ed-bb06-f593ff6ac3be",
        "colab": {
          "base_uri": "https://localhost:8080/",
          "height": 85
        }
      },
      "source": [
        "for subj in os.listdir(NIFTI_PATH):\n",
        "    subj_path = os.path.join(NIFTI_PATH, subj)\n",
        "    print (\"Working on \" + subj_path)\n",
        "    series = fnmatch.filter(os.listdir(subj_path), '*.nii.gz')\n",
        "    for ser in ['T2']: #not sure why I had to add the star here but this was the only way it worked\n",
        "        nii_file = os.path.join (subj_path, ser)\n",
        "# First, perform N4 bias correction. Not required, but may improve results. Also must track new names\n",
        "        new_file = os.path.join (subj_path, 'N4-' + ser)\n",
        "        cmd = \"./N4BiasFieldCorrection -i %s.nii.gz -o %s.nii.gz\" % (nii_file, new_file)\n",
        "        os.system(cmd)\n",
        "        print (cmd)"
      ],
      "execution_count": 16,
      "outputs": [
        {
          "output_type": "stream",
          "text": [
            "Working on testers/no/Patient1\n",
            "./N4BiasFieldCorrection -i testers/no/Patient1/T2.nii.gz -o testers/no/Patient1/N4-T2.nii.gz\n",
            "Working on testers/no/Patient2\n",
            "./N4BiasFieldCorrection -i testers/no/Patient2/T2.nii.gz -o testers/no/Patient2/N4-T2.nii.gz\n"
          ],
          "name": "stdout"
        }
      ]
    },
    {
      "cell_type": "code",
      "metadata": {
        "id": "VtoBFYnwqmdk",
        "colab_type": "code",
        "outputId": "b6bd5458-6739-4f78-d123-1ce2ceba2c40",
        "colab": {
          "base_uri": "https://localhost:8080/",
          "height": 85
        }
      },
      "source": [
        "for subj in os.listdir(NIFTI_PATH):\n",
        "    subj_path = os.path.join(NIFTI_PATH, subj)\n",
        "    print (\"Working on \" + subj_path)\n",
        "    series = fnmatch.filter(os.listdir(subj_path), '*.nii.gz')\n",
        "    for ser in ['T2.nii.gz']: #not sure why I had to add the star here but this was the only way it worked\n",
        "        nii_file = os.path.join (subj_path, ser)\n",
        "# removes old files\n",
        "        \n",
        "        cmd = os.remove(nii_file)\n",
        "        \n",
        "        print (cmd)"
      ],
      "execution_count": 17,
      "outputs": [
        {
          "output_type": "stream",
          "text": [
            "Working on testers/no/Patient1\n",
            "None\n",
            "Working on testers/no/Patient2\n",
            "None\n"
          ],
          "name": "stdout"
        }
      ]
    },
    {
      "cell_type": "code",
      "metadata": {
        "id": "sxlviDkNqukH",
        "colab_type": "code",
        "colab": {}
      },
      "source": [
        "NIFTI_PATH = 'testers/codel/'"
      ],
      "execution_count": 0,
      "outputs": []
    },
    {
      "cell_type": "code",
      "metadata": {
        "id": "ifEYCCSdifFL",
        "colab_type": "code",
        "outputId": "a7d7321e-9417-42bd-fb1e-4d3109d89133",
        "colab": {
          "base_uri": "https://localhost:8080/",
          "height": 105
        }
      },
      "source": [
        "# Next, Register the images to the avg 152 t1 image from MNI\n",
        "for subj in os.listdir(NIFTI_PATH):\n",
        "    subj_path = os.path.join(NIFTI_PATH, subj)\n",
        "    print (\"Working on \" + subj_path)\n",
        "    series = fnmatch.filter(os.listdir(subj_path), 'N4-*')\n",
        "    for ser in ['T2']:   \n",
        "        MNI_file = './icbm_avg_152_t2_tal_lin.nii'\n",
        "        T1_file =  os.path.join (subj_path, 'N4-T2*.nii.gz')\n",
        "        new_file = os.path.join (subj_path, 'Reg-N4-T2.nii.gz')\n",
        "        cmd = \"./flirt -in %s -ref %s  -out %s\" % (T1_file, MNI_file, new_file)\n",
        "        os.system(cmd)\n",
        "        print (cmd)\n",
        "\n"
      ],
      "execution_count": 19,
      "outputs": [
        {
          "output_type": "stream",
          "text": [
            "Working on testers/codel/Patient1\n",
            "./flirt -in testers/codel/Patient1/N4-T2*.nii.gz -ref ./icbm_avg_152_t2_tal_lin.nii  -out testers/codel/Patient1/Reg-N4-T2.nii.gz\n",
            "Working on testers/codel/Patient2\n",
            "./flirt -in testers/codel/Patient2/N4-T2*.nii.gz -ref ./icbm_avg_152_t2_tal_lin.nii  -out testers/codel/Patient2/Reg-N4-T2.nii.gz\n"
          ],
          "name": "stdout"
        }
      ]
    },
    {
      "cell_type": "code",
      "metadata": {
        "id": "VCGXSrEQlcBJ",
        "colab_type": "code",
        "colab": {
          "base_uri": "https://localhost:8080/",
          "height": 85
        },
        "outputId": "49ad7719-2624-4e63-c060-8e94b48de0b2"
      },
      "source": [
        "for subj in os.listdir(NIFTI_PATH):\n",
        "    subj_path = os.path.join(NIFTI_PATH, subj)\n",
        "    print (\"Working on \" + subj_path)\n",
        "    series = fnmatch.filter(os.listdir(subj_path), '*.nii.gz')\n",
        "    for ser in ['N4-T2.nii.gz']: #not sure why I had to add the star here but this was the only way it worked\n",
        "        nii_file = os.path.join (subj_path, ser)\n",
        "# removes old files\n",
        "        \n",
        "        cmd = os.remove(nii_file)\n",
        "        \n",
        "        print (cmd)"
      ],
      "execution_count": 20,
      "outputs": [
        {
          "output_type": "stream",
          "text": [
            "Working on testers/codel/Patient1\n",
            "None\n",
            "Working on testers/codel/Patient2\n",
            "None\n"
          ],
          "name": "stdout"
        }
      ]
    },
    {
      "cell_type": "code",
      "metadata": {
        "id": "J-YAFnk3qJEt",
        "colab_type": "code",
        "colab": {}
      },
      "source": [
        "NIFTI_PATH = 'testers/no/'"
      ],
      "execution_count": 0,
      "outputs": []
    },
    {
      "cell_type": "code",
      "metadata": {
        "id": "OM7Ao_rSqI_u",
        "colab_type": "code",
        "outputId": "77a67a62-e976-4850-f1b9-9b83a0297e60",
        "colab": {
          "base_uri": "https://localhost:8080/",
          "height": 105
        }
      },
      "source": [
        "# Next, Register the images to the avg 152 t1 image from MNI\n",
        "for subj in os.listdir(NIFTI_PATH):\n",
        "    subj_path = os.path.join(NIFTI_PATH, subj)\n",
        "    print (\"Working on \" + subj_path)\n",
        "    series = fnmatch.filter(os.listdir(subj_path), 'N4-*')\n",
        "    for ser in ['T2']:   \n",
        "        MNI_file = './icbm_avg_152_t2_tal_lin.nii'\n",
        "        T1_file =  os.path.join (subj_path, 'N4-T2*.nii.gz')\n",
        "        new_file = os.path.join (subj_path, 'Reg-N4-T2.nii.gz')\n",
        "        cmd = \"./flirt -in %s -ref %s  -out %s\" % (T1_file, MNI_file, new_file)\n",
        "        os.system(cmd)\n",
        "        print (cmd)\n",
        "\n"
      ],
      "execution_count": 22,
      "outputs": [
        {
          "output_type": "stream",
          "text": [
            "Working on testers/no/Patient1\n",
            "./flirt -in testers/no/Patient1/N4-T2*.nii.gz -ref ./icbm_avg_152_t2_tal_lin.nii  -out testers/no/Patient1/Reg-N4-T2.nii.gz\n",
            "Working on testers/no/Patient2\n",
            "./flirt -in testers/no/Patient2/N4-T2*.nii.gz -ref ./icbm_avg_152_t2_tal_lin.nii  -out testers/no/Patient2/Reg-N4-T2.nii.gz\n"
          ],
          "name": "stdout"
        }
      ]
    },
    {
      "cell_type": "code",
      "metadata": {
        "id": "hdXsWn67lgUl",
        "colab_type": "code",
        "colab": {
          "base_uri": "https://localhost:8080/",
          "height": 85
        },
        "outputId": "64bb0c03-2a5e-4381-832d-c30d423fcded"
      },
      "source": [
        "for subj in os.listdir(NIFTI_PATH):\n",
        "    subj_path = os.path.join(NIFTI_PATH, subj)\n",
        "    print (\"Working on \" + subj_path)\n",
        "    series = fnmatch.filter(os.listdir(subj_path), '*.nii.gz')\n",
        "    for ser in ['N4-T2.nii.gz']: #not sure why I had to add the star here but this was the only way it worked\n",
        "        nii_file = os.path.join (subj_path, ser)\n",
        "# removes old files\n",
        "        \n",
        "        cmd = os.remove(nii_file)\n",
        "        \n",
        "        print (cmd)"
      ],
      "execution_count": 23,
      "outputs": [
        {
          "output_type": "stream",
          "text": [
            "Working on testers/no/Patient1\n",
            "None\n",
            "Working on testers/no/Patient2\n",
            "None\n"
          ],
          "name": "stdout"
        }
      ]
    },
    {
      "cell_type": "code",
      "metadata": {
        "id": "uvk_XIQLWaGn",
        "colab_type": "code",
        "outputId": "0c7d69fd-dd43-4e50-ed05-1e3af687f891",
        "colab": {
          "base_uri": "https://localhost:8080/",
          "height": 34
        }
      },
      "source": [
        "!git clone https://github.com/MIC-DKFZ/HD-BET\n",
        "\n",
        "\n"
      ],
      "execution_count": 24,
      "outputs": [
        {
          "output_type": "stream",
          "text": [
            "fatal: destination path 'HD-BET' already exists and is not an empty directory.\n"
          ],
          "name": "stdout"
        }
      ]
    },
    {
      "cell_type": "code",
      "metadata": {
        "id": "4BfLHJf4L1cv",
        "colab_type": "code",
        "colab": {
          "base_uri": "https://localhost:8080/",
          "height": 445
        },
        "outputId": "e73e81c1-84b0-434a-80e0-b4f741085c15"
      },
      "source": [
        "%cd HD-BET\n",
        "! pip install -e ."
      ],
      "execution_count": 25,
      "outputs": [
        {
          "output_type": "stream",
          "text": [
            "/content/HD-BET\n",
            "Obtaining file:///content/HD-BET\n",
            "Requirement already satisfied: numpy in /usr/local/lib/python3.6/dist-packages (from HD-BET==1.0) (1.18.5)\n",
            "Requirement already satisfied: torch>=0.4.1 in /usr/local/lib/python3.6/dist-packages (from HD-BET==1.0) (1.5.0+cu101)\n",
            "Requirement already satisfied: scikit-image in /usr/local/lib/python3.6/dist-packages (from HD-BET==1.0) (0.16.2)\n",
            "Requirement already satisfied: SimpleITK in /usr/local/lib/python3.6/dist-packages (from HD-BET==1.0) (1.2.4)\n",
            "Requirement already satisfied: future in /usr/local/lib/python3.6/dist-packages (from torch>=0.4.1->HD-BET==1.0) (0.16.0)\n",
            "Requirement already satisfied: matplotlib!=3.0.0,>=2.0.0 in /usr/local/lib/python3.6/dist-packages (from scikit-image->HD-BET==1.0) (3.2.1)\n",
            "Requirement already satisfied: scipy>=0.19.0 in /usr/local/lib/python3.6/dist-packages (from scikit-image->HD-BET==1.0) (1.4.1)\n",
            "Requirement already satisfied: imageio>=2.3.0 in /usr/local/lib/python3.6/dist-packages (from scikit-image->HD-BET==1.0) (2.4.1)\n",
            "Requirement already satisfied: PyWavelets>=0.4.0 in /usr/local/lib/python3.6/dist-packages (from scikit-image->HD-BET==1.0) (1.1.1)\n",
            "Requirement already satisfied: pillow>=4.3.0 in /usr/local/lib/python3.6/dist-packages (from scikit-image->HD-BET==1.0) (7.0.0)\n",
            "Requirement already satisfied: networkx>=2.0 in /usr/local/lib/python3.6/dist-packages (from scikit-image->HD-BET==1.0) (2.4)\n",
            "Requirement already satisfied: kiwisolver>=1.0.1 in /usr/local/lib/python3.6/dist-packages (from matplotlib!=3.0.0,>=2.0.0->scikit-image->HD-BET==1.0) (1.2.0)\n",
            "Requirement already satisfied: pyparsing!=2.0.4,!=2.1.2,!=2.1.6,>=2.0.1 in /usr/local/lib/python3.6/dist-packages (from matplotlib!=3.0.0,>=2.0.0->scikit-image->HD-BET==1.0) (2.4.7)\n",
            "Requirement already satisfied: cycler>=0.10 in /usr/local/lib/python3.6/dist-packages (from matplotlib!=3.0.0,>=2.0.0->scikit-image->HD-BET==1.0) (0.10.0)\n",
            "Requirement already satisfied: python-dateutil>=2.1 in /usr/local/lib/python3.6/dist-packages (from matplotlib!=3.0.0,>=2.0.0->scikit-image->HD-BET==1.0) (2.8.1)\n",
            "Requirement already satisfied: decorator>=4.3.0 in /usr/local/lib/python3.6/dist-packages (from networkx>=2.0->scikit-image->HD-BET==1.0) (4.4.2)\n",
            "Requirement already satisfied: six in /usr/local/lib/python3.6/dist-packages (from cycler>=0.10->matplotlib!=3.0.0,>=2.0.0->scikit-image->HD-BET==1.0) (1.12.0)\n",
            "Installing collected packages: HD-BET\n",
            "  Found existing installation: HD-BET 1.0\n",
            "    Can't uninstall 'HD-BET'. No files were found to uninstall.\n",
            "  Running setup.py develop for HD-BET\n",
            "Successfully installed HD-BET\n"
          ],
          "name": "stdout"
        }
      ]
    },
    {
      "cell_type": "code",
      "metadata": {
        "id": "pSBonQrtiD5g",
        "colab_type": "code",
        "colab": {
          "base_uri": "https://localhost:8080/",
          "height": 34
        },
        "outputId": "83f7426e-f384-413a-d227-8d355ff81e3c"
      },
      "source": [
        "%cd '/content/'"
      ],
      "execution_count": 26,
      "outputs": [
        {
          "output_type": "stream",
          "text": [
            "/content\n"
          ],
          "name": "stdout"
        }
      ]
    },
    {
      "cell_type": "code",
      "metadata": {
        "id": "iipf20PgL4bf",
        "colab_type": "code",
        "colab": {
          "base_uri": "https://localhost:8080/",
          "height": 51
        },
        "outputId": "469ed733-eb5d-4cb1-b4cc-13f526e3f776"
      },
      "source": [
        "#iterate through all patients in no (then add codels)\n",
        "\n",
        "for subj in os.listdir(NIFTI_PATH):\n",
        "    subj_path = os.path.join(NIFTI_PATH, subj)\n",
        "    #print (\"Working on \" + subj_path)\n",
        "    series = fnmatch.filter(os.listdir(subj_path), 'Reg-N4-*')\n",
        "    for ser in series:  \n",
        "      name = (os.path.join(\"!hd-bet -i \" + subj_path + \"/\" + ser))\n",
        "      print(name)\n",
        "      \n",
        "  "
      ],
      "execution_count": 27,
      "outputs": [
        {
          "output_type": "stream",
          "text": [
            "!hd-bet -i testers/no/Patient1/Reg-N4-T2.nii.gz\n",
            "!hd-bet -i testers/no/Patient2/Reg-N4-T2.nii.gz\n"
          ],
          "name": "stdout"
        }
      ]
    },
    {
      "cell_type": "code",
      "metadata": {
        "id": "NaYaEVIOik4b",
        "colab_type": "code",
        "colab": {
          "base_uri": "https://localhost:8080/",
          "height": 683
        },
        "outputId": "9c377f5c-da01-4a21-8017-cd39a425f297"
      },
      "source": [
        "!hd-bet -i testers/no/Patient1/Reg-N4-T2.nii.gz\n",
        "!hd-bet -i testers/no/Patient2/Reg-N4-T2.nii.gz\n"
      ],
      "execution_count": 28,
      "outputs": [
        {
          "output_type": "stream",
          "text": [
            "\n",
            "########################\n",
            "If you are using hd-bet, please cite the following paper:\n",
            "Isensee F, Schell M, Tursunova I, Brugnara G, Bonekamp D, Neuberger U, Wick A, Schlemmer HP, Heiland S, Wick W,Bendszus M, Maier-Hein KH, Kickingereder P. Automated brain extraction of multi-sequence MRI using artificialneural networks. arXiv preprint arXiv:1901.11341, 2019.\n",
            "########################\n",
            "\n",
            "File: testers/no/Patient1/Reg-N4-T2.nii.gz\n",
            "preprocessing...\n",
            "image shape after preprocessing:  (121, 145, 121)\n",
            "prediction (CNN id)...\n",
            "0\n",
            "1\n",
            "2\n",
            "3\n",
            "4\n",
            "running postprocessing... \n",
            "/content/HD-BET/HD_BET/utils.py:74: UserWarning: The argument 'neighbors' is deprecated and will be removed in scikit-image 0.18, use 'connectivity' instead. For neighbors=8, use connectivity=3\n",
            "  lbls = label(mask, 8)\n",
            "exporting segmentation...\n",
            "\n",
            "########################\n",
            "If you are using hd-bet, please cite the following paper:\n",
            "Isensee F, Schell M, Tursunova I, Brugnara G, Bonekamp D, Neuberger U, Wick A, Schlemmer HP, Heiland S, Wick W,Bendszus M, Maier-Hein KH, Kickingereder P. Automated brain extraction of multi-sequence MRI using artificialneural networks. arXiv preprint arXiv:1901.11341, 2019.\n",
            "########################\n",
            "\n",
            "File: testers/no/Patient2/Reg-N4-T2.nii.gz\n",
            "preprocessing...\n",
            "image shape after preprocessing:  (121, 145, 121)\n",
            "prediction (CNN id)...\n",
            "0\n",
            "1\n",
            "2\n",
            "3\n",
            "4\n",
            "running postprocessing... \n",
            "/content/HD-BET/HD_BET/utils.py:74: UserWarning: The argument 'neighbors' is deprecated and will be removed in scikit-image 0.18, use 'connectivity' instead. For neighbors=8, use connectivity=3\n",
            "  lbls = label(mask, 8)\n",
            "exporting segmentation...\n"
          ],
          "name": "stdout"
        }
      ]
    },
    {
      "cell_type": "markdown",
      "metadata": {
        "id": "8OY7AohjMNtB",
        "colab_type": "text"
      },
      "source": [
        "COPY PASTE the output and run\n",
        "NOW delete all the mask files"
      ]
    },
    {
      "cell_type": "code",
      "metadata": {
        "id": "I0hGyPmeqyP3",
        "colab_type": "code",
        "colab": {
          "base_uri": "https://localhost:8080/",
          "height": 85
        },
        "outputId": "e2d3b757-de48-46d1-b14a-d73b416b62c0"
      },
      "source": [
        "for subj in os.listdir(NIFTI_PATH):\n",
        "    subj_path = os.path.join(NIFTI_PATH, subj)\n",
        "    print (\"Working on \" + subj_path)\n",
        "    series = fnmatch.filter(os.listdir(subj_path), '*.nii.gz')\n",
        "    for ser in ['Reg-N4-T2.nii.gz']: #not sure why I had to add the star here but this was the only way it worked\n",
        "        nii_file = os.path.join (subj_path, ser)\n",
        "# removes old files\n",
        "        \n",
        "        cmd = os.remove(nii_file)\n",
        "        \n",
        "        print (cmd)"
      ],
      "execution_count": 29,
      "outputs": [
        {
          "output_type": "stream",
          "text": [
            "Working on testers/no/Patient1\n",
            "None\n",
            "Working on testers/no/Patient2\n",
            "None\n"
          ],
          "name": "stdout"
        }
      ]
    },
    {
      "cell_type": "code",
      "metadata": {
        "id": "BCgoFzGXradY",
        "colab_type": "code",
        "colab": {
          "base_uri": "https://localhost:8080/",
          "height": 85
        },
        "outputId": "5c5c2065-01e8-40f3-d844-e00f803e7e8f"
      },
      "source": [
        "for subj in os.listdir(NIFTI_PATH):\n",
        "    subj_path = os.path.join(NIFTI_PATH, subj)\n",
        "    print (\"Working on \" + subj_path)\n",
        "    series = fnmatch.filter(os.listdir(subj_path), '*.nii.gz')\n",
        "    for ser in ['Reg-N4-T2_bet_mask.nii.gz']: #not sure why I had to add the star here but this was the only way it worked\n",
        "        nii_file = os.path.join (subj_path, ser)\n",
        "# removes old files\n",
        "        \n",
        "        cmd = os.remove(nii_file)\n",
        "        \n",
        "        print (cmd)"
      ],
      "execution_count": 30,
      "outputs": [
        {
          "output_type": "stream",
          "text": [
            "Working on testers/no/Patient1\n",
            "None\n",
            "Working on testers/no/Patient2\n",
            "None\n"
          ],
          "name": "stdout"
        }
      ]
    },
    {
      "cell_type": "code",
      "metadata": {
        "id": "jICxJbv9NEkI",
        "colab_type": "code",
        "colab": {}
      },
      "source": [
        "NIFTI_PATH = 'testers/codel/'"
      ],
      "execution_count": 0,
      "outputs": []
    },
    {
      "cell_type": "code",
      "metadata": {
        "id": "SqIGOmGUNJOj",
        "colab_type": "code",
        "colab": {
          "base_uri": "https://localhost:8080/",
          "height": 51
        },
        "outputId": "7a3b3232-7608-4fff-fc9a-e80fa4cd4abf"
      },
      "source": [
        "#iterate through all patients in codel\n",
        "\n",
        "for subj in os.listdir(NIFTI_PATH):\n",
        "    subj_path = os.path.join(NIFTI_PATH, subj)\n",
        "    #print (\"Working on \" + subj_path)\n",
        "    series = fnmatch.filter(os.listdir(subj_path), 'Reg-N4-*')\n",
        "    for ser in series:  \n",
        "      name = (os.path.join(\"!hd-bet -i \" + subj_path + \"/\" + ser))\n",
        "      print(name)\n",
        "      \n",
        "  "
      ],
      "execution_count": 32,
      "outputs": [
        {
          "output_type": "stream",
          "text": [
            "!hd-bet -i testers/codel/Patient1/Reg-N4-T2.nii.gz\n",
            "!hd-bet -i testers/codel/Patient2/Reg-N4-T2.nii.gz\n"
          ],
          "name": "stdout"
        }
      ]
    },
    {
      "cell_type": "markdown",
      "metadata": {
        "id": "ebJ1IP6UNOuy",
        "colab_type": "text"
      },
      "source": [
        "COPY PASTE the output and run NOW delete all the mask files\n"
      ]
    },
    {
      "cell_type": "code",
      "metadata": {
        "id": "j4aHI_sbrzG4",
        "colab_type": "code",
        "colab": {
          "base_uri": "https://localhost:8080/",
          "height": 683
        },
        "outputId": "498148bb-66f9-4243-a267-2c1af8c0f9d0"
      },
      "source": [
        "!hd-bet -i testers/codel/Patient1/Reg-N4-T2.nii.gz\n",
        "!hd-bet -i testers/codel/Patient2/Reg-N4-T2.nii.gz"
      ],
      "execution_count": 33,
      "outputs": [
        {
          "output_type": "stream",
          "text": [
            "\n",
            "########################\n",
            "If you are using hd-bet, please cite the following paper:\n",
            "Isensee F, Schell M, Tursunova I, Brugnara G, Bonekamp D, Neuberger U, Wick A, Schlemmer HP, Heiland S, Wick W,Bendszus M, Maier-Hein KH, Kickingereder P. Automated brain extraction of multi-sequence MRI using artificialneural networks. arXiv preprint arXiv:1901.11341, 2019.\n",
            "########################\n",
            "\n",
            "File: testers/codel/Patient1/Reg-N4-T2.nii.gz\n",
            "preprocessing...\n",
            "image shape after preprocessing:  (121, 145, 121)\n",
            "prediction (CNN id)...\n",
            "0\n",
            "1\n",
            "2\n",
            "3\n",
            "4\n",
            "running postprocessing... \n",
            "/content/HD-BET/HD_BET/utils.py:74: UserWarning: The argument 'neighbors' is deprecated and will be removed in scikit-image 0.18, use 'connectivity' instead. For neighbors=8, use connectivity=3\n",
            "  lbls = label(mask, 8)\n",
            "exporting segmentation...\n",
            "\n",
            "########################\n",
            "If you are using hd-bet, please cite the following paper:\n",
            "Isensee F, Schell M, Tursunova I, Brugnara G, Bonekamp D, Neuberger U, Wick A, Schlemmer HP, Heiland S, Wick W,Bendszus M, Maier-Hein KH, Kickingereder P. Automated brain extraction of multi-sequence MRI using artificialneural networks. arXiv preprint arXiv:1901.11341, 2019.\n",
            "########################\n",
            "\n",
            "File: testers/codel/Patient2/Reg-N4-T2.nii.gz\n",
            "preprocessing...\n",
            "image shape after preprocessing:  (121, 145, 121)\n",
            "prediction (CNN id)...\n",
            "0\n",
            "1\n",
            "2\n",
            "3\n",
            "4\n",
            "running postprocessing... \n",
            "/content/HD-BET/HD_BET/utils.py:74: UserWarning: The argument 'neighbors' is deprecated and will be removed in scikit-image 0.18, use 'connectivity' instead. For neighbors=8, use connectivity=3\n",
            "  lbls = label(mask, 8)\n",
            "exporting segmentation...\n"
          ],
          "name": "stdout"
        }
      ]
    },
    {
      "cell_type": "code",
      "metadata": {
        "id": "RpHx1NwMry_0",
        "colab_type": "code",
        "colab": {
          "base_uri": "https://localhost:8080/",
          "height": 85
        },
        "outputId": "bf7e21b2-8324-4d89-e18e-051f4f3b48bc"
      },
      "source": [
        "for subj in os.listdir(NIFTI_PATH):\n",
        "    subj_path = os.path.join(NIFTI_PATH, subj)\n",
        "    print (\"Working on \" + subj_path)\n",
        "    series = fnmatch.filter(os.listdir(subj_path), '*.nii.gz')\n",
        "    for ser in ['Reg-N4-T2.nii.gz']: #not sure why I had to add the star here but this was the only way it worked\n",
        "        nii_file = os.path.join (subj_path, ser)\n",
        "# removes old files\n",
        "        \n",
        "        cmd = os.remove(nii_file)\n",
        "        \n",
        "        print (cmd)"
      ],
      "execution_count": 34,
      "outputs": [
        {
          "output_type": "stream",
          "text": [
            "Working on testers/codel/Patient1\n",
            "None\n",
            "Working on testers/codel/Patient2\n",
            "None\n"
          ],
          "name": "stdout"
        }
      ]
    },
    {
      "cell_type": "code",
      "metadata": {
        "id": "h4Nwv_r5ryy9",
        "colab_type": "code",
        "colab": {
          "base_uri": "https://localhost:8080/",
          "height": 85
        },
        "outputId": "62268dd3-b271-413a-b093-c03b32957935"
      },
      "source": [
        "for subj in os.listdir(NIFTI_PATH):\n",
        "    subj_path = os.path.join(NIFTI_PATH, subj)\n",
        "    print (\"Working on \" + subj_path)\n",
        "    series = fnmatch.filter(os.listdir(subj_path), '*.nii.gz')\n",
        "    for ser in ['Reg-N4-T2_bet_mask.nii.gz']: #not sure why I had to add the star here but this was the only way it worked\n",
        "        nii_file = os.path.join (subj_path, ser)\n",
        "# removes old files\n",
        "        \n",
        "        cmd = os.remove(nii_file)\n",
        "        \n",
        "        print (cmd)"
      ],
      "execution_count": 35,
      "outputs": [
        {
          "output_type": "stream",
          "text": [
            "Working on testers/codel/Patient1\n",
            "None\n",
            "Working on testers/codel/Patient2\n",
            "None\n"
          ],
          "name": "stdout"
        }
      ]
    },
    {
      "cell_type": "code",
      "metadata": {
        "id": "XwsehPxfuoT3",
        "colab_type": "code",
        "colab": {}
      },
      "source": [
        "   import os\n",
        "   import shutil\n",
        "   import numpy as np\n",
        "   base_dir = '/content/testers'\n",
        "\n",
        "   !mkdir /content/testers/codelval\n",
        "   !mkdir /content/testers/noval"
      ],
      "execution_count": 0,
      "outputs": []
    },
    {
      "cell_type": "code",
      "metadata": {
        "id": "WUk9fqHGORYS",
        "colab_type": "code",
        "outputId": "855bc57b-99f9-4876-833f-0a33db7520d5",
        "colab": {
          "base_uri": "https://localhost:8080/",
          "height": 85
        }
      },
      "source": [
        "sourceN = base_dir + \"/codel\"\n",
        "destN = base_dir + \"/codelval\"\n",
        "sourceP = base_dir + \"/no\"\n",
        "destP = base_dir + \"/noval\"\n",
        "\n",
        "filesN = os.listdir(sourceN)\n",
        "filesP = os.listdir(sourceP)       \n",
        "\n",
        "for f in filesN:\n",
        "  if np.random.rand(1) < 0.3: #is this a 70 30 split? what does it mean exactly?\n",
        "    shutil.move(sourceN + '/'+ f, destN + '/'+ f)\n",
        "\n",
        "for i in filesP:\n",
        "  if np.random.rand(1) < 0.3:\n",
        "    shutil.move(sourceP + '/'+ i, destP + '/'+ i)\n",
        "\n",
        "print(len(os.listdir(sourceN)))\n",
        "print(len(os.listdir(sourceP)))\n",
        "print(len(os.listdir(destN)))\n",
        "print(len(os.listdir(destP)))"
      ],
      "execution_count": 37,
      "outputs": [
        {
          "output_type": "stream",
          "text": [
            "1\n",
            "1\n",
            "1\n",
            "1\n"
          ],
          "name": "stdout"
        }
      ]
    },
    {
      "cell_type": "code",
      "metadata": {
        "id": "OTF40yU7rz-i",
        "colab_type": "code",
        "colab": {}
      },
      "source": [
        "!rm -rf ./LGG/valc2/.ipynb_checkpoints\n",
        "!rm -rf ./LGG/valc1/.ipynb_checkpoints\n",
        "\n",
        "!rm -rf './testers/codelval/.ipynb_checkpoints'\n",
        "!rm -rf './testers/noval/.ipynb_checkpoints'"
      ],
      "execution_count": 0,
      "outputs": []
    },
    {
      "cell_type": "code",
      "metadata": {
        "id": "GC1Uh6W9ie31",
        "colab_type": "code",
        "outputId": "78bd7dcb-b7e6-424f-d2f8-4c4ea1fc9b6e",
        "colab": {
          "base_uri": "https://localhost:8080/",
          "height": 564
        }
      },
      "source": [
        "#make a huge list of thousands of patients here\n",
        "import pandas as pd\n",
        "\n",
        "!wget --no-check-certificate 'https://drive.google.com/uc?export=download&id=1z2GmRDDVMbcb1x26jlA9X0M4WAv4-kvA' -O ./TumorSlices.csv\n",
        "df = pd.read_csv ('./TumorSlices.csv')\n",
        "print (df) "
      ],
      "execution_count": 39,
      "outputs": [
        {
          "output_type": "stream",
          "text": [
            "--2020-06-13 22:46:13--  https://drive.google.com/uc?export=download&id=1z2GmRDDVMbcb1x26jlA9X0M4WAv4-kvA\n",
            "Resolving drive.google.com (drive.google.com)... 172.217.214.138, 172.217.214.139, 172.217.214.102, ...\n",
            "Connecting to drive.google.com (drive.google.com)|172.217.214.138|:443... connected.\n",
            "HTTP request sent, awaiting response... 302 Moved Temporarily\n",
            "Location: https://doc-10-60-docs.googleusercontent.com/docs/securesc/ha0ro937gcuc7l7deffksulhg5h7mbp1/hiqsuna67brtn9hk91q0m8suhm2u1dvv/1592088300000/07380574639032097336/*/1z2GmRDDVMbcb1x26jlA9X0M4WAv4-kvA?e=download [following]\n",
            "Warning: wildcards not supported in HTTP.\n",
            "--2020-06-13 22:46:14--  https://doc-10-60-docs.googleusercontent.com/docs/securesc/ha0ro937gcuc7l7deffksulhg5h7mbp1/hiqsuna67brtn9hk91q0m8suhm2u1dvv/1592088300000/07380574639032097336/*/1z2GmRDDVMbcb1x26jlA9X0M4WAv4-kvA?e=download\n",
            "Resolving doc-10-60-docs.googleusercontent.com (doc-10-60-docs.googleusercontent.com)... 74.125.69.132, 2607:f8b0:4001:c08::84\n",
            "Connecting to doc-10-60-docs.googleusercontent.com (doc-10-60-docs.googleusercontent.com)|74.125.69.132|:443... connected.\n",
            "HTTP request sent, awaiting response... 200 OK\n",
            "Length: 25558 (25K) [text/csv]\n",
            "Saving to: ‘./TumorSlices.csv’\n",
            "\n",
            "\r./TumorSlices.csv     0%[                    ]       0  --.-KB/s               \r./TumorSlices.csv   100%[===================>]  24.96K  --.-KB/s    in 0s      \n",
            "\n",
            "2020-06-13 22:46:14 (82.3 MB/s) - ‘./TumorSlices.csv’ saved [25558/25558]\n",
            "\n",
            "          Subject  StartSlice  EndSlice\n",
            "0        Patient1           0       300\n",
            "1        Patient2           0       300\n",
            "2        Patient3           0       300\n",
            "3        Patient4           0       300\n",
            "4        Patient5           0       300\n",
            "...           ...         ...       ...\n",
            "1397  Patient1398           0       300\n",
            "1398  Patient1399           0       300\n",
            "1399  Patient1400           0       300\n",
            "1400  Patient1401           0       300\n",
            "1401  Patient1402           0       300\n",
            "\n",
            "[1402 rows x 3 columns]\n"
          ],
          "name": "stdout"
        }
      ]
    },
    {
      "cell_type": "code",
      "metadata": {
        "id": "HCzjZCcnie07",
        "colab_type": "code",
        "colab": {}
      },
      "source": [
        "from __future__ import unicode_literals\n",
        "from __future__ import print_function\n",
        "from __future__ import division\n",
        "from __future__ import absolute_import\n",
        "# Cell #5\n",
        "# create new versions of the T1, GAD, and T2 images that range from 0 to 255, and where the 0 intensity value maps to the 5th percentile value \n",
        "# and 255 maps to the 95th percentile value.\n",
        "import imageio\n",
        "import nibabel as nib\n",
        "import numpy as np\n",
        "\n",
        "MIN_MR = 20\n",
        "\n",
        "def normalise_zero_one(image):\n",
        "    dims = np.shape(image)\n",
        "    image_1d = image.reshape(1, image.size)\n",
        "    above = np.where(image_1d>MIN_MR, image_1d, image_1d)\n",
        "    if above.size < image_1d.size/2:\n",
        "        above = image_1d # avoid bad MIN_MR thresholds\n",
        "    sorted_im = np.sort(above, axis = None)\n",
        "    \n",
        "    start = int(sorted_im.size / 1000)  # 20 = 5%\n",
        "    end = int(sorted_im.size * 999 / 1000) # 95%\n",
        "    start_val = sorted_im[start]\n",
        "    end_val = sorted_im[end]\n",
        "    \n",
        "   # image = np.maximum(image, start_val) # map values below the start_val to start_val\n",
        "   # image = np.minimum(image, end_val)   # map values above the end_val to end_val\n",
        "   # image = image - start_val # subtract the starting intensity\n",
        "\n",
        " #   print (\"rescaling range \" + str(newmin) + \" to \" + str(histo[1][index]))\n",
        "    minimum = np.min(image)\n",
        "    maximum = np.max(image)\n",
        "\n",
        "    ret = ((image - minimum) / (maximum - minimum))     \n",
        "    return ret    \n",
        "\n",
        "    \n",
        "    \n",
        "\n",
        "\n",
        "\n",
        "\n",
        "\n",
        "\n",
        "def nifti_to_img(red_file, green_file, blue_file, not_dir, yes_dir, startSlice, endSlice, subject):\n",
        "### red_ green_ and blue_files are the nifit files that will be combined to go into the PNG\n",
        "### not_dir is the direcotry where PNGs are stored if they are not in the (inclusive)\n",
        "### range set by startSlice/endSlice\n",
        "### yes_dir is where they are stored when they ARE in the range\n",
        "### subject is the ID so that we can track where images came from\n",
        "\n",
        "    try:\n",
        "        nifti = nib.load(red_file)\n",
        "        nif_header = nifti.header\n",
        "        red_image = nifti.get_fdata()\n",
        "    except:\n",
        "        return 0\n",
        "\n",
        "    try:\n",
        "        if os.path.isfile(green_file):\n",
        "            nifti = nib.load(green_file)\n",
        "            nif_header = nifti.header\n",
        "            green_image = nifti.get_fdata()\n",
        "        else:\n",
        "            pass\n",
        "    except:  # if can't load, then use red image\n",
        "        green_image = red_image\n",
        "    \n",
        "    try:\n",
        "        if os.path.isfile(blue_file):\n",
        "            nifti = nib.load(blue_file)\n",
        "\n",
        "            nif_header = nifti.header\n",
        "            blue_image = nifti.get_fdata()\n",
        "        else:\n",
        "            pass\n",
        "    except:  # if can't load, then use red image\n",
        "        blue_image = red_image\n",
        "        \n",
        "# now scale the intensity for each image        \n",
        "    red_image = normalise_zero_one(red_image)\n",
        "    green_image = normalise_zero_one(green_image)\n",
        "    blue_image = normalise_zero_one(blue_image)\n",
        "# then convert to 8 bits\n",
        "    red_image = red_image.astype(np.uint8)     \n",
        "    green_image = green_image.astype(np.uint8)     \n",
        "    blue_image = blue_image.astype(np.uint8)   \n",
        "    \n",
        "# get the number of slices\n",
        "    dims = np.shape(red_image)\n",
        "    zd = dims[2]\n",
        "\n",
        "    for z in range(0, zd):\n",
        "        outname = subject + \"-{0:04d}\".format(z) + '.png'\n",
        "        if z >= startSlice and z <= endSlice:  # this is enhancing\n",
        "            out_dir = yes_dir\n",
        "        else:\n",
        "            out_dir = not_dir\n",
        "        outname = os.path.join(out_dir, outname)\n",
        "        if not os.path.exists(out_dir):\n",
        "            os.makedirs(out_dir)\n",
        "        combined = np.dstack((red_image[:,:,z],green_image[:,:,z],\n",
        "                              blue_image[:,:,z]))\n",
        "## . images come in rotated\n",
        "        combined = np.rot90(combined, k=1)\n",
        "#        print ('Name: ' + outname)\n",
        "        imageio.imwrite(outname, combined)\n",
        "    return zd"
      ],
      "execution_count": 0,
      "outputs": []
    },
    {
      "cell_type": "code",
      "metadata": {
        "id": "ETZHZsRFqNlU",
        "colab_type": "code",
        "colab": {}
      },
      "source": [
        "NIFTI_PATH = 'testers/codel/'"
      ],
      "execution_count": 0,
      "outputs": []
    },
    {
      "cell_type": "code",
      "metadata": {
        "id": "5iQuQDuwieyE",
        "colab_type": "code",
        "outputId": "9caa234b-0271-4f5d-a194-af0d17cd58e5",
        "colab": {
          "base_uri": "https://localhost:8080/",
          "height": 34
        }
      },
      "source": [
        "# Cell #6\n",
        "# take the GAD nii, scale it to 0-255 and store that into the red channel\n",
        "# same for T1 (green) and T2 (blue)\n",
        "# PNG files are stored in enh / nonenh folders based on the csv file\n",
        "\n",
        "# store the png files into enhancing or nonenhancing folders after making sure they are cleared\n",
        "\n",
        "!rm -rf classified\n",
        "\n",
        "!mkdir classified\n",
        "\n",
        "for subj in os.listdir(NIFTI_PATH):\n",
        "    subj_path = os.path.join(NIFTI_PATH, subj)\n",
        "    red_f = os.path.join(subj_path, 'Reg-N4-T2_bet.nii.gz')\n",
        "    startSlice = df.loc[df.Subject == subj, 'StartSlice'].values[0]\n",
        "    endSlice = df.loc[df.Subject == subj, 'EndSlice'].values[0]\n",
        "    print (\"Making PNG file for \" + subj + \" start: \" + str(startSlice) + \" end: \" + str(endSlice))\n",
        "    count = nifti_to_img(red_f, red_f, red_f, NIFTI_PATH, NIFTI_PATH, startSlice, endSlice, subj)"
      ],
      "execution_count": 42,
      "outputs": [
        {
          "output_type": "stream",
          "text": [
            "Making PNG file for Patient1 start: 0 end: 300\n"
          ],
          "name": "stdout"
        }
      ]
    },
    {
      "cell_type": "code",
      "metadata": {
        "id": "jiE_I9o-388G",
        "colab_type": "code",
        "colab": {}
      },
      "source": [
        "shutil.rmtree(subj_path)"
      ],
      "execution_count": 0,
      "outputs": []
    },
    {
      "cell_type": "code",
      "metadata": {
        "id": "Ac5yrvqjyTkW",
        "colab_type": "code",
        "colab": {}
      },
      "source": [
        "NIFTI_PATH = 'testers/no/'"
      ],
      "execution_count": 0,
      "outputs": []
    },
    {
      "cell_type": "code",
      "metadata": {
        "id": "zwAEMqYkyTfD",
        "colab_type": "code",
        "colab": {
          "base_uri": "https://localhost:8080/",
          "height": 34
        },
        "outputId": "f2b21b61-60c4-4047-a566-2d7f4ee2ffb8"
      },
      "source": [
        "# Cell #6\n",
        "# take the GAD nii, scale it to 0-255 and store that into the red channel\n",
        "# same for T1 (green) and T2 (blue)\n",
        "# PNG files are stored in enh / nonenh folders based on the csv file\n",
        "\n",
        "# store the png files into enhancing or nonenhancing folders after making sure they are cleared\n",
        "\n",
        "!rm -rf classified\n",
        "\n",
        "!mkdir classified\n",
        "\n",
        "for subj in os.listdir(NIFTI_PATH):\n",
        "    subj_path = os.path.join(NIFTI_PATH, subj)\n",
        "    red_f = os.path.join(subj_path, 'Reg-N4-T2_bet.nii.gz')\n",
        "    startSlice = df.loc[df.Subject == subj, 'StartSlice'].values[0]\n",
        "    endSlice = df.loc[df.Subject == subj, 'EndSlice'].values[0]\n",
        "    print (\"Making PNG file for \" + subj + \" start: \" + str(startSlice) + \" end: \" + str(endSlice))\n",
        "    count = nifti_to_img(red_f, red_f, red_f, NIFTI_PATH, NIFTI_PATH, startSlice, endSlice, subj)"
      ],
      "execution_count": 45,
      "outputs": [
        {
          "output_type": "stream",
          "text": [
            "Making PNG file for Patient1 start: 0 end: 300\n"
          ],
          "name": "stdout"
        }
      ]
    },
    {
      "cell_type": "code",
      "metadata": {
        "id": "YFK8niq637qC",
        "colab_type": "code",
        "colab": {}
      },
      "source": [
        "shutil.rmtree(subj_path)"
      ],
      "execution_count": 0,
      "outputs": []
    },
    {
      "cell_type": "code",
      "metadata": {
        "id": "ndSUrz6iyTR3",
        "colab_type": "code",
        "colab": {}
      },
      "source": [
        "NIFTI_PATH = 'testers/codelval/'"
      ],
      "execution_count": 0,
      "outputs": []
    },
    {
      "cell_type": "code",
      "metadata": {
        "id": "-1fqSp70yTNa",
        "colab_type": "code",
        "colab": {
          "base_uri": "https://localhost:8080/",
          "height": 34
        },
        "outputId": "4e0eddf1-b996-47e0-fa27-2d60e987c165"
      },
      "source": [
        "# Cell #6\n",
        "# take the GAD nii, scale it to 0-255 and store that into the red channel\n",
        "# same for T1 (green) and T2 (blue)\n",
        "# PNG files are stored in enh / nonenh folders based on the csv file\n",
        "\n",
        "# store the png files into enhancing or nonenhancing folders after making sure they are cleared\n",
        "\n",
        "!rm -rf classified\n",
        "\n",
        "!mkdir classified\n",
        "\n",
        "for subj in os.listdir(NIFTI_PATH):\n",
        "    subj_path = os.path.join(NIFTI_PATH, subj)\n",
        "    red_f = os.path.join(subj_path, 'Reg-N4-T2_bet.nii.gz')\n",
        "    startSlice = df.loc[df.Subject == subj, 'StartSlice'].values[0]\n",
        "    endSlice = df.loc[df.Subject == subj, 'EndSlice'].values[0]\n",
        "    print (\"Making PNG file for \" + subj + \" start: \" + str(startSlice) + \" end: \" + str(endSlice))\n",
        "    count = nifti_to_img(red_f, red_f, red_f, NIFTI_PATH, NIFTI_PATH, startSlice, endSlice, subj)"
      ],
      "execution_count": 48,
      "outputs": [
        {
          "output_type": "stream",
          "text": [
            "Making PNG file for Patient2 start: 0 end: 300\n"
          ],
          "name": "stdout"
        }
      ]
    },
    {
      "cell_type": "code",
      "metadata": {
        "id": "kmjXByUN4Axk",
        "colab_type": "code",
        "colab": {}
      },
      "source": [
        "shutil.rmtree(subj_path)"
      ],
      "execution_count": 0,
      "outputs": []
    },
    {
      "cell_type": "code",
      "metadata": {
        "id": "bOzD_LUDyTId",
        "colab_type": "code",
        "colab": {}
      },
      "source": [
        "NIFTI_PATH = 'testers/noval/'"
      ],
      "execution_count": 0,
      "outputs": []
    },
    {
      "cell_type": "code",
      "metadata": {
        "id": "4RcnCfNpyS9O",
        "colab_type": "code",
        "colab": {
          "base_uri": "https://localhost:8080/",
          "height": 34
        },
        "outputId": "393dd50e-966a-46e3-d400-c56e3787f5cb"
      },
      "source": [
        "# Cell #6\n",
        "# take the GAD nii, scale it to 0-255 and store that into the red channel\n",
        "# same for T1 (green) and T2 (blue)\n",
        "# PNG files are stored in enh / nonenh folders based on the csv file\n",
        "\n",
        "# store the png files into enhancing or nonenhancing folders after making sure they are cleared\n",
        "\n",
        "!rm -rf classified\n",
        "\n",
        "!mkdir classified\n",
        "\n",
        "for subj in os.listdir(NIFTI_PATH):\n",
        "    subj_path = os.path.join(NIFTI_PATH, subj)\n",
        "    red_f = os.path.join(subj_path, 'Reg-N4-T2_bet.nii.gz')\n",
        "    startSlice = df.loc[df.Subject == subj, 'StartSlice'].values[0]\n",
        "    endSlice = df.loc[df.Subject == subj, 'EndSlice'].values[0]\n",
        "    print (\"Making PNG file for \" + subj + \" start: \" + str(startSlice) + \" end: \" + str(endSlice))\n",
        "    count = nifti_to_img(red_f, red_f, red_f, NIFTI_PATH, NIFTI_PATH, startSlice, endSlice, subj)\n"
      ],
      "execution_count": 51,
      "outputs": [
        {
          "output_type": "stream",
          "text": [
            "Making PNG file for Patient2 start: 0 end: 300\n"
          ],
          "name": "stdout"
        }
      ]
    },
    {
      "cell_type": "code",
      "metadata": {
        "id": "Du6VI9bi1nVS",
        "colab_type": "code",
        "colab": {}
      },
      "source": [
        "shutil.rmtree(subj_path)\n"
      ],
      "execution_count": 0,
      "outputs": []
    },
    {
      "cell_type": "code",
      "metadata": {
        "id": "xaUarkM-OfOY",
        "colab_type": "code",
        "colab": {
          "base_uri": "https://localhost:8080/",
          "height": 68
        },
        "outputId": "0766c681-077e-42f3-b9f4-2bda6fc0bb1d"
      },
      "source": [
        "!zip -r ./adnitest10.zip ./adnitest10\n",
        "#then download it."
      ],
      "execution_count": 53,
      "outputs": [
        {
          "output_type": "stream",
          "text": [
            "\tzip warning: name not matched: ./adnitest10\n",
            "\n",
            "zip error: Nothing to do! (try: zip -r ./adnitest10.zip . -i ./adnitest10)\n"
          ],
          "name": "stdout"
        }
      ]
    },
    {
      "cell_type": "code",
      "metadata": {
        "id": "sjxhxrhdqnRk",
        "colab_type": "code",
        "colab": {}
      },
      "source": [
        "#below code is from https://towardsdatascience.com/keras-transfer-learning-for-beginners-6c9b8b7143e\n",
        "#and https://towardsdatascience.com/a-comprehensive-hands-on-guide-to-transfer-learning-with-real-world-applications-in-deep-learning-212bf3b2f27a\n",
        "#get the githubs for the refs in the paper"
      ],
      "execution_count": 0,
      "outputs": []
    },
    {
      "cell_type": "code",
      "metadata": {
        "id": "OPuqXkncieuB",
        "colab_type": "code",
        "colab": {
          "base_uri": "https://localhost:8080/",
          "height": 1000
        },
        "outputId": "a5248fdb-53b4-419d-83b8-cd9c56ca7f7f"
      },
      "source": [
        "# Cell #7\n",
        "# now we are ready to load data and train classifier\n",
        "# while we did this in separate cells before, we will do it all in one\n",
        "# this should look familiar.\n",
        "import numpy as np\n",
        "import tensorflow as tf\n",
        "!pip install tensornets\n",
        "import tensornets as nets\n",
        "import tensorflow_hub as hub\n",
        "import keras\n",
        "import tensorflow.keras \n",
        "import matplotlib.pyplot as plt\n",
        "from tensorflow.keras.layers import Dense,GlobalAveragePooling2D\n",
        "from tensorflow.keras.preprocessing import image\n",
        "from tensorflow.keras.preprocessing.image import ImageDataGenerator\n",
        "from tensorflow.keras.models import Model\n",
        "from tensorflow.keras.optimizers import Adam\n",
        "\n",
        "from tensorflow.keras.applications.imagenet_utils import decode_predictions\n",
        "from tensorflow.keras.applications.nasnet import NASNetLarge, NASNetMobile, preprocess_input\n",
        "directory = \"./content\"\n",
        "\n",
        "base_model=tensorflow.keras.applications.nasnet.NASNetLarge(input_shape=(331, 331, 3), include_top=False, weights='imagenet', input_tensor=None, pooling=None) #imports the nasnet large model and discards the last 1000 neuron layer.\n",
        "\n",
        "x=base_model.output\n",
        "x=GlobalAveragePooling2D()(x)\n",
        "x=Dense(1024,activation='relu')(x) #we add dense layers so that the model can learn more complex functions and classify for better results.\n",
        "x=Dense(1024,activation='relu')(x) #dense layer 2\n",
        "x=Dense(512,activation='relu')(x) #dense layer 3\n",
        "preds=Dense(2,activation='softmax')(x) #final layer with softmax activation, for 2 classes\n",
        "\n",
        "model=Model(inputs=base_model.input,outputs=preds) # to load saved model with weights use model= tensorflow.keras.models.load_model('myLGGtestmodel.h5')\n",
        "#specify the inputs\n",
        "#specify the outputs\n",
        "#now a model has been created based on our architecture\n",
        "\n",
        "for i,layer in enumerate(model.layers):\n",
        "  print(i,layer.name)\n",
        "\n",
        "for layer in model.layers:\n",
        "    layer.trainable=False\n",
        "# or if we want to set the first 20 layers of the network to be non-trainable\n",
        "for layer in model.layers[:1039]:\n",
        "    layer.trainable=False\n",
        "for layer in model.layers[1039:]:\n",
        "    layer.trainable=True\n",
        "\n",
        "train_datagen=ImageDataGenerator(rotation_range=20, zoom_range=0.15, width_shift_range=0.2, height_shift_range=0.2, shear_range=0, fill_mode='nearest', horizontal_flip=False, data_format='channels_last', validation_split=0.0, dtype='float32') #included in our dependencies\n",
        "# add the directory below very important ##########################\n",
        "\n",
        "train=train_datagen.flow_from_directory('./train',\n",
        "                                                 target_size=(331,331),\n",
        "                                                 color_mode='rgb',\n",
        "                                                 batch_size=32,\n",
        "                                                 class_mode='categorical',\n",
        "                                                 shuffle=True)\n",
        "\n",
        "val_datagen=ImageDataGenerator()\n",
        "\n",
        "val=val_datagen.flow_from_directory('./validate',\n",
        "                                                 target_size=(331,331),\n",
        "                                                 color_mode='rgb',\n",
        "                                                 batch_size=32,\n",
        "                                                 class_mode='categorical',\n",
        "                                                 shuffle=False)\n",
        "\n",
        "model.compile(optimizer='Adam',loss='categorical_crossentropy',metrics=['accuracy'])\n",
        "# Adam optimizer\n",
        "# loss function will be categorical cross entropy\n",
        "# evaluation metric will be accuracy\n",
        "\n",
        "step_size_train=train.n//train.batch_size\n",
        "step_size_val=val.n//val.batch_size\n",
        "#model.fit_generator(generator=train_generator,\n",
        "#                   steps_per_epoch=step_size_train,\n",
        "#                   epochs=3)\n",
        "\n",
        "history = model.fit(train, steps_per_epoch=step_size_train, epochs=3,\n",
        "                              validation_data=val, validation_steps=step_size_val, \n",
        "                              verbose=1)       \n",
        "\n",
        "\n",
        "    \n",
        "# next cell to save model including newly trained weights\n",
        "# model.save('myLGGtestmodel.h5') # rename it how you like, it will show up in your directory. I have explained above using a hastag how and where to load the model."
      ],
      "execution_count": 55,
      "outputs": [
        {
          "output_type": "stream",
          "text": [
            "Collecting tensornets\n",
            "\u001b[?25l  Downloading https://files.pythonhosted.org/packages/71/22/2c9402bbf142b94dc39d8a3c9884690ae87706a8bc1453d6cf0630525173/tensornets-0.4.6.tar.gz (651kB)\n",
            "\u001b[K     |████████████████████████████████| 655kB 3.5MB/s \n",
            "\u001b[?25h  Installing build dependencies ... \u001b[?25l\u001b[?25hdone\n",
            "\u001b[33m  WARNING: Missing build requirements in pyproject.toml for tensornets from https://files.pythonhosted.org/packages/71/22/2c9402bbf142b94dc39d8a3c9884690ae87706a8bc1453d6cf0630525173/tensornets-0.4.6.tar.gz#sha256=e1095082b45a06168d56450d8c8fa49780d8aef8d4d1fcc64efceadb743f9ceb.\u001b[0m\n",
            "\u001b[33m  WARNING: The project does not specify a build backend, and pip cannot fall back to setuptools without 'wheel'.\u001b[0m\n",
            "  Getting requirements to build wheel ... \u001b[?25l\u001b[?25hdone\n",
            "  Installing backend dependencies ... \u001b[?25l\u001b[?25hdone\n",
            "    Preparing wheel metadata ... \u001b[?25l\u001b[?25hdone\n",
            "Building wheels for collected packages: tensornets\n",
            "  Building wheel for tensornets (PEP 517) ... \u001b[?25l\u001b[?25hdone\n",
            "  Created wheel for tensornets: filename=tensornets-0.4.6-cp36-cp36m-linux_x86_64.whl size=1212673 sha256=e5bf9f9cf05106f718144bc7e1f14587e4f243275627e9dde88e17195d65c0d7\n",
            "  Stored in directory: /root/.cache/pip/wheels/89/18/ea/82c6d494fb3ae5e080cd34bd3cff9f92ddbf3292fcfa9e3ce5\n",
            "Successfully built tensornets\n",
            "Installing collected packages: tensornets\n",
            "Successfully installed tensornets-0.4.6\n"
          ],
          "name": "stdout"
        },
        {
          "output_type": "stream",
          "text": [
            "Using TensorFlow backend.\n"
          ],
          "name": "stderr"
        },
        {
          "output_type": "stream",
          "text": [
            "Downloading data from https://storage.googleapis.com/tensorflow/keras-applications/nasnet/NASNet-large-no-top.h5\n",
            "343613440/343610240 [==============================] - 3s 0us/step\n",
            "0 input_1\n",
            "1 stem_conv1\n",
            "2 stem_bn1\n",
            "3 activation\n",
            "4 reduction_conv_1_stem_1\n",
            "5 reduction_bn_1_stem_1\n",
            "6 activation_1\n",
            "7 activation_3\n",
            "8 separable_conv_1_pad_reduction_left1_stem_1\n",
            "9 separable_conv_1_pad_reduction_right1_stem_1\n",
            "10 separable_conv_1_reduction_left1_stem_1\n",
            "11 separable_conv_1_reduction_right1_stem_1\n",
            "12 separable_conv_1_bn_reduction_left1_stem_1\n",
            "13 separable_conv_1_bn_reduction_right1_stem_1\n",
            "14 activation_2\n",
            "15 activation_4\n",
            "16 separable_conv_2_reduction_left1_stem_1\n",
            "17 separable_conv_2_reduction_right1_stem_1\n",
            "18 activation_5\n",
            "19 separable_conv_2_bn_reduction_left1_stem_1\n",
            "20 separable_conv_2_bn_reduction_right1_stem_1\n",
            "21 separable_conv_1_pad_reduction_right2_stem_1\n",
            "22 activation_7\n",
            "23 reduction_add_1_stem_1\n",
            "24 separable_conv_1_reduction_right2_stem_1\n",
            "25 separable_conv_1_pad_reduction_right3_stem_1\n",
            "26 activation_9\n",
            "27 separable_conv_1_bn_reduction_right2_stem_1\n",
            "28 separable_conv_1_reduction_right3_stem_1\n",
            "29 separable_conv_1_reduction_left4_stem_1\n",
            "30 activation_6\n",
            "31 separable_conv_1_bn_reduction_right3_stem_1\n",
            "32 separable_conv_1_bn_reduction_left4_stem_1\n",
            "33 reduction_pad_1_stem_1\n",
            "34 separable_conv_2_reduction_right2_stem_1\n",
            "35 activation_8\n",
            "36 activation_10\n",
            "37 reduction_left2_stem_1\n",
            "38 separable_conv_2_bn_reduction_right2_stem_1\n",
            "39 separable_conv_2_reduction_right3_stem_1\n",
            "40 separable_conv_2_reduction_left4_stem_1\n",
            "41 adjust_relu_1_stem_2\n",
            "42 reduction_add_2_stem_1\n",
            "43 reduction_left3_stem_1\n",
            "44 separable_conv_2_bn_reduction_right3_stem_1\n",
            "45 reduction_left4_stem_1\n",
            "46 separable_conv_2_bn_reduction_left4_stem_1\n",
            "47 reduction_right5_stem_1\n",
            "48 zero_padding2d\n",
            "49 reduction_add3_stem_1\n",
            "50 add\n",
            "51 reduction_add4_stem_1\n",
            "52 cropping2d\n",
            "53 reduction_concat_stem_1\n",
            "54 adjust_avg_pool_1_stem_2\n",
            "55 adjust_avg_pool_2_stem_2\n",
            "56 activation_11\n",
            "57 adjust_conv_1_stem_2\n",
            "58 adjust_conv_2_stem_2\n",
            "59 reduction_conv_1_stem_2\n",
            "60 concatenate\n",
            "61 reduction_bn_1_stem_2\n",
            "62 adjust_bn_stem_2\n",
            "63 activation_12\n",
            "64 activation_14\n",
            "65 separable_conv_1_pad_reduction_left1_stem_2\n",
            "66 separable_conv_1_pad_reduction_right1_stem_2\n",
            "67 separable_conv_1_reduction_left1_stem_2\n",
            "68 separable_conv_1_reduction_right1_stem_2\n",
            "69 separable_conv_1_bn_reduction_left1_stem_2\n",
            "70 separable_conv_1_bn_reduction_right1_stem_2\n",
            "71 activation_13\n",
            "72 activation_15\n",
            "73 separable_conv_2_reduction_left1_stem_2\n",
            "74 separable_conv_2_reduction_right1_stem_2\n",
            "75 activation_16\n",
            "76 separable_conv_2_bn_reduction_left1_stem_2\n",
            "77 separable_conv_2_bn_reduction_right1_stem_2\n",
            "78 separable_conv_1_pad_reduction_right2_stem_2\n",
            "79 activation_18\n",
            "80 reduction_add_1_stem_2\n",
            "81 separable_conv_1_reduction_right2_stem_2\n",
            "82 separable_conv_1_pad_reduction_right3_stem_2\n",
            "83 activation_20\n",
            "84 separable_conv_1_bn_reduction_right2_stem_2\n",
            "85 separable_conv_1_reduction_right3_stem_2\n",
            "86 separable_conv_1_reduction_left4_stem_2\n",
            "87 activation_17\n",
            "88 separable_conv_1_bn_reduction_right3_stem_2\n",
            "89 separable_conv_1_bn_reduction_left4_stem_2\n",
            "90 reduction_pad_1_stem_2\n",
            "91 separable_conv_2_reduction_right2_stem_2\n",
            "92 activation_19\n",
            "93 activation_21\n",
            "94 reduction_left2_stem_2\n",
            "95 separable_conv_2_bn_reduction_right2_stem_2\n",
            "96 separable_conv_2_reduction_right3_stem_2\n",
            "97 separable_conv_2_reduction_left4_stem_2\n",
            "98 adjust_relu_1_0\n",
            "99 reduction_add_2_stem_2\n",
            "100 reduction_left3_stem_2\n",
            "101 separable_conv_2_bn_reduction_right3_stem_2\n",
            "102 reduction_left4_stem_2\n",
            "103 separable_conv_2_bn_reduction_left4_stem_2\n",
            "104 reduction_right5_stem_2\n",
            "105 zero_padding2d_1\n",
            "106 reduction_add3_stem_2\n",
            "107 add_1\n",
            "108 reduction_add4_stem_2\n",
            "109 cropping2d_1\n",
            "110 reduction_concat_stem_2\n",
            "111 adjust_avg_pool_1_0\n",
            "112 adjust_avg_pool_2_0\n",
            "113 adjust_conv_1_0\n",
            "114 adjust_conv_2_0\n",
            "115 activation_22\n",
            "116 concatenate_1\n",
            "117 normal_conv_1_0\n",
            "118 adjust_bn_0\n",
            "119 normal_bn_1_0\n",
            "120 activation_23\n",
            "121 activation_25\n",
            "122 activation_27\n",
            "123 activation_29\n",
            "124 activation_31\n",
            "125 separable_conv_1_normal_left1_0\n",
            "126 separable_conv_1_normal_right1_0\n",
            "127 separable_conv_1_normal_left2_0\n",
            "128 separable_conv_1_normal_right2_0\n",
            "129 separable_conv_1_normal_left5_0\n",
            "130 separable_conv_1_bn_normal_left1_0\n",
            "131 separable_conv_1_bn_normal_right1_0\n",
            "132 separable_conv_1_bn_normal_left2_0\n",
            "133 separable_conv_1_bn_normal_right2_0\n",
            "134 separable_conv_1_bn_normal_left5_0\n",
            "135 activation_24\n",
            "136 activation_26\n",
            "137 activation_28\n",
            "138 activation_30\n",
            "139 activation_32\n",
            "140 separable_conv_2_normal_left1_0\n",
            "141 separable_conv_2_normal_right1_0\n",
            "142 separable_conv_2_normal_left2_0\n",
            "143 separable_conv_2_normal_right2_0\n",
            "144 separable_conv_2_normal_left5_0\n",
            "145 separable_conv_2_bn_normal_left1_0\n",
            "146 separable_conv_2_bn_normal_right1_0\n",
            "147 separable_conv_2_bn_normal_left2_0\n",
            "148 separable_conv_2_bn_normal_right2_0\n",
            "149 normal_left3_0\n",
            "150 normal_left4_0\n",
            "151 normal_right4_0\n",
            "152 separable_conv_2_bn_normal_left5_0\n",
            "153 normal_add_1_0\n",
            "154 normal_add_2_0\n",
            "155 normal_add_3_0\n",
            "156 normal_add_4_0\n",
            "157 normal_add_5_0\n",
            "158 normal_concat_0\n",
            "159 activation_33\n",
            "160 activation_34\n",
            "161 adjust_conv_projection_1\n",
            "162 normal_conv_1_1\n",
            "163 adjust_bn_1\n",
            "164 normal_bn_1_1\n",
            "165 activation_35\n",
            "166 activation_37\n",
            "167 activation_39\n",
            "168 activation_41\n",
            "169 activation_43\n",
            "170 separable_conv_1_normal_left1_1\n",
            "171 separable_conv_1_normal_right1_1\n",
            "172 separable_conv_1_normal_left2_1\n",
            "173 separable_conv_1_normal_right2_1\n",
            "174 separable_conv_1_normal_left5_1\n",
            "175 separable_conv_1_bn_normal_left1_1\n",
            "176 separable_conv_1_bn_normal_right1_1\n",
            "177 separable_conv_1_bn_normal_left2_1\n",
            "178 separable_conv_1_bn_normal_right2_1\n",
            "179 separable_conv_1_bn_normal_left5_1\n",
            "180 activation_36\n",
            "181 activation_38\n",
            "182 activation_40\n",
            "183 activation_42\n",
            "184 activation_44\n",
            "185 separable_conv_2_normal_left1_1\n",
            "186 separable_conv_2_normal_right1_1\n",
            "187 separable_conv_2_normal_left2_1\n",
            "188 separable_conv_2_normal_right2_1\n",
            "189 separable_conv_2_normal_left5_1\n",
            "190 separable_conv_2_bn_normal_left1_1\n",
            "191 separable_conv_2_bn_normal_right1_1\n",
            "192 separable_conv_2_bn_normal_left2_1\n",
            "193 separable_conv_2_bn_normal_right2_1\n",
            "194 normal_left3_1\n",
            "195 normal_left4_1\n",
            "196 normal_right4_1\n",
            "197 separable_conv_2_bn_normal_left5_1\n",
            "198 normal_add_1_1\n",
            "199 normal_add_2_1\n",
            "200 normal_add_3_1\n",
            "201 normal_add_4_1\n",
            "202 normal_add_5_1\n",
            "203 normal_concat_1\n",
            "204 activation_45\n",
            "205 activation_46\n",
            "206 adjust_conv_projection_2\n",
            "207 normal_conv_1_2\n",
            "208 adjust_bn_2\n",
            "209 normal_bn_1_2\n",
            "210 activation_47\n",
            "211 activation_49\n",
            "212 activation_51\n",
            "213 activation_53\n",
            "214 activation_55\n",
            "215 separable_conv_1_normal_left1_2\n",
            "216 separable_conv_1_normal_right1_2\n",
            "217 separable_conv_1_normal_left2_2\n",
            "218 separable_conv_1_normal_right2_2\n",
            "219 separable_conv_1_normal_left5_2\n",
            "220 separable_conv_1_bn_normal_left1_2\n",
            "221 separable_conv_1_bn_normal_right1_2\n",
            "222 separable_conv_1_bn_normal_left2_2\n",
            "223 separable_conv_1_bn_normal_right2_2\n",
            "224 separable_conv_1_bn_normal_left5_2\n",
            "225 activation_48\n",
            "226 activation_50\n",
            "227 activation_52\n",
            "228 activation_54\n",
            "229 activation_56\n",
            "230 separable_conv_2_normal_left1_2\n",
            "231 separable_conv_2_normal_right1_2\n",
            "232 separable_conv_2_normal_left2_2\n",
            "233 separable_conv_2_normal_right2_2\n",
            "234 separable_conv_2_normal_left5_2\n",
            "235 separable_conv_2_bn_normal_left1_2\n",
            "236 separable_conv_2_bn_normal_right1_2\n",
            "237 separable_conv_2_bn_normal_left2_2\n",
            "238 separable_conv_2_bn_normal_right2_2\n",
            "239 normal_left3_2\n",
            "240 normal_left4_2\n",
            "241 normal_right4_2\n",
            "242 separable_conv_2_bn_normal_left5_2\n",
            "243 normal_add_1_2\n",
            "244 normal_add_2_2\n",
            "245 normal_add_3_2\n",
            "246 normal_add_4_2\n",
            "247 normal_add_5_2\n",
            "248 normal_concat_2\n",
            "249 activation_57\n",
            "250 activation_58\n",
            "251 adjust_conv_projection_3\n",
            "252 normal_conv_1_3\n",
            "253 adjust_bn_3\n",
            "254 normal_bn_1_3\n",
            "255 activation_59\n",
            "256 activation_61\n",
            "257 activation_63\n",
            "258 activation_65\n",
            "259 activation_67\n",
            "260 separable_conv_1_normal_left1_3\n",
            "261 separable_conv_1_normal_right1_3\n",
            "262 separable_conv_1_normal_left2_3\n",
            "263 separable_conv_1_normal_right2_3\n",
            "264 separable_conv_1_normal_left5_3\n",
            "265 separable_conv_1_bn_normal_left1_3\n",
            "266 separable_conv_1_bn_normal_right1_3\n",
            "267 separable_conv_1_bn_normal_left2_3\n",
            "268 separable_conv_1_bn_normal_right2_3\n",
            "269 separable_conv_1_bn_normal_left5_3\n",
            "270 activation_60\n",
            "271 activation_62\n",
            "272 activation_64\n",
            "273 activation_66\n",
            "274 activation_68\n",
            "275 separable_conv_2_normal_left1_3\n",
            "276 separable_conv_2_normal_right1_3\n",
            "277 separable_conv_2_normal_left2_3\n",
            "278 separable_conv_2_normal_right2_3\n",
            "279 separable_conv_2_normal_left5_3\n",
            "280 separable_conv_2_bn_normal_left1_3\n",
            "281 separable_conv_2_bn_normal_right1_3\n",
            "282 separable_conv_2_bn_normal_left2_3\n",
            "283 separable_conv_2_bn_normal_right2_3\n",
            "284 normal_left3_3\n",
            "285 normal_left4_3\n",
            "286 normal_right4_3\n",
            "287 separable_conv_2_bn_normal_left5_3\n",
            "288 normal_add_1_3\n",
            "289 normal_add_2_3\n",
            "290 normal_add_3_3\n",
            "291 normal_add_4_3\n",
            "292 normal_add_5_3\n",
            "293 normal_concat_3\n",
            "294 activation_69\n",
            "295 activation_70\n",
            "296 adjust_conv_projection_4\n",
            "297 normal_conv_1_4\n",
            "298 adjust_bn_4\n",
            "299 normal_bn_1_4\n",
            "300 activation_71\n",
            "301 activation_73\n",
            "302 activation_75\n",
            "303 activation_77\n",
            "304 activation_79\n",
            "305 separable_conv_1_normal_left1_4\n",
            "306 separable_conv_1_normal_right1_4\n",
            "307 separable_conv_1_normal_left2_4\n",
            "308 separable_conv_1_normal_right2_4\n",
            "309 separable_conv_1_normal_left5_4\n",
            "310 separable_conv_1_bn_normal_left1_4\n",
            "311 separable_conv_1_bn_normal_right1_4\n",
            "312 separable_conv_1_bn_normal_left2_4\n",
            "313 separable_conv_1_bn_normal_right2_4\n",
            "314 separable_conv_1_bn_normal_left5_4\n",
            "315 activation_72\n",
            "316 activation_74\n",
            "317 activation_76\n",
            "318 activation_78\n",
            "319 activation_80\n",
            "320 separable_conv_2_normal_left1_4\n",
            "321 separable_conv_2_normal_right1_4\n",
            "322 separable_conv_2_normal_left2_4\n",
            "323 separable_conv_2_normal_right2_4\n",
            "324 separable_conv_2_normal_left5_4\n",
            "325 separable_conv_2_bn_normal_left1_4\n",
            "326 separable_conv_2_bn_normal_right1_4\n",
            "327 separable_conv_2_bn_normal_left2_4\n",
            "328 separable_conv_2_bn_normal_right2_4\n",
            "329 normal_left3_4\n",
            "330 normal_left4_4\n",
            "331 normal_right4_4\n",
            "332 separable_conv_2_bn_normal_left5_4\n",
            "333 normal_add_1_4\n",
            "334 normal_add_2_4\n",
            "335 normal_add_3_4\n",
            "336 normal_add_4_4\n",
            "337 normal_add_5_4\n",
            "338 normal_concat_4\n",
            "339 activation_81\n",
            "340 activation_82\n",
            "341 adjust_conv_projection_5\n",
            "342 normal_conv_1_5\n",
            "343 adjust_bn_5\n",
            "344 normal_bn_1_5\n",
            "345 activation_83\n",
            "346 activation_85\n",
            "347 activation_87\n",
            "348 activation_89\n",
            "349 activation_91\n",
            "350 separable_conv_1_normal_left1_5\n",
            "351 separable_conv_1_normal_right1_5\n",
            "352 separable_conv_1_normal_left2_5\n",
            "353 separable_conv_1_normal_right2_5\n",
            "354 separable_conv_1_normal_left5_5\n",
            "355 separable_conv_1_bn_normal_left1_5\n",
            "356 separable_conv_1_bn_normal_right1_5\n",
            "357 separable_conv_1_bn_normal_left2_5\n",
            "358 separable_conv_1_bn_normal_right2_5\n",
            "359 separable_conv_1_bn_normal_left5_5\n",
            "360 activation_84\n",
            "361 activation_86\n",
            "362 activation_88\n",
            "363 activation_90\n",
            "364 activation_92\n",
            "365 separable_conv_2_normal_left1_5\n",
            "366 separable_conv_2_normal_right1_5\n",
            "367 separable_conv_2_normal_left2_5\n",
            "368 separable_conv_2_normal_right2_5\n",
            "369 separable_conv_2_normal_left5_5\n",
            "370 separable_conv_2_bn_normal_left1_5\n",
            "371 separable_conv_2_bn_normal_right1_5\n",
            "372 separable_conv_2_bn_normal_left2_5\n",
            "373 separable_conv_2_bn_normal_right2_5\n",
            "374 normal_left3_5\n",
            "375 normal_left4_5\n",
            "376 normal_right4_5\n",
            "377 separable_conv_2_bn_normal_left5_5\n",
            "378 normal_add_1_5\n",
            "379 normal_add_2_5\n",
            "380 normal_add_3_5\n",
            "381 normal_add_4_5\n",
            "382 normal_add_5_5\n",
            "383 normal_concat_5\n",
            "384 activation_94\n",
            "385 activation_93\n",
            "386 reduction_conv_1_reduce_6\n",
            "387 adjust_conv_projection_reduce_6\n",
            "388 reduction_bn_1_reduce_6\n",
            "389 adjust_bn_reduce_6\n",
            "390 activation_95\n",
            "391 activation_97\n",
            "392 separable_conv_1_pad_reduction_left1_reduce_6\n",
            "393 separable_conv_1_pad_reduction_right1_reduce_6\n",
            "394 separable_conv_1_reduction_left1_reduce_6\n",
            "395 separable_conv_1_reduction_right1_reduce_6\n",
            "396 separable_conv_1_bn_reduction_left1_reduce_6\n",
            "397 separable_conv_1_bn_reduction_right1_reduce_6\n",
            "398 activation_96\n",
            "399 activation_98\n",
            "400 separable_conv_2_reduction_left1_reduce_6\n",
            "401 separable_conv_2_reduction_right1_reduce_6\n",
            "402 activation_99\n",
            "403 separable_conv_2_bn_reduction_left1_reduce_6\n",
            "404 separable_conv_2_bn_reduction_right1_reduce_6\n",
            "405 separable_conv_1_pad_reduction_right2_reduce_6\n",
            "406 activation_101\n",
            "407 reduction_add_1_reduce_6\n",
            "408 separable_conv_1_reduction_right2_reduce_6\n",
            "409 separable_conv_1_pad_reduction_right3_reduce_6\n",
            "410 activation_103\n",
            "411 separable_conv_1_bn_reduction_right2_reduce_6\n",
            "412 separable_conv_1_reduction_right3_reduce_6\n",
            "413 separable_conv_1_reduction_left4_reduce_6\n",
            "414 activation_100\n",
            "415 separable_conv_1_bn_reduction_right3_reduce_6\n",
            "416 separable_conv_1_bn_reduction_left4_reduce_6\n",
            "417 reduction_pad_1_reduce_6\n",
            "418 separable_conv_2_reduction_right2_reduce_6\n",
            "419 activation_102\n",
            "420 activation_104\n",
            "421 reduction_left2_reduce_6\n",
            "422 separable_conv_2_bn_reduction_right2_reduce_6\n",
            "423 separable_conv_2_reduction_right3_reduce_6\n",
            "424 separable_conv_2_reduction_left4_reduce_6\n",
            "425 adjust_relu_1_7\n",
            "426 reduction_add_2_reduce_6\n",
            "427 reduction_left3_reduce_6\n",
            "428 separable_conv_2_bn_reduction_right3_reduce_6\n",
            "429 reduction_left4_reduce_6\n",
            "430 separable_conv_2_bn_reduction_left4_reduce_6\n",
            "431 reduction_right5_reduce_6\n",
            "432 zero_padding2d_2\n",
            "433 reduction_add3_reduce_6\n",
            "434 add_2\n",
            "435 reduction_add4_reduce_6\n",
            "436 cropping2d_2\n",
            "437 reduction_concat_reduce_6\n",
            "438 adjust_avg_pool_1_7\n",
            "439 adjust_avg_pool_2_7\n",
            "440 adjust_conv_1_7\n",
            "441 adjust_conv_2_7\n",
            "442 activation_105\n",
            "443 concatenate_2\n",
            "444 normal_conv_1_7\n",
            "445 adjust_bn_7\n",
            "446 normal_bn_1_7\n",
            "447 activation_106\n",
            "448 activation_108\n",
            "449 activation_110\n",
            "450 activation_112\n",
            "451 activation_114\n",
            "452 separable_conv_1_normal_left1_7\n",
            "453 separable_conv_1_normal_right1_7\n",
            "454 separable_conv_1_normal_left2_7\n",
            "455 separable_conv_1_normal_right2_7\n",
            "456 separable_conv_1_normal_left5_7\n",
            "457 separable_conv_1_bn_normal_left1_7\n",
            "458 separable_conv_1_bn_normal_right1_7\n",
            "459 separable_conv_1_bn_normal_left2_7\n",
            "460 separable_conv_1_bn_normal_right2_7\n",
            "461 separable_conv_1_bn_normal_left5_7\n",
            "462 activation_107\n",
            "463 activation_109\n",
            "464 activation_111\n",
            "465 activation_113\n",
            "466 activation_115\n",
            "467 separable_conv_2_normal_left1_7\n",
            "468 separable_conv_2_normal_right1_7\n",
            "469 separable_conv_2_normal_left2_7\n",
            "470 separable_conv_2_normal_right2_7\n",
            "471 separable_conv_2_normal_left5_7\n",
            "472 separable_conv_2_bn_normal_left1_7\n",
            "473 separable_conv_2_bn_normal_right1_7\n",
            "474 separable_conv_2_bn_normal_left2_7\n",
            "475 separable_conv_2_bn_normal_right2_7\n",
            "476 normal_left3_7\n",
            "477 normal_left4_7\n",
            "478 normal_right4_7\n",
            "479 separable_conv_2_bn_normal_left5_7\n",
            "480 normal_add_1_7\n",
            "481 normal_add_2_7\n",
            "482 normal_add_3_7\n",
            "483 normal_add_4_7\n",
            "484 normal_add_5_7\n",
            "485 normal_concat_7\n",
            "486 activation_116\n",
            "487 activation_117\n",
            "488 adjust_conv_projection_8\n",
            "489 normal_conv_1_8\n",
            "490 adjust_bn_8\n",
            "491 normal_bn_1_8\n",
            "492 activation_118\n",
            "493 activation_120\n",
            "494 activation_122\n",
            "495 activation_124\n",
            "496 activation_126\n",
            "497 separable_conv_1_normal_left1_8\n",
            "498 separable_conv_1_normal_right1_8\n",
            "499 separable_conv_1_normal_left2_8\n",
            "500 separable_conv_1_normal_right2_8\n",
            "501 separable_conv_1_normal_left5_8\n",
            "502 separable_conv_1_bn_normal_left1_8\n",
            "503 separable_conv_1_bn_normal_right1_8\n",
            "504 separable_conv_1_bn_normal_left2_8\n",
            "505 separable_conv_1_bn_normal_right2_8\n",
            "506 separable_conv_1_bn_normal_left5_8\n",
            "507 activation_119\n",
            "508 activation_121\n",
            "509 activation_123\n",
            "510 activation_125\n",
            "511 activation_127\n",
            "512 separable_conv_2_normal_left1_8\n",
            "513 separable_conv_2_normal_right1_8\n",
            "514 separable_conv_2_normal_left2_8\n",
            "515 separable_conv_2_normal_right2_8\n",
            "516 separable_conv_2_normal_left5_8\n",
            "517 separable_conv_2_bn_normal_left1_8\n",
            "518 separable_conv_2_bn_normal_right1_8\n",
            "519 separable_conv_2_bn_normal_left2_8\n",
            "520 separable_conv_2_bn_normal_right2_8\n",
            "521 normal_left3_8\n",
            "522 normal_left4_8\n",
            "523 normal_right4_8\n",
            "524 separable_conv_2_bn_normal_left5_8\n",
            "525 normal_add_1_8\n",
            "526 normal_add_2_8\n",
            "527 normal_add_3_8\n",
            "528 normal_add_4_8\n",
            "529 normal_add_5_8\n",
            "530 normal_concat_8\n",
            "531 activation_128\n",
            "532 activation_129\n",
            "533 adjust_conv_projection_9\n",
            "534 normal_conv_1_9\n",
            "535 adjust_bn_9\n",
            "536 normal_bn_1_9\n",
            "537 activation_130\n",
            "538 activation_132\n",
            "539 activation_134\n",
            "540 activation_136\n",
            "541 activation_138\n",
            "542 separable_conv_1_normal_left1_9\n",
            "543 separable_conv_1_normal_right1_9\n",
            "544 separable_conv_1_normal_left2_9\n",
            "545 separable_conv_1_normal_right2_9\n",
            "546 separable_conv_1_normal_left5_9\n",
            "547 separable_conv_1_bn_normal_left1_9\n",
            "548 separable_conv_1_bn_normal_right1_9\n",
            "549 separable_conv_1_bn_normal_left2_9\n",
            "550 separable_conv_1_bn_normal_right2_9\n",
            "551 separable_conv_1_bn_normal_left5_9\n",
            "552 activation_131\n",
            "553 activation_133\n",
            "554 activation_135\n",
            "555 activation_137\n",
            "556 activation_139\n",
            "557 separable_conv_2_normal_left1_9\n",
            "558 separable_conv_2_normal_right1_9\n",
            "559 separable_conv_2_normal_left2_9\n",
            "560 separable_conv_2_normal_right2_9\n",
            "561 separable_conv_2_normal_left5_9\n",
            "562 separable_conv_2_bn_normal_left1_9\n",
            "563 separable_conv_2_bn_normal_right1_9\n",
            "564 separable_conv_2_bn_normal_left2_9\n",
            "565 separable_conv_2_bn_normal_right2_9\n",
            "566 normal_left3_9\n",
            "567 normal_left4_9\n",
            "568 normal_right4_9\n",
            "569 separable_conv_2_bn_normal_left5_9\n",
            "570 normal_add_1_9\n",
            "571 normal_add_2_9\n",
            "572 normal_add_3_9\n",
            "573 normal_add_4_9\n",
            "574 normal_add_5_9\n",
            "575 normal_concat_9\n",
            "576 activation_140\n",
            "577 activation_141\n",
            "578 adjust_conv_projection_10\n",
            "579 normal_conv_1_10\n",
            "580 adjust_bn_10\n",
            "581 normal_bn_1_10\n",
            "582 activation_142\n",
            "583 activation_144\n",
            "584 activation_146\n",
            "585 activation_148\n",
            "586 activation_150\n",
            "587 separable_conv_1_normal_left1_10\n",
            "588 separable_conv_1_normal_right1_10\n",
            "589 separable_conv_1_normal_left2_10\n",
            "590 separable_conv_1_normal_right2_10\n",
            "591 separable_conv_1_normal_left5_10\n",
            "592 separable_conv_1_bn_normal_left1_10\n",
            "593 separable_conv_1_bn_normal_right1_10\n",
            "594 separable_conv_1_bn_normal_left2_10\n",
            "595 separable_conv_1_bn_normal_right2_10\n",
            "596 separable_conv_1_bn_normal_left5_10\n",
            "597 activation_143\n",
            "598 activation_145\n",
            "599 activation_147\n",
            "600 activation_149\n",
            "601 activation_151\n",
            "602 separable_conv_2_normal_left1_10\n",
            "603 separable_conv_2_normal_right1_10\n",
            "604 separable_conv_2_normal_left2_10\n",
            "605 separable_conv_2_normal_right2_10\n",
            "606 separable_conv_2_normal_left5_10\n",
            "607 separable_conv_2_bn_normal_left1_10\n",
            "608 separable_conv_2_bn_normal_right1_10\n",
            "609 separable_conv_2_bn_normal_left2_10\n",
            "610 separable_conv_2_bn_normal_right2_10\n",
            "611 normal_left3_10\n",
            "612 normal_left4_10\n",
            "613 normal_right4_10\n",
            "614 separable_conv_2_bn_normal_left5_10\n",
            "615 normal_add_1_10\n",
            "616 normal_add_2_10\n",
            "617 normal_add_3_10\n",
            "618 normal_add_4_10\n",
            "619 normal_add_5_10\n",
            "620 normal_concat_10\n",
            "621 activation_152\n",
            "622 activation_153\n",
            "623 adjust_conv_projection_11\n",
            "624 normal_conv_1_11\n",
            "625 adjust_bn_11\n",
            "626 normal_bn_1_11\n",
            "627 activation_154\n",
            "628 activation_156\n",
            "629 activation_158\n",
            "630 activation_160\n",
            "631 activation_162\n",
            "632 separable_conv_1_normal_left1_11\n",
            "633 separable_conv_1_normal_right1_11\n",
            "634 separable_conv_1_normal_left2_11\n",
            "635 separable_conv_1_normal_right2_11\n",
            "636 separable_conv_1_normal_left5_11\n",
            "637 separable_conv_1_bn_normal_left1_11\n",
            "638 separable_conv_1_bn_normal_right1_11\n",
            "639 separable_conv_1_bn_normal_left2_11\n",
            "640 separable_conv_1_bn_normal_right2_11\n",
            "641 separable_conv_1_bn_normal_left5_11\n",
            "642 activation_155\n",
            "643 activation_157\n",
            "644 activation_159\n",
            "645 activation_161\n",
            "646 activation_163\n",
            "647 separable_conv_2_normal_left1_11\n",
            "648 separable_conv_2_normal_right1_11\n",
            "649 separable_conv_2_normal_left2_11\n",
            "650 separable_conv_2_normal_right2_11\n",
            "651 separable_conv_2_normal_left5_11\n",
            "652 separable_conv_2_bn_normal_left1_11\n",
            "653 separable_conv_2_bn_normal_right1_11\n",
            "654 separable_conv_2_bn_normal_left2_11\n",
            "655 separable_conv_2_bn_normal_right2_11\n",
            "656 normal_left3_11\n",
            "657 normal_left4_11\n",
            "658 normal_right4_11\n",
            "659 separable_conv_2_bn_normal_left5_11\n",
            "660 normal_add_1_11\n",
            "661 normal_add_2_11\n",
            "662 normal_add_3_11\n",
            "663 normal_add_4_11\n",
            "664 normal_add_5_11\n",
            "665 normal_concat_11\n",
            "666 activation_164\n",
            "667 activation_165\n",
            "668 adjust_conv_projection_12\n",
            "669 normal_conv_1_12\n",
            "670 adjust_bn_12\n",
            "671 normal_bn_1_12\n",
            "672 activation_166\n",
            "673 activation_168\n",
            "674 activation_170\n",
            "675 activation_172\n",
            "676 activation_174\n",
            "677 separable_conv_1_normal_left1_12\n",
            "678 separable_conv_1_normal_right1_12\n",
            "679 separable_conv_1_normal_left2_12\n",
            "680 separable_conv_1_normal_right2_12\n",
            "681 separable_conv_1_normal_left5_12\n",
            "682 separable_conv_1_bn_normal_left1_12\n",
            "683 separable_conv_1_bn_normal_right1_12\n",
            "684 separable_conv_1_bn_normal_left2_12\n",
            "685 separable_conv_1_bn_normal_right2_12\n",
            "686 separable_conv_1_bn_normal_left5_12\n",
            "687 activation_167\n",
            "688 activation_169\n",
            "689 activation_171\n",
            "690 activation_173\n",
            "691 activation_175\n",
            "692 separable_conv_2_normal_left1_12\n",
            "693 separable_conv_2_normal_right1_12\n",
            "694 separable_conv_2_normal_left2_12\n",
            "695 separable_conv_2_normal_right2_12\n",
            "696 separable_conv_2_normal_left5_12\n",
            "697 separable_conv_2_bn_normal_left1_12\n",
            "698 separable_conv_2_bn_normal_right1_12\n",
            "699 separable_conv_2_bn_normal_left2_12\n",
            "700 separable_conv_2_bn_normal_right2_12\n",
            "701 normal_left3_12\n",
            "702 normal_left4_12\n",
            "703 normal_right4_12\n",
            "704 separable_conv_2_bn_normal_left5_12\n",
            "705 normal_add_1_12\n",
            "706 normal_add_2_12\n",
            "707 normal_add_3_12\n",
            "708 normal_add_4_12\n",
            "709 normal_add_5_12\n",
            "710 normal_concat_12\n",
            "711 activation_177\n",
            "712 activation_176\n",
            "713 reduction_conv_1_reduce_12\n",
            "714 adjust_conv_projection_reduce_12\n",
            "715 reduction_bn_1_reduce_12\n",
            "716 adjust_bn_reduce_12\n",
            "717 activation_178\n",
            "718 activation_180\n",
            "719 separable_conv_1_pad_reduction_left1_reduce_12\n",
            "720 separable_conv_1_pad_reduction_right1_reduce_12\n",
            "721 separable_conv_1_reduction_left1_reduce_12\n",
            "722 separable_conv_1_reduction_right1_reduce_12\n",
            "723 separable_conv_1_bn_reduction_left1_reduce_12\n",
            "724 separable_conv_1_bn_reduction_right1_reduce_12\n",
            "725 activation_179\n",
            "726 activation_181\n",
            "727 separable_conv_2_reduction_left1_reduce_12\n",
            "728 separable_conv_2_reduction_right1_reduce_12\n",
            "729 activation_182\n",
            "730 separable_conv_2_bn_reduction_left1_reduce_12\n",
            "731 separable_conv_2_bn_reduction_right1_reduce_12\n",
            "732 separable_conv_1_pad_reduction_right2_reduce_12\n",
            "733 activation_184\n",
            "734 reduction_add_1_reduce_12\n",
            "735 separable_conv_1_reduction_right2_reduce_12\n",
            "736 separable_conv_1_pad_reduction_right3_reduce_12\n",
            "737 activation_186\n",
            "738 separable_conv_1_bn_reduction_right2_reduce_12\n",
            "739 separable_conv_1_reduction_right3_reduce_12\n",
            "740 separable_conv_1_reduction_left4_reduce_12\n",
            "741 activation_183\n",
            "742 separable_conv_1_bn_reduction_right3_reduce_12\n",
            "743 separable_conv_1_bn_reduction_left4_reduce_12\n",
            "744 reduction_pad_1_reduce_12\n",
            "745 separable_conv_2_reduction_right2_reduce_12\n",
            "746 activation_185\n",
            "747 activation_187\n",
            "748 reduction_left2_reduce_12\n",
            "749 separable_conv_2_bn_reduction_right2_reduce_12\n",
            "750 separable_conv_2_reduction_right3_reduce_12\n",
            "751 separable_conv_2_reduction_left4_reduce_12\n",
            "752 adjust_relu_1_13\n",
            "753 reduction_add_2_reduce_12\n",
            "754 reduction_left3_reduce_12\n",
            "755 separable_conv_2_bn_reduction_right3_reduce_12\n",
            "756 reduction_left4_reduce_12\n",
            "757 separable_conv_2_bn_reduction_left4_reduce_12\n",
            "758 reduction_right5_reduce_12\n",
            "759 zero_padding2d_3\n",
            "760 reduction_add3_reduce_12\n",
            "761 add_3\n",
            "762 reduction_add4_reduce_12\n",
            "763 cropping2d_3\n",
            "764 reduction_concat_reduce_12\n",
            "765 adjust_avg_pool_1_13\n",
            "766 adjust_avg_pool_2_13\n",
            "767 adjust_conv_1_13\n",
            "768 adjust_conv_2_13\n",
            "769 activation_188\n",
            "770 concatenate_3\n",
            "771 normal_conv_1_13\n",
            "772 adjust_bn_13\n",
            "773 normal_bn_1_13\n",
            "774 activation_189\n",
            "775 activation_191\n",
            "776 activation_193\n",
            "777 activation_195\n",
            "778 activation_197\n",
            "779 separable_conv_1_normal_left1_13\n",
            "780 separable_conv_1_normal_right1_13\n",
            "781 separable_conv_1_normal_left2_13\n",
            "782 separable_conv_1_normal_right2_13\n",
            "783 separable_conv_1_normal_left5_13\n",
            "784 separable_conv_1_bn_normal_left1_13\n",
            "785 separable_conv_1_bn_normal_right1_13\n",
            "786 separable_conv_1_bn_normal_left2_13\n",
            "787 separable_conv_1_bn_normal_right2_13\n",
            "788 separable_conv_1_bn_normal_left5_13\n",
            "789 activation_190\n",
            "790 activation_192\n",
            "791 activation_194\n",
            "792 activation_196\n",
            "793 activation_198\n",
            "794 separable_conv_2_normal_left1_13\n",
            "795 separable_conv_2_normal_right1_13\n",
            "796 separable_conv_2_normal_left2_13\n",
            "797 separable_conv_2_normal_right2_13\n",
            "798 separable_conv_2_normal_left5_13\n",
            "799 separable_conv_2_bn_normal_left1_13\n",
            "800 separable_conv_2_bn_normal_right1_13\n",
            "801 separable_conv_2_bn_normal_left2_13\n",
            "802 separable_conv_2_bn_normal_right2_13\n",
            "803 normal_left3_13\n",
            "804 normal_left4_13\n",
            "805 normal_right4_13\n",
            "806 separable_conv_2_bn_normal_left5_13\n",
            "807 normal_add_1_13\n",
            "808 normal_add_2_13\n",
            "809 normal_add_3_13\n",
            "810 normal_add_4_13\n",
            "811 normal_add_5_13\n",
            "812 normal_concat_13\n",
            "813 activation_199\n",
            "814 activation_200\n",
            "815 adjust_conv_projection_14\n",
            "816 normal_conv_1_14\n",
            "817 adjust_bn_14\n",
            "818 normal_bn_1_14\n",
            "819 activation_201\n",
            "820 activation_203\n",
            "821 activation_205\n",
            "822 activation_207\n",
            "823 activation_209\n",
            "824 separable_conv_1_normal_left1_14\n",
            "825 separable_conv_1_normal_right1_14\n",
            "826 separable_conv_1_normal_left2_14\n",
            "827 separable_conv_1_normal_right2_14\n",
            "828 separable_conv_1_normal_left5_14\n",
            "829 separable_conv_1_bn_normal_left1_14\n",
            "830 separable_conv_1_bn_normal_right1_14\n",
            "831 separable_conv_1_bn_normal_left2_14\n",
            "832 separable_conv_1_bn_normal_right2_14\n",
            "833 separable_conv_1_bn_normal_left5_14\n",
            "834 activation_202\n",
            "835 activation_204\n",
            "836 activation_206\n",
            "837 activation_208\n",
            "838 activation_210\n",
            "839 separable_conv_2_normal_left1_14\n",
            "840 separable_conv_2_normal_right1_14\n",
            "841 separable_conv_2_normal_left2_14\n",
            "842 separable_conv_2_normal_right2_14\n",
            "843 separable_conv_2_normal_left5_14\n",
            "844 separable_conv_2_bn_normal_left1_14\n",
            "845 separable_conv_2_bn_normal_right1_14\n",
            "846 separable_conv_2_bn_normal_left2_14\n",
            "847 separable_conv_2_bn_normal_right2_14\n",
            "848 normal_left3_14\n",
            "849 normal_left4_14\n",
            "850 normal_right4_14\n",
            "851 separable_conv_2_bn_normal_left5_14\n",
            "852 normal_add_1_14\n",
            "853 normal_add_2_14\n",
            "854 normal_add_3_14\n",
            "855 normal_add_4_14\n",
            "856 normal_add_5_14\n",
            "857 normal_concat_14\n",
            "858 activation_211\n",
            "859 activation_212\n",
            "860 adjust_conv_projection_15\n",
            "861 normal_conv_1_15\n",
            "862 adjust_bn_15\n",
            "863 normal_bn_1_15\n",
            "864 activation_213\n",
            "865 activation_215\n",
            "866 activation_217\n",
            "867 activation_219\n",
            "868 activation_221\n",
            "869 separable_conv_1_normal_left1_15\n",
            "870 separable_conv_1_normal_right1_15\n",
            "871 separable_conv_1_normal_left2_15\n",
            "872 separable_conv_1_normal_right2_15\n",
            "873 separable_conv_1_normal_left5_15\n",
            "874 separable_conv_1_bn_normal_left1_15\n",
            "875 separable_conv_1_bn_normal_right1_15\n",
            "876 separable_conv_1_bn_normal_left2_15\n",
            "877 separable_conv_1_bn_normal_right2_15\n",
            "878 separable_conv_1_bn_normal_left5_15\n",
            "879 activation_214\n",
            "880 activation_216\n",
            "881 activation_218\n",
            "882 activation_220\n",
            "883 activation_222\n",
            "884 separable_conv_2_normal_left1_15\n",
            "885 separable_conv_2_normal_right1_15\n",
            "886 separable_conv_2_normal_left2_15\n",
            "887 separable_conv_2_normal_right2_15\n",
            "888 separable_conv_2_normal_left5_15\n",
            "889 separable_conv_2_bn_normal_left1_15\n",
            "890 separable_conv_2_bn_normal_right1_15\n",
            "891 separable_conv_2_bn_normal_left2_15\n",
            "892 separable_conv_2_bn_normal_right2_15\n",
            "893 normal_left3_15\n",
            "894 normal_left4_15\n",
            "895 normal_right4_15\n",
            "896 separable_conv_2_bn_normal_left5_15\n",
            "897 normal_add_1_15\n",
            "898 normal_add_2_15\n",
            "899 normal_add_3_15\n",
            "900 normal_add_4_15\n",
            "901 normal_add_5_15\n",
            "902 normal_concat_15\n",
            "903 activation_223\n",
            "904 activation_224\n",
            "905 adjust_conv_projection_16\n",
            "906 normal_conv_1_16\n",
            "907 adjust_bn_16\n",
            "908 normal_bn_1_16\n",
            "909 activation_225\n",
            "910 activation_227\n",
            "911 activation_229\n",
            "912 activation_231\n",
            "913 activation_233\n",
            "914 separable_conv_1_normal_left1_16\n",
            "915 separable_conv_1_normal_right1_16\n",
            "916 separable_conv_1_normal_left2_16\n",
            "917 separable_conv_1_normal_right2_16\n",
            "918 separable_conv_1_normal_left5_16\n",
            "919 separable_conv_1_bn_normal_left1_16\n",
            "920 separable_conv_1_bn_normal_right1_16\n",
            "921 separable_conv_1_bn_normal_left2_16\n",
            "922 separable_conv_1_bn_normal_right2_16\n",
            "923 separable_conv_1_bn_normal_left5_16\n",
            "924 activation_226\n",
            "925 activation_228\n",
            "926 activation_230\n",
            "927 activation_232\n",
            "928 activation_234\n",
            "929 separable_conv_2_normal_left1_16\n",
            "930 separable_conv_2_normal_right1_16\n",
            "931 separable_conv_2_normal_left2_16\n",
            "932 separable_conv_2_normal_right2_16\n",
            "933 separable_conv_2_normal_left5_16\n",
            "934 separable_conv_2_bn_normal_left1_16\n",
            "935 separable_conv_2_bn_normal_right1_16\n",
            "936 separable_conv_2_bn_normal_left2_16\n",
            "937 separable_conv_2_bn_normal_right2_16\n",
            "938 normal_left3_16\n",
            "939 normal_left4_16\n",
            "940 normal_right4_16\n",
            "941 separable_conv_2_bn_normal_left5_16\n",
            "942 normal_add_1_16\n",
            "943 normal_add_2_16\n",
            "944 normal_add_3_16\n",
            "945 normal_add_4_16\n",
            "946 normal_add_5_16\n",
            "947 normal_concat_16\n",
            "948 activation_235\n",
            "949 activation_236\n",
            "950 adjust_conv_projection_17\n",
            "951 normal_conv_1_17\n",
            "952 adjust_bn_17\n",
            "953 normal_bn_1_17\n",
            "954 activation_237\n",
            "955 activation_239\n",
            "956 activation_241\n",
            "957 activation_243\n",
            "958 activation_245\n",
            "959 separable_conv_1_normal_left1_17\n",
            "960 separable_conv_1_normal_right1_17\n",
            "961 separable_conv_1_normal_left2_17\n",
            "962 separable_conv_1_normal_right2_17\n",
            "963 separable_conv_1_normal_left5_17\n",
            "964 separable_conv_1_bn_normal_left1_17\n",
            "965 separable_conv_1_bn_normal_right1_17\n",
            "966 separable_conv_1_bn_normal_left2_17\n",
            "967 separable_conv_1_bn_normal_right2_17\n",
            "968 separable_conv_1_bn_normal_left5_17\n",
            "969 activation_238\n",
            "970 activation_240\n",
            "971 activation_242\n",
            "972 activation_244\n",
            "973 activation_246\n",
            "974 separable_conv_2_normal_left1_17\n",
            "975 separable_conv_2_normal_right1_17\n",
            "976 separable_conv_2_normal_left2_17\n",
            "977 separable_conv_2_normal_right2_17\n",
            "978 separable_conv_2_normal_left5_17\n",
            "979 separable_conv_2_bn_normal_left1_17\n",
            "980 separable_conv_2_bn_normal_right1_17\n",
            "981 separable_conv_2_bn_normal_left2_17\n",
            "982 separable_conv_2_bn_normal_right2_17\n",
            "983 normal_left3_17\n",
            "984 normal_left4_17\n",
            "985 normal_right4_17\n",
            "986 separable_conv_2_bn_normal_left5_17\n",
            "987 normal_add_1_17\n",
            "988 normal_add_2_17\n",
            "989 normal_add_3_17\n",
            "990 normal_add_4_17\n",
            "991 normal_add_5_17\n",
            "992 normal_concat_17\n",
            "993 activation_247\n",
            "994 activation_248\n",
            "995 adjust_conv_projection_18\n",
            "996 normal_conv_1_18\n",
            "997 adjust_bn_18\n",
            "998 normal_bn_1_18\n",
            "999 activation_249\n",
            "1000 activation_251\n",
            "1001 activation_253\n",
            "1002 activation_255\n",
            "1003 activation_257\n",
            "1004 separable_conv_1_normal_left1_18\n",
            "1005 separable_conv_1_normal_right1_18\n",
            "1006 separable_conv_1_normal_left2_18\n",
            "1007 separable_conv_1_normal_right2_18\n",
            "1008 separable_conv_1_normal_left5_18\n",
            "1009 separable_conv_1_bn_normal_left1_18\n",
            "1010 separable_conv_1_bn_normal_right1_18\n",
            "1011 separable_conv_1_bn_normal_left2_18\n",
            "1012 separable_conv_1_bn_normal_right2_18\n",
            "1013 separable_conv_1_bn_normal_left5_18\n",
            "1014 activation_250\n",
            "1015 activation_252\n",
            "1016 activation_254\n",
            "1017 activation_256\n",
            "1018 activation_258\n",
            "1019 separable_conv_2_normal_left1_18\n",
            "1020 separable_conv_2_normal_right1_18\n",
            "1021 separable_conv_2_normal_left2_18\n",
            "1022 separable_conv_2_normal_right2_18\n",
            "1023 separable_conv_2_normal_left5_18\n",
            "1024 separable_conv_2_bn_normal_left1_18\n",
            "1025 separable_conv_2_bn_normal_right1_18\n",
            "1026 separable_conv_2_bn_normal_left2_18\n",
            "1027 separable_conv_2_bn_normal_right2_18\n",
            "1028 normal_left3_18\n",
            "1029 normal_left4_18\n",
            "1030 normal_right4_18\n",
            "1031 separable_conv_2_bn_normal_left5_18\n",
            "1032 normal_add_1_18\n",
            "1033 normal_add_2_18\n",
            "1034 normal_add_3_18\n",
            "1035 normal_add_4_18\n",
            "1036 normal_add_5_18\n",
            "1037 normal_concat_18\n",
            "1038 activation_259\n",
            "1039 global_average_pooling2d\n",
            "1040 dense\n",
            "1041 dense_1\n",
            "1042 dense_2\n",
            "1043 dense_3\n"
          ],
          "name": "stdout"
        },
        {
          "output_type": "error",
          "ename": "FileNotFoundError",
          "evalue": "ignored",
          "traceback": [
            "\u001b[0;31m---------------------------------------------------------------------------\u001b[0m",
            "\u001b[0;31mFileNotFoundError\u001b[0m                         Traceback (most recent call last)",
            "\u001b[0;32m<ipython-input-55-4b0ac7dd23d0>\u001b[0m in \u001b[0;36m<module>\u001b[0;34m()\u001b[0m\n\u001b[1;32m     54\u001b[0m                                                  \u001b[0mbatch_size\u001b[0m\u001b[0;34m=\u001b[0m\u001b[0;36m32\u001b[0m\u001b[0;34m,\u001b[0m\u001b[0;34m\u001b[0m\u001b[0;34m\u001b[0m\u001b[0m\n\u001b[1;32m     55\u001b[0m                                                  \u001b[0mclass_mode\u001b[0m\u001b[0;34m=\u001b[0m\u001b[0;34m'categorical'\u001b[0m\u001b[0;34m,\u001b[0m\u001b[0;34m\u001b[0m\u001b[0;34m\u001b[0m\u001b[0m\n\u001b[0;32m---> 56\u001b[0;31m                                                  shuffle=True)\n\u001b[0m\u001b[1;32m     57\u001b[0m \u001b[0;34m\u001b[0m\u001b[0m\n\u001b[1;32m     58\u001b[0m \u001b[0mval_datagen\u001b[0m\u001b[0;34m=\u001b[0m\u001b[0mImageDataGenerator\u001b[0m\u001b[0;34m(\u001b[0m\u001b[0;34m)\u001b[0m\u001b[0;34m\u001b[0m\u001b[0;34m\u001b[0m\u001b[0m\n",
            "\u001b[0;32m/usr/local/lib/python3.6/dist-packages/keras_preprocessing/image/image_data_generator.py\u001b[0m in \u001b[0;36mflow_from_directory\u001b[0;34m(self, directory, target_size, color_mode, classes, class_mode, batch_size, shuffle, seed, save_to_dir, save_prefix, save_format, follow_links, subset, interpolation)\u001b[0m\n\u001b[1;32m    541\u001b[0m             \u001b[0msubset\u001b[0m\u001b[0;34m=\u001b[0m\u001b[0msubset\u001b[0m\u001b[0;34m,\u001b[0m\u001b[0;34m\u001b[0m\u001b[0;34m\u001b[0m\u001b[0m\n\u001b[1;32m    542\u001b[0m             \u001b[0minterpolation\u001b[0m\u001b[0;34m=\u001b[0m\u001b[0minterpolation\u001b[0m\u001b[0;34m,\u001b[0m\u001b[0;34m\u001b[0m\u001b[0;34m\u001b[0m\u001b[0m\n\u001b[0;32m--> 543\u001b[0;31m             \u001b[0mdtype\u001b[0m\u001b[0;34m=\u001b[0m\u001b[0mself\u001b[0m\u001b[0;34m.\u001b[0m\u001b[0mdtype\u001b[0m\u001b[0;34m\u001b[0m\u001b[0;34m\u001b[0m\u001b[0m\n\u001b[0m\u001b[1;32m    544\u001b[0m         )\n\u001b[1;32m    545\u001b[0m \u001b[0;34m\u001b[0m\u001b[0m\n",
            "\u001b[0;32m/usr/local/lib/python3.6/dist-packages/keras_preprocessing/image/directory_iterator.py\u001b[0m in \u001b[0;36m__init__\u001b[0;34m(self, directory, image_data_generator, target_size, color_mode, classes, class_mode, batch_size, shuffle, seed, data_format, save_to_dir, save_prefix, save_format, follow_links, subset, interpolation, dtype)\u001b[0m\n\u001b[1;32m    113\u001b[0m         \u001b[0;32mif\u001b[0m \u001b[0;32mnot\u001b[0m \u001b[0mclasses\u001b[0m\u001b[0;34m:\u001b[0m\u001b[0;34m\u001b[0m\u001b[0;34m\u001b[0m\u001b[0m\n\u001b[1;32m    114\u001b[0m             \u001b[0mclasses\u001b[0m \u001b[0;34m=\u001b[0m \u001b[0;34m[\u001b[0m\u001b[0;34m]\u001b[0m\u001b[0;34m\u001b[0m\u001b[0;34m\u001b[0m\u001b[0m\n\u001b[0;32m--> 115\u001b[0;31m             \u001b[0;32mfor\u001b[0m \u001b[0msubdir\u001b[0m \u001b[0;32min\u001b[0m \u001b[0msorted\u001b[0m\u001b[0;34m(\u001b[0m\u001b[0mos\u001b[0m\u001b[0;34m.\u001b[0m\u001b[0mlistdir\u001b[0m\u001b[0;34m(\u001b[0m\u001b[0mdirectory\u001b[0m\u001b[0;34m)\u001b[0m\u001b[0;34m)\u001b[0m\u001b[0;34m:\u001b[0m\u001b[0;34m\u001b[0m\u001b[0;34m\u001b[0m\u001b[0m\n\u001b[0m\u001b[1;32m    116\u001b[0m                 \u001b[0;32mif\u001b[0m \u001b[0mos\u001b[0m\u001b[0;34m.\u001b[0m\u001b[0mpath\u001b[0m\u001b[0;34m.\u001b[0m\u001b[0misdir\u001b[0m\u001b[0;34m(\u001b[0m\u001b[0mos\u001b[0m\u001b[0;34m.\u001b[0m\u001b[0mpath\u001b[0m\u001b[0;34m.\u001b[0m\u001b[0mjoin\u001b[0m\u001b[0;34m(\u001b[0m\u001b[0mdirectory\u001b[0m\u001b[0;34m,\u001b[0m \u001b[0msubdir\u001b[0m\u001b[0;34m)\u001b[0m\u001b[0;34m)\u001b[0m\u001b[0;34m:\u001b[0m\u001b[0;34m\u001b[0m\u001b[0;34m\u001b[0m\u001b[0m\n\u001b[1;32m    117\u001b[0m                     \u001b[0mclasses\u001b[0m\u001b[0;34m.\u001b[0m\u001b[0mappend\u001b[0m\u001b[0;34m(\u001b[0m\u001b[0msubdir\u001b[0m\u001b[0;34m)\u001b[0m\u001b[0;34m\u001b[0m\u001b[0;34m\u001b[0m\u001b[0m\n",
            "\u001b[0;31mFileNotFoundError\u001b[0m: [Errno 2] No such file or directory: './train'"
          ]
        }
      ]
    },
    {
      "cell_type": "code",
      "metadata": {
        "id": "_FAaux6jEYzb",
        "colab_type": "code",
        "colab": {}
      },
      "source": [
        "#above tips for the graph function: list range has to be 1 to #epochs+1\n",
        "#np.arrange has to be 0, #epochs +1 and no clue what the last number is."
      ],
      "execution_count": 0,
      "outputs": []
    },
    {
      "cell_type": "code",
      "metadata": {
        "id": "oegemgM0cquI",
        "colab_type": "code",
        "colab": {}
      },
      "source": [
        "f, (ax1, ax2) = plt.subplots(1, 2, figsize=(12, 4))\n",
        "t = f.suptitle('Basic CNN Performance', fontsize=12)\n",
        "f.subplots_adjust(top=0.85, wspace=0.3)\n",
        "\n",
        "epoch_list = list(range(1,4))\n",
        "ax1.plot(epoch_list, history.history['accuracy'], label='Train Accuracy')\n",
        "ax1.plot(epoch_list, history.history['val_accuracy'], label='Validation Accuracy')\n",
        "ax1.set_xticks(np.arange(0, 4, 5))\n",
        "ax1.set_ylabel('Accuracy Value')\n",
        "ax1.set_xlabel('Epoch')\n",
        "ax1.set_title('Accuracy')\n",
        "l1 = ax1.legend(loc=\"best\")\n",
        "\n",
        "ax2.plot(epoch_list, history.history['loss'], label='Train Loss')\n",
        "ax2.plot(epoch_list, history.history['val_loss'], label='Validation Loss')\n",
        "ax2.set_xticks(np.arange(0, 4, 5))\n",
        "ax2.set_ylabel('Loss Value')\n",
        "ax2.set_xlabel('Epoch')\n",
        "ax2.set_title('Loss')\n",
        "l2 = ax2.legend(loc=\"best\")"
      ],
      "execution_count": 0,
      "outputs": []
    },
    {
      "cell_type": "code",
      "metadata": {
        "id": "7o-zvwsrJPgw",
        "colab_type": "code",
        "colab": {}
      },
      "source": [
        "# this cell is to evaluate loss and accuracy on an external test set\n",
        "\n",
        "model.evaluate(val, verbose=1, sample_weight=None, steps=step_size_val, callbacks=None, max_queue_size=10, workers=1, use_multiprocessing=False)\n"
      ],
      "execution_count": 0,
      "outputs": []
    },
    {
      "cell_type": "code",
      "metadata": {
        "id": "WZFRaCuYkTfF",
        "colab_type": "code",
        "colab": {}
      },
      "source": [
        "# this cell is to predict smaller numbers of images and so... it returns an array which I havent figured out yet...\n",
        "\n",
        "yhat = model.predict(val, verbose=1, steps=step_size_val, callbacks=None, max_queue_size=10, workers=1, use_multiprocessing=False)\n",
        "\n",
        " "
      ],
      "execution_count": 0,
      "outputs": []
    },
    {
      "cell_type": "code",
      "metadata": {
        "id": "vmEgUsRlGnD7",
        "colab_type": "code",
        "colab": {}
      },
      "source": [
        "# make predictions on your choice of numbers in dataset, just change the range https://machinelearningmastery.com/how-to-make-classification-and-regression-predictions-for-deep-learning-models-in-keras/\n",
        "\n",
        "\t\n",
        "from sklearn.linear_model import LogisticRegression\n",
        "from sklearn.datasets import make_blobs\n",
        "# create the inputs and outputs\n",
        "X, y = make_blobs(n_samples=5000, centers=2, n_features=2, random_state=2)\n",
        "# define model\n",
        "model = LogisticRegression(solver='lbfgs')\n",
        "# fit model\n",
        "model.fit(X, y)\n",
        "# make predictions on the entire training dataset\n",
        "yhat = model.predict(X)\n",
        "# connect predictions with outputs\n",
        "for i in range(5000):\n",
        "  print (X[i], yhat[i])\n",
        "  "
      ],
      "execution_count": 0,
      "outputs": []
    },
    {
      "cell_type": "code",
      "metadata": {
        "id": "ubpYDLuJXQhL",
        "colab_type": "code",
        "colab": {}
      },
      "source": [
        "# load_model_sample.py TRY THIS FOR A SINGLE IMAGE https://stackoverflow.com/questions/43469281/how-to-predict-input-image-using-trained-model-in-keras\n",
        "from keras.models import load_model\n",
        "from keras.preprocessing import image\n",
        "import matplotlib.pyplot as plt\n",
        "import numpy as np\n",
        "import os\n",
        "\n",
        "\n",
        "def load_image(img_path, show=False):\n",
        "\n",
        "    img = image.load_img(img_path, target_size=(150, 150))\n",
        "    img_tensor = image.img_to_array(img)                    # (height, width, channels)\n",
        "    img_tensor = np.expand_dims(img_tensor, axis=0)         # (1, height, width, channels), add a dimension because the model expects this shape: (batch_size, height, width, channels)\n",
        "    img_tensor /= 255.                                      # imshow expects values in the range [0, 1]\n",
        "\n",
        "    if show:\n",
        "        plt.imshow(img_tensor[0])                           \n",
        "        plt.axis('off')\n",
        "        plt.show()\n",
        "\n",
        "    return img_tensor\n",
        "\n",
        "\n",
        "if __name__ == \"__main__\":\n",
        "\n",
        "    # load model\n",
        "    model = load_model(\"model_aug.h5\")\n",
        "\n",
        "    # image path\n",
        "    img_path = '/media/data/dogscats/test1/3867.jpg'    # dog\n",
        "    #img_path = '/media/data/dogscats/test1/19.jpg'      # cat\n",
        "\n",
        "    # load a single image\n",
        "    new_image = load_image(img_path)\n",
        "\n",
        "    # check prediction\n",
        "    pred = model.predict(new_image)"
      ],
      "execution_count": 0,
      "outputs": []
    },
    {
      "cell_type": "code",
      "metadata": {
        "id": "NqHTq1g_n64x",
        "colab_type": "code",
        "colab": {}
      },
      "source": [
        "\n",
        "# TRY this also for a single image https://stackoverflow.com/questions/43469281/how-to-predict-input-image-using-trained-model-in-keras\n",
        "# load_model_sample.py\n",
        "from keras.models import load_model\n",
        "from keras.preprocessing import image\n",
        "import matplotlib.pyplot as plt\n",
        "import numpy as np\n",
        "import os\n",
        "\n",
        "\n",
        "def load_image(img_path, show=False):\n",
        "\n",
        "    img = image.load_img(img_path, target_size=(150, 150))\n",
        "    img_tensor = image.img_to_array(img)                    # (height, width, channels)\n",
        "    img_tensor = np.expand_dims(img_tensor, axis=0)         # (1, height, width, channels), add a dimension because the model expects this shape: (batch_size, height, width, channels)\n",
        "    img_tensor /= 255.                                      # imshow expects values in the range [0, 1]\n",
        "\n",
        "    if show:\n",
        "        plt.imshow(img_tensor[0])                           \n",
        "        plt.axis('off')\n",
        "        plt.show()\n",
        "\n",
        "    return img_tensor\n",
        "\n",
        "\n",
        "if __name__ == \"__main__\":\n",
        "\n",
        "    # load model\n",
        "    model = load_model(\"model_aug.h5\")\n",
        "\n",
        "    # image path\n",
        "    img_path = '/media/data/dogscats/test1/3867.jpg'    # dog\n",
        "    #img_path = '/media/data/dogscats/test1/19.jpg'      # cat\n",
        "\n",
        "    # load a single image\n",
        "    new_image = load_image(img_path)\n",
        "\n",
        "    # check prediction\n",
        "    pred = model.predict(new_image)"
      ],
      "execution_count": 0,
      "outputs": []
    }
  ]
}